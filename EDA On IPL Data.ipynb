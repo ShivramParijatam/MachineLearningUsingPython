{
 "cells": [
  {
   "cell_type": "markdown",
   "metadata": {},
   "source": [
    "# <img src=\"https://wallpapercave.com/wp/wp3991167.jpg\" width=\"1050\" height=\"560\" />\n",
    "# Exploratory Data Analysis "
   ]
  },
  {
   "cell_type": "raw",
   "metadata": {},
   "source": [
    "## Table of Contents\n",
    "Problem Statement\n",
    "Data Loading and Description\n",
    "Data Profiling\n",
    "3.1 Understanding the Dataset\n",
    "3.2 Pre Profiling\n",
    "3.3 Preprocessing\n",
    "3.4 Post Profiling\n",
    "Questions\n",
    "4.1 Off all the passengers, how many survived and how many died?\n",
    "4.2 Who is more likely to survive, Male or Female?\n",
    "4.3 What is the rate of survival of males, females and child on the basis of Passenger Class?\n",
    "4.4 What is the survival rate considering the Embarked variable?\n",
    "4.5 Survival rate - Comparing Embarked and Sex.\n",
    "4.6 How survival rate vary with Embarked, Sex and Pclass\n",
    "4.7 Segment age in bins with size 10.\n",
    "4.8 Analysing SibSp and Parch variable.\n",
    "4.9 Segment fare in bins of size 12.\n",
    "4.10 Draw pair plot to know the joint relationship between 'Fare','Age','Pclass' and 'Survived'\n",
    "4.11 Establish coorelation between all the features using heatmap.\n",
    "4.12 Hypothesis: Women and children are more likely to survive\n",
    "Conclusions"
   ]
  },
  {
   "cell_type": "markdown",
   "metadata": {},
   "source": [
    "# 1. Problem Statement"
   ]
  },
  {
   "cell_type": "markdown",
   "metadata": {},
   "source": [
    "Mr. Ram & Jindal from UP wants to form a new IPL team represeting UP. They would name the team as \"Aयोध्या Warriors\". So for upcoming IPL auction of 2021 their strategy is to poach maximum (8-9)number the best of players in their field of game from existing teams. As they want to promote cricket locally so they would give chance to 2-3 new comers from UP in team and some more numbers in full sqaud of team.\n",
    "\n",
    "They have hired my services for exploratry data services and given me task of suggesting best bowlers(3-4), batsman(4-5) ,allrounders (2-3) also the super wicket keepers.\n",
    "\n",
    "This notebooks explores the basic use of __Pandas__ and will cover the basic commands of __Exploratory Data Analysis(EDA)__ which includes __cleaning__, __munging__, __combining__, __reshaping__, __slicing__, __dicing__, and __transforming data__ for analysis purpose.\n",
    "\n",
    "* __Exploratory Data Analysis__ <br/>\n",
    "Understand the data by EDA and derive simple models with Pandas as baseline.\n",
    "EDA ia a critical and first step in analyzing the data and we do this for below reasons :\n",
    "    - Finding patterns in Data\n",
    "    - Determining relationships in Data\n",
    "    - Checking of assumptions\n",
    "    - Preliminary selection of appropriate models\n",
    "    - Detection of mistakes "
   ]
  },
  {
   "cell_type": "markdown",
   "metadata": {},
   "source": [
    "# 2. Data Loading and Description\n"
   ]
  },
  {
   "cell_type": "markdown",
   "metadata": {},
   "source": [
    "This is data of all IPL seasons happened till 2018. It is divided in two parts named  \"Matches\" & \"Deliveries\".\n",
    "Matches dataset contains information on all matches in IPL seasons providing information upon playing teams, players, winning team, umpires & venue along with toss information.\n",
    "Deliveries contains match statitics per ball thrown for different kind of run scored along with wickets. It also contains information on man of the match, dl rule and decisions of the matches.\n",
    "Both the data sets can be combined using Match_DI to get complete information."
   ]
  },
  {
   "cell_type": "raw",
   "metadata": {},
   "source": [
    "              Matches Data Set\t\t\t\t\t\t\t\t               Delivery Data Set\t\t\t\n",
    "#\tColumn  \t    Non-Null Count\t  Dtype\t\t\t\t        #\tColumn\tNon-Null Count\tDtype\n",
    "0\tmatch_id\t    164750\tnon-null\tint64\t\t\t\t    0\tmatch_id\t164750 non-null\tint64\n",
    "1\tinning\t        164750\tnon-null\tint64\t\t\t\t    1\tinning\t164750 non-null\tint64\n",
    "2\tbatting_team\t164750\tnon-null\tobject\t\t        2\tbatting_team\t164750 non-null\tobject\n",
    "3\tbowling_team\t164750\tnon-null\tobject\t\t\t        3\tbowling_team\t164750 non-null\tobject\n",
    "4\tover\t        164750\tnon-null\tint64\t\t\t\t    4\tover\t164750 non-null\tint64\n",
    "5\tball\t        164750\tnon-null\tint64\t\t\t\t    5\tball\t164750 non-null\tint64\n",
    "6\tbatsman\t        164750\tnon-null\tobject\t\t\t\t    6\tbatsman\t164750 non-null\tobject\n",
    "7\tnon_striker\t    164750\tnon-null\tobject\t\t\t\t    7\tnon_striker\t164750 non-null\tobject\n",
    "8\tbowler\t        164750\tnon-null\tobject\t\t\t\t    8\tbowler\t164750 non-null\tobject\n",
    "9\tis_super_over\t164750\tnon-null\tint64\t\t\t        9\tis_super_over\t164750 non-null\tint64\n",
    "10\twide_runs\t    164750\tnon-null\tint64\t\t\t    \t10\twide_runs\t164750 non-null\tint64\n",
    "11\tbye_runs\t    164750\tnon-null\tint64\t\t\t\t    11\tbye_runs\t164750 non-null\tint64\n",
    "12\tlegbye_runs  \t164750\tnon-null\tint64\t\t\t\t    12\tlegbye_runs\t164750 non-null\tint64\n",
    "13\tnoball_runs  \t164750\tnon-null\tint64\t\t\t\t    13\tnoball_runs\t164750 non-null\tint64\n",
    "14\tpenalty_runs\t164750\tnon-null\tint64\t\t\t        14\tpenalty_runs\t164750 non-null\tint64\n",
    "15\tbatsman_runs\t164750\tnon-null\tint64\t\t\t        15\tbatsman_runs\t164750 non-null\tint64\n",
    "16\textra_runs \t    164750\tnon-null\tint64\t\t\t     \t16\textra_runs\t164750 non-null\tint64\n",
    "17\ttotal_runs\t    164750\tnon-null\tint64\t\t\t\t    17\ttotal_runs\t164750 non-null\tint64\n",
    "\t\t\t\t\t\t\t\t                                18\tplayer_dismissed\t8157 non-null\tobject\n",
    "\t\t\t\t\t\t\t\t                                19\tdismissal_kind\t8157 non-null\tobject\n",
    "\t\t\t\t\t\t\t\t                                20\tfielder\t5918 non-null\tobject\n"
   ]
  },
  {
   "cell_type": "markdown",
   "metadata": {},
   "source": [
    "# Importing Packages"
   ]
  },
  {
   "cell_type": "code",
   "execution_count": 1,
   "metadata": {},
   "outputs": [
    {
     "name": "stderr",
     "output_type": "stream",
     "text": [
      "D:\\Python\\lib\\site-packages\\fuzzywuzzy\\fuzz.py:11: UserWarning: Using slow pure-python SequenceMatcher. Install python-Levenshtein to remove this warning\n",
      "  warnings.warn('Using slow pure-python SequenceMatcher. Install python-Levenshtein to remove this warning')\n"
     ]
    },
    {
     "data": {
      "text/html": [
       "        <script type=\"text/javascript\">\n",
       "        window.PlotlyConfig = {MathJaxConfig: 'local'};\n",
       "        if (window.MathJax) {MathJax.Hub.Config({SVG: {font: \"STIX-Web\"}});}\n",
       "        if (typeof require !== 'undefined') {\n",
       "        require.undef(\"plotly\");\n",
       "        requirejs.config({\n",
       "            paths: {\n",
       "                'plotly': ['https://cdn.plot.ly/plotly-latest.min']\n",
       "            }\n",
       "        });\n",
       "        require(['plotly'], function(Plotly) {\n",
       "            window._Plotly = Plotly;\n",
       "        });\n",
       "        }\n",
       "        </script>\n",
       "        "
      ]
     },
     "metadata": {},
     "output_type": "display_data"
    }
   ],
   "source": [
    "import numpy as np\n",
    "import pandas as pd\n",
    "import random as rd\n",
    "import pandas_profiling\n",
    "from itertools import product,cycle, islice \n",
    "from fuzzywuzzy import fuzz\n",
    "from matplotlib import pyplot as plt\n",
    "import ipywidgets as widgets\n",
    "from ipywidgets import interact, interact_manual\n",
    "import plotly.graph_objs as go\n",
    "import plotly.offline as pyo\n",
    "from plotly.offline import iplot, init_notebook_mode,download_plotlyjs, init_notebook_mode, plot, iplot\n",
    "init_notebook_mode(connected=True)\n",
    "# Extra options\n",
    "pd.options.display.max_rows = 30\n",
    "pd.options.display.max_columns = 25\n",
    "# Show all code cells outputs\n",
    "from IPython.core.interactiveshell import InteractiveShell\n",
    "InteractiveShell.ast_node_interactivity = 'all'\n",
    "import seaborn as sns\n",
    "sns.set(style='whitegrid', font_scale=1.3, color_codes=True)"
   ]
  },
  {
   "cell_type": "markdown",
   "metadata": {},
   "source": [
    "# Importing DataSets"
   ]
  },
  {
   "cell_type": "code",
   "execution_count": 2,
   "metadata": {},
   "outputs": [],
   "source": [
    "# Matches Data Set  \"_O\" suggest original copy of data\n",
    "mdf_o =pd.read_csv('matches.csv',encoding='utf-8') "
   ]
  },
  {
   "cell_type": "code",
   "execution_count": 3,
   "metadata": {},
   "outputs": [],
   "source": [
    "# Matches Data Set  \"_O\" suggest original copy of data\n",
    "ddf_o =pd.read_csv('deliveries.csv') # Matches Data Set  \"_O\" suggest original copy of data"
   ]
  },
  {
   "cell_type": "markdown",
   "metadata": {},
   "source": [
    "# 3. Data Profiling"
   ]
  },
  {
   "cell_type": "markdown",
   "metadata": {},
   "source": [
    "- In the upcoming sections we will first __understand our dataset__ using various pandas functionalities.\n",
    "- Then with the help of __pandas profiling__ we will find which columns of our dataset need preprocessing.\n",
    "- In __preprocessing__ we will deal with erronous and missing values of columns. \n",
    "- Again we will do __pandas profiling__ to see how preprocessing have transformed our dataset."
   ]
  },
  {
   "cell_type": "markdown",
   "metadata": {},
   "source": [
    "# 3.1 Understanding the Dataset: Matches DataSet"
   ]
  },
  {
   "cell_type": "code",
   "execution_count": 4,
   "metadata": {},
   "outputs": [
    {
     "data": {
      "text/plain": [
       "(696, 18)"
      ]
     },
     "execution_count": 4,
     "metadata": {},
     "output_type": "execute_result"
    },
    {
     "data": {
      "text/plain": [
       "Index(['id', 'season', 'city', 'date', 'team1', 'team2', 'toss_winner',\n",
       "       'toss_decision', 'result', 'dl_applied', 'winner', 'win_by_runs',\n",
       "       'win_by_wickets', 'player_of_match', 'venue', 'umpire1', 'umpire2',\n",
       "       'umpire3'],\n",
       "      dtype='object')"
      ]
     },
     "execution_count": 4,
     "metadata": {},
     "output_type": "execute_result"
    }
   ],
   "source": [
    "mdf_o.shape         # This will print the number of rows and comlumns of the Data Frame\n",
    "mdf_o.columns       # List of columns in Matches DataSet"
   ]
  },
  {
   "cell_type": "raw",
   "metadata": {},
   "source": [
    "Matches data is having 696 rows and 18 columns\n",
    "__\"List of Columns\"__:\n",
    "['id', 'season', 'city', 'date', 'team1', 'team2', 'toss_winner',\n",
    "       'toss_decision', 'result', 'dl_applied', 'winner', 'win_by_runs',\n",
    "       'win_by_wickets', 'player_of_match', 'venue', 'umpire1', 'umpire2',\n",
    "       'umpire3'],"
   ]
  },
  {
   "cell_type": "code",
   "execution_count": 5,
   "metadata": {},
   "outputs": [
    {
     "data": {
      "text/html": [
       "<div>\n",
       "<style scoped>\n",
       "    .dataframe tbody tr th:only-of-type {\n",
       "        vertical-align: middle;\n",
       "    }\n",
       "\n",
       "    .dataframe tbody tr th {\n",
       "        vertical-align: top;\n",
       "    }\n",
       "\n",
       "    .dataframe thead th {\n",
       "        text-align: right;\n",
       "    }\n",
       "</style>\n",
       "<table border=\"1\" class=\"dataframe\">\n",
       "  <thead>\n",
       "    <tr style=\"text-align: right;\">\n",
       "      <th></th>\n",
       "      <th>id</th>\n",
       "      <th>season</th>\n",
       "      <th>city</th>\n",
       "      <th>date</th>\n",
       "      <th>team1</th>\n",
       "      <th>team2</th>\n",
       "      <th>toss_winner</th>\n",
       "      <th>toss_decision</th>\n",
       "      <th>result</th>\n",
       "      <th>dl_applied</th>\n",
       "      <th>winner</th>\n",
       "      <th>win_by_runs</th>\n",
       "      <th>win_by_wickets</th>\n",
       "      <th>player_of_match</th>\n",
       "      <th>venue</th>\n",
       "      <th>umpire1</th>\n",
       "      <th>umpire2</th>\n",
       "      <th>umpire3</th>\n",
       "    </tr>\n",
       "  </thead>\n",
       "  <tbody>\n",
       "    <tr>\n",
       "      <th>0</th>\n",
       "      <td>1</td>\n",
       "      <td>2017</td>\n",
       "      <td>Hyderabad</td>\n",
       "      <td>05-04-2017</td>\n",
       "      <td>Sunrisers Hyderabad</td>\n",
       "      <td>Royal Challengers Bangalore</td>\n",
       "      <td>Royal Challengers Bangalore</td>\n",
       "      <td>field</td>\n",
       "      <td>normal</td>\n",
       "      <td>0</td>\n",
       "      <td>Sunrisers Hyderabad</td>\n",
       "      <td>35</td>\n",
       "      <td>0</td>\n",
       "      <td>Yuvraj Singh</td>\n",
       "      <td>Rajiv Gandhi International Stadium, Uppal</td>\n",
       "      <td>AY Dandekar</td>\n",
       "      <td>NJ Llong</td>\n",
       "      <td>NaN</td>\n",
       "    </tr>\n",
       "    <tr>\n",
       "      <th>1</th>\n",
       "      <td>2</td>\n",
       "      <td>2017</td>\n",
       "      <td>Pune</td>\n",
       "      <td>06-04-2017</td>\n",
       "      <td>Mumbai Indians</td>\n",
       "      <td>Rising Pune Supergiant</td>\n",
       "      <td>Rising Pune Supergiant</td>\n",
       "      <td>field</td>\n",
       "      <td>normal</td>\n",
       "      <td>0</td>\n",
       "      <td>Rising Pune Supergiant</td>\n",
       "      <td>0</td>\n",
       "      <td>7</td>\n",
       "      <td>SPD Smith</td>\n",
       "      <td>Maharashtra Cricket Association Stadium</td>\n",
       "      <td>A Nand Kishore</td>\n",
       "      <td>S Ravi</td>\n",
       "      <td>NaN</td>\n",
       "    </tr>\n",
       "    <tr>\n",
       "      <th>2</th>\n",
       "      <td>3</td>\n",
       "      <td>2017</td>\n",
       "      <td>Rajkot</td>\n",
       "      <td>07-04-2017</td>\n",
       "      <td>Gujarat Lions</td>\n",
       "      <td>Kolkata Knight Riders</td>\n",
       "      <td>Kolkata Knight Riders</td>\n",
       "      <td>field</td>\n",
       "      <td>normal</td>\n",
       "      <td>0</td>\n",
       "      <td>Kolkata Knight Riders</td>\n",
       "      <td>0</td>\n",
       "      <td>10</td>\n",
       "      <td>CA Lynn</td>\n",
       "      <td>Saurashtra Cricket Association Stadium</td>\n",
       "      <td>Nitin Menon</td>\n",
       "      <td>CK Nandan</td>\n",
       "      <td>NaN</td>\n",
       "    </tr>\n",
       "    <tr>\n",
       "      <th>3</th>\n",
       "      <td>4</td>\n",
       "      <td>2017</td>\n",
       "      <td>Indore</td>\n",
       "      <td>08-04-2017</td>\n",
       "      <td>Rising Pune Supergiant</td>\n",
       "      <td>Kings XI Punjab</td>\n",
       "      <td>Kings XI Punjab</td>\n",
       "      <td>field</td>\n",
       "      <td>normal</td>\n",
       "      <td>0</td>\n",
       "      <td>Kings XI Punjab</td>\n",
       "      <td>0</td>\n",
       "      <td>6</td>\n",
       "      <td>GJ Maxwell</td>\n",
       "      <td>Holkar Cricket Stadium</td>\n",
       "      <td>AK Chaudhary</td>\n",
       "      <td>C Shamshuddin</td>\n",
       "      <td>NaN</td>\n",
       "    </tr>\n",
       "    <tr>\n",
       "      <th>4</th>\n",
       "      <td>5</td>\n",
       "      <td>2017</td>\n",
       "      <td>Bangalore</td>\n",
       "      <td>08-04-2017</td>\n",
       "      <td>Royal Challengers Bangalore</td>\n",
       "      <td>Delhi Daredevils</td>\n",
       "      <td>Royal Challengers Bangalore</td>\n",
       "      <td>bat</td>\n",
       "      <td>normal</td>\n",
       "      <td>0</td>\n",
       "      <td>Royal Challengers Bangalore</td>\n",
       "      <td>15</td>\n",
       "      <td>0</td>\n",
       "      <td>KM Jadhav</td>\n",
       "      <td>M Chinnaswamy Stadium</td>\n",
       "      <td>NaN</td>\n",
       "      <td>NaN</td>\n",
       "      <td>NaN</td>\n",
       "    </tr>\n",
       "  </tbody>\n",
       "</table>\n",
       "</div>"
      ],
      "text/plain": [
       "   id  season       city        date                        team1  \\\n",
       "0   1    2017  Hyderabad  05-04-2017          Sunrisers Hyderabad   \n",
       "1   2    2017       Pune  06-04-2017               Mumbai Indians   \n",
       "2   3    2017     Rajkot  07-04-2017                Gujarat Lions   \n",
       "3   4    2017     Indore  08-04-2017       Rising Pune Supergiant   \n",
       "4   5    2017  Bangalore  08-04-2017  Royal Challengers Bangalore   \n",
       "\n",
       "                         team2                  toss_winner toss_decision  \\\n",
       "0  Royal Challengers Bangalore  Royal Challengers Bangalore         field   \n",
       "1       Rising Pune Supergiant       Rising Pune Supergiant         field   \n",
       "2        Kolkata Knight Riders        Kolkata Knight Riders         field   \n",
       "3              Kings XI Punjab              Kings XI Punjab         field   \n",
       "4             Delhi Daredevils  Royal Challengers Bangalore           bat   \n",
       "\n",
       "   result  dl_applied                       winner  win_by_runs  \\\n",
       "0  normal           0          Sunrisers Hyderabad           35   \n",
       "1  normal           0       Rising Pune Supergiant            0   \n",
       "2  normal           0        Kolkata Knight Riders            0   \n",
       "3  normal           0              Kings XI Punjab            0   \n",
       "4  normal           0  Royal Challengers Bangalore           15   \n",
       "\n",
       "   win_by_wickets player_of_match                                      venue  \\\n",
       "0               0    Yuvraj Singh  Rajiv Gandhi International Stadium, Uppal   \n",
       "1               7       SPD Smith    Maharashtra Cricket Association Stadium   \n",
       "2              10         CA Lynn     Saurashtra Cricket Association Stadium   \n",
       "3               6      GJ Maxwell                     Holkar Cricket Stadium   \n",
       "4               0       KM Jadhav                      M Chinnaswamy Stadium   \n",
       "\n",
       "          umpire1        umpire2 umpire3  \n",
       "0     AY Dandekar       NJ Llong     NaN  \n",
       "1  A Nand Kishore         S Ravi     NaN  \n",
       "2     Nitin Menon      CK Nandan     NaN  \n",
       "3    AK Chaudhary  C Shamshuddin     NaN  \n",
       "4             NaN            NaN     NaN  "
      ]
     },
     "execution_count": 5,
     "metadata": {},
     "output_type": "execute_result"
    }
   ],
   "source": [
    "mdf_o.head(5) #to see top 5 rows from the dataset"
   ]
  },
  {
   "cell_type": "code",
   "execution_count": 6,
   "metadata": {},
   "outputs": [
    {
     "name": "stdout",
     "output_type": "stream",
     "text": [
      "<class 'pandas.core.frame.DataFrame'>\n",
      "RangeIndex: 696 entries, 0 to 695\n",
      "Data columns (total 18 columns):\n",
      " #   Column           Non-Null Count  Dtype \n",
      "---  ------           --------------  ----- \n",
      " 0   id               696 non-null    int64 \n",
      " 1   season           696 non-null    int64 \n",
      " 2   city             689 non-null    object\n",
      " 3   date             696 non-null    object\n",
      " 4   team1            696 non-null    object\n",
      " 5   team2            696 non-null    object\n",
      " 6   toss_winner      696 non-null    object\n",
      " 7   toss_decision    696 non-null    object\n",
      " 8   result           696 non-null    object\n",
      " 9   dl_applied       696 non-null    int64 \n",
      " 10  winner           693 non-null    object\n",
      " 11  win_by_runs      696 non-null    int64 \n",
      " 12  win_by_wickets   696 non-null    int64 \n",
      " 13  player_of_match  693 non-null    object\n",
      " 14  venue            696 non-null    object\n",
      " 15  umpire1          695 non-null    object\n",
      " 16  umpire2          695 non-null    object\n",
      " 17  umpire3          60 non-null     object\n",
      "dtypes: int64(5), object(13)\n",
      "memory usage: 98.0+ KB\n"
     ]
    }
   ],
   "source": [
    "mdf_o.info()  # This will give Index, Datatype of each column, Null Values counts in each column and Memory information"
   ]
  },
  {
   "cell_type": "code",
   "execution_count": 7,
   "metadata": {},
   "outputs": [
    {
     "data": {
      "text/html": [
       "<div>\n",
       "<style scoped>\n",
       "    .dataframe tbody tr th:only-of-type {\n",
       "        vertical-align: middle;\n",
       "    }\n",
       "\n",
       "    .dataframe tbody tr th {\n",
       "        vertical-align: top;\n",
       "    }\n",
       "\n",
       "    .dataframe thead th {\n",
       "        text-align: right;\n",
       "    }\n",
       "</style>\n",
       "<table border=\"1\" class=\"dataframe\">\n",
       "  <thead>\n",
       "    <tr style=\"text-align: right;\">\n",
       "      <th></th>\n",
       "      <th>id</th>\n",
       "      <th>season</th>\n",
       "      <th>city</th>\n",
       "      <th>date</th>\n",
       "      <th>team1</th>\n",
       "      <th>team2</th>\n",
       "      <th>toss_winner</th>\n",
       "      <th>toss_decision</th>\n",
       "      <th>result</th>\n",
       "      <th>dl_applied</th>\n",
       "      <th>winner</th>\n",
       "      <th>win_by_runs</th>\n",
       "      <th>win_by_wickets</th>\n",
       "      <th>player_of_match</th>\n",
       "      <th>venue</th>\n",
       "      <th>umpire1</th>\n",
       "      <th>umpire2</th>\n",
       "      <th>umpire3</th>\n",
       "    </tr>\n",
       "  </thead>\n",
       "  <tbody>\n",
       "    <tr>\n",
       "      <th>count</th>\n",
       "      <td>696.000000</td>\n",
       "      <td>696.000000</td>\n",
       "      <td>689</td>\n",
       "      <td>696</td>\n",
       "      <td>696</td>\n",
       "      <td>696</td>\n",
       "      <td>696</td>\n",
       "      <td>696</td>\n",
       "      <td>696</td>\n",
       "      <td>696.000000</td>\n",
       "      <td>693</td>\n",
       "      <td>696.000000</td>\n",
       "      <td>696.000000</td>\n",
       "      <td>693</td>\n",
       "      <td>696</td>\n",
       "      <td>695</td>\n",
       "      <td>695</td>\n",
       "      <td>60</td>\n",
       "    </tr>\n",
       "    <tr>\n",
       "      <th>unique</th>\n",
       "      <td>NaN</td>\n",
       "      <td>NaN</td>\n",
       "      <td>32</td>\n",
       "      <td>498</td>\n",
       "      <td>14</td>\n",
       "      <td>14</td>\n",
       "      <td>14</td>\n",
       "      <td>2</td>\n",
       "      <td>3</td>\n",
       "      <td>NaN</td>\n",
       "      <td>14</td>\n",
       "      <td>NaN</td>\n",
       "      <td>NaN</td>\n",
       "      <td>214</td>\n",
       "      <td>35</td>\n",
       "      <td>55</td>\n",
       "      <td>58</td>\n",
       "      <td>18</td>\n",
       "    </tr>\n",
       "    <tr>\n",
       "      <th>top</th>\n",
       "      <td>NaN</td>\n",
       "      <td>NaN</td>\n",
       "      <td>Mumbai</td>\n",
       "      <td>11-04-2013</td>\n",
       "      <td>Mumbai Indians</td>\n",
       "      <td>Royal Challengers Bangalore</td>\n",
       "      <td>Mumbai Indians</td>\n",
       "      <td>field</td>\n",
       "      <td>normal</td>\n",
       "      <td>NaN</td>\n",
       "      <td>Mumbai Indians</td>\n",
       "      <td>NaN</td>\n",
       "      <td>NaN</td>\n",
       "      <td>CH Gayle</td>\n",
       "      <td>M Chinnaswamy Stadium</td>\n",
       "      <td>HDPK Dharmasena</td>\n",
       "      <td>S Ravi</td>\n",
       "      <td>C Shamshuddin</td>\n",
       "    </tr>\n",
       "    <tr>\n",
       "      <th>freq</th>\n",
       "      <td>NaN</td>\n",
       "      <td>NaN</td>\n",
       "      <td>94</td>\n",
       "      <td>2</td>\n",
       "      <td>91</td>\n",
       "      <td>90</td>\n",
       "      <td>90</td>\n",
       "      <td>413</td>\n",
       "      <td>686</td>\n",
       "      <td>NaN</td>\n",
       "      <td>98</td>\n",
       "      <td>NaN</td>\n",
       "      <td>NaN</td>\n",
       "      <td>20</td>\n",
       "      <td>73</td>\n",
       "      <td>73</td>\n",
       "      <td>56</td>\n",
       "      <td>6</td>\n",
       "    </tr>\n",
       "    <tr>\n",
       "      <th>mean</th>\n",
       "      <td>974.103448</td>\n",
       "      <td>2012.965517</td>\n",
       "      <td>NaN</td>\n",
       "      <td>NaN</td>\n",
       "      <td>NaN</td>\n",
       "      <td>NaN</td>\n",
       "      <td>NaN</td>\n",
       "      <td>NaN</td>\n",
       "      <td>NaN</td>\n",
       "      <td>0.027299</td>\n",
       "      <td>NaN</td>\n",
       "      <td>13.472701</td>\n",
       "      <td>3.349138</td>\n",
       "      <td>NaN</td>\n",
       "      <td>NaN</td>\n",
       "      <td>NaN</td>\n",
       "      <td>NaN</td>\n",
       "      <td>NaN</td>\n",
       "    </tr>\n",
       "    <tr>\n",
       "      <th>std</th>\n",
       "      <td>2143.239623</td>\n",
       "      <td>3.069266</td>\n",
       "      <td>NaN</td>\n",
       "      <td>NaN</td>\n",
       "      <td>NaN</td>\n",
       "      <td>NaN</td>\n",
       "      <td>NaN</td>\n",
       "      <td>NaN</td>\n",
       "      <td>NaN</td>\n",
       "      <td>0.163070</td>\n",
       "      <td>NaN</td>\n",
       "      <td>23.607994</td>\n",
       "      <td>3.411398</td>\n",
       "      <td>NaN</td>\n",
       "      <td>NaN</td>\n",
       "      <td>NaN</td>\n",
       "      <td>NaN</td>\n",
       "      <td>NaN</td>\n",
       "    </tr>\n",
       "    <tr>\n",
       "      <th>min</th>\n",
       "      <td>1.000000</td>\n",
       "      <td>2008.000000</td>\n",
       "      <td>NaN</td>\n",
       "      <td>NaN</td>\n",
       "      <td>NaN</td>\n",
       "      <td>NaN</td>\n",
       "      <td>NaN</td>\n",
       "      <td>NaN</td>\n",
       "      <td>NaN</td>\n",
       "      <td>0.000000</td>\n",
       "      <td>NaN</td>\n",
       "      <td>0.000000</td>\n",
       "      <td>0.000000</td>\n",
       "      <td>NaN</td>\n",
       "      <td>NaN</td>\n",
       "      <td>NaN</td>\n",
       "      <td>NaN</td>\n",
       "      <td>NaN</td>\n",
       "    </tr>\n",
       "    <tr>\n",
       "      <th>25%</th>\n",
       "      <td>174.750000</td>\n",
       "      <td>2010.000000</td>\n",
       "      <td>NaN</td>\n",
       "      <td>NaN</td>\n",
       "      <td>NaN</td>\n",
       "      <td>NaN</td>\n",
       "      <td>NaN</td>\n",
       "      <td>NaN</td>\n",
       "      <td>NaN</td>\n",
       "      <td>0.000000</td>\n",
       "      <td>NaN</td>\n",
       "      <td>0.000000</td>\n",
       "      <td>0.000000</td>\n",
       "      <td>NaN</td>\n",
       "      <td>NaN</td>\n",
       "      <td>NaN</td>\n",
       "      <td>NaN</td>\n",
       "      <td>NaN</td>\n",
       "    </tr>\n",
       "    <tr>\n",
       "      <th>50%</th>\n",
       "      <td>348.500000</td>\n",
       "      <td>2013.000000</td>\n",
       "      <td>NaN</td>\n",
       "      <td>NaN</td>\n",
       "      <td>NaN</td>\n",
       "      <td>NaN</td>\n",
       "      <td>NaN</td>\n",
       "      <td>NaN</td>\n",
       "      <td>NaN</td>\n",
       "      <td>0.000000</td>\n",
       "      <td>NaN</td>\n",
       "      <td>0.000000</td>\n",
       "      <td>3.000000</td>\n",
       "      <td>NaN</td>\n",
       "      <td>NaN</td>\n",
       "      <td>NaN</td>\n",
       "      <td>NaN</td>\n",
       "      <td>NaN</td>\n",
       "    </tr>\n",
       "    <tr>\n",
       "      <th>75%</th>\n",
       "      <td>522.250000</td>\n",
       "      <td>2016.000000</td>\n",
       "      <td>NaN</td>\n",
       "      <td>NaN</td>\n",
       "      <td>NaN</td>\n",
       "      <td>NaN</td>\n",
       "      <td>NaN</td>\n",
       "      <td>NaN</td>\n",
       "      <td>NaN</td>\n",
       "      <td>0.000000</td>\n",
       "      <td>NaN</td>\n",
       "      <td>19.000000</td>\n",
       "      <td>6.000000</td>\n",
       "      <td>NaN</td>\n",
       "      <td>NaN</td>\n",
       "      <td>NaN</td>\n",
       "      <td>NaN</td>\n",
       "      <td>NaN</td>\n",
       "    </tr>\n",
       "    <tr>\n",
       "      <th>max</th>\n",
       "      <td>7953.000000</td>\n",
       "      <td>2018.000000</td>\n",
       "      <td>NaN</td>\n",
       "      <td>NaN</td>\n",
       "      <td>NaN</td>\n",
       "      <td>NaN</td>\n",
       "      <td>NaN</td>\n",
       "      <td>NaN</td>\n",
       "      <td>NaN</td>\n",
       "      <td>1.000000</td>\n",
       "      <td>NaN</td>\n",
       "      <td>146.000000</td>\n",
       "      <td>10.000000</td>\n",
       "      <td>NaN</td>\n",
       "      <td>NaN</td>\n",
       "      <td>NaN</td>\n",
       "      <td>NaN</td>\n",
       "      <td>NaN</td>\n",
       "    </tr>\n",
       "  </tbody>\n",
       "</table>\n",
       "</div>"
      ],
      "text/plain": [
       "                 id       season    city        date           team1  \\\n",
       "count    696.000000   696.000000     689         696             696   \n",
       "unique          NaN          NaN      32         498              14   \n",
       "top             NaN          NaN  Mumbai  11-04-2013  Mumbai Indians   \n",
       "freq            NaN          NaN      94           2              91   \n",
       "mean     974.103448  2012.965517     NaN         NaN             NaN   \n",
       "std     2143.239623     3.069266     NaN         NaN             NaN   \n",
       "min        1.000000  2008.000000     NaN         NaN             NaN   \n",
       "25%      174.750000  2010.000000     NaN         NaN             NaN   \n",
       "50%      348.500000  2013.000000     NaN         NaN             NaN   \n",
       "75%      522.250000  2016.000000     NaN         NaN             NaN   \n",
       "max     7953.000000  2018.000000     NaN         NaN             NaN   \n",
       "\n",
       "                              team2     toss_winner toss_decision  result  \\\n",
       "count                           696             696           696     696   \n",
       "unique                           14              14             2       3   \n",
       "top     Royal Challengers Bangalore  Mumbai Indians         field  normal   \n",
       "freq                             90              90           413     686   \n",
       "mean                            NaN             NaN           NaN     NaN   \n",
       "std                             NaN             NaN           NaN     NaN   \n",
       "min                             NaN             NaN           NaN     NaN   \n",
       "25%                             NaN             NaN           NaN     NaN   \n",
       "50%                             NaN             NaN           NaN     NaN   \n",
       "75%                             NaN             NaN           NaN     NaN   \n",
       "max                             NaN             NaN           NaN     NaN   \n",
       "\n",
       "        dl_applied          winner  win_by_runs  win_by_wickets  \\\n",
       "count   696.000000             693   696.000000      696.000000   \n",
       "unique         NaN              14          NaN             NaN   \n",
       "top            NaN  Mumbai Indians          NaN             NaN   \n",
       "freq           NaN              98          NaN             NaN   \n",
       "mean      0.027299             NaN    13.472701        3.349138   \n",
       "std       0.163070             NaN    23.607994        3.411398   \n",
       "min       0.000000             NaN     0.000000        0.000000   \n",
       "25%       0.000000             NaN     0.000000        0.000000   \n",
       "50%       0.000000             NaN     0.000000        3.000000   \n",
       "75%       0.000000             NaN    19.000000        6.000000   \n",
       "max       1.000000             NaN   146.000000       10.000000   \n",
       "\n",
       "       player_of_match                  venue          umpire1 umpire2  \\\n",
       "count              693                    696              695     695   \n",
       "unique             214                     35               55      58   \n",
       "top           CH Gayle  M Chinnaswamy Stadium  HDPK Dharmasena  S Ravi   \n",
       "freq                20                     73               73      56   \n",
       "mean               NaN                    NaN              NaN     NaN   \n",
       "std                NaN                    NaN              NaN     NaN   \n",
       "min                NaN                    NaN              NaN     NaN   \n",
       "25%                NaN                    NaN              NaN     NaN   \n",
       "50%                NaN                    NaN              NaN     NaN   \n",
       "75%                NaN                    NaN              NaN     NaN   \n",
       "max                NaN                    NaN              NaN     NaN   \n",
       "\n",
       "              umpire3  \n",
       "count              60  \n",
       "unique             18  \n",
       "top     C Shamshuddin  \n",
       "freq                6  \n",
       "mean              NaN  \n",
       "std               NaN  \n",
       "min               NaN  \n",
       "25%               NaN  \n",
       "50%               NaN  \n",
       "75%               NaN  \n",
       "max               NaN  "
      ]
     },
     "execution_count": 7,
     "metadata": {},
     "output_type": "execute_result"
    }
   ],
   "source": [
    "mdf_o.describe(include ='all') # It will give us more useful information on Statitics on each column of the dataset"
   ]
  },
  {
   "cell_type": "markdown",
   "metadata": {},
   "source": [
    "# 3.2 Pre-profiling Matches Data Set"
   ]
  },
  {
   "cell_type": "raw",
   "metadata": {},
   "source": [
    "Using pandas profiling an interactive HTML report gets generated which contins all the information about the columns of\n",
    "the dataset, like the counts and type of each column. Detailed information about each column, coorelation between different columns and a sample of dataset.\n",
    "It gives us visual interpretation of each column in the data.\n",
    "Spread of the data can be better understood by the distribution plot.\n",
    "Grannular level analysis of each column."
   ]
  },
  {
   "cell_type": "code",
   "execution_count": 10,
   "metadata": {},
   "outputs": [
    {
     "data": {
      "application/vnd.jupyter.widget-view+json": {
       "model_id": "56ec3d3236dc45c5b07f6cb33f708881",
       "version_major": 2,
       "version_minor": 0
      },
      "text/plain": [
       "HBox(children=(FloatProgress(value=0.0, description='Summarize dataset', max=32.0, style=ProgressStyle(descrip…"
      ]
     },
     "metadata": {},
     "output_type": "display_data"
    },
    {
     "name": "stdout",
     "output_type": "stream",
     "text": [
      "\n"
     ]
    },
    {
     "data": {
      "application/vnd.jupyter.widget-view+json": {
       "model_id": "460d0e725bf74fdb8af68917cf6bffd9",
       "version_major": 2,
       "version_minor": 0
      },
      "text/plain": [
       "HBox(children=(FloatProgress(value=0.0, description='Generate report structure', max=1.0, style=ProgressStyle(…"
      ]
     },
     "metadata": {},
     "output_type": "display_data"
    },
    {
     "name": "stdout",
     "output_type": "stream",
     "text": [
      "\n"
     ]
    },
    {
     "data": {
      "application/vnd.jupyter.widget-view+json": {
       "model_id": "354fd464678044b287b8499066526057",
       "version_major": 2,
       "version_minor": 0
      },
      "text/plain": [
       "HBox(children=(FloatProgress(value=0.0, description='Render HTML', max=1.0, style=ProgressStyle(description_wi…"
      ]
     },
     "metadata": {},
     "output_type": "display_data"
    },
    {
     "name": "stdout",
     "output_type": "stream",
     "text": [
      "\n"
     ]
    },
    {
     "data": {
      "application/vnd.jupyter.widget-view+json": {
       "model_id": "f4a03157ffd44953b13d7be11182a0ed",
       "version_major": 2,
       "version_minor": 0
      },
      "text/plain": [
       "HBox(children=(FloatProgress(value=0.0, description='Export report to file', max=1.0, style=ProgressStyle(desc…"
      ]
     },
     "metadata": {},
     "output_type": "display_data"
    },
    {
     "name": "stdout",
     "output_type": "stream",
     "text": [
      "\n"
     ]
    }
   ],
   "source": [
    "profile_m = mdf_o.profile_report(title =\"Macthes dataset  preprofoling\")\n",
    "profile_m.to_file(output_file= 'Matches.html')"
   ]
  },
  {
   "cell_type": "markdown",
   "metadata": {},
   "source": [
    "HTML file __\"Macthes dataset preprofoling\"__ is generated which is further looked into to more insights\n",
    "for  munging,cleansing of Matches dataset."
   ]
  },
  {
   "cell_type": "markdown",
   "metadata": {},
   "source": [
    "# By performing all above steps we got the below insights in Matches dataset file."
   ]
  },
  {
   "cell_type": "raw",
   "metadata": {},
   "source": [
    "1.  Macthes Data columns having Maximum null Values: Umpire3, Umpire2, Umpire1. \n",
    "    Action To be Taken:\n",
    "    As our main analysis is to identify players so these umpires columns will be dropped from matches dataset.\n",
    "\n",
    "2.  City has missing Values. \n",
    "    Action To be Taken:\n",
    "    I will be addressing it even though this not does have any direct relation with my problem statement. \n",
    "    \n",
    "3.  Winner, Player_of_match columns have 3 missing values.\n",
    "    Action To be Taken: See if the same rows have above two condition.\n",
    "    \n",
    "4.  Column Date is showing data type as Object.\n",
    "    Action to be taken:\n",
    "    Change it to Pandas DateTime type of object.\n",
    "    \n",
    "5.  Id,Season & Dll_applied field is categorical but considered numerical.\n",
    "    Action to be taken:\n",
    "    Make it a Categorical field.\n",
    "    \n",
    "6.  Name of Playing Teams are not unique.\n",
    "    Action to be taken:\n",
    "    Standardize team nhttp://localhost:8888/notebooks/EDA%20On%20IPL%20Data.ipynb#3.3-Preprocessing-Matches-DataSetames for a clear analysis of team performace."
   ]
  },
  {
   "cell_type": "markdown",
   "metadata": {},
   "source": [
    "# 3.3 Preprocessing Matches DataSet"
   ]
  },
  {
   "cell_type": "code",
   "execution_count": 8,
   "metadata": {},
   "outputs": [],
   "source": [
    "# drpooing umpire1,umpire2 and umpire3 columns for DataFrame\n",
    "mdf_o.drop(['umpire1','umpire2','umpire3'],axis =1,inplace =True)"
   ]
  },
  {
   "cell_type": "code",
   "execution_count": 9,
   "metadata": {},
   "outputs": [],
   "source": [
    "# Converting date into datetime.\n",
    "mdf_o['date']= pd.to_datetime(mdf_o['date'])"
   ]
  },
  {
   "cell_type": "code",
   "execution_count": 10,
   "metadata": {},
   "outputs": [
    {
     "data": {
      "text/plain": [
       "array(['Dubai International Cricket Stadium'], dtype=object)"
      ]
     },
     "execution_count": 10,
     "metadata": {},
     "output_type": "execute_result"
    }
   ],
   "source": [
    "# we can see that Name of Venue of match does provide information about city so checking the Venue where City in Nan\n",
    "mdf_o['venue'][mdf_o['city'].isnull()].unique()"
   ]
  },
  {
   "cell_type": "code",
   "execution_count": 11,
   "metadata": {},
   "outputs": [
    {
     "name": "stderr",
     "output_type": "stream",
     "text": [
      "D:\\Python\\lib\\site-packages\\ipykernel_launcher.py:2: SettingWithCopyWarning:\n",
      "\n",
      "\n",
      "A value is trying to be set on a copy of a slice from a DataFrame\n",
      "\n",
      "See the caveats in the documentation: https://pandas.pydata.org/pandas-docs/stable/user_guide/indexing.html#returning-a-view-versus-a-copy\n",
      "\n"
     ]
    }
   ],
   "source": [
    "# We can see for all such records Venue is \"Dubai International Cricket Stadium\" so we will fill City as \"Dubai\"\n",
    "mdf_o['city'][mdf_o['city'].isnull()]='Dubai'"
   ]
  },
  {
   "cell_type": "code",
   "execution_count": 12,
   "metadata": {},
   "outputs": [],
   "source": [
    "# COnverting field dl_applied to categorical data as \n",
    "mdf_o['dl_applied']= mdf_o['dl_applied'].astype(str)"
   ]
  },
  {
   "cell_type": "code",
   "execution_count": 13,
   "metadata": {},
   "outputs": [],
   "source": [
    "# Cnnverting field Id to categorical data as \n",
    "mdf_o['id']= mdf_o['id'].astype(str)"
   ]
  },
  {
   "cell_type": "code",
   "execution_count": 14,
   "metadata": {},
   "outputs": [],
   "source": [
    "# Converting season to Categorical data as its non-numerical\n",
    "mdf_o['season']= mdf_o['season'].astype(str)"
   ]
  },
  {
   "cell_type": "code",
   "execution_count": 15,
   "metadata": {},
   "outputs": [
    {
     "data": {
      "text/plain": [
       "[nan,\n",
       " 'Rajasthan Royals',\n",
       " 'Chennai Super Kings',\n",
       " 'Gujarat Lions',\n",
       " 'Kochi Tuskers Kerala',\n",
       " 'Delhi Daredevils',\n",
       " 'Royal Challengers Bangalore',\n",
       " 'Rising Pune Supergiants',\n",
       " 'Deccan Chargers',\n",
       " 'Pune Warriors',\n",
       " 'Mumbai Indians',\n",
       " 'Sunrisers Hyderabad',\n",
       " 'Rising Pune Supergiant',\n",
       " 'Kings XI Punjab',\n",
       " 'Kolkata Knight Riders']"
      ]
     },
     "execution_count": 15,
     "metadata": {},
     "output_type": "execute_result"
    }
   ],
   "source": [
    "# To get Unique list of teams which played IPL matches\n",
    "list(set((pd.concat([mdf_o['team2'],mdf_o['team1'],mdf_o['toss_winner'],mdf_o['winner']]))))"
   ]
  },
  {
   "cell_type": "code",
   "execution_count": 16,
   "metadata": {},
   "outputs": [],
   "source": [
    "# Using above data a dictionary for Standardized names is prepared for data cleansing\n",
    "uNames_dict= {'Delhi Daredevils':'Delhi Daredevils',\n",
    " 'Royal Challengers Bangalore':'Royal Challengers Bangalore',\n",
    " 'Sunrisers Hyderabad':'Sunrisers Hyderabad',\n",
    " 'Mumbai Indians':'Mumbai Indians',\n",
    " 'Gujarat Lions':'Gujarat Lions',\n",
    " 'Chennai Super Kings':'Chennai Super Kings',\n",
    " 'Kochi Tuskers Kerala':'Kochi Tuskers Kerala',\n",
    " 'Kings XI Punjab':'Kings XI Punjab',\n",
    " 'Kolkata Knight Riders':'Kolkata Knight Riders',\n",
    " 'Rising Pune Supergiant':'Pune Warriors',\n",
    " 'Rising Pune Supergiants':'Pune Warriors',\n",
    " 'Rajasthan Royals':'Rajasthan Royals',\n",
    " 'Deccan Chargers':'Sunrisers Hyderabad',\n",
    " 'Pune Warriors':'Pune Warriors'}"
   ]
  },
  {
   "cell_type": "code",
   "execution_count": 17,
   "metadata": {},
   "outputs": [
    {
     "name": "stderr",
     "output_type": "stream",
     "text": [
      "D:\\Python\\lib\\site-packages\\ipykernel_launcher.py:2: SettingWithCopyWarning:\n",
      "\n",
      "\n",
      "A value is trying to be set on a copy of a slice from a DataFrame\n",
      "\n",
      "See the caveats in the documentation: https://pandas.pydata.org/pandas-docs/stable/user_guide/indexing.html#returning-a-view-versus-a-copy\n",
      "\n",
      "D:\\Python\\lib\\site-packages\\ipykernel_launcher.py:3: SettingWithCopyWarning:\n",
      "\n",
      "\n",
      "A value is trying to be set on a copy of a slice from a DataFrame\n",
      "\n",
      "See the caveats in the documentation: https://pandas.pydata.org/pandas-docs/stable/user_guide/indexing.html#returning-a-view-versus-a-copy\n",
      "\n",
      "D:\\Python\\lib\\site-packages\\ipykernel_launcher.py:4: SettingWithCopyWarning:\n",
      "\n",
      "\n",
      "A value is trying to be set on a copy of a slice from a DataFrame\n",
      "\n",
      "See the caveats in the documentation: https://pandas.pydata.org/pandas-docs/stable/user_guide/indexing.html#returning-a-view-versus-a-copy\n",
      "\n",
      "D:\\Python\\lib\\site-packages\\ipykernel_launcher.py:5: SettingWithCopyWarning:\n",
      "\n",
      "\n",
      "A value is trying to be set on a copy of a slice from a DataFrame\n",
      "\n",
      "See the caveats in the documentation: https://pandas.pydata.org/pandas-docs/stable/user_guide/indexing.html#returning-a-view-versus-a-copy\n",
      "\n"
     ]
    }
   ],
   "source": [
    "# All the changes are performed on original DataFrame mdf_o\n",
    "mdf_o['team1'][mdf_o['team1'].notnull()] = mdf_o['team1'][mdf_o['team1'].notnull()].map(lambda x: uNames_dict[x])\n",
    "mdf_o['team2'][mdf_o['team2'].notnull()] = mdf_o['team2'][mdf_o['team2'].notnull()].map(lambda x: uNames_dict[x])\n",
    "mdf_o['toss_winner'][mdf_o['toss_winner'].notnull()] = mdf_o['toss_winner'][mdf_o['toss_winner'].notnull()].map(lambda x: uNames_dict[x])\n",
    "mdf_o['winner'][mdf_o['winner'].notnull()] = mdf_o['winner'][mdf_o['winner'].notnull()].map(lambda x: uNames_dict[x])"
   ]
  },
  {
   "cell_type": "markdown",
   "metadata": {},
   "source": [
    "# 3.4 Understanding the Dataset: Delivery DataSet"
   ]
  },
  {
   "cell_type": "code",
   "execution_count": 18,
   "metadata": {},
   "outputs": [
    {
     "data": {
      "text/plain": [
       "(164750, 21)"
      ]
     },
     "execution_count": 18,
     "metadata": {},
     "output_type": "execute_result"
    },
    {
     "data": {
      "text/plain": [
       "Index(['match_id', 'inning', 'batting_team', 'bowling_team', 'over', 'ball',\n",
       "       'batsman', 'non_striker', 'bowler', 'is_super_over', 'wide_runs',\n",
       "       'bye_runs', 'legbye_runs', 'noball_runs', 'penalty_runs',\n",
       "       'batsman_runs', 'extra_runs', 'total_runs', 'player_dismissed',\n",
       "       'dismissal_kind', 'fielder'],\n",
       "      dtype='object')"
      ]
     },
     "execution_count": 18,
     "metadata": {},
     "output_type": "execute_result"
    }
   ],
   "source": [
    "ddf_o.shape         # This will print the number of rows and comlumns of the Delivery Data Frame\n",
    "ddf_o.columns       # List of columns in Delivery DataSet"
   ]
  },
  {
   "cell_type": "raw",
   "metadata": {},
   "source": [
    "#Matches data is having 164750 rows and 21 columns.\n",
    "__\"List of Columns\"__:\n",
    "['match_id', 'inning', 'batting_team', 'bowling_team', 'over', 'ball',\n",
    "       'batsman', 'non_striker', 'bowler', 'is_super_over', 'wide_runs',\n",
    "       'bye_runs', 'legbye_runs', 'noball_runs', 'penalty_runs',\n",
    "       'batsman_runs', 'extra_runs', 'total_runs', 'player_dismissed',\n",
    "       'dismissal_kind', 'fielder']"
   ]
  },
  {
   "cell_type": "code",
   "execution_count": 19,
   "metadata": {},
   "outputs": [
    {
     "data": {
      "text/html": [
       "<div>\n",
       "<style scoped>\n",
       "    .dataframe tbody tr th:only-of-type {\n",
       "        vertical-align: middle;\n",
       "    }\n",
       "\n",
       "    .dataframe tbody tr th {\n",
       "        vertical-align: top;\n",
       "    }\n",
       "\n",
       "    .dataframe thead th {\n",
       "        text-align: right;\n",
       "    }\n",
       "</style>\n",
       "<table border=\"1\" class=\"dataframe\">\n",
       "  <thead>\n",
       "    <tr style=\"text-align: right;\">\n",
       "      <th></th>\n",
       "      <th>match_id</th>\n",
       "      <th>inning</th>\n",
       "      <th>batting_team</th>\n",
       "      <th>bowling_team</th>\n",
       "      <th>over</th>\n",
       "      <th>ball</th>\n",
       "      <th>batsman</th>\n",
       "      <th>non_striker</th>\n",
       "      <th>bowler</th>\n",
       "      <th>is_super_over</th>\n",
       "      <th>wide_runs</th>\n",
       "      <th>bye_runs</th>\n",
       "      <th>legbye_runs</th>\n",
       "      <th>noball_runs</th>\n",
       "      <th>penalty_runs</th>\n",
       "      <th>batsman_runs</th>\n",
       "      <th>extra_runs</th>\n",
       "      <th>total_runs</th>\n",
       "      <th>player_dismissed</th>\n",
       "      <th>dismissal_kind</th>\n",
       "      <th>fielder</th>\n",
       "    </tr>\n",
       "  </thead>\n",
       "  <tbody>\n",
       "    <tr>\n",
       "      <th>0</th>\n",
       "      <td>1</td>\n",
       "      <td>1</td>\n",
       "      <td>Sunrisers Hyderabad</td>\n",
       "      <td>Royal Challengers Bangalore</td>\n",
       "      <td>1</td>\n",
       "      <td>1</td>\n",
       "      <td>DA Warner</td>\n",
       "      <td>S Dhawan</td>\n",
       "      <td>TS Mills</td>\n",
       "      <td>0</td>\n",
       "      <td>0</td>\n",
       "      <td>0</td>\n",
       "      <td>0</td>\n",
       "      <td>0</td>\n",
       "      <td>0</td>\n",
       "      <td>0</td>\n",
       "      <td>0</td>\n",
       "      <td>0</td>\n",
       "      <td>NaN</td>\n",
       "      <td>NaN</td>\n",
       "      <td>NaN</td>\n",
       "    </tr>\n",
       "    <tr>\n",
       "      <th>1</th>\n",
       "      <td>1</td>\n",
       "      <td>1</td>\n",
       "      <td>Sunrisers Hyderabad</td>\n",
       "      <td>Royal Challengers Bangalore</td>\n",
       "      <td>1</td>\n",
       "      <td>2</td>\n",
       "      <td>DA Warner</td>\n",
       "      <td>S Dhawan</td>\n",
       "      <td>TS Mills</td>\n",
       "      <td>0</td>\n",
       "      <td>0</td>\n",
       "      <td>0</td>\n",
       "      <td>0</td>\n",
       "      <td>0</td>\n",
       "      <td>0</td>\n",
       "      <td>0</td>\n",
       "      <td>0</td>\n",
       "      <td>0</td>\n",
       "      <td>NaN</td>\n",
       "      <td>NaN</td>\n",
       "      <td>NaN</td>\n",
       "    </tr>\n",
       "    <tr>\n",
       "      <th>2</th>\n",
       "      <td>1</td>\n",
       "      <td>1</td>\n",
       "      <td>Sunrisers Hyderabad</td>\n",
       "      <td>Royal Challengers Bangalore</td>\n",
       "      <td>1</td>\n",
       "      <td>3</td>\n",
       "      <td>DA Warner</td>\n",
       "      <td>S Dhawan</td>\n",
       "      <td>TS Mills</td>\n",
       "      <td>0</td>\n",
       "      <td>0</td>\n",
       "      <td>0</td>\n",
       "      <td>0</td>\n",
       "      <td>0</td>\n",
       "      <td>0</td>\n",
       "      <td>4</td>\n",
       "      <td>0</td>\n",
       "      <td>4</td>\n",
       "      <td>NaN</td>\n",
       "      <td>NaN</td>\n",
       "      <td>NaN</td>\n",
       "    </tr>\n",
       "    <tr>\n",
       "      <th>3</th>\n",
       "      <td>1</td>\n",
       "      <td>1</td>\n",
       "      <td>Sunrisers Hyderabad</td>\n",
       "      <td>Royal Challengers Bangalore</td>\n",
       "      <td>1</td>\n",
       "      <td>4</td>\n",
       "      <td>DA Warner</td>\n",
       "      <td>S Dhawan</td>\n",
       "      <td>TS Mills</td>\n",
       "      <td>0</td>\n",
       "      <td>0</td>\n",
       "      <td>0</td>\n",
       "      <td>0</td>\n",
       "      <td>0</td>\n",
       "      <td>0</td>\n",
       "      <td>0</td>\n",
       "      <td>0</td>\n",
       "      <td>0</td>\n",
       "      <td>NaN</td>\n",
       "      <td>NaN</td>\n",
       "      <td>NaN</td>\n",
       "    </tr>\n",
       "    <tr>\n",
       "      <th>4</th>\n",
       "      <td>1</td>\n",
       "      <td>1</td>\n",
       "      <td>Sunrisers Hyderabad</td>\n",
       "      <td>Royal Challengers Bangalore</td>\n",
       "      <td>1</td>\n",
       "      <td>5</td>\n",
       "      <td>DA Warner</td>\n",
       "      <td>S Dhawan</td>\n",
       "      <td>TS Mills</td>\n",
       "      <td>0</td>\n",
       "      <td>2</td>\n",
       "      <td>0</td>\n",
       "      <td>0</td>\n",
       "      <td>0</td>\n",
       "      <td>0</td>\n",
       "      <td>0</td>\n",
       "      <td>2</td>\n",
       "      <td>2</td>\n",
       "      <td>NaN</td>\n",
       "      <td>NaN</td>\n",
       "      <td>NaN</td>\n",
       "    </tr>\n",
       "  </tbody>\n",
       "</table>\n",
       "</div>"
      ],
      "text/plain": [
       "   match_id  inning         batting_team                 bowling_team  over  \\\n",
       "0         1       1  Sunrisers Hyderabad  Royal Challengers Bangalore     1   \n",
       "1         1       1  Sunrisers Hyderabad  Royal Challengers Bangalore     1   \n",
       "2         1       1  Sunrisers Hyderabad  Royal Challengers Bangalore     1   \n",
       "3         1       1  Sunrisers Hyderabad  Royal Challengers Bangalore     1   \n",
       "4         1       1  Sunrisers Hyderabad  Royal Challengers Bangalore     1   \n",
       "\n",
       "   ball    batsman non_striker    bowler  is_super_over  wide_runs  bye_runs  \\\n",
       "0     1  DA Warner    S Dhawan  TS Mills              0          0         0   \n",
       "1     2  DA Warner    S Dhawan  TS Mills              0          0         0   \n",
       "2     3  DA Warner    S Dhawan  TS Mills              0          0         0   \n",
       "3     4  DA Warner    S Dhawan  TS Mills              0          0         0   \n",
       "4     5  DA Warner    S Dhawan  TS Mills              0          2         0   \n",
       "\n",
       "   legbye_runs  noball_runs  penalty_runs  batsman_runs  extra_runs  \\\n",
       "0            0            0             0             0           0   \n",
       "1            0            0             0             0           0   \n",
       "2            0            0             0             4           0   \n",
       "3            0            0             0             0           0   \n",
       "4            0            0             0             0           2   \n",
       "\n",
       "   total_runs player_dismissed dismissal_kind fielder  \n",
       "0           0              NaN            NaN     NaN  \n",
       "1           0              NaN            NaN     NaN  \n",
       "2           4              NaN            NaN     NaN  \n",
       "3           0              NaN            NaN     NaN  \n",
       "4           2              NaN            NaN     NaN  "
      ]
     },
     "execution_count": 19,
     "metadata": {},
     "output_type": "execute_result"
    }
   ],
   "source": [
    "#to see top 5 rows from the dataset\n",
    "ddf_o.head(5) "
   ]
  },
  {
   "cell_type": "code",
   "execution_count": 20,
   "metadata": {},
   "outputs": [
    {
     "name": "stdout",
     "output_type": "stream",
     "text": [
      "<class 'pandas.core.frame.DataFrame'>\n",
      "RangeIndex: 164750 entries, 0 to 164749\n",
      "Data columns (total 21 columns):\n",
      " #   Column            Non-Null Count   Dtype \n",
      "---  ------            --------------   ----- \n",
      " 0   match_id          164750 non-null  int64 \n",
      " 1   inning            164750 non-null  int64 \n",
      " 2   batting_team      164750 non-null  object\n",
      " 3   bowling_team      164750 non-null  object\n",
      " 4   over              164750 non-null  int64 \n",
      " 5   ball              164750 non-null  int64 \n",
      " 6   batsman           164750 non-null  object\n",
      " 7   non_striker       164750 non-null  object\n",
      " 8   bowler            164750 non-null  object\n",
      " 9   is_super_over     164750 non-null  int64 \n",
      " 10  wide_runs         164750 non-null  int64 \n",
      " 11  bye_runs          164750 non-null  int64 \n",
      " 12  legbye_runs       164750 non-null  int64 \n",
      " 13  noball_runs       164750 non-null  int64 \n",
      " 14  penalty_runs      164750 non-null  int64 \n",
      " 15  batsman_runs      164750 non-null  int64 \n",
      " 16  extra_runs        164750 non-null  int64 \n",
      " 17  total_runs        164750 non-null  int64 \n",
      " 18  player_dismissed  8157 non-null    object\n",
      " 19  dismissal_kind    8157 non-null    object\n",
      " 20  fielder           5918 non-null    object\n",
      "dtypes: int64(13), object(8)\n",
      "memory usage: 26.4+ MB\n"
     ]
    }
   ],
   "source": [
    "# This will give Index, Datatype of each column, Null Values counts in each column and Memory information\n",
    "ddf_o.info()  "
   ]
  },
  {
   "cell_type": "code",
   "execution_count": 21,
   "metadata": {},
   "outputs": [
    {
     "data": {
      "text/html": [
       "<div>\n",
       "<style scoped>\n",
       "    .dataframe tbody tr th:only-of-type {\n",
       "        vertical-align: middle;\n",
       "    }\n",
       "\n",
       "    .dataframe tbody tr th {\n",
       "        vertical-align: top;\n",
       "    }\n",
       "\n",
       "    .dataframe thead th {\n",
       "        text-align: right;\n",
       "    }\n",
       "</style>\n",
       "<table border=\"1\" class=\"dataframe\">\n",
       "  <thead>\n",
       "    <tr style=\"text-align: right;\">\n",
       "      <th></th>\n",
       "      <th>match_id</th>\n",
       "      <th>inning</th>\n",
       "      <th>batting_team</th>\n",
       "      <th>bowling_team</th>\n",
       "      <th>over</th>\n",
       "      <th>ball</th>\n",
       "      <th>batsman</th>\n",
       "      <th>non_striker</th>\n",
       "      <th>bowler</th>\n",
       "      <th>is_super_over</th>\n",
       "      <th>wide_runs</th>\n",
       "      <th>bye_runs</th>\n",
       "      <th>legbye_runs</th>\n",
       "      <th>noball_runs</th>\n",
       "      <th>penalty_runs</th>\n",
       "      <th>batsman_runs</th>\n",
       "      <th>extra_runs</th>\n",
       "      <th>total_runs</th>\n",
       "      <th>player_dismissed</th>\n",
       "      <th>dismissal_kind</th>\n",
       "      <th>fielder</th>\n",
       "    </tr>\n",
       "  </thead>\n",
       "  <tbody>\n",
       "    <tr>\n",
       "      <th>count</th>\n",
       "      <td>164750.000000</td>\n",
       "      <td>164750.000000</td>\n",
       "      <td>164750</td>\n",
       "      <td>164750</td>\n",
       "      <td>164750.000000</td>\n",
       "      <td>164750.000000</td>\n",
       "      <td>164750</td>\n",
       "      <td>164750</td>\n",
       "      <td>164750</td>\n",
       "      <td>164750.000000</td>\n",
       "      <td>164750.000000</td>\n",
       "      <td>164750.000000</td>\n",
       "      <td>164750.000000</td>\n",
       "      <td>164750.000000</td>\n",
       "      <td>164750.000000</td>\n",
       "      <td>164750.000000</td>\n",
       "      <td>164750.000000</td>\n",
       "      <td>164750.000000</td>\n",
       "      <td>8157</td>\n",
       "      <td>8157</td>\n",
       "      <td>5918</td>\n",
       "    </tr>\n",
       "    <tr>\n",
       "      <th>unique</th>\n",
       "      <td>NaN</td>\n",
       "      <td>NaN</td>\n",
       "      <td>14</td>\n",
       "      <td>14</td>\n",
       "      <td>NaN</td>\n",
       "      <td>NaN</td>\n",
       "      <td>488</td>\n",
       "      <td>484</td>\n",
       "      <td>378</td>\n",
       "      <td>NaN</td>\n",
       "      <td>NaN</td>\n",
       "      <td>NaN</td>\n",
       "      <td>NaN</td>\n",
       "      <td>NaN</td>\n",
       "      <td>NaN</td>\n",
       "      <td>NaN</td>\n",
       "      <td>NaN</td>\n",
       "      <td>NaN</td>\n",
       "      <td>464</td>\n",
       "      <td>9</td>\n",
       "      <td>476</td>\n",
       "    </tr>\n",
       "    <tr>\n",
       "      <th>top</th>\n",
       "      <td>NaN</td>\n",
       "      <td>NaN</td>\n",
       "      <td>Mumbai Indians</td>\n",
       "      <td>Mumbai Indians</td>\n",
       "      <td>NaN</td>\n",
       "      <td>NaN</td>\n",
       "      <td>V Kohli</td>\n",
       "      <td>SK Raina</td>\n",
       "      <td>Harbhajan Singh</td>\n",
       "      <td>NaN</td>\n",
       "      <td>NaN</td>\n",
       "      <td>NaN</td>\n",
       "      <td>NaN</td>\n",
       "      <td>NaN</td>\n",
       "      <td>NaN</td>\n",
       "      <td>NaN</td>\n",
       "      <td>NaN</td>\n",
       "      <td>NaN</td>\n",
       "      <td>SK Raina</td>\n",
       "      <td>caught</td>\n",
       "      <td>KD Karthik</td>\n",
       "    </tr>\n",
       "    <tr>\n",
       "      <th>freq</th>\n",
       "      <td>NaN</td>\n",
       "      <td>NaN</td>\n",
       "      <td>20673</td>\n",
       "      <td>20573</td>\n",
       "      <td>NaN</td>\n",
       "      <td>NaN</td>\n",
       "      <td>3879</td>\n",
       "      <td>3832</td>\n",
       "      <td>3182</td>\n",
       "      <td>NaN</td>\n",
       "      <td>NaN</td>\n",
       "      <td>NaN</td>\n",
       "      <td>NaN</td>\n",
       "      <td>NaN</td>\n",
       "      <td>NaN</td>\n",
       "      <td>NaN</td>\n",
       "      <td>NaN</td>\n",
       "      <td>NaN</td>\n",
       "      <td>146</td>\n",
       "      <td>4861</td>\n",
       "      <td>145</td>\n",
       "    </tr>\n",
       "    <tr>\n",
       "      <th>mean</th>\n",
       "      <td>977.951757</td>\n",
       "      <td>1.482307</td>\n",
       "      <td>NaN</td>\n",
       "      <td>NaN</td>\n",
       "      <td>10.151879</td>\n",
       "      <td>3.616243</td>\n",
       "      <td>NaN</td>\n",
       "      <td>NaN</td>\n",
       "      <td>NaN</td>\n",
       "      <td>0.000492</td>\n",
       "      <td>0.037184</td>\n",
       "      <td>0.004898</td>\n",
       "      <td>0.021548</td>\n",
       "      <td>0.004200</td>\n",
       "      <td>0.000061</td>\n",
       "      <td>1.237238</td>\n",
       "      <td>0.067891</td>\n",
       "      <td>1.305129</td>\n",
       "      <td>NaN</td>\n",
       "      <td>NaN</td>\n",
       "      <td>NaN</td>\n",
       "    </tr>\n",
       "    <tr>\n",
       "      <th>std</th>\n",
       "      <td>2147.671843</td>\n",
       "      <td>0.501592</td>\n",
       "      <td>NaN</td>\n",
       "      <td>NaN</td>\n",
       "      <td>5.675666</td>\n",
       "      <td>1.807398</td>\n",
       "      <td>NaN</td>\n",
       "      <td>NaN</td>\n",
       "      <td>NaN</td>\n",
       "      <td>0.022168</td>\n",
       "      <td>0.254087</td>\n",
       "      <td>0.115006</td>\n",
       "      <td>0.196410</td>\n",
       "      <td>0.071111</td>\n",
       "      <td>0.017421</td>\n",
       "      <td>1.603511</td>\n",
       "      <td>0.345144</td>\n",
       "      <td>1.596255</td>\n",
       "      <td>NaN</td>\n",
       "      <td>NaN</td>\n",
       "      <td>NaN</td>\n",
       "    </tr>\n",
       "    <tr>\n",
       "      <th>min</th>\n",
       "      <td>1.000000</td>\n",
       "      <td>1.000000</td>\n",
       "      <td>NaN</td>\n",
       "      <td>NaN</td>\n",
       "      <td>1.000000</td>\n",
       "      <td>1.000000</td>\n",
       "      <td>NaN</td>\n",
       "      <td>NaN</td>\n",
       "      <td>NaN</td>\n",
       "      <td>0.000000</td>\n",
       "      <td>0.000000</td>\n",
       "      <td>0.000000</td>\n",
       "      <td>0.000000</td>\n",
       "      <td>0.000000</td>\n",
       "      <td>0.000000</td>\n",
       "      <td>0.000000</td>\n",
       "      <td>0.000000</td>\n",
       "      <td>0.000000</td>\n",
       "      <td>NaN</td>\n",
       "      <td>NaN</td>\n",
       "      <td>NaN</td>\n",
       "    </tr>\n",
       "    <tr>\n",
       "      <th>25%</th>\n",
       "      <td>175.000000</td>\n",
       "      <td>1.000000</td>\n",
       "      <td>NaN</td>\n",
       "      <td>NaN</td>\n",
       "      <td>5.000000</td>\n",
       "      <td>2.000000</td>\n",
       "      <td>NaN</td>\n",
       "      <td>NaN</td>\n",
       "      <td>NaN</td>\n",
       "      <td>0.000000</td>\n",
       "      <td>0.000000</td>\n",
       "      <td>0.000000</td>\n",
       "      <td>0.000000</td>\n",
       "      <td>0.000000</td>\n",
       "      <td>0.000000</td>\n",
       "      <td>0.000000</td>\n",
       "      <td>0.000000</td>\n",
       "      <td>0.000000</td>\n",
       "      <td>NaN</td>\n",
       "      <td>NaN</td>\n",
       "      <td>NaN</td>\n",
       "    </tr>\n",
       "    <tr>\n",
       "      <th>50%</th>\n",
       "      <td>349.000000</td>\n",
       "      <td>1.000000</td>\n",
       "      <td>NaN</td>\n",
       "      <td>NaN</td>\n",
       "      <td>10.000000</td>\n",
       "      <td>4.000000</td>\n",
       "      <td>NaN</td>\n",
       "      <td>NaN</td>\n",
       "      <td>NaN</td>\n",
       "      <td>0.000000</td>\n",
       "      <td>0.000000</td>\n",
       "      <td>0.000000</td>\n",
       "      <td>0.000000</td>\n",
       "      <td>0.000000</td>\n",
       "      <td>0.000000</td>\n",
       "      <td>1.000000</td>\n",
       "      <td>0.000000</td>\n",
       "      <td>1.000000</td>\n",
       "      <td>NaN</td>\n",
       "      <td>NaN</td>\n",
       "      <td>NaN</td>\n",
       "    </tr>\n",
       "    <tr>\n",
       "      <th>75%</th>\n",
       "      <td>521.000000</td>\n",
       "      <td>2.000000</td>\n",
       "      <td>NaN</td>\n",
       "      <td>NaN</td>\n",
       "      <td>15.000000</td>\n",
       "      <td>5.000000</td>\n",
       "      <td>NaN</td>\n",
       "      <td>NaN</td>\n",
       "      <td>NaN</td>\n",
       "      <td>0.000000</td>\n",
       "      <td>0.000000</td>\n",
       "      <td>0.000000</td>\n",
       "      <td>0.000000</td>\n",
       "      <td>0.000000</td>\n",
       "      <td>0.000000</td>\n",
       "      <td>1.000000</td>\n",
       "      <td>0.000000</td>\n",
       "      <td>1.000000</td>\n",
       "      <td>NaN</td>\n",
       "      <td>NaN</td>\n",
       "      <td>NaN</td>\n",
       "    </tr>\n",
       "    <tr>\n",
       "      <th>max</th>\n",
       "      <td>7953.000000</td>\n",
       "      <td>4.000000</td>\n",
       "      <td>NaN</td>\n",
       "      <td>NaN</td>\n",
       "      <td>20.000000</td>\n",
       "      <td>9.000000</td>\n",
       "      <td>NaN</td>\n",
       "      <td>NaN</td>\n",
       "      <td>NaN</td>\n",
       "      <td>1.000000</td>\n",
       "      <td>5.000000</td>\n",
       "      <td>4.000000</td>\n",
       "      <td>5.000000</td>\n",
       "      <td>5.000000</td>\n",
       "      <td>5.000000</td>\n",
       "      <td>7.000000</td>\n",
       "      <td>7.000000</td>\n",
       "      <td>10.000000</td>\n",
       "      <td>NaN</td>\n",
       "      <td>NaN</td>\n",
       "      <td>NaN</td>\n",
       "    </tr>\n",
       "  </tbody>\n",
       "</table>\n",
       "</div>"
      ],
      "text/plain": [
       "             match_id         inning    batting_team    bowling_team  \\\n",
       "count   164750.000000  164750.000000          164750          164750   \n",
       "unique            NaN            NaN              14              14   \n",
       "top               NaN            NaN  Mumbai Indians  Mumbai Indians   \n",
       "freq              NaN            NaN           20673           20573   \n",
       "mean       977.951757       1.482307             NaN             NaN   \n",
       "std       2147.671843       0.501592             NaN             NaN   \n",
       "min          1.000000       1.000000             NaN             NaN   \n",
       "25%        175.000000       1.000000             NaN             NaN   \n",
       "50%        349.000000       1.000000             NaN             NaN   \n",
       "75%        521.000000       2.000000             NaN             NaN   \n",
       "max       7953.000000       4.000000             NaN             NaN   \n",
       "\n",
       "                 over           ball  batsman non_striker           bowler  \\\n",
       "count   164750.000000  164750.000000   164750      164750           164750   \n",
       "unique            NaN            NaN      488         484              378   \n",
       "top               NaN            NaN  V Kohli    SK Raina  Harbhajan Singh   \n",
       "freq              NaN            NaN     3879        3832             3182   \n",
       "mean        10.151879       3.616243      NaN         NaN              NaN   \n",
       "std          5.675666       1.807398      NaN         NaN              NaN   \n",
       "min          1.000000       1.000000      NaN         NaN              NaN   \n",
       "25%          5.000000       2.000000      NaN         NaN              NaN   \n",
       "50%         10.000000       4.000000      NaN         NaN              NaN   \n",
       "75%         15.000000       5.000000      NaN         NaN              NaN   \n",
       "max         20.000000       9.000000      NaN         NaN              NaN   \n",
       "\n",
       "        is_super_over      wide_runs       bye_runs    legbye_runs  \\\n",
       "count   164750.000000  164750.000000  164750.000000  164750.000000   \n",
       "unique            NaN            NaN            NaN            NaN   \n",
       "top               NaN            NaN            NaN            NaN   \n",
       "freq              NaN            NaN            NaN            NaN   \n",
       "mean         0.000492       0.037184       0.004898       0.021548   \n",
       "std          0.022168       0.254087       0.115006       0.196410   \n",
       "min          0.000000       0.000000       0.000000       0.000000   \n",
       "25%          0.000000       0.000000       0.000000       0.000000   \n",
       "50%          0.000000       0.000000       0.000000       0.000000   \n",
       "75%          0.000000       0.000000       0.000000       0.000000   \n",
       "max          1.000000       5.000000       4.000000       5.000000   \n",
       "\n",
       "          noball_runs   penalty_runs   batsman_runs     extra_runs  \\\n",
       "count   164750.000000  164750.000000  164750.000000  164750.000000   \n",
       "unique            NaN            NaN            NaN            NaN   \n",
       "top               NaN            NaN            NaN            NaN   \n",
       "freq              NaN            NaN            NaN            NaN   \n",
       "mean         0.004200       0.000061       1.237238       0.067891   \n",
       "std          0.071111       0.017421       1.603511       0.345144   \n",
       "min          0.000000       0.000000       0.000000       0.000000   \n",
       "25%          0.000000       0.000000       0.000000       0.000000   \n",
       "50%          0.000000       0.000000       1.000000       0.000000   \n",
       "75%          0.000000       0.000000       1.000000       0.000000   \n",
       "max          5.000000       5.000000       7.000000       7.000000   \n",
       "\n",
       "           total_runs player_dismissed dismissal_kind     fielder  \n",
       "count   164750.000000             8157           8157        5918  \n",
       "unique            NaN              464              9         476  \n",
       "top               NaN         SK Raina         caught  KD Karthik  \n",
       "freq              NaN              146           4861         145  \n",
       "mean         1.305129              NaN            NaN         NaN  \n",
       "std          1.596255              NaN            NaN         NaN  \n",
       "min          0.000000              NaN            NaN         NaN  \n",
       "25%          0.000000              NaN            NaN         NaN  \n",
       "50%          1.000000              NaN            NaN         NaN  \n",
       "75%          1.000000              NaN            NaN         NaN  \n",
       "max         10.000000              NaN            NaN         NaN  "
      ]
     },
     "execution_count": 21,
     "metadata": {},
     "output_type": "execute_result"
    }
   ],
   "source": [
    "# It will give us more useful information on Statitics on each column of the delivery dataset\n",
    "ddf_o.describe(include ='all') "
   ]
  },
  {
   "cell_type": "markdown",
   "metadata": {},
   "source": [
    "# 3.5 Pre-profiling Deliveries Data Set"
   ]
  },
  {
   "cell_type": "code",
   "execution_count": 25,
   "metadata": {},
   "outputs": [
    {
     "data": {
      "application/vnd.jupyter.widget-view+json": {
       "model_id": "8d30533ee32547ed929c5369bdef336e",
       "version_major": 2,
       "version_minor": 0
      },
      "text/plain": [
       "HBox(children=(FloatProgress(value=0.0, description='Summarize dataset', max=35.0, style=ProgressStyle(descrip…"
      ]
     },
     "metadata": {},
     "output_type": "display_data"
    },
    {
     "name": "stdout",
     "output_type": "stream",
     "text": [
      "\n"
     ]
    },
    {
     "data": {
      "application/vnd.jupyter.widget-view+json": {
       "model_id": "e2be862eac554107b20628e91e8820f5",
       "version_major": 2,
       "version_minor": 0
      },
      "text/plain": [
       "HBox(children=(FloatProgress(value=0.0, description='Generate report structure', max=1.0, style=ProgressStyle(…"
      ]
     },
     "metadata": {},
     "output_type": "display_data"
    },
    {
     "name": "stdout",
     "output_type": "stream",
     "text": [
      "\n"
     ]
    },
    {
     "data": {
      "application/vnd.jupyter.widget-view+json": {
       "model_id": "2b3402cacbaf46839db11c45724276c3",
       "version_major": 2,
       "version_minor": 0
      },
      "text/plain": [
       "HBox(children=(FloatProgress(value=0.0, description='Render HTML', max=1.0, style=ProgressStyle(description_wi…"
      ]
     },
     "metadata": {},
     "output_type": "display_data"
    },
    {
     "name": "stdout",
     "output_type": "stream",
     "text": [
      "\n"
     ]
    },
    {
     "data": {
      "application/vnd.jupyter.widget-view+json": {
       "model_id": "868d6cf8de7f4d6180a3e4b6315881c5",
       "version_major": 2,
       "version_minor": 0
      },
      "text/plain": [
       "HBox(children=(FloatProgress(value=0.0, description='Export report to file', max=1.0, style=ProgressStyle(desc…"
      ]
     },
     "metadata": {},
     "output_type": "display_data"
    },
    {
     "name": "stdout",
     "output_type": "stream",
     "text": [
      "\n"
     ]
    }
   ],
   "source": [
    "# HTML file \"Deliveries_Prepfofiling\" is generated which is further looked into to more insights for\n",
    "# munging,cleansing of Matches dataset \n",
    "profile_m = ddf_o.profile_report(title =\"Deliveries dataset  preprofoling\")\n",
    "profile_m.to_file(output_file='Deliveries_Prepfofiling.html')"
   ]
  },
  {
   "cell_type": "markdown",
   "metadata": {},
   "source": [
    "# By performing all above steps we got the below insights in Deliveries dataset file."
   ]
  },
  {
   "cell_type": "raw",
   "metadata": {},
   "source": [
    "1.match_id, Innings & is_super_overfields, are categorcial variables.But in dataset its numerical field.\n",
    "    Action to be taken:\n",
    "        It should be changed to catgorical variable. \n",
    "\n",
    "\n",
    "2. Names of batting_team, bowling_team are not unique.\n",
    "    Action to be taken:\n",
    "        In Similar fashion to Matches data, names will be standardized."
   ]
  },
  {
   "cell_type": "markdown",
   "metadata": {},
   "source": [
    "# 3.6 Preprocessing Deliveries DataSet"
   ]
  },
  {
   "cell_type": "code",
   "execution_count": 22,
   "metadata": {},
   "outputs": [],
   "source": [
    "# Changing types of field inning to categorical field\n",
    "ddf_o['inning'] =ddf_o['inning'].astype('str')\n",
    "ddf_o['match_id'] =ddf_o['match_id'].astype('str')\n",
    "ddf_o['is_super_over']= ddf_o['is_super_over'].astype('str')"
   ]
  },
  {
   "cell_type": "code",
   "execution_count": 23,
   "metadata": {},
   "outputs": [
    {
     "name": "stderr",
     "output_type": "stream",
     "text": [
      "D:\\Python\\lib\\site-packages\\ipykernel_launcher.py:2: SettingWithCopyWarning:\n",
      "\n",
      "\n",
      "A value is trying to be set on a copy of a slice from a DataFrame\n",
      "\n",
      "See the caveats in the documentation: https://pandas.pydata.org/pandas-docs/stable/user_guide/indexing.html#returning-a-view-versus-a-copy\n",
      "\n",
      "D:\\Python\\lib\\site-packages\\ipykernel_launcher.py:3: SettingWithCopyWarning:\n",
      "\n",
      "\n",
      "A value is trying to be set on a copy of a slice from a DataFrame\n",
      "\n",
      "See the caveats in the documentation: https://pandas.pydata.org/pandas-docs/stable/user_guide/indexing.html#returning-a-view-versus-a-copy\n",
      "\n"
     ]
    }
   ],
   "source": [
    "# Standardizing Name of the teams in all IPL seasons are performed on original DataFrame ddf_o\n",
    "ddf_o['batting_team'][ddf_o['batting_team'].notnull()] = ddf_o['batting_team'][ddf_o['batting_team'].notnull()].map(lambda x: uNames_dict[x])\n",
    "ddf_o['bowling_team'][ddf_o['bowling_team'].notnull()] = ddf_o['bowling_team'][ddf_o['bowling_team'].notnull()].map(lambda x: uNames_dict[x])"
   ]
  },
  {
   "cell_type": "markdown",
   "metadata": {},
   "source": [
    "# Merging both cleansed data sets: Matches & Deliveries "
   ]
  },
  {
   "cell_type": "code",
   "execution_count": 24,
   "metadata": {},
   "outputs": [],
   "source": [
    "# As we have cleansed both datasets seperately so it will be better to merge these datasets to see a complete picture.\n",
    "# Both data sets are merged using Match_Id columns from both the datasets.\n",
    "ipldf = pd.merge(ddf_o,mdf_o,left_on ='match_id',right_on='id',how='left').drop('id',axis=1)"
   ]
  },
  {
   "cell_type": "code",
   "execution_count": 25,
   "metadata": {},
   "outputs": [],
   "source": [
    "# Adding one extra columns with integer value as 1 and naming the new columns as \"Value\"\n",
    "# This columns will help us in analyzing various stats on wickets specially \n",
    "ipldf['Value']= 1"
   ]
  },
  {
   "cell_type": "code",
   "execution_count": 26,
   "metadata": {},
   "outputs": [
    {
     "data": {
      "text/html": [
       "<div>\n",
       "<style scoped>\n",
       "    .dataframe tbody tr th:only-of-type {\n",
       "        vertical-align: middle;\n",
       "    }\n",
       "\n",
       "    .dataframe tbody tr th {\n",
       "        vertical-align: top;\n",
       "    }\n",
       "\n",
       "    .dataframe thead th {\n",
       "        text-align: right;\n",
       "    }\n",
       "</style>\n",
       "<table border=\"1\" class=\"dataframe\">\n",
       "  <thead>\n",
       "    <tr style=\"text-align: right;\">\n",
       "      <th></th>\n",
       "      <th>match_id</th>\n",
       "      <th>inning</th>\n",
       "      <th>batting_team</th>\n",
       "      <th>bowling_team</th>\n",
       "      <th>over</th>\n",
       "      <th>ball</th>\n",
       "      <th>batsman</th>\n",
       "      <th>non_striker</th>\n",
       "      <th>bowler</th>\n",
       "      <th>is_super_over</th>\n",
       "      <th>wide_runs</th>\n",
       "      <th>bye_runs</th>\n",
       "      <th>...</th>\n",
       "      <th>team1</th>\n",
       "      <th>team2</th>\n",
       "      <th>toss_winner</th>\n",
       "      <th>toss_decision</th>\n",
       "      <th>result</th>\n",
       "      <th>dl_applied</th>\n",
       "      <th>winner</th>\n",
       "      <th>win_by_runs</th>\n",
       "      <th>win_by_wickets</th>\n",
       "      <th>player_of_match</th>\n",
       "      <th>venue</th>\n",
       "      <th>Value</th>\n",
       "    </tr>\n",
       "  </thead>\n",
       "  <tbody>\n",
       "    <tr>\n",
       "      <th>0</th>\n",
       "      <td>1</td>\n",
       "      <td>1</td>\n",
       "      <td>Sunrisers Hyderabad</td>\n",
       "      <td>Royal Challengers Bangalore</td>\n",
       "      <td>1</td>\n",
       "      <td>1</td>\n",
       "      <td>DA Warner</td>\n",
       "      <td>S Dhawan</td>\n",
       "      <td>TS Mills</td>\n",
       "      <td>0</td>\n",
       "      <td>0</td>\n",
       "      <td>0</td>\n",
       "      <td>...</td>\n",
       "      <td>Sunrisers Hyderabad</td>\n",
       "      <td>Royal Challengers Bangalore</td>\n",
       "      <td>Royal Challengers Bangalore</td>\n",
       "      <td>field</td>\n",
       "      <td>normal</td>\n",
       "      <td>0</td>\n",
       "      <td>Sunrisers Hyderabad</td>\n",
       "      <td>35</td>\n",
       "      <td>0</td>\n",
       "      <td>Yuvraj Singh</td>\n",
       "      <td>Rajiv Gandhi International Stadium, Uppal</td>\n",
       "      <td>1</td>\n",
       "    </tr>\n",
       "    <tr>\n",
       "      <th>1</th>\n",
       "      <td>1</td>\n",
       "      <td>1</td>\n",
       "      <td>Sunrisers Hyderabad</td>\n",
       "      <td>Royal Challengers Bangalore</td>\n",
       "      <td>1</td>\n",
       "      <td>2</td>\n",
       "      <td>DA Warner</td>\n",
       "      <td>S Dhawan</td>\n",
       "      <td>TS Mills</td>\n",
       "      <td>0</td>\n",
       "      <td>0</td>\n",
       "      <td>0</td>\n",
       "      <td>...</td>\n",
       "      <td>Sunrisers Hyderabad</td>\n",
       "      <td>Royal Challengers Bangalore</td>\n",
       "      <td>Royal Challengers Bangalore</td>\n",
       "      <td>field</td>\n",
       "      <td>normal</td>\n",
       "      <td>0</td>\n",
       "      <td>Sunrisers Hyderabad</td>\n",
       "      <td>35</td>\n",
       "      <td>0</td>\n",
       "      <td>Yuvraj Singh</td>\n",
       "      <td>Rajiv Gandhi International Stadium, Uppal</td>\n",
       "      <td>1</td>\n",
       "    </tr>\n",
       "    <tr>\n",
       "      <th>2</th>\n",
       "      <td>1</td>\n",
       "      <td>1</td>\n",
       "      <td>Sunrisers Hyderabad</td>\n",
       "      <td>Royal Challengers Bangalore</td>\n",
       "      <td>1</td>\n",
       "      <td>3</td>\n",
       "      <td>DA Warner</td>\n",
       "      <td>S Dhawan</td>\n",
       "      <td>TS Mills</td>\n",
       "      <td>0</td>\n",
       "      <td>0</td>\n",
       "      <td>0</td>\n",
       "      <td>...</td>\n",
       "      <td>Sunrisers Hyderabad</td>\n",
       "      <td>Royal Challengers Bangalore</td>\n",
       "      <td>Royal Challengers Bangalore</td>\n",
       "      <td>field</td>\n",
       "      <td>normal</td>\n",
       "      <td>0</td>\n",
       "      <td>Sunrisers Hyderabad</td>\n",
       "      <td>35</td>\n",
       "      <td>0</td>\n",
       "      <td>Yuvraj Singh</td>\n",
       "      <td>Rajiv Gandhi International Stadium, Uppal</td>\n",
       "      <td>1</td>\n",
       "    </tr>\n",
       "  </tbody>\n",
       "</table>\n",
       "<p>3 rows × 36 columns</p>\n",
       "</div>"
      ],
      "text/plain": [
       "  match_id inning         batting_team                 bowling_team  over  \\\n",
       "0        1      1  Sunrisers Hyderabad  Royal Challengers Bangalore     1   \n",
       "1        1      1  Sunrisers Hyderabad  Royal Challengers Bangalore     1   \n",
       "2        1      1  Sunrisers Hyderabad  Royal Challengers Bangalore     1   \n",
       "\n",
       "   ball    batsman non_striker    bowler is_super_over  wide_runs  bye_runs  \\\n",
       "0     1  DA Warner    S Dhawan  TS Mills             0          0         0   \n",
       "1     2  DA Warner    S Dhawan  TS Mills             0          0         0   \n",
       "2     3  DA Warner    S Dhawan  TS Mills             0          0         0   \n",
       "\n",
       "   ...                team1                        team2  \\\n",
       "0  ...  Sunrisers Hyderabad  Royal Challengers Bangalore   \n",
       "1  ...  Sunrisers Hyderabad  Royal Challengers Bangalore   \n",
       "2  ...  Sunrisers Hyderabad  Royal Challengers Bangalore   \n",
       "\n",
       "                   toss_winner  toss_decision  result  dl_applied  \\\n",
       "0  Royal Challengers Bangalore          field  normal           0   \n",
       "1  Royal Challengers Bangalore          field  normal           0   \n",
       "2  Royal Challengers Bangalore          field  normal           0   \n",
       "\n",
       "                winner win_by_runs win_by_wickets player_of_match  \\\n",
       "0  Sunrisers Hyderabad          35              0    Yuvraj Singh   \n",
       "1  Sunrisers Hyderabad          35              0    Yuvraj Singh   \n",
       "2  Sunrisers Hyderabad          35              0    Yuvraj Singh   \n",
       "\n",
       "                                       venue Value  \n",
       "0  Rajiv Gandhi International Stadium, Uppal     1  \n",
       "1  Rajiv Gandhi International Stadium, Uppal     1  \n",
       "2  Rajiv Gandhi International Stadium, Uppal     1  \n",
       "\n",
       "[3 rows x 36 columns]"
      ]
     },
     "execution_count": 26,
     "metadata": {},
     "output_type": "execute_result"
    }
   ],
   "source": [
    "ipldf.head(3)"
   ]
  },
  {
   "cell_type": "markdown",
   "metadata": {},
   "source": [
    "# 3.4 Post Pandas Profiling"
   ]
  },
  {
   "cell_type": "code",
   "execution_count": 27,
   "metadata": {},
   "outputs": [
    {
     "data": {
      "application/vnd.jupyter.widget-view+json": {
       "model_id": "9547aec09f3f4b519d961f0ecc8b3f8f",
       "version_major": 2,
       "version_minor": 0
      },
      "text/plain": [
       "HBox(children=(FloatProgress(value=0.0, description='Summarize dataset', max=50.0, style=ProgressStyle(descrip…"
      ]
     },
     "metadata": {},
     "output_type": "display_data"
    },
    {
     "name": "stdout",
     "output_type": "stream",
     "text": [
      "\n"
     ]
    },
    {
     "data": {
      "application/vnd.jupyter.widget-view+json": {
       "model_id": "b0c8b32ab74c498c97bf54ec0b94555e",
       "version_major": 2,
       "version_minor": 0
      },
      "text/plain": [
       "HBox(children=(FloatProgress(value=0.0, description='Generate report structure', max=1.0, style=ProgressStyle(…"
      ]
     },
     "metadata": {},
     "output_type": "display_data"
    },
    {
     "name": "stdout",
     "output_type": "stream",
     "text": [
      "\n"
     ]
    },
    {
     "data": {
      "application/vnd.jupyter.widget-view+json": {
       "model_id": "a5665b46437a4717840d90a595b3c709",
       "version_major": 2,
       "version_minor": 0
      },
      "text/plain": [
       "HBox(children=(FloatProgress(value=0.0, description='Render HTML', max=1.0, style=ProgressStyle(description_wi…"
      ]
     },
     "metadata": {},
     "output_type": "display_data"
    },
    {
     "name": "stdout",
     "output_type": "stream",
     "text": [
      "\n"
     ]
    },
    {
     "data": {
      "application/vnd.jupyter.widget-view+json": {
       "model_id": "13a5556436c641a8a50bce6b26e45ff8",
       "version_major": 2,
       "version_minor": 0
      },
      "text/plain": [
       "HBox(children=(FloatProgress(value=0.0, description='Export report to file', max=1.0, style=ProgressStyle(desc…"
      ]
     },
     "metadata": {},
     "output_type": "display_data"
    },
    {
     "name": "stdout",
     "output_type": "stream",
     "text": [
      "\n"
     ]
    }
   ],
   "source": [
    "profile = pandas_profiling.ProfileReport(ipldf)\n",
    "profile.to_file(output_file=\"IPL.html\")"
   ]
  },
  {
   "cell_type": "code",
   "execution_count": 27,
   "metadata": {},
   "outputs": [
    {
     "data": {
      "text/html": [
       "<div>\n",
       "<style scoped>\n",
       "    .dataframe tbody tr th:only-of-type {\n",
       "        vertical-align: middle;\n",
       "    }\n",
       "\n",
       "    .dataframe tbody tr th {\n",
       "        vertical-align: top;\n",
       "    }\n",
       "\n",
       "    .dataframe thead th {\n",
       "        text-align: right;\n",
       "    }\n",
       "</style>\n",
       "<table border=\"1\" class=\"dataframe\">\n",
       "  <thead>\n",
       "    <tr style=\"text-align: right;\">\n",
       "      <th></th>\n",
       "      <th>match_id</th>\n",
       "      <th>inning</th>\n",
       "      <th>batting_team</th>\n",
       "      <th>bowling_team</th>\n",
       "      <th>over</th>\n",
       "      <th>ball</th>\n",
       "      <th>batsman</th>\n",
       "      <th>non_striker</th>\n",
       "      <th>bowler</th>\n",
       "      <th>is_super_over</th>\n",
       "      <th>wide_runs</th>\n",
       "      <th>bye_runs</th>\n",
       "      <th>...</th>\n",
       "      <th>team1</th>\n",
       "      <th>team2</th>\n",
       "      <th>toss_winner</th>\n",
       "      <th>toss_decision</th>\n",
       "      <th>result</th>\n",
       "      <th>dl_applied</th>\n",
       "      <th>winner</th>\n",
       "      <th>win_by_runs</th>\n",
       "      <th>win_by_wickets</th>\n",
       "      <th>player_of_match</th>\n",
       "      <th>venue</th>\n",
       "      <th>Value</th>\n",
       "    </tr>\n",
       "  </thead>\n",
       "  <tbody>\n",
       "    <tr>\n",
       "      <th>count</th>\n",
       "      <td>164750</td>\n",
       "      <td>164750</td>\n",
       "      <td>164750</td>\n",
       "      <td>164750</td>\n",
       "      <td>164750.000000</td>\n",
       "      <td>164750.000000</td>\n",
       "      <td>164750</td>\n",
       "      <td>164750</td>\n",
       "      <td>164750</td>\n",
       "      <td>164750</td>\n",
       "      <td>164750.000000</td>\n",
       "      <td>164750.000000</td>\n",
       "      <td>...</td>\n",
       "      <td>164750</td>\n",
       "      <td>164750</td>\n",
       "      <td>164750</td>\n",
       "      <td>164750</td>\n",
       "      <td>164750</td>\n",
       "      <td>164750</td>\n",
       "      <td>164429</td>\n",
       "      <td>164750.000000</td>\n",
       "      <td>164750.000000</td>\n",
       "      <td>164429</td>\n",
       "      <td>164750</td>\n",
       "      <td>164750.0</td>\n",
       "    </tr>\n",
       "    <tr>\n",
       "      <th>unique</th>\n",
       "      <td>696</td>\n",
       "      <td>4</td>\n",
       "      <td>11</td>\n",
       "      <td>11</td>\n",
       "      <td>NaN</td>\n",
       "      <td>NaN</td>\n",
       "      <td>488</td>\n",
       "      <td>484</td>\n",
       "      <td>378</td>\n",
       "      <td>2</td>\n",
       "      <td>NaN</td>\n",
       "      <td>NaN</td>\n",
       "      <td>...</td>\n",
       "      <td>11</td>\n",
       "      <td>11</td>\n",
       "      <td>11</td>\n",
       "      <td>2</td>\n",
       "      <td>3</td>\n",
       "      <td>2</td>\n",
       "      <td>11</td>\n",
       "      <td>NaN</td>\n",
       "      <td>NaN</td>\n",
       "      <td>214</td>\n",
       "      <td>35</td>\n",
       "      <td>NaN</td>\n",
       "    </tr>\n",
       "    <tr>\n",
       "      <th>top</th>\n",
       "      <td>126</td>\n",
       "      <td>1</td>\n",
       "      <td>Mumbai Indians</td>\n",
       "      <td>Mumbai Indians</td>\n",
       "      <td>NaN</td>\n",
       "      <td>NaN</td>\n",
       "      <td>V Kohli</td>\n",
       "      <td>SK Raina</td>\n",
       "      <td>Harbhajan Singh</td>\n",
       "      <td>0</td>\n",
       "      <td>NaN</td>\n",
       "      <td>NaN</td>\n",
       "      <td>...</td>\n",
       "      <td>Sunrisers Hyderabad</td>\n",
       "      <td>Kolkata Knight Riders</td>\n",
       "      <td>Mumbai Indians</td>\n",
       "      <td>field</td>\n",
       "      <td>normal</td>\n",
       "      <td>0</td>\n",
       "      <td>Mumbai Indians</td>\n",
       "      <td>NaN</td>\n",
       "      <td>NaN</td>\n",
       "      <td>CH Gayle</td>\n",
       "      <td>M Chinnaswamy Stadium</td>\n",
       "      <td>NaN</td>\n",
       "    </tr>\n",
       "    <tr>\n",
       "      <th>freq</th>\n",
       "      <td>267</td>\n",
       "      <td>85409</td>\n",
       "      <td>20673</td>\n",
       "      <td>20573</td>\n",
       "      <td>NaN</td>\n",
       "      <td>NaN</td>\n",
       "      <td>3879</td>\n",
       "      <td>3832</td>\n",
       "      <td>3182</td>\n",
       "      <td>164669</td>\n",
       "      <td>NaN</td>\n",
       "      <td>NaN</td>\n",
       "      <td>...</td>\n",
       "      <td>23345</td>\n",
       "      <td>21224</td>\n",
       "      <td>21577</td>\n",
       "      <td>97308</td>\n",
       "      <td>162601</td>\n",
       "      <td>161542</td>\n",
       "      <td>23634</td>\n",
       "      <td>NaN</td>\n",
       "      <td>NaN</td>\n",
       "      <td>4697</td>\n",
       "      <td>16872</td>\n",
       "      <td>NaN</td>\n",
       "    </tr>\n",
       "    <tr>\n",
       "      <th>first</th>\n",
       "      <td>NaN</td>\n",
       "      <td>NaN</td>\n",
       "      <td>NaN</td>\n",
       "      <td>NaN</td>\n",
       "      <td>NaN</td>\n",
       "      <td>NaN</td>\n",
       "      <td>NaN</td>\n",
       "      <td>NaN</td>\n",
       "      <td>NaN</td>\n",
       "      <td>NaN</td>\n",
       "      <td>NaN</td>\n",
       "      <td>NaN</td>\n",
       "      <td>...</td>\n",
       "      <td>NaN</td>\n",
       "      <td>NaN</td>\n",
       "      <td>NaN</td>\n",
       "      <td>NaN</td>\n",
       "      <td>NaN</td>\n",
       "      <td>NaN</td>\n",
       "      <td>NaN</td>\n",
       "      <td>NaN</td>\n",
       "      <td>NaN</td>\n",
       "      <td>NaN</td>\n",
       "      <td>NaN</td>\n",
       "      <td>NaN</td>\n",
       "    </tr>\n",
       "    <tr>\n",
       "      <th>last</th>\n",
       "      <td>NaN</td>\n",
       "      <td>NaN</td>\n",
       "      <td>NaN</td>\n",
       "      <td>NaN</td>\n",
       "      <td>NaN</td>\n",
       "      <td>NaN</td>\n",
       "      <td>NaN</td>\n",
       "      <td>NaN</td>\n",
       "      <td>NaN</td>\n",
       "      <td>NaN</td>\n",
       "      <td>NaN</td>\n",
       "      <td>NaN</td>\n",
       "      <td>...</td>\n",
       "      <td>NaN</td>\n",
       "      <td>NaN</td>\n",
       "      <td>NaN</td>\n",
       "      <td>NaN</td>\n",
       "      <td>NaN</td>\n",
       "      <td>NaN</td>\n",
       "      <td>NaN</td>\n",
       "      <td>NaN</td>\n",
       "      <td>NaN</td>\n",
       "      <td>NaN</td>\n",
       "      <td>NaN</td>\n",
       "      <td>NaN</td>\n",
       "    </tr>\n",
       "    <tr>\n",
       "      <th>mean</th>\n",
       "      <td>NaN</td>\n",
       "      <td>NaN</td>\n",
       "      <td>NaN</td>\n",
       "      <td>NaN</td>\n",
       "      <td>10.151879</td>\n",
       "      <td>3.616243</td>\n",
       "      <td>NaN</td>\n",
       "      <td>NaN</td>\n",
       "      <td>NaN</td>\n",
       "      <td>NaN</td>\n",
       "      <td>0.037184</td>\n",
       "      <td>0.004898</td>\n",
       "      <td>...</td>\n",
       "      <td>NaN</td>\n",
       "      <td>NaN</td>\n",
       "      <td>NaN</td>\n",
       "      <td>NaN</td>\n",
       "      <td>NaN</td>\n",
       "      <td>NaN</td>\n",
       "      <td>NaN</td>\n",
       "      <td>13.589663</td>\n",
       "      <td>3.254161</td>\n",
       "      <td>NaN</td>\n",
       "      <td>NaN</td>\n",
       "      <td>1.0</td>\n",
       "    </tr>\n",
       "    <tr>\n",
       "      <th>std</th>\n",
       "      <td>NaN</td>\n",
       "      <td>NaN</td>\n",
       "      <td>NaN</td>\n",
       "      <td>NaN</td>\n",
       "      <td>5.675666</td>\n",
       "      <td>1.807398</td>\n",
       "      <td>NaN</td>\n",
       "      <td>NaN</td>\n",
       "      <td>NaN</td>\n",
       "      <td>NaN</td>\n",
       "      <td>0.254087</td>\n",
       "      <td>0.115006</td>\n",
       "      <td>...</td>\n",
       "      <td>NaN</td>\n",
       "      <td>NaN</td>\n",
       "      <td>NaN</td>\n",
       "      <td>NaN</td>\n",
       "      <td>NaN</td>\n",
       "      <td>NaN</td>\n",
       "      <td>NaN</td>\n",
       "      <td>23.381121</td>\n",
       "      <td>3.368754</td>\n",
       "      <td>NaN</td>\n",
       "      <td>NaN</td>\n",
       "      <td>0.0</td>\n",
       "    </tr>\n",
       "    <tr>\n",
       "      <th>min</th>\n",
       "      <td>NaN</td>\n",
       "      <td>NaN</td>\n",
       "      <td>NaN</td>\n",
       "      <td>NaN</td>\n",
       "      <td>1.000000</td>\n",
       "      <td>1.000000</td>\n",
       "      <td>NaN</td>\n",
       "      <td>NaN</td>\n",
       "      <td>NaN</td>\n",
       "      <td>NaN</td>\n",
       "      <td>0.000000</td>\n",
       "      <td>0.000000</td>\n",
       "      <td>...</td>\n",
       "      <td>NaN</td>\n",
       "      <td>NaN</td>\n",
       "      <td>NaN</td>\n",
       "      <td>NaN</td>\n",
       "      <td>NaN</td>\n",
       "      <td>NaN</td>\n",
       "      <td>NaN</td>\n",
       "      <td>0.000000</td>\n",
       "      <td>0.000000</td>\n",
       "      <td>NaN</td>\n",
       "      <td>NaN</td>\n",
       "      <td>1.0</td>\n",
       "    </tr>\n",
       "    <tr>\n",
       "      <th>25%</th>\n",
       "      <td>NaN</td>\n",
       "      <td>NaN</td>\n",
       "      <td>NaN</td>\n",
       "      <td>NaN</td>\n",
       "      <td>5.000000</td>\n",
       "      <td>2.000000</td>\n",
       "      <td>NaN</td>\n",
       "      <td>NaN</td>\n",
       "      <td>NaN</td>\n",
       "      <td>NaN</td>\n",
       "      <td>0.000000</td>\n",
       "      <td>0.000000</td>\n",
       "      <td>...</td>\n",
       "      <td>NaN</td>\n",
       "      <td>NaN</td>\n",
       "      <td>NaN</td>\n",
       "      <td>NaN</td>\n",
       "      <td>NaN</td>\n",
       "      <td>NaN</td>\n",
       "      <td>NaN</td>\n",
       "      <td>0.000000</td>\n",
       "      <td>0.000000</td>\n",
       "      <td>NaN</td>\n",
       "      <td>NaN</td>\n",
       "      <td>1.0</td>\n",
       "    </tr>\n",
       "    <tr>\n",
       "      <th>50%</th>\n",
       "      <td>NaN</td>\n",
       "      <td>NaN</td>\n",
       "      <td>NaN</td>\n",
       "      <td>NaN</td>\n",
       "      <td>10.000000</td>\n",
       "      <td>4.000000</td>\n",
       "      <td>NaN</td>\n",
       "      <td>NaN</td>\n",
       "      <td>NaN</td>\n",
       "      <td>NaN</td>\n",
       "      <td>0.000000</td>\n",
       "      <td>0.000000</td>\n",
       "      <td>...</td>\n",
       "      <td>NaN</td>\n",
       "      <td>NaN</td>\n",
       "      <td>NaN</td>\n",
       "      <td>NaN</td>\n",
       "      <td>NaN</td>\n",
       "      <td>NaN</td>\n",
       "      <td>NaN</td>\n",
       "      <td>0.000000</td>\n",
       "      <td>3.000000</td>\n",
       "      <td>NaN</td>\n",
       "      <td>NaN</td>\n",
       "      <td>1.0</td>\n",
       "    </tr>\n",
       "    <tr>\n",
       "      <th>75%</th>\n",
       "      <td>NaN</td>\n",
       "      <td>NaN</td>\n",
       "      <td>NaN</td>\n",
       "      <td>NaN</td>\n",
       "      <td>15.000000</td>\n",
       "      <td>5.000000</td>\n",
       "      <td>NaN</td>\n",
       "      <td>NaN</td>\n",
       "      <td>NaN</td>\n",
       "      <td>NaN</td>\n",
       "      <td>0.000000</td>\n",
       "      <td>0.000000</td>\n",
       "      <td>...</td>\n",
       "      <td>NaN</td>\n",
       "      <td>NaN</td>\n",
       "      <td>NaN</td>\n",
       "      <td>NaN</td>\n",
       "      <td>NaN</td>\n",
       "      <td>NaN</td>\n",
       "      <td>NaN</td>\n",
       "      <td>19.000000</td>\n",
       "      <td>6.000000</td>\n",
       "      <td>NaN</td>\n",
       "      <td>NaN</td>\n",
       "      <td>1.0</td>\n",
       "    </tr>\n",
       "    <tr>\n",
       "      <th>max</th>\n",
       "      <td>NaN</td>\n",
       "      <td>NaN</td>\n",
       "      <td>NaN</td>\n",
       "      <td>NaN</td>\n",
       "      <td>20.000000</td>\n",
       "      <td>9.000000</td>\n",
       "      <td>NaN</td>\n",
       "      <td>NaN</td>\n",
       "      <td>NaN</td>\n",
       "      <td>NaN</td>\n",
       "      <td>5.000000</td>\n",
       "      <td>4.000000</td>\n",
       "      <td>...</td>\n",
       "      <td>NaN</td>\n",
       "      <td>NaN</td>\n",
       "      <td>NaN</td>\n",
       "      <td>NaN</td>\n",
       "      <td>NaN</td>\n",
       "      <td>NaN</td>\n",
       "      <td>NaN</td>\n",
       "      <td>146.000000</td>\n",
       "      <td>10.000000</td>\n",
       "      <td>NaN</td>\n",
       "      <td>NaN</td>\n",
       "      <td>1.0</td>\n",
       "    </tr>\n",
       "  </tbody>\n",
       "</table>\n",
       "<p>13 rows × 36 columns</p>\n",
       "</div>"
      ],
      "text/plain": [
       "       match_id  inning    batting_team    bowling_team           over  \\\n",
       "count    164750  164750          164750          164750  164750.000000   \n",
       "unique      696       4              11              11            NaN   \n",
       "top         126       1  Mumbai Indians  Mumbai Indians            NaN   \n",
       "freq        267   85409           20673           20573            NaN   \n",
       "first       NaN     NaN             NaN             NaN            NaN   \n",
       "last        NaN     NaN             NaN             NaN            NaN   \n",
       "mean        NaN     NaN             NaN             NaN      10.151879   \n",
       "std         NaN     NaN             NaN             NaN       5.675666   \n",
       "min         NaN     NaN             NaN             NaN       1.000000   \n",
       "25%         NaN     NaN             NaN             NaN       5.000000   \n",
       "50%         NaN     NaN             NaN             NaN      10.000000   \n",
       "75%         NaN     NaN             NaN             NaN      15.000000   \n",
       "max         NaN     NaN             NaN             NaN      20.000000   \n",
       "\n",
       "                 ball  batsman non_striker           bowler is_super_over  \\\n",
       "count   164750.000000   164750      164750           164750        164750   \n",
       "unique            NaN      488         484              378             2   \n",
       "top               NaN  V Kohli    SK Raina  Harbhajan Singh             0   \n",
       "freq              NaN     3879        3832             3182        164669   \n",
       "first             NaN      NaN         NaN              NaN           NaN   \n",
       "last              NaN      NaN         NaN              NaN           NaN   \n",
       "mean         3.616243      NaN         NaN              NaN           NaN   \n",
       "std          1.807398      NaN         NaN              NaN           NaN   \n",
       "min          1.000000      NaN         NaN              NaN           NaN   \n",
       "25%          2.000000      NaN         NaN              NaN           NaN   \n",
       "50%          4.000000      NaN         NaN              NaN           NaN   \n",
       "75%          5.000000      NaN         NaN              NaN           NaN   \n",
       "max          9.000000      NaN         NaN              NaN           NaN   \n",
       "\n",
       "            wide_runs       bye_runs  ...                team1  \\\n",
       "count   164750.000000  164750.000000  ...               164750   \n",
       "unique            NaN            NaN  ...                   11   \n",
       "top               NaN            NaN  ...  Sunrisers Hyderabad   \n",
       "freq              NaN            NaN  ...                23345   \n",
       "first             NaN            NaN  ...                  NaN   \n",
       "last              NaN            NaN  ...                  NaN   \n",
       "mean         0.037184       0.004898  ...                  NaN   \n",
       "std          0.254087       0.115006  ...                  NaN   \n",
       "min          0.000000       0.000000  ...                  NaN   \n",
       "25%          0.000000       0.000000  ...                  NaN   \n",
       "50%          0.000000       0.000000  ...                  NaN   \n",
       "75%          0.000000       0.000000  ...                  NaN   \n",
       "max          5.000000       4.000000  ...                  NaN   \n",
       "\n",
       "                        team2     toss_winner  toss_decision  result  \\\n",
       "count                  164750          164750         164750  164750   \n",
       "unique                     11              11              2       3   \n",
       "top     Kolkata Knight Riders  Mumbai Indians          field  normal   \n",
       "freq                    21224           21577          97308  162601   \n",
       "first                     NaN             NaN            NaN     NaN   \n",
       "last                      NaN             NaN            NaN     NaN   \n",
       "mean                      NaN             NaN            NaN     NaN   \n",
       "std                       NaN             NaN            NaN     NaN   \n",
       "min                       NaN             NaN            NaN     NaN   \n",
       "25%                       NaN             NaN            NaN     NaN   \n",
       "50%                       NaN             NaN            NaN     NaN   \n",
       "75%                       NaN             NaN            NaN     NaN   \n",
       "max                       NaN             NaN            NaN     NaN   \n",
       "\n",
       "        dl_applied          winner    win_by_runs win_by_wickets  \\\n",
       "count       164750          164429  164750.000000  164750.000000   \n",
       "unique           2              11            NaN            NaN   \n",
       "top              0  Mumbai Indians            NaN            NaN   \n",
       "freq        161542           23634            NaN            NaN   \n",
       "first          NaN             NaN            NaN            NaN   \n",
       "last           NaN             NaN            NaN            NaN   \n",
       "mean           NaN             NaN      13.589663       3.254161   \n",
       "std            NaN             NaN      23.381121       3.368754   \n",
       "min            NaN             NaN       0.000000       0.000000   \n",
       "25%            NaN             NaN       0.000000       0.000000   \n",
       "50%            NaN             NaN       0.000000       3.000000   \n",
       "75%            NaN             NaN      19.000000       6.000000   \n",
       "max            NaN             NaN     146.000000      10.000000   \n",
       "\n",
       "       player_of_match                  venue     Value  \n",
       "count           164429                 164750  164750.0  \n",
       "unique             214                     35       NaN  \n",
       "top           CH Gayle  M Chinnaswamy Stadium       NaN  \n",
       "freq              4697                  16872       NaN  \n",
       "first              NaN                    NaN       NaN  \n",
       "last               NaN                    NaN       NaN  \n",
       "mean               NaN                    NaN       1.0  \n",
       "std                NaN                    NaN       0.0  \n",
       "min                NaN                    NaN       1.0  \n",
       "25%                NaN                    NaN       1.0  \n",
       "50%                NaN                    NaN       1.0  \n",
       "75%                NaN                    NaN       1.0  \n",
       "max                NaN                    NaN       1.0  \n",
       "\n",
       "[13 rows x 36 columns]"
      ]
     },
     "execution_count": 27,
     "metadata": {},
     "output_type": "execute_result"
    }
   ],
   "source": [
    "ipldf.describe(include ='all')"
   ]
  },
  {
   "cell_type": "raw",
   "metadata": {},
   "source": [
    "All the data types observations/missing value obervations are fixed for out study. i have listed some as below.\n",
    "1. Pandas Profiling shows \"Penality_runs\" as Categorical but describe shows it as numberical data type so its fine.\n",
    "2. No Missing Value for City Now.\n",
    "3. Team Names are standardized now\n",
    "4. Date column is shown as data type of \"Date\" as per expectation.\n",
    "5. Season is also showing correct as Categorical\n",
    "So a comparison between pre-profining & post profiling can be made to see if all missing data, data types are fixed.\n",
    "\n",
    "We can also notice some columns for identifying outliers & correlation between certain columns as per profiling file.\n",
    "\n",
    "1. Some overs were thrown of 9 balls\n",
    "    Action to be taken:\n",
    "        These comes as outliers as overs are genrally of 6, so will be used to analyse such bowlers.\n",
    "        \n",
    "2. Correlation between fields (batsman_runs,total runs) & (wide_runs,byes_runs,legbyes_runs & extra_runs) is positive \n",
    "   Action to be taken:\n",
    "        extra runs can checked with respect to win/loss of teams."
   ]
  },
  {
   "cell_type": "code",
   "execution_count": 28,
   "metadata": {},
   "outputs": [],
   "source": [
    "# Defining a function which will caculated TOP players based upon certain fields, descending or ascending as asked.\n",
    "def top(df,n=2,column='Value',Bool= True):    \n",
    "    return df.sort_values(by=column,axis=0,ascending= Bool).iloc[-n:]"
   ]
  },
  {
   "cell_type": "markdown",
   "metadata": {},
   "source": [
    "# 4. Questions"
   ]
  },
  {
   "cell_type": "markdown",
   "metadata": {},
   "source": [
    "# 4.1 Who are the best wicket keeperss of all time in all IPL seasons? Also who are the top 5 wicket keepers in each season?"
   ]
  },
  {
   "cell_type": "code",
   "execution_count": 29,
   "metadata": {},
   "outputs": [
    {
     "data": {
      "text/html": [
       "<div>\n",
       "<style scoped>\n",
       "    .dataframe tbody tr th:only-of-type {\n",
       "        vertical-align: middle;\n",
       "    }\n",
       "\n",
       "    .dataframe tbody tr th {\n",
       "        vertical-align: top;\n",
       "    }\n",
       "\n",
       "    .dataframe thead th {\n",
       "        text-align: right;\n",
       "    }\n",
       "</style>\n",
       "<table border=\"1\" class=\"dataframe\">\n",
       "  <thead>\n",
       "    <tr style=\"text-align: right;\">\n",
       "      <th></th>\n",
       "      <th>season</th>\n",
       "      <th>fielder</th>\n",
       "      <th>bowling_team</th>\n",
       "      <th>Stumping_Wickets</th>\n",
       "    </tr>\n",
       "  </thead>\n",
       "  <tbody>\n",
       "    <tr>\n",
       "      <th>0</th>\n",
       "      <td>2008</td>\n",
       "      <td>AC Gilchrist</td>\n",
       "      <td>Sunrisers Hyderabad</td>\n",
       "      <td>1</td>\n",
       "    </tr>\n",
       "    <tr>\n",
       "      <th>1</th>\n",
       "      <td>2008</td>\n",
       "      <td>KD Karthik</td>\n",
       "      <td>Delhi Daredevils</td>\n",
       "      <td>2</td>\n",
       "    </tr>\n",
       "    <tr>\n",
       "      <th>2</th>\n",
       "      <td>2008</td>\n",
       "      <td>Kamran Akmal</td>\n",
       "      <td>Rajasthan Royals</td>\n",
       "      <td>4</td>\n",
       "    </tr>\n",
       "    <tr>\n",
       "      <th>3</th>\n",
       "      <td>2008</td>\n",
       "      <td>MV Boucher</td>\n",
       "      <td>Royal Challengers Bangalore</td>\n",
       "      <td>1</td>\n",
       "    </tr>\n",
       "    <tr>\n",
       "      <th>4</th>\n",
       "      <td>2008</td>\n",
       "      <td>SP Goswami</td>\n",
       "      <td>Royal Challengers Bangalore</td>\n",
       "      <td>2</td>\n",
       "    </tr>\n",
       "    <tr>\n",
       "      <th>...</th>\n",
       "      <td>...</td>\n",
       "      <td>...</td>\n",
       "      <td>...</td>\n",
       "      <td>...</td>\n",
       "    </tr>\n",
       "    <tr>\n",
       "      <th>96</th>\n",
       "      <td>2018</td>\n",
       "      <td>KL Rahul</td>\n",
       "      <td>Kings XI Punjab</td>\n",
       "      <td>1</td>\n",
       "    </tr>\n",
       "    <tr>\n",
       "      <th>97</th>\n",
       "      <td>2018</td>\n",
       "      <td>MS Dhoni</td>\n",
       "      <td>Chennai Super Kings</td>\n",
       "      <td>3</td>\n",
       "    </tr>\n",
       "    <tr>\n",
       "      <th>98</th>\n",
       "      <td>2018</td>\n",
       "      <td>Q de Kock</td>\n",
       "      <td>Royal Challengers Bangalore</td>\n",
       "      <td>3</td>\n",
       "    </tr>\n",
       "    <tr>\n",
       "      <th>99</th>\n",
       "      <td>2018</td>\n",
       "      <td>RR Pant</td>\n",
       "      <td>Delhi Daredevils</td>\n",
       "      <td>2</td>\n",
       "    </tr>\n",
       "    <tr>\n",
       "      <th>100</th>\n",
       "      <td>2018</td>\n",
       "      <td>WP Saha</td>\n",
       "      <td>Sunrisers Hyderabad</td>\n",
       "      <td>1</td>\n",
       "    </tr>\n",
       "  </tbody>\n",
       "</table>\n",
       "<p>101 rows × 4 columns</p>\n",
       "</div>"
      ],
      "text/plain": [
       "    season       fielder                 bowling_team  Stumping_Wickets\n",
       "0     2008  AC Gilchrist          Sunrisers Hyderabad                 1\n",
       "1     2008    KD Karthik             Delhi Daredevils                 2\n",
       "2     2008  Kamran Akmal             Rajasthan Royals                 4\n",
       "3     2008    MV Boucher  Royal Challengers Bangalore                 1\n",
       "4     2008    SP Goswami  Royal Challengers Bangalore                 2\n",
       "..     ...           ...                          ...               ...\n",
       "96    2018      KL Rahul              Kings XI Punjab                 1\n",
       "97    2018      MS Dhoni          Chennai Super Kings                 3\n",
       "98    2018     Q de Kock  Royal Challengers Bangalore                 3\n",
       "99    2018       RR Pant             Delhi Daredevils                 2\n",
       "100   2018       WP Saha          Sunrisers Hyderabad                 1\n",
       "\n",
       "[101 rows x 4 columns]"
      ]
     },
     "execution_count": 29,
     "metadata": {},
     "output_type": "execute_result"
    }
   ],
   "source": [
    "top_wk = ipldf[['season','bowling_team','fielder','Value']][(ipldf['dismissal_kind']== 'stumped')].groupby(['season','fielder','bowling_team']).sum()\\\n",
    ".reset_index().rename({'Value':'Stumping_Wickets'},axis=1)\n",
    "top_wk"
   ]
  },
  {
   "cell_type": "code",
   "execution_count": 30,
   "metadata": {},
   "outputs": [
    {
     "data": {
      "application/vnd.plotly.v1+json": {
       "config": {
        "plotlyServerURL": "https://plot.ly"
       },
       "data": [
        {
         "marker": {
          "color": [
           2,
           4,
           5,
           8,
           6,
           6,
           4,
           5,
           5,
           6,
           3,
           3,
           4,
           7,
           4,
           5,
           4,
           4,
           3,
           6,
           3,
           4
          ],
          "size": [
           12,
           24,
           30,
           48,
           36,
           36,
           24,
           30,
           30,
           36,
           18,
           18,
           24,
           42,
           24,
           30,
           24,
           24,
           18,
           36,
           18,
           24
          ]
         },
         "mode": "markers+text",
         "text": [
          2,
          4,
          5,
          8,
          6,
          6,
          4,
          5,
          5,
          6,
          3,
          3,
          4,
          7,
          4,
          5,
          4,
          4,
          3,
          6,
          3,
          4
         ],
         "textfont": {
          "color": "black",
          "size": 20
         },
         "textposition": "middle center",
         "type": "scatter",
         "x": [
          "2008 : WP Saha",
          "2008 : Kamran Akmal",
          "2009 : KD Karthik",
          "2009 : AC Gilchrist",
          "2010 : KD Karthik",
          "2010 : MS Dhoni",
          "2011 : DH Yagnik",
          "2011 : MS Dhoni",
          "2012 : AB de Villiers",
          "2012 : BB McCullum",
          "2013 : MS Bisla",
          "2013 : PA Patel",
          "2014 : WP Saha",
          "2014 : RV Uthappa",
          "2015 : KD Karthik",
          "2015 : RV Uthappa",
          "2016 : MS Dhoni",
          "2016 : RV Uthappa",
          "2017 : RR Pant",
          "2017 : RV Uthappa",
          "2018 : Q de Kock",
          "2018 : H Klaasen"
         ],
         "y": [
          2,
          4,
          5,
          8,
          6,
          6,
          4,
          5,
          5,
          6,
          3,
          3,
          4,
          7,
          4,
          5,
          4,
          4,
          3,
          6,
          3,
          4
         ]
        }
       ],
       "layout": {
        "template": {
         "data": {
          "bar": [
           {
            "error_x": {
             "color": "#2a3f5f"
            },
            "error_y": {
             "color": "#2a3f5f"
            },
            "marker": {
             "line": {
              "color": "#E5ECF6",
              "width": 0.5
             }
            },
            "type": "bar"
           }
          ],
          "barpolar": [
           {
            "marker": {
             "line": {
              "color": "#E5ECF6",
              "width": 0.5
             }
            },
            "type": "barpolar"
           }
          ],
          "carpet": [
           {
            "aaxis": {
             "endlinecolor": "#2a3f5f",
             "gridcolor": "white",
             "linecolor": "white",
             "minorgridcolor": "white",
             "startlinecolor": "#2a3f5f"
            },
            "baxis": {
             "endlinecolor": "#2a3f5f",
             "gridcolor": "white",
             "linecolor": "white",
             "minorgridcolor": "white",
             "startlinecolor": "#2a3f5f"
            },
            "type": "carpet"
           }
          ],
          "choropleth": [
           {
            "colorbar": {
             "outlinewidth": 0,
             "ticks": ""
            },
            "type": "choropleth"
           }
          ],
          "contour": [
           {
            "colorbar": {
             "outlinewidth": 0,
             "ticks": ""
            },
            "colorscale": [
             [
              0,
              "#0d0887"
             ],
             [
              0.1111111111111111,
              "#46039f"
             ],
             [
              0.2222222222222222,
              "#7201a8"
             ],
             [
              0.3333333333333333,
              "#9c179e"
             ],
             [
              0.4444444444444444,
              "#bd3786"
             ],
             [
              0.5555555555555556,
              "#d8576b"
             ],
             [
              0.6666666666666666,
              "#ed7953"
             ],
             [
              0.7777777777777778,
              "#fb9f3a"
             ],
             [
              0.8888888888888888,
              "#fdca26"
             ],
             [
              1,
              "#f0f921"
             ]
            ],
            "type": "contour"
           }
          ],
          "contourcarpet": [
           {
            "colorbar": {
             "outlinewidth": 0,
             "ticks": ""
            },
            "type": "contourcarpet"
           }
          ],
          "heatmap": [
           {
            "colorbar": {
             "outlinewidth": 0,
             "ticks": ""
            },
            "colorscale": [
             [
              0,
              "#0d0887"
             ],
             [
              0.1111111111111111,
              "#46039f"
             ],
             [
              0.2222222222222222,
              "#7201a8"
             ],
             [
              0.3333333333333333,
              "#9c179e"
             ],
             [
              0.4444444444444444,
              "#bd3786"
             ],
             [
              0.5555555555555556,
              "#d8576b"
             ],
             [
              0.6666666666666666,
              "#ed7953"
             ],
             [
              0.7777777777777778,
              "#fb9f3a"
             ],
             [
              0.8888888888888888,
              "#fdca26"
             ],
             [
              1,
              "#f0f921"
             ]
            ],
            "type": "heatmap"
           }
          ],
          "heatmapgl": [
           {
            "colorbar": {
             "outlinewidth": 0,
             "ticks": ""
            },
            "colorscale": [
             [
              0,
              "#0d0887"
             ],
             [
              0.1111111111111111,
              "#46039f"
             ],
             [
              0.2222222222222222,
              "#7201a8"
             ],
             [
              0.3333333333333333,
              "#9c179e"
             ],
             [
              0.4444444444444444,
              "#bd3786"
             ],
             [
              0.5555555555555556,
              "#d8576b"
             ],
             [
              0.6666666666666666,
              "#ed7953"
             ],
             [
              0.7777777777777778,
              "#fb9f3a"
             ],
             [
              0.8888888888888888,
              "#fdca26"
             ],
             [
              1,
              "#f0f921"
             ]
            ],
            "type": "heatmapgl"
           }
          ],
          "histogram": [
           {
            "marker": {
             "colorbar": {
              "outlinewidth": 0,
              "ticks": ""
             }
            },
            "type": "histogram"
           }
          ],
          "histogram2d": [
           {
            "colorbar": {
             "outlinewidth": 0,
             "ticks": ""
            },
            "colorscale": [
             [
              0,
              "#0d0887"
             ],
             [
              0.1111111111111111,
              "#46039f"
             ],
             [
              0.2222222222222222,
              "#7201a8"
             ],
             [
              0.3333333333333333,
              "#9c179e"
             ],
             [
              0.4444444444444444,
              "#bd3786"
             ],
             [
              0.5555555555555556,
              "#d8576b"
             ],
             [
              0.6666666666666666,
              "#ed7953"
             ],
             [
              0.7777777777777778,
              "#fb9f3a"
             ],
             [
              0.8888888888888888,
              "#fdca26"
             ],
             [
              1,
              "#f0f921"
             ]
            ],
            "type": "histogram2d"
           }
          ],
          "histogram2dcontour": [
           {
            "colorbar": {
             "outlinewidth": 0,
             "ticks": ""
            },
            "colorscale": [
             [
              0,
              "#0d0887"
             ],
             [
              0.1111111111111111,
              "#46039f"
             ],
             [
              0.2222222222222222,
              "#7201a8"
             ],
             [
              0.3333333333333333,
              "#9c179e"
             ],
             [
              0.4444444444444444,
              "#bd3786"
             ],
             [
              0.5555555555555556,
              "#d8576b"
             ],
             [
              0.6666666666666666,
              "#ed7953"
             ],
             [
              0.7777777777777778,
              "#fb9f3a"
             ],
             [
              0.8888888888888888,
              "#fdca26"
             ],
             [
              1,
              "#f0f921"
             ]
            ],
            "type": "histogram2dcontour"
           }
          ],
          "mesh3d": [
           {
            "colorbar": {
             "outlinewidth": 0,
             "ticks": ""
            },
            "type": "mesh3d"
           }
          ],
          "parcoords": [
           {
            "line": {
             "colorbar": {
              "outlinewidth": 0,
              "ticks": ""
             }
            },
            "type": "parcoords"
           }
          ],
          "pie": [
           {
            "automargin": true,
            "type": "pie"
           }
          ],
          "scatter": [
           {
            "marker": {
             "colorbar": {
              "outlinewidth": 0,
              "ticks": ""
             }
            },
            "type": "scatter"
           }
          ],
          "scatter3d": [
           {
            "line": {
             "colorbar": {
              "outlinewidth": 0,
              "ticks": ""
             }
            },
            "marker": {
             "colorbar": {
              "outlinewidth": 0,
              "ticks": ""
             }
            },
            "type": "scatter3d"
           }
          ],
          "scattercarpet": [
           {
            "marker": {
             "colorbar": {
              "outlinewidth": 0,
              "ticks": ""
             }
            },
            "type": "scattercarpet"
           }
          ],
          "scattergeo": [
           {
            "marker": {
             "colorbar": {
              "outlinewidth": 0,
              "ticks": ""
             }
            },
            "type": "scattergeo"
           }
          ],
          "scattergl": [
           {
            "marker": {
             "colorbar": {
              "outlinewidth": 0,
              "ticks": ""
             }
            },
            "type": "scattergl"
           }
          ],
          "scattermapbox": [
           {
            "marker": {
             "colorbar": {
              "outlinewidth": 0,
              "ticks": ""
             }
            },
            "type": "scattermapbox"
           }
          ],
          "scatterpolar": [
           {
            "marker": {
             "colorbar": {
              "outlinewidth": 0,
              "ticks": ""
             }
            },
            "type": "scatterpolar"
           }
          ],
          "scatterpolargl": [
           {
            "marker": {
             "colorbar": {
              "outlinewidth": 0,
              "ticks": ""
             }
            },
            "type": "scatterpolargl"
           }
          ],
          "scatterternary": [
           {
            "marker": {
             "colorbar": {
              "outlinewidth": 0,
              "ticks": ""
             }
            },
            "type": "scatterternary"
           }
          ],
          "surface": [
           {
            "colorbar": {
             "outlinewidth": 0,
             "ticks": ""
            },
            "colorscale": [
             [
              0,
              "#0d0887"
             ],
             [
              0.1111111111111111,
              "#46039f"
             ],
             [
              0.2222222222222222,
              "#7201a8"
             ],
             [
              0.3333333333333333,
              "#9c179e"
             ],
             [
              0.4444444444444444,
              "#bd3786"
             ],
             [
              0.5555555555555556,
              "#d8576b"
             ],
             [
              0.6666666666666666,
              "#ed7953"
             ],
             [
              0.7777777777777778,
              "#fb9f3a"
             ],
             [
              0.8888888888888888,
              "#fdca26"
             ],
             [
              1,
              "#f0f921"
             ]
            ],
            "type": "surface"
           }
          ],
          "table": [
           {
            "cells": {
             "fill": {
              "color": "#EBF0F8"
             },
             "line": {
              "color": "white"
             }
            },
            "header": {
             "fill": {
              "color": "#C8D4E3"
             },
             "line": {
              "color": "white"
             }
            },
            "type": "table"
           }
          ]
         },
         "layout": {
          "annotationdefaults": {
           "arrowcolor": "#2a3f5f",
           "arrowhead": 0,
           "arrowwidth": 1
          },
          "coloraxis": {
           "colorbar": {
            "outlinewidth": 0,
            "ticks": ""
           }
          },
          "colorscale": {
           "diverging": [
            [
             0,
             "#8e0152"
            ],
            [
             0.1,
             "#c51b7d"
            ],
            [
             0.2,
             "#de77ae"
            ],
            [
             0.3,
             "#f1b6da"
            ],
            [
             0.4,
             "#fde0ef"
            ],
            [
             0.5,
             "#f7f7f7"
            ],
            [
             0.6,
             "#e6f5d0"
            ],
            [
             0.7,
             "#b8e186"
            ],
            [
             0.8,
             "#7fbc41"
            ],
            [
             0.9,
             "#4d9221"
            ],
            [
             1,
             "#276419"
            ]
           ],
           "sequential": [
            [
             0,
             "#0d0887"
            ],
            [
             0.1111111111111111,
             "#46039f"
            ],
            [
             0.2222222222222222,
             "#7201a8"
            ],
            [
             0.3333333333333333,
             "#9c179e"
            ],
            [
             0.4444444444444444,
             "#bd3786"
            ],
            [
             0.5555555555555556,
             "#d8576b"
            ],
            [
             0.6666666666666666,
             "#ed7953"
            ],
            [
             0.7777777777777778,
             "#fb9f3a"
            ],
            [
             0.8888888888888888,
             "#fdca26"
            ],
            [
             1,
             "#f0f921"
            ]
           ],
           "sequentialminus": [
            [
             0,
             "#0d0887"
            ],
            [
             0.1111111111111111,
             "#46039f"
            ],
            [
             0.2222222222222222,
             "#7201a8"
            ],
            [
             0.3333333333333333,
             "#9c179e"
            ],
            [
             0.4444444444444444,
             "#bd3786"
            ],
            [
             0.5555555555555556,
             "#d8576b"
            ],
            [
             0.6666666666666666,
             "#ed7953"
            ],
            [
             0.7777777777777778,
             "#fb9f3a"
            ],
            [
             0.8888888888888888,
             "#fdca26"
            ],
            [
             1,
             "#f0f921"
            ]
           ]
          },
          "colorway": [
           "#636efa",
           "#EF553B",
           "#00cc96",
           "#ab63fa",
           "#FFA15A",
           "#19d3f3",
           "#FF6692",
           "#B6E880",
           "#FF97FF",
           "#FECB52"
          ],
          "font": {
           "color": "#2a3f5f"
          },
          "geo": {
           "bgcolor": "white",
           "lakecolor": "white",
           "landcolor": "#E5ECF6",
           "showlakes": true,
           "showland": true,
           "subunitcolor": "white"
          },
          "hoverlabel": {
           "align": "left"
          },
          "hovermode": "closest",
          "mapbox": {
           "style": "light"
          },
          "paper_bgcolor": "white",
          "plot_bgcolor": "#E5ECF6",
          "polar": {
           "angularaxis": {
            "gridcolor": "white",
            "linecolor": "white",
            "ticks": ""
           },
           "bgcolor": "#E5ECF6",
           "radialaxis": {
            "gridcolor": "white",
            "linecolor": "white",
            "ticks": ""
           }
          },
          "scene": {
           "xaxis": {
            "backgroundcolor": "#E5ECF6",
            "gridcolor": "white",
            "gridwidth": 2,
            "linecolor": "white",
            "showbackground": true,
            "ticks": "",
            "zerolinecolor": "white"
           },
           "yaxis": {
            "backgroundcolor": "#E5ECF6",
            "gridcolor": "white",
            "gridwidth": 2,
            "linecolor": "white",
            "showbackground": true,
            "ticks": "",
            "zerolinecolor": "white"
           },
           "zaxis": {
            "backgroundcolor": "#E5ECF6",
            "gridcolor": "white",
            "gridwidth": 2,
            "linecolor": "white",
            "showbackground": true,
            "ticks": "",
            "zerolinecolor": "white"
           }
          },
          "shapedefaults": {
           "line": {
            "color": "#2a3f5f"
           }
          },
          "ternary": {
           "aaxis": {
            "gridcolor": "white",
            "linecolor": "white",
            "ticks": ""
           },
           "baxis": {
            "gridcolor": "white",
            "linecolor": "white",
            "ticks": ""
           },
           "bgcolor": "#E5ECF6",
           "caxis": {
            "gridcolor": "white",
            "linecolor": "white",
            "ticks": ""
           }
          },
          "title": {
           "x": 0.05
          },
          "xaxis": {
           "automargin": true,
           "gridcolor": "white",
           "linecolor": "white",
           "ticks": "",
           "title": {
            "standoff": 15
           },
           "zerolinecolor": "white",
           "zerolinewidth": 2
          },
          "yaxis": {
           "automargin": true,
           "gridcolor": "white",
           "linecolor": "white",
           "ticks": "",
           "title": {
            "standoff": 15
           },
           "zerolinecolor": "white",
           "zerolinewidth": 2
          }
         }
        },
        "title": {
         "font": {
          "color": "black",
          "size": 20
         },
         "text": "Highest Number of Stumping by Wicket-Keepers in all IPL Season"
        },
        "yaxis": {
         "title": {
          "font": {
           "color": "black",
           "size": 20
          },
          "text": "Number of Stumpings"
         }
        }
       }
      },
      "text/html": [
       "<div>\n",
       "        \n",
       "        \n",
       "            <div id=\"0a41e501-2184-4858-b57d-4a799fcbeef7\" class=\"plotly-graph-div\" style=\"height:525px; width:100%;\"></div>\n",
       "            <script type=\"text/javascript\">\n",
       "                require([\"plotly\"], function(Plotly) {\n",
       "                    window.PLOTLYENV=window.PLOTLYENV || {};\n",
       "                    \n",
       "                if (document.getElementById(\"0a41e501-2184-4858-b57d-4a799fcbeef7\")) {\n",
       "                    Plotly.newPlot(\n",
       "                        '0a41e501-2184-4858-b57d-4a799fcbeef7',\n",
       "                        [{\"marker\": {\"color\": [2, 4, 5, 8, 6, 6, 4, 5, 5, 6, 3, 3, 4, 7, 4, 5, 4, 4, 3, 6, 3, 4], \"size\": [12, 24, 30, 48, 36, 36, 24, 30, 30, 36, 18, 18, 24, 42, 24, 30, 24, 24, 18, 36, 18, 24]}, \"mode\": \"markers+text\", \"text\": [2.0, 4.0, 5.0, 8.0, 6.0, 6.0, 4.0, 5.0, 5.0, 6.0, 3.0, 3.0, 4.0, 7.0, 4.0, 5.0, 4.0, 4.0, 3.0, 6.0, 3.0, 4.0], \"textfont\": {\"color\": \"black\", \"size\": 20}, \"textposition\": \"middle center\", \"type\": \"scatter\", \"x\": [\"2008 : WP Saha\", \"2008 : Kamran Akmal\", \"2009 : KD Karthik\", \"2009 : AC Gilchrist\", \"2010 : KD Karthik\", \"2010 : MS Dhoni\", \"2011 : DH Yagnik\", \"2011 : MS Dhoni\", \"2012 : AB de Villiers\", \"2012 : BB McCullum\", \"2013 : MS Bisla\", \"2013 : PA Patel\", \"2014 : WP Saha\", \"2014 : RV Uthappa\", \"2015 : KD Karthik\", \"2015 : RV Uthappa\", \"2016 : MS Dhoni\", \"2016 : RV Uthappa\", \"2017 : RR Pant\", \"2017 : RV Uthappa\", \"2018 : Q de Kock\", \"2018 : H Klaasen\"], \"y\": [2, 4, 5, 8, 6, 6, 4, 5, 5, 6, 3, 3, 4, 7, 4, 5, 4, 4, 3, 6, 3, 4]}],\n",
       "                        {\"template\": {\"data\": {\"bar\": [{\"error_x\": {\"color\": \"#2a3f5f\"}, \"error_y\": {\"color\": \"#2a3f5f\"}, \"marker\": {\"line\": {\"color\": \"#E5ECF6\", \"width\": 0.5}}, \"type\": \"bar\"}], \"barpolar\": [{\"marker\": {\"line\": {\"color\": \"#E5ECF6\", \"width\": 0.5}}, \"type\": \"barpolar\"}], \"carpet\": [{\"aaxis\": {\"endlinecolor\": \"#2a3f5f\", \"gridcolor\": \"white\", \"linecolor\": \"white\", \"minorgridcolor\": \"white\", \"startlinecolor\": \"#2a3f5f\"}, \"baxis\": {\"endlinecolor\": \"#2a3f5f\", \"gridcolor\": \"white\", \"linecolor\": \"white\", \"minorgridcolor\": \"white\", \"startlinecolor\": \"#2a3f5f\"}, \"type\": \"carpet\"}], \"choropleth\": [{\"colorbar\": {\"outlinewidth\": 0, \"ticks\": \"\"}, \"type\": \"choropleth\"}], \"contour\": [{\"colorbar\": {\"outlinewidth\": 0, \"ticks\": \"\"}, \"colorscale\": [[0.0, \"#0d0887\"], [0.1111111111111111, \"#46039f\"], [0.2222222222222222, \"#7201a8\"], [0.3333333333333333, \"#9c179e\"], [0.4444444444444444, \"#bd3786\"], [0.5555555555555556, \"#d8576b\"], [0.6666666666666666, \"#ed7953\"], [0.7777777777777778, \"#fb9f3a\"], [0.8888888888888888, \"#fdca26\"], [1.0, \"#f0f921\"]], \"type\": \"contour\"}], \"contourcarpet\": [{\"colorbar\": {\"outlinewidth\": 0, \"ticks\": \"\"}, \"type\": \"contourcarpet\"}], \"heatmap\": [{\"colorbar\": {\"outlinewidth\": 0, \"ticks\": \"\"}, \"colorscale\": [[0.0, \"#0d0887\"], [0.1111111111111111, \"#46039f\"], [0.2222222222222222, \"#7201a8\"], [0.3333333333333333, \"#9c179e\"], [0.4444444444444444, \"#bd3786\"], [0.5555555555555556, \"#d8576b\"], [0.6666666666666666, \"#ed7953\"], [0.7777777777777778, \"#fb9f3a\"], [0.8888888888888888, \"#fdca26\"], [1.0, \"#f0f921\"]], \"type\": \"heatmap\"}], \"heatmapgl\": [{\"colorbar\": {\"outlinewidth\": 0, \"ticks\": \"\"}, \"colorscale\": [[0.0, \"#0d0887\"], [0.1111111111111111, \"#46039f\"], [0.2222222222222222, \"#7201a8\"], [0.3333333333333333, \"#9c179e\"], [0.4444444444444444, \"#bd3786\"], [0.5555555555555556, \"#d8576b\"], [0.6666666666666666, \"#ed7953\"], [0.7777777777777778, \"#fb9f3a\"], [0.8888888888888888, \"#fdca26\"], [1.0, \"#f0f921\"]], \"type\": \"heatmapgl\"}], \"histogram\": [{\"marker\": {\"colorbar\": {\"outlinewidth\": 0, \"ticks\": \"\"}}, \"type\": \"histogram\"}], \"histogram2d\": [{\"colorbar\": {\"outlinewidth\": 0, \"ticks\": \"\"}, \"colorscale\": [[0.0, \"#0d0887\"], [0.1111111111111111, \"#46039f\"], [0.2222222222222222, \"#7201a8\"], [0.3333333333333333, \"#9c179e\"], [0.4444444444444444, \"#bd3786\"], [0.5555555555555556, \"#d8576b\"], [0.6666666666666666, \"#ed7953\"], [0.7777777777777778, \"#fb9f3a\"], [0.8888888888888888, \"#fdca26\"], [1.0, \"#f0f921\"]], \"type\": \"histogram2d\"}], \"histogram2dcontour\": [{\"colorbar\": {\"outlinewidth\": 0, \"ticks\": \"\"}, \"colorscale\": [[0.0, \"#0d0887\"], [0.1111111111111111, \"#46039f\"], [0.2222222222222222, \"#7201a8\"], [0.3333333333333333, \"#9c179e\"], [0.4444444444444444, \"#bd3786\"], [0.5555555555555556, \"#d8576b\"], [0.6666666666666666, \"#ed7953\"], [0.7777777777777778, \"#fb9f3a\"], [0.8888888888888888, \"#fdca26\"], [1.0, \"#f0f921\"]], \"type\": \"histogram2dcontour\"}], \"mesh3d\": [{\"colorbar\": {\"outlinewidth\": 0, \"ticks\": \"\"}, \"type\": \"mesh3d\"}], \"parcoords\": [{\"line\": {\"colorbar\": {\"outlinewidth\": 0, \"ticks\": \"\"}}, \"type\": \"parcoords\"}], \"pie\": [{\"automargin\": true, \"type\": \"pie\"}], \"scatter\": [{\"marker\": {\"colorbar\": {\"outlinewidth\": 0, \"ticks\": \"\"}}, \"type\": \"scatter\"}], \"scatter3d\": [{\"line\": {\"colorbar\": {\"outlinewidth\": 0, \"ticks\": \"\"}}, \"marker\": {\"colorbar\": {\"outlinewidth\": 0, \"ticks\": \"\"}}, \"type\": \"scatter3d\"}], \"scattercarpet\": [{\"marker\": {\"colorbar\": {\"outlinewidth\": 0, \"ticks\": \"\"}}, \"type\": \"scattercarpet\"}], \"scattergeo\": [{\"marker\": {\"colorbar\": {\"outlinewidth\": 0, \"ticks\": \"\"}}, \"type\": \"scattergeo\"}], \"scattergl\": [{\"marker\": {\"colorbar\": {\"outlinewidth\": 0, \"ticks\": \"\"}}, \"type\": \"scattergl\"}], \"scattermapbox\": [{\"marker\": {\"colorbar\": {\"outlinewidth\": 0, \"ticks\": \"\"}}, \"type\": \"scattermapbox\"}], \"scatterpolar\": [{\"marker\": {\"colorbar\": {\"outlinewidth\": 0, \"ticks\": \"\"}}, \"type\": \"scatterpolar\"}], \"scatterpolargl\": [{\"marker\": {\"colorbar\": {\"outlinewidth\": 0, \"ticks\": \"\"}}, \"type\": \"scatterpolargl\"}], \"scatterternary\": [{\"marker\": {\"colorbar\": {\"outlinewidth\": 0, \"ticks\": \"\"}}, \"type\": \"scatterternary\"}], \"surface\": [{\"colorbar\": {\"outlinewidth\": 0, \"ticks\": \"\"}, \"colorscale\": [[0.0, \"#0d0887\"], [0.1111111111111111, \"#46039f\"], [0.2222222222222222, \"#7201a8\"], [0.3333333333333333, \"#9c179e\"], [0.4444444444444444, \"#bd3786\"], [0.5555555555555556, \"#d8576b\"], [0.6666666666666666, \"#ed7953\"], [0.7777777777777778, \"#fb9f3a\"], [0.8888888888888888, \"#fdca26\"], [1.0, \"#f0f921\"]], \"type\": \"surface\"}], \"table\": [{\"cells\": {\"fill\": {\"color\": \"#EBF0F8\"}, \"line\": {\"color\": \"white\"}}, \"header\": {\"fill\": {\"color\": \"#C8D4E3\"}, \"line\": {\"color\": \"white\"}}, \"type\": \"table\"}]}, \"layout\": {\"annotationdefaults\": {\"arrowcolor\": \"#2a3f5f\", \"arrowhead\": 0, \"arrowwidth\": 1}, \"coloraxis\": {\"colorbar\": {\"outlinewidth\": 0, \"ticks\": \"\"}}, \"colorscale\": {\"diverging\": [[0, \"#8e0152\"], [0.1, \"#c51b7d\"], [0.2, \"#de77ae\"], [0.3, \"#f1b6da\"], [0.4, \"#fde0ef\"], [0.5, \"#f7f7f7\"], [0.6, \"#e6f5d0\"], [0.7, \"#b8e186\"], [0.8, \"#7fbc41\"], [0.9, \"#4d9221\"], [1, \"#276419\"]], \"sequential\": [[0.0, \"#0d0887\"], [0.1111111111111111, \"#46039f\"], [0.2222222222222222, \"#7201a8\"], [0.3333333333333333, \"#9c179e\"], [0.4444444444444444, \"#bd3786\"], [0.5555555555555556, \"#d8576b\"], [0.6666666666666666, \"#ed7953\"], [0.7777777777777778, \"#fb9f3a\"], [0.8888888888888888, \"#fdca26\"], [1.0, \"#f0f921\"]], \"sequentialminus\": [[0.0, \"#0d0887\"], [0.1111111111111111, \"#46039f\"], [0.2222222222222222, \"#7201a8\"], [0.3333333333333333, \"#9c179e\"], [0.4444444444444444, \"#bd3786\"], [0.5555555555555556, \"#d8576b\"], [0.6666666666666666, \"#ed7953\"], [0.7777777777777778, \"#fb9f3a\"], [0.8888888888888888, \"#fdca26\"], [1.0, \"#f0f921\"]]}, \"colorway\": [\"#636efa\", \"#EF553B\", \"#00cc96\", \"#ab63fa\", \"#FFA15A\", \"#19d3f3\", \"#FF6692\", \"#B6E880\", \"#FF97FF\", \"#FECB52\"], \"font\": {\"color\": \"#2a3f5f\"}, \"geo\": {\"bgcolor\": \"white\", \"lakecolor\": \"white\", \"landcolor\": \"#E5ECF6\", \"showlakes\": true, \"showland\": true, \"subunitcolor\": \"white\"}, \"hoverlabel\": {\"align\": \"left\"}, \"hovermode\": \"closest\", \"mapbox\": {\"style\": \"light\"}, \"paper_bgcolor\": \"white\", \"plot_bgcolor\": \"#E5ECF6\", \"polar\": {\"angularaxis\": {\"gridcolor\": \"white\", \"linecolor\": \"white\", \"ticks\": \"\"}, \"bgcolor\": \"#E5ECF6\", \"radialaxis\": {\"gridcolor\": \"white\", \"linecolor\": \"white\", \"ticks\": \"\"}}, \"scene\": {\"xaxis\": {\"backgroundcolor\": \"#E5ECF6\", \"gridcolor\": \"white\", \"gridwidth\": 2, \"linecolor\": \"white\", \"showbackground\": true, \"ticks\": \"\", \"zerolinecolor\": \"white\"}, \"yaxis\": {\"backgroundcolor\": \"#E5ECF6\", \"gridcolor\": \"white\", \"gridwidth\": 2, \"linecolor\": \"white\", \"showbackground\": true, \"ticks\": \"\", \"zerolinecolor\": \"white\"}, \"zaxis\": {\"backgroundcolor\": \"#E5ECF6\", \"gridcolor\": \"white\", \"gridwidth\": 2, \"linecolor\": \"white\", \"showbackground\": true, \"ticks\": \"\", \"zerolinecolor\": \"white\"}}, \"shapedefaults\": {\"line\": {\"color\": \"#2a3f5f\"}}, \"ternary\": {\"aaxis\": {\"gridcolor\": \"white\", \"linecolor\": \"white\", \"ticks\": \"\"}, \"baxis\": {\"gridcolor\": \"white\", \"linecolor\": \"white\", \"ticks\": \"\"}, \"bgcolor\": \"#E5ECF6\", \"caxis\": {\"gridcolor\": \"white\", \"linecolor\": \"white\", \"ticks\": \"\"}}, \"title\": {\"x\": 0.05}, \"xaxis\": {\"automargin\": true, \"gridcolor\": \"white\", \"linecolor\": \"white\", \"ticks\": \"\", \"title\": {\"standoff\": 15}, \"zerolinecolor\": \"white\", \"zerolinewidth\": 2}, \"yaxis\": {\"automargin\": true, \"gridcolor\": \"white\", \"linecolor\": \"white\", \"ticks\": \"\", \"title\": {\"standoff\": 15}, \"zerolinecolor\": \"white\", \"zerolinewidth\": 2}}}, \"title\": {\"font\": {\"color\": \"black\", \"size\": 20}, \"text\": \"Highest Number of Stumping by Wicket-Keepers in all IPL Season\"}, \"yaxis\": {\"title\": {\"font\": {\"color\": \"black\", \"size\": 20}, \"text\": \"Number of Stumpings\"}}},\n",
       "                        {\"responsive\": true}\n",
       "                    ).then(function(){\n",
       "                            \n",
       "var gd = document.getElementById('0a41e501-2184-4858-b57d-4a799fcbeef7');\n",
       "var x = new MutationObserver(function (mutations, observer) {{\n",
       "        var display = window.getComputedStyle(gd).display;\n",
       "        if (!display || display === 'none') {{\n",
       "            console.log([gd, 'removed!']);\n",
       "            Plotly.purge(gd);\n",
       "            observer.disconnect();\n",
       "        }}\n",
       "}});\n",
       "\n",
       "// Listen for the removal of the full notebook cells\n",
       "var notebookContainer = gd.closest('#notebook-container');\n",
       "if (notebookContainer) {{\n",
       "    x.observe(notebookContainer, {childList: true});\n",
       "}}\n",
       "\n",
       "// Listen for the clearing of the current output cell\n",
       "var outputEl = gd.closest('.output');\n",
       "if (outputEl) {{\n",
       "    x.observe(outputEl, {childList: true});\n",
       "}}\n",
       "\n",
       "                        })\n",
       "                };\n",
       "                });\n",
       "            </script>\n",
       "        </div>"
      ]
     },
     "metadata": {},
     "output_type": "display_data"
    }
   ],
   "source": [
    "best10_wk=top_wk.groupby('season')[['fielder','Stumping_Wickets','bowling_team']].apply(top,n=2,column='Stumping_Wickets')\\\n",
    ".reset_index().drop('level_1',axis=1)\n",
    "data_best10_wk= [go.Scatter(x= best10_wk['season']+' : '+best10_wk['fielder'],\n",
    "                y= best10_wk['Stumping_Wickets'],\n",
    "                text=best10_wk['Stumping_Wickets'],textfont=dict(size=20,color ='black'),textposition='middle center',\n",
    "                mode='markers+text',\n",
    "                marker =dict(size=best10_wk['Stumping_Wickets']*6,\n",
    "                color= best10_wk['Stumping_Wickets'],)\n",
    "               )]\n",
    "layout_best10_wk = go.Layout(title =dict(text ='Highest Number of Stumping by Wicket-Keepers in all IPL Season', \n",
    "                                         font = {'size': 20,'color':'black'}),\n",
    "                             yaxis =dict(title_text = \"Number of Stumpings\",\n",
    "                                         title_font = {'size': 20,'color':'black'})\n",
    "                            )\n",
    "fig_best10_wk = go.Figure(data=data_best10_wk,layout=layout_best10_wk)\n",
    "fig_best10_wk.show()"
   ]
  },
  {
   "cell_type": "markdown",
   "metadata": {},
   "source": [
    "Findings :  \n",
    "            1. MS Dhoni, WP Saha & RV Uthappa are the most dependable wicket keeprers.\n",
    "            2. RV Uthappa has done higher stumping more times\n",
    "            3. Higest Stumping was done by Gilchrist.\n",
    "            "
   ]
  },
  {
   "cell_type": "code",
   "execution_count": 32,
   "metadata": {},
   "outputs": [
    {
     "data": {
      "application/vnd.jupyter.widget-view+json": {
       "model_id": "82ab7ce022ee4cf39542bb1c223d83d1",
       "version_major": 2,
       "version_minor": 0
      },
      "text/plain": [
       "interactive(children=(Dropdown(description='x', options=('2008', '2009', '2010', '2011', '2012', '2013', '2014…"
      ]
     },
     "metadata": {},
     "output_type": "display_data"
    }
   ],
   "source": [
    "best5_wk_season=top_wk.groupby('season')[['fielder','Stumping_Wickets','bowling_team']].apply(top,n=5,column='Stumping_Wickets')\\\n",
    ".reset_index().drop('level_1',axis=1).set_index('season')\n",
    "@interact\n",
    "def top5_wk_season(x=list(best5_wk_season.index.unique())):\n",
    "    data_best5_wk_season= [go.Scatter(x= x+' : '+ best5_wk_season['fielder'].xs(x,axis=0),\n",
    "                y= best5_wk_season['Stumping_Wickets'].xs(x,axis=0),\n",
    "                text=best5_wk_season['bowling_team'].xs(x,axis=0),\n",
    "                mode='markers',\n",
    "                marker =dict(size=best5_wk_season['Stumping_Wickets'].xs(x,axis=0)*10,\n",
    "                color= best5_wk_season['Stumping_Wickets'].xs(x,axis=0),\n",
    "                symbol='star',\n",
    "                line ={'width':2})\n",
    "               )]\n",
    "    layout_best5_wk_season =  go.Layout(title ='Highest wickets Stumped by Wicket-Keepers in {} IPL Season'.format(x))\n",
    "    fig_best5_wk_season =go.Figure(data=data_best5_wk_season,layout=layout_best5_wk_season)\n",
    "    fig_best5_wk_season.show()"
   ]
  },
  {
   "cell_type": "markdown",
   "metadata": {},
   "source": [
    "Findings:Almost in every altername year below names have appeared in lsit of Top wicket Keeprs\n",
    "        \n",
    "        1.Karthik: 2008,2009,2010,2013,,2015,2016,2018\n",
    "        2.Saha:    2018,2010,2014,2015,,2016,2017\n",
    "        3.Dhoni:   2009,2010,2011,2013,2015,,2016,2017,2018\n",
    "        4.Uthapa:  2011,2012,2014,2015,,2016,2017\n",
    "        5.Gilcrist:2010,2011\n",
    "        6.McCullum:2012"
   ]
  },
  {
   "cell_type": "markdown",
   "metadata": {},
   "source": [
    "# 4.2 # Who are the best fielders of all IPL season & top 5 in each seasons?"
   ]
  },
  {
   "cell_type": "code",
   "execution_count": 33,
   "metadata": {},
   "outputs": [
    {
     "data": {
      "text/html": [
       "<div>\n",
       "<style scoped>\n",
       "    .dataframe tbody tr th:only-of-type {\n",
       "        vertical-align: middle;\n",
       "    }\n",
       "\n",
       "    .dataframe tbody tr th {\n",
       "        vertical-align: top;\n",
       "    }\n",
       "\n",
       "    .dataframe thead th {\n",
       "        text-align: right;\n",
       "    }\n",
       "</style>\n",
       "<table border=\"1\" class=\"dataframe\">\n",
       "  <thead>\n",
       "    <tr style=\"text-align: right;\">\n",
       "      <th></th>\n",
       "      <th>season</th>\n",
       "      <th>fielder</th>\n",
       "      <th>bowling_team</th>\n",
       "      <th>Value</th>\n",
       "    </tr>\n",
       "  </thead>\n",
       "  <tbody>\n",
       "    <tr>\n",
       "      <th>0</th>\n",
       "      <td>2008</td>\n",
       "      <td>A Chopra</td>\n",
       "      <td>Kolkata Knight Riders</td>\n",
       "      <td>2</td>\n",
       "    </tr>\n",
       "    <tr>\n",
       "      <th>1</th>\n",
       "      <td>2008</td>\n",
       "      <td>A Kumble</td>\n",
       "      <td>Royal Challengers Bangalore</td>\n",
       "      <td>3</td>\n",
       "    </tr>\n",
       "    <tr>\n",
       "      <th>2</th>\n",
       "      <td>2008</td>\n",
       "      <td>A Mukund</td>\n",
       "      <td>Chennai Super Kings</td>\n",
       "      <td>3</td>\n",
       "    </tr>\n",
       "    <tr>\n",
       "      <th>3</th>\n",
       "      <td>2008</td>\n",
       "      <td>A Nehra</td>\n",
       "      <td>Mumbai Indians</td>\n",
       "      <td>7</td>\n",
       "    </tr>\n",
       "    <tr>\n",
       "      <th>4</th>\n",
       "      <td>2008</td>\n",
       "      <td>A Symonds</td>\n",
       "      <td>Sunrisers Hyderabad</td>\n",
       "      <td>3</td>\n",
       "    </tr>\n",
       "    <tr>\n",
       "      <th>...</th>\n",
       "      <td>...</td>\n",
       "      <td>...</td>\n",
       "      <td>...</td>\n",
       "      <td>...</td>\n",
       "    </tr>\n",
       "    <tr>\n",
       "      <th>1466</th>\n",
       "      <td>2018</td>\n",
       "      <td>V Shankar</td>\n",
       "      <td>Delhi Daredevils</td>\n",
       "      <td>7</td>\n",
       "    </tr>\n",
       "    <tr>\n",
       "      <th>1467</th>\n",
       "      <td>2018</td>\n",
       "      <td>WP Saha</td>\n",
       "      <td>Sunrisers Hyderabad</td>\n",
       "      <td>6</td>\n",
       "    </tr>\n",
       "    <tr>\n",
       "      <th>1468</th>\n",
       "      <td>2018</td>\n",
       "      <td>YK Pathan</td>\n",
       "      <td>Sunrisers Hyderabad</td>\n",
       "      <td>4</td>\n",
       "    </tr>\n",
       "    <tr>\n",
       "      <th>1469</th>\n",
       "      <td>2018</td>\n",
       "      <td>YS Chahal</td>\n",
       "      <td>Royal Challengers Bangalore</td>\n",
       "      <td>2</td>\n",
       "    </tr>\n",
       "    <tr>\n",
       "      <th>1470</th>\n",
       "      <td>2018</td>\n",
       "      <td>Yuvraj Singh</td>\n",
       "      <td>Kings XI Punjab</td>\n",
       "      <td>1</td>\n",
       "    </tr>\n",
       "  </tbody>\n",
       "</table>\n",
       "<p>1471 rows × 4 columns</p>\n",
       "</div>"
      ],
      "text/plain": [
       "     season       fielder                 bowling_team  Value\n",
       "0      2008      A Chopra        Kolkata Knight Riders      2\n",
       "1      2008      A Kumble  Royal Challengers Bangalore      3\n",
       "2      2008      A Mukund          Chennai Super Kings      3\n",
       "3      2008       A Nehra               Mumbai Indians      7\n",
       "4      2008     A Symonds          Sunrisers Hyderabad      3\n",
       "...     ...           ...                          ...    ...\n",
       "1466   2018     V Shankar             Delhi Daredevils      7\n",
       "1467   2018       WP Saha          Sunrisers Hyderabad      6\n",
       "1468   2018     YK Pathan          Sunrisers Hyderabad      4\n",
       "1469   2018     YS Chahal  Royal Challengers Bangalore      2\n",
       "1470   2018  Yuvraj Singh              Kings XI Punjab      1\n",
       "\n",
       "[1471 rows x 4 columns]"
      ]
     },
     "execution_count": 33,
     "metadata": {},
     "output_type": "execute_result"
    }
   ],
   "source": [
    "top_fldr= ipldf[['season','bowling_team','fielder','Value']]\\\n",
    "[\n",
    " (ipldf['dismissal_kind']== 'run out') |\n",
    " (ipldf['dismissal_kind']== 'caught')  |\n",
    " (ipldf['dismissal_kind']== 'caught and bowled')\n",
    "].\\\n",
    "groupby(['season','fielder','bowling_team']).sum().reset_index()\n",
    "top_fldr"
   ]
  },
  {
   "cell_type": "code",
   "execution_count": 34,
   "metadata": {},
   "outputs": [
    {
     "data": {
      "application/vnd.plotly.v1+json": {
       "config": {
        "plotlyServerURL": "https://plot.ly"
       },
       "data": [
        {
         "marker": {
          "color": [
           12,
           12,
           15,
           15,
           13,
           13,
           13,
           17,
           15,
           15,
           15,
           17,
           14,
           14,
           15,
           17,
           19,
           19,
           13,
           15,
           13,
           15
          ],
          "size": [
           24,
           24,
           30,
           30,
           26,
           26,
           26,
           34,
           30,
           30,
           30,
           34,
           28,
           28,
           30,
           34,
           38,
           38,
           26,
           30,
           26,
           30
          ],
          "symbol": "star"
         },
         "mode": "markers+text",
         "text": [
          12,
          12,
          15,
          15,
          13,
          13,
          13,
          17,
          15,
          15,
          15,
          17,
          14,
          14,
          15,
          17,
          19,
          19,
          13,
          15,
          13,
          15
         ],
         "textposition": "top left",
         "type": "scatter",
         "x": [
          "2008 : SK Raina",
          "2008 : YV Takawale",
          "2009 : AB de Villiers",
          "2009 : KD Karthik",
          "2010 : SK Raina",
          "2010 : M Vijay",
          "2011 : RV Uthappa",
          "2011 : KC Sangakkara",
          "2012 : NV Ojha",
          "2012 : SPD Smith",
          "2013 : SV Samson",
          "2013 : MS Dhoni",
          "2014 : DA Miller",
          "2014 : F du Plessis",
          "2015 : RA Jadeja",
          "2015 : KD Karthik",
          "2016 : AB de Villiers",
          "2016 : NV Ojha",
          "2017 : HH Pandya",
          "2017 : KA Pollard",
          "2018 : MS Dhoni",
          "2018 : KD Karthik"
         ],
         "y": [
          12,
          12,
          15,
          15,
          13,
          13,
          13,
          17,
          15,
          15,
          15,
          17,
          14,
          14,
          15,
          17,
          19,
          19,
          13,
          15,
          13,
          15
         ]
        }
       ],
       "layout": {
        "template": {
         "data": {
          "bar": [
           {
            "error_x": {
             "color": "#2a3f5f"
            },
            "error_y": {
             "color": "#2a3f5f"
            },
            "marker": {
             "line": {
              "color": "#E5ECF6",
              "width": 0.5
             }
            },
            "type": "bar"
           }
          ],
          "barpolar": [
           {
            "marker": {
             "line": {
              "color": "#E5ECF6",
              "width": 0.5
             }
            },
            "type": "barpolar"
           }
          ],
          "carpet": [
           {
            "aaxis": {
             "endlinecolor": "#2a3f5f",
             "gridcolor": "white",
             "linecolor": "white",
             "minorgridcolor": "white",
             "startlinecolor": "#2a3f5f"
            },
            "baxis": {
             "endlinecolor": "#2a3f5f",
             "gridcolor": "white",
             "linecolor": "white",
             "minorgridcolor": "white",
             "startlinecolor": "#2a3f5f"
            },
            "type": "carpet"
           }
          ],
          "choropleth": [
           {
            "colorbar": {
             "outlinewidth": 0,
             "ticks": ""
            },
            "type": "choropleth"
           }
          ],
          "contour": [
           {
            "colorbar": {
             "outlinewidth": 0,
             "ticks": ""
            },
            "colorscale": [
             [
              0,
              "#0d0887"
             ],
             [
              0.1111111111111111,
              "#46039f"
             ],
             [
              0.2222222222222222,
              "#7201a8"
             ],
             [
              0.3333333333333333,
              "#9c179e"
             ],
             [
              0.4444444444444444,
              "#bd3786"
             ],
             [
              0.5555555555555556,
              "#d8576b"
             ],
             [
              0.6666666666666666,
              "#ed7953"
             ],
             [
              0.7777777777777778,
              "#fb9f3a"
             ],
             [
              0.8888888888888888,
              "#fdca26"
             ],
             [
              1,
              "#f0f921"
             ]
            ],
            "type": "contour"
           }
          ],
          "contourcarpet": [
           {
            "colorbar": {
             "outlinewidth": 0,
             "ticks": ""
            },
            "type": "contourcarpet"
           }
          ],
          "heatmap": [
           {
            "colorbar": {
             "outlinewidth": 0,
             "ticks": ""
            },
            "colorscale": [
             [
              0,
              "#0d0887"
             ],
             [
              0.1111111111111111,
              "#46039f"
             ],
             [
              0.2222222222222222,
              "#7201a8"
             ],
             [
              0.3333333333333333,
              "#9c179e"
             ],
             [
              0.4444444444444444,
              "#bd3786"
             ],
             [
              0.5555555555555556,
              "#d8576b"
             ],
             [
              0.6666666666666666,
              "#ed7953"
             ],
             [
              0.7777777777777778,
              "#fb9f3a"
             ],
             [
              0.8888888888888888,
              "#fdca26"
             ],
             [
              1,
              "#f0f921"
             ]
            ],
            "type": "heatmap"
           }
          ],
          "heatmapgl": [
           {
            "colorbar": {
             "outlinewidth": 0,
             "ticks": ""
            },
            "colorscale": [
             [
              0,
              "#0d0887"
             ],
             [
              0.1111111111111111,
              "#46039f"
             ],
             [
              0.2222222222222222,
              "#7201a8"
             ],
             [
              0.3333333333333333,
              "#9c179e"
             ],
             [
              0.4444444444444444,
              "#bd3786"
             ],
             [
              0.5555555555555556,
              "#d8576b"
             ],
             [
              0.6666666666666666,
              "#ed7953"
             ],
             [
              0.7777777777777778,
              "#fb9f3a"
             ],
             [
              0.8888888888888888,
              "#fdca26"
             ],
             [
              1,
              "#f0f921"
             ]
            ],
            "type": "heatmapgl"
           }
          ],
          "histogram": [
           {
            "marker": {
             "colorbar": {
              "outlinewidth": 0,
              "ticks": ""
             }
            },
            "type": "histogram"
           }
          ],
          "histogram2d": [
           {
            "colorbar": {
             "outlinewidth": 0,
             "ticks": ""
            },
            "colorscale": [
             [
              0,
              "#0d0887"
             ],
             [
              0.1111111111111111,
              "#46039f"
             ],
             [
              0.2222222222222222,
              "#7201a8"
             ],
             [
              0.3333333333333333,
              "#9c179e"
             ],
             [
              0.4444444444444444,
              "#bd3786"
             ],
             [
              0.5555555555555556,
              "#d8576b"
             ],
             [
              0.6666666666666666,
              "#ed7953"
             ],
             [
              0.7777777777777778,
              "#fb9f3a"
             ],
             [
              0.8888888888888888,
              "#fdca26"
             ],
             [
              1,
              "#f0f921"
             ]
            ],
            "type": "histogram2d"
           }
          ],
          "histogram2dcontour": [
           {
            "colorbar": {
             "outlinewidth": 0,
             "ticks": ""
            },
            "colorscale": [
             [
              0,
              "#0d0887"
             ],
             [
              0.1111111111111111,
              "#46039f"
             ],
             [
              0.2222222222222222,
              "#7201a8"
             ],
             [
              0.3333333333333333,
              "#9c179e"
             ],
             [
              0.4444444444444444,
              "#bd3786"
             ],
             [
              0.5555555555555556,
              "#d8576b"
             ],
             [
              0.6666666666666666,
              "#ed7953"
             ],
             [
              0.7777777777777778,
              "#fb9f3a"
             ],
             [
              0.8888888888888888,
              "#fdca26"
             ],
             [
              1,
              "#f0f921"
             ]
            ],
            "type": "histogram2dcontour"
           }
          ],
          "mesh3d": [
           {
            "colorbar": {
             "outlinewidth": 0,
             "ticks": ""
            },
            "type": "mesh3d"
           }
          ],
          "parcoords": [
           {
            "line": {
             "colorbar": {
              "outlinewidth": 0,
              "ticks": ""
             }
            },
            "type": "parcoords"
           }
          ],
          "pie": [
           {
            "automargin": true,
            "type": "pie"
           }
          ],
          "scatter": [
           {
            "marker": {
             "colorbar": {
              "outlinewidth": 0,
              "ticks": ""
             }
            },
            "type": "scatter"
           }
          ],
          "scatter3d": [
           {
            "line": {
             "colorbar": {
              "outlinewidth": 0,
              "ticks": ""
             }
            },
            "marker": {
             "colorbar": {
              "outlinewidth": 0,
              "ticks": ""
             }
            },
            "type": "scatter3d"
           }
          ],
          "scattercarpet": [
           {
            "marker": {
             "colorbar": {
              "outlinewidth": 0,
              "ticks": ""
             }
            },
            "type": "scattercarpet"
           }
          ],
          "scattergeo": [
           {
            "marker": {
             "colorbar": {
              "outlinewidth": 0,
              "ticks": ""
             }
            },
            "type": "scattergeo"
           }
          ],
          "scattergl": [
           {
            "marker": {
             "colorbar": {
              "outlinewidth": 0,
              "ticks": ""
             }
            },
            "type": "scattergl"
           }
          ],
          "scattermapbox": [
           {
            "marker": {
             "colorbar": {
              "outlinewidth": 0,
              "ticks": ""
             }
            },
            "type": "scattermapbox"
           }
          ],
          "scatterpolar": [
           {
            "marker": {
             "colorbar": {
              "outlinewidth": 0,
              "ticks": ""
             }
            },
            "type": "scatterpolar"
           }
          ],
          "scatterpolargl": [
           {
            "marker": {
             "colorbar": {
              "outlinewidth": 0,
              "ticks": ""
             }
            },
            "type": "scatterpolargl"
           }
          ],
          "scatterternary": [
           {
            "marker": {
             "colorbar": {
              "outlinewidth": 0,
              "ticks": ""
             }
            },
            "type": "scatterternary"
           }
          ],
          "surface": [
           {
            "colorbar": {
             "outlinewidth": 0,
             "ticks": ""
            },
            "colorscale": [
             [
              0,
              "#0d0887"
             ],
             [
              0.1111111111111111,
              "#46039f"
             ],
             [
              0.2222222222222222,
              "#7201a8"
             ],
             [
              0.3333333333333333,
              "#9c179e"
             ],
             [
              0.4444444444444444,
              "#bd3786"
             ],
             [
              0.5555555555555556,
              "#d8576b"
             ],
             [
              0.6666666666666666,
              "#ed7953"
             ],
             [
              0.7777777777777778,
              "#fb9f3a"
             ],
             [
              0.8888888888888888,
              "#fdca26"
             ],
             [
              1,
              "#f0f921"
             ]
            ],
            "type": "surface"
           }
          ],
          "table": [
           {
            "cells": {
             "fill": {
              "color": "#EBF0F8"
             },
             "line": {
              "color": "white"
             }
            },
            "header": {
             "fill": {
              "color": "#C8D4E3"
             },
             "line": {
              "color": "white"
             }
            },
            "type": "table"
           }
          ]
         },
         "layout": {
          "annotationdefaults": {
           "arrowcolor": "#2a3f5f",
           "arrowhead": 0,
           "arrowwidth": 1
          },
          "coloraxis": {
           "colorbar": {
            "outlinewidth": 0,
            "ticks": ""
           }
          },
          "colorscale": {
           "diverging": [
            [
             0,
             "#8e0152"
            ],
            [
             0.1,
             "#c51b7d"
            ],
            [
             0.2,
             "#de77ae"
            ],
            [
             0.3,
             "#f1b6da"
            ],
            [
             0.4,
             "#fde0ef"
            ],
            [
             0.5,
             "#f7f7f7"
            ],
            [
             0.6,
             "#e6f5d0"
            ],
            [
             0.7,
             "#b8e186"
            ],
            [
             0.8,
             "#7fbc41"
            ],
            [
             0.9,
             "#4d9221"
            ],
            [
             1,
             "#276419"
            ]
           ],
           "sequential": [
            [
             0,
             "#0d0887"
            ],
            [
             0.1111111111111111,
             "#46039f"
            ],
            [
             0.2222222222222222,
             "#7201a8"
            ],
            [
             0.3333333333333333,
             "#9c179e"
            ],
            [
             0.4444444444444444,
             "#bd3786"
            ],
            [
             0.5555555555555556,
             "#d8576b"
            ],
            [
             0.6666666666666666,
             "#ed7953"
            ],
            [
             0.7777777777777778,
             "#fb9f3a"
            ],
            [
             0.8888888888888888,
             "#fdca26"
            ],
            [
             1,
             "#f0f921"
            ]
           ],
           "sequentialminus": [
            [
             0,
             "#0d0887"
            ],
            [
             0.1111111111111111,
             "#46039f"
            ],
            [
             0.2222222222222222,
             "#7201a8"
            ],
            [
             0.3333333333333333,
             "#9c179e"
            ],
            [
             0.4444444444444444,
             "#bd3786"
            ],
            [
             0.5555555555555556,
             "#d8576b"
            ],
            [
             0.6666666666666666,
             "#ed7953"
            ],
            [
             0.7777777777777778,
             "#fb9f3a"
            ],
            [
             0.8888888888888888,
             "#fdca26"
            ],
            [
             1,
             "#f0f921"
            ]
           ]
          },
          "colorway": [
           "#636efa",
           "#EF553B",
           "#00cc96",
           "#ab63fa",
           "#FFA15A",
           "#19d3f3",
           "#FF6692",
           "#B6E880",
           "#FF97FF",
           "#FECB52"
          ],
          "font": {
           "color": "#2a3f5f"
          },
          "geo": {
           "bgcolor": "white",
           "lakecolor": "white",
           "landcolor": "#E5ECF6",
           "showlakes": true,
           "showland": true,
           "subunitcolor": "white"
          },
          "hoverlabel": {
           "align": "left"
          },
          "hovermode": "closest",
          "mapbox": {
           "style": "light"
          },
          "paper_bgcolor": "white",
          "plot_bgcolor": "#E5ECF6",
          "polar": {
           "angularaxis": {
            "gridcolor": "white",
            "linecolor": "white",
            "ticks": ""
           },
           "bgcolor": "#E5ECF6",
           "radialaxis": {
            "gridcolor": "white",
            "linecolor": "white",
            "ticks": ""
           }
          },
          "scene": {
           "xaxis": {
            "backgroundcolor": "#E5ECF6",
            "gridcolor": "white",
            "gridwidth": 2,
            "linecolor": "white",
            "showbackground": true,
            "ticks": "",
            "zerolinecolor": "white"
           },
           "yaxis": {
            "backgroundcolor": "#E5ECF6",
            "gridcolor": "white",
            "gridwidth": 2,
            "linecolor": "white",
            "showbackground": true,
            "ticks": "",
            "zerolinecolor": "white"
           },
           "zaxis": {
            "backgroundcolor": "#E5ECF6",
            "gridcolor": "white",
            "gridwidth": 2,
            "linecolor": "white",
            "showbackground": true,
            "ticks": "",
            "zerolinecolor": "white"
           }
          },
          "shapedefaults": {
           "line": {
            "color": "#2a3f5f"
           }
          },
          "ternary": {
           "aaxis": {
            "gridcolor": "white",
            "linecolor": "white",
            "ticks": ""
           },
           "baxis": {
            "gridcolor": "white",
            "linecolor": "white",
            "ticks": ""
           },
           "bgcolor": "#E5ECF6",
           "caxis": {
            "gridcolor": "white",
            "linecolor": "white",
            "ticks": ""
           }
          },
          "title": {
           "x": 0.05
          },
          "xaxis": {
           "automargin": true,
           "gridcolor": "white",
           "linecolor": "white",
           "ticks": "",
           "title": {
            "standoff": 15
           },
           "zerolinecolor": "white",
           "zerolinewidth": 2
          },
          "yaxis": {
           "automargin": true,
           "gridcolor": "white",
           "linecolor": "white",
           "ticks": "",
           "title": {
            "standoff": 15
           },
           "zerolinecolor": "white",
           "zerolinewidth": 2
          }
         }
        },
        "title": {
         "font": {
          "color": "black",
          "family": "Times New Roman",
          "size": 22
         },
         "text": "Top fielders in all IPL Season"
        },
        "yaxis": {
         "title": {
          "font": {
           "color": "black",
           "size": 20
          },
          "text": "Contribution in Wickets"
         }
        }
       }
      },
      "text/html": [
       "<div>\n",
       "        \n",
       "        \n",
       "            <div id=\"6fa01c37-857e-4a26-be9a-33a9e33048eb\" class=\"plotly-graph-div\" style=\"height:525px; width:100%;\"></div>\n",
       "            <script type=\"text/javascript\">\n",
       "                require([\"plotly\"], function(Plotly) {\n",
       "                    window.PLOTLYENV=window.PLOTLYENV || {};\n",
       "                    \n",
       "                if (document.getElementById(\"6fa01c37-857e-4a26-be9a-33a9e33048eb\")) {\n",
       "                    Plotly.newPlot(\n",
       "                        '6fa01c37-857e-4a26-be9a-33a9e33048eb',\n",
       "                        [{\"marker\": {\"color\": [12, 12, 15, 15, 13, 13, 13, 17, 15, 15, 15, 17, 14, 14, 15, 17, 19, 19, 13, 15, 13, 15], \"size\": [24, 24, 30, 30, 26, 26, 26, 34, 30, 30, 30, 34, 28, 28, 30, 34, 38, 38, 26, 30, 26, 30], \"symbol\": \"star\"}, \"mode\": \"markers+text\", \"text\": [12.0, 12.0, 15.0, 15.0, 13.0, 13.0, 13.0, 17.0, 15.0, 15.0, 15.0, 17.0, 14.0, 14.0, 15.0, 17.0, 19.0, 19.0, 13.0, 15.0, 13.0, 15.0], \"textposition\": \"top left\", \"type\": \"scatter\", \"x\": [\"2008 : SK Raina\", \"2008 : YV Takawale\", \"2009 : AB de Villiers\", \"2009 : KD Karthik\", \"2010 : SK Raina\", \"2010 : M Vijay\", \"2011 : RV Uthappa\", \"2011 : KC Sangakkara\", \"2012 : NV Ojha\", \"2012 : SPD Smith\", \"2013 : SV Samson\", \"2013 : MS Dhoni\", \"2014 : DA Miller\", \"2014 : F du Plessis\", \"2015 : RA Jadeja\", \"2015 : KD Karthik\", \"2016 : AB de Villiers\", \"2016 : NV Ojha\", \"2017 : HH Pandya\", \"2017 : KA Pollard\", \"2018 : MS Dhoni\", \"2018 : KD Karthik\"], \"y\": [12, 12, 15, 15, 13, 13, 13, 17, 15, 15, 15, 17, 14, 14, 15, 17, 19, 19, 13, 15, 13, 15]}],\n",
       "                        {\"template\": {\"data\": {\"bar\": [{\"error_x\": {\"color\": \"#2a3f5f\"}, \"error_y\": {\"color\": \"#2a3f5f\"}, \"marker\": {\"line\": {\"color\": \"#E5ECF6\", \"width\": 0.5}}, \"type\": \"bar\"}], \"barpolar\": [{\"marker\": {\"line\": {\"color\": \"#E5ECF6\", \"width\": 0.5}}, \"type\": \"barpolar\"}], \"carpet\": [{\"aaxis\": {\"endlinecolor\": \"#2a3f5f\", \"gridcolor\": \"white\", \"linecolor\": \"white\", \"minorgridcolor\": \"white\", \"startlinecolor\": \"#2a3f5f\"}, \"baxis\": {\"endlinecolor\": \"#2a3f5f\", \"gridcolor\": \"white\", \"linecolor\": \"white\", \"minorgridcolor\": \"white\", \"startlinecolor\": \"#2a3f5f\"}, \"type\": \"carpet\"}], \"choropleth\": [{\"colorbar\": {\"outlinewidth\": 0, \"ticks\": \"\"}, \"type\": \"choropleth\"}], \"contour\": [{\"colorbar\": {\"outlinewidth\": 0, \"ticks\": \"\"}, \"colorscale\": [[0.0, \"#0d0887\"], [0.1111111111111111, \"#46039f\"], [0.2222222222222222, \"#7201a8\"], [0.3333333333333333, \"#9c179e\"], [0.4444444444444444, \"#bd3786\"], [0.5555555555555556, \"#d8576b\"], [0.6666666666666666, \"#ed7953\"], [0.7777777777777778, \"#fb9f3a\"], [0.8888888888888888, \"#fdca26\"], [1.0, \"#f0f921\"]], \"type\": \"contour\"}], \"contourcarpet\": [{\"colorbar\": {\"outlinewidth\": 0, \"ticks\": \"\"}, \"type\": \"contourcarpet\"}], \"heatmap\": [{\"colorbar\": {\"outlinewidth\": 0, \"ticks\": \"\"}, \"colorscale\": [[0.0, \"#0d0887\"], [0.1111111111111111, \"#46039f\"], [0.2222222222222222, \"#7201a8\"], [0.3333333333333333, \"#9c179e\"], [0.4444444444444444, \"#bd3786\"], [0.5555555555555556, \"#d8576b\"], [0.6666666666666666, \"#ed7953\"], [0.7777777777777778, \"#fb9f3a\"], [0.8888888888888888, \"#fdca26\"], [1.0, \"#f0f921\"]], \"type\": \"heatmap\"}], \"heatmapgl\": [{\"colorbar\": {\"outlinewidth\": 0, \"ticks\": \"\"}, \"colorscale\": [[0.0, \"#0d0887\"], [0.1111111111111111, \"#46039f\"], [0.2222222222222222, \"#7201a8\"], [0.3333333333333333, \"#9c179e\"], [0.4444444444444444, \"#bd3786\"], [0.5555555555555556, \"#d8576b\"], [0.6666666666666666, \"#ed7953\"], [0.7777777777777778, \"#fb9f3a\"], [0.8888888888888888, \"#fdca26\"], [1.0, \"#f0f921\"]], \"type\": \"heatmapgl\"}], \"histogram\": [{\"marker\": {\"colorbar\": {\"outlinewidth\": 0, \"ticks\": \"\"}}, \"type\": \"histogram\"}], \"histogram2d\": [{\"colorbar\": {\"outlinewidth\": 0, \"ticks\": \"\"}, \"colorscale\": [[0.0, \"#0d0887\"], [0.1111111111111111, \"#46039f\"], [0.2222222222222222, \"#7201a8\"], [0.3333333333333333, \"#9c179e\"], [0.4444444444444444, \"#bd3786\"], [0.5555555555555556, \"#d8576b\"], [0.6666666666666666, \"#ed7953\"], [0.7777777777777778, \"#fb9f3a\"], [0.8888888888888888, \"#fdca26\"], [1.0, \"#f0f921\"]], \"type\": \"histogram2d\"}], \"histogram2dcontour\": [{\"colorbar\": {\"outlinewidth\": 0, \"ticks\": \"\"}, \"colorscale\": [[0.0, \"#0d0887\"], [0.1111111111111111, \"#46039f\"], [0.2222222222222222, \"#7201a8\"], [0.3333333333333333, \"#9c179e\"], [0.4444444444444444, \"#bd3786\"], [0.5555555555555556, \"#d8576b\"], [0.6666666666666666, \"#ed7953\"], [0.7777777777777778, \"#fb9f3a\"], [0.8888888888888888, \"#fdca26\"], [1.0, \"#f0f921\"]], \"type\": \"histogram2dcontour\"}], \"mesh3d\": [{\"colorbar\": {\"outlinewidth\": 0, \"ticks\": \"\"}, \"type\": \"mesh3d\"}], \"parcoords\": [{\"line\": {\"colorbar\": {\"outlinewidth\": 0, \"ticks\": \"\"}}, \"type\": \"parcoords\"}], \"pie\": [{\"automargin\": true, \"type\": \"pie\"}], \"scatter\": [{\"marker\": {\"colorbar\": {\"outlinewidth\": 0, \"ticks\": \"\"}}, \"type\": \"scatter\"}], \"scatter3d\": [{\"line\": {\"colorbar\": {\"outlinewidth\": 0, \"ticks\": \"\"}}, \"marker\": {\"colorbar\": {\"outlinewidth\": 0, \"ticks\": \"\"}}, \"type\": \"scatter3d\"}], \"scattercarpet\": [{\"marker\": {\"colorbar\": {\"outlinewidth\": 0, \"ticks\": \"\"}}, \"type\": \"scattercarpet\"}], \"scattergeo\": [{\"marker\": {\"colorbar\": {\"outlinewidth\": 0, \"ticks\": \"\"}}, \"type\": \"scattergeo\"}], \"scattergl\": [{\"marker\": {\"colorbar\": {\"outlinewidth\": 0, \"ticks\": \"\"}}, \"type\": \"scattergl\"}], \"scattermapbox\": [{\"marker\": {\"colorbar\": {\"outlinewidth\": 0, \"ticks\": \"\"}}, \"type\": \"scattermapbox\"}], \"scatterpolar\": [{\"marker\": {\"colorbar\": {\"outlinewidth\": 0, \"ticks\": \"\"}}, \"type\": \"scatterpolar\"}], \"scatterpolargl\": [{\"marker\": {\"colorbar\": {\"outlinewidth\": 0, \"ticks\": \"\"}}, \"type\": \"scatterpolargl\"}], \"scatterternary\": [{\"marker\": {\"colorbar\": {\"outlinewidth\": 0, \"ticks\": \"\"}}, \"type\": \"scatterternary\"}], \"surface\": [{\"colorbar\": {\"outlinewidth\": 0, \"ticks\": \"\"}, \"colorscale\": [[0.0, \"#0d0887\"], [0.1111111111111111, \"#46039f\"], [0.2222222222222222, \"#7201a8\"], [0.3333333333333333, \"#9c179e\"], [0.4444444444444444, \"#bd3786\"], [0.5555555555555556, \"#d8576b\"], [0.6666666666666666, \"#ed7953\"], [0.7777777777777778, \"#fb9f3a\"], [0.8888888888888888, \"#fdca26\"], [1.0, \"#f0f921\"]], \"type\": \"surface\"}], \"table\": [{\"cells\": {\"fill\": {\"color\": \"#EBF0F8\"}, \"line\": {\"color\": \"white\"}}, \"header\": {\"fill\": {\"color\": \"#C8D4E3\"}, \"line\": {\"color\": \"white\"}}, \"type\": \"table\"}]}, \"layout\": {\"annotationdefaults\": {\"arrowcolor\": \"#2a3f5f\", \"arrowhead\": 0, \"arrowwidth\": 1}, \"coloraxis\": {\"colorbar\": {\"outlinewidth\": 0, \"ticks\": \"\"}}, \"colorscale\": {\"diverging\": [[0, \"#8e0152\"], [0.1, \"#c51b7d\"], [0.2, \"#de77ae\"], [0.3, \"#f1b6da\"], [0.4, \"#fde0ef\"], [0.5, \"#f7f7f7\"], [0.6, \"#e6f5d0\"], [0.7, \"#b8e186\"], [0.8, \"#7fbc41\"], [0.9, \"#4d9221\"], [1, \"#276419\"]], \"sequential\": [[0.0, \"#0d0887\"], [0.1111111111111111, \"#46039f\"], [0.2222222222222222, \"#7201a8\"], [0.3333333333333333, \"#9c179e\"], [0.4444444444444444, \"#bd3786\"], [0.5555555555555556, \"#d8576b\"], [0.6666666666666666, \"#ed7953\"], [0.7777777777777778, \"#fb9f3a\"], [0.8888888888888888, \"#fdca26\"], [1.0, \"#f0f921\"]], \"sequentialminus\": [[0.0, \"#0d0887\"], [0.1111111111111111, \"#46039f\"], [0.2222222222222222, \"#7201a8\"], [0.3333333333333333, \"#9c179e\"], [0.4444444444444444, \"#bd3786\"], [0.5555555555555556, \"#d8576b\"], [0.6666666666666666, \"#ed7953\"], [0.7777777777777778, \"#fb9f3a\"], [0.8888888888888888, \"#fdca26\"], [1.0, \"#f0f921\"]]}, \"colorway\": [\"#636efa\", \"#EF553B\", \"#00cc96\", \"#ab63fa\", \"#FFA15A\", \"#19d3f3\", \"#FF6692\", \"#B6E880\", \"#FF97FF\", \"#FECB52\"], \"font\": {\"color\": \"#2a3f5f\"}, \"geo\": {\"bgcolor\": \"white\", \"lakecolor\": \"white\", \"landcolor\": \"#E5ECF6\", \"showlakes\": true, \"showland\": true, \"subunitcolor\": \"white\"}, \"hoverlabel\": {\"align\": \"left\"}, \"hovermode\": \"closest\", \"mapbox\": {\"style\": \"light\"}, \"paper_bgcolor\": \"white\", \"plot_bgcolor\": \"#E5ECF6\", \"polar\": {\"angularaxis\": {\"gridcolor\": \"white\", \"linecolor\": \"white\", \"ticks\": \"\"}, \"bgcolor\": \"#E5ECF6\", \"radialaxis\": {\"gridcolor\": \"white\", \"linecolor\": \"white\", \"ticks\": \"\"}}, \"scene\": {\"xaxis\": {\"backgroundcolor\": \"#E5ECF6\", \"gridcolor\": \"white\", \"gridwidth\": 2, \"linecolor\": \"white\", \"showbackground\": true, \"ticks\": \"\", \"zerolinecolor\": \"white\"}, \"yaxis\": {\"backgroundcolor\": \"#E5ECF6\", \"gridcolor\": \"white\", \"gridwidth\": 2, \"linecolor\": \"white\", \"showbackground\": true, \"ticks\": \"\", \"zerolinecolor\": \"white\"}, \"zaxis\": {\"backgroundcolor\": \"#E5ECF6\", \"gridcolor\": \"white\", \"gridwidth\": 2, \"linecolor\": \"white\", \"showbackground\": true, \"ticks\": \"\", \"zerolinecolor\": \"white\"}}, \"shapedefaults\": {\"line\": {\"color\": \"#2a3f5f\"}}, \"ternary\": {\"aaxis\": {\"gridcolor\": \"white\", \"linecolor\": \"white\", \"ticks\": \"\"}, \"baxis\": {\"gridcolor\": \"white\", \"linecolor\": \"white\", \"ticks\": \"\"}, \"bgcolor\": \"#E5ECF6\", \"caxis\": {\"gridcolor\": \"white\", \"linecolor\": \"white\", \"ticks\": \"\"}}, \"title\": {\"x\": 0.05}, \"xaxis\": {\"automargin\": true, \"gridcolor\": \"white\", \"linecolor\": \"white\", \"ticks\": \"\", \"title\": {\"standoff\": 15}, \"zerolinecolor\": \"white\", \"zerolinewidth\": 2}, \"yaxis\": {\"automargin\": true, \"gridcolor\": \"white\", \"linecolor\": \"white\", \"ticks\": \"\", \"title\": {\"standoff\": 15}, \"zerolinecolor\": \"white\", \"zerolinewidth\": 2}}}, \"title\": {\"font\": {\"color\": \"black\", \"family\": \"Times New Roman\", \"size\": 22}, \"text\": \"Top fielders in all IPL Season\"}, \"yaxis\": {\"title\": {\"font\": {\"color\": \"black\", \"size\": 20}, \"text\": \"Contribution in Wickets\"}}},\n",
       "                        {\"responsive\": true}\n",
       "                    ).then(function(){\n",
       "                            \n",
       "var gd = document.getElementById('6fa01c37-857e-4a26-be9a-33a9e33048eb');\n",
       "var x = new MutationObserver(function (mutations, observer) {{\n",
       "        var display = window.getComputedStyle(gd).display;\n",
       "        if (!display || display === 'none') {{\n",
       "            console.log([gd, 'removed!']);\n",
       "            Plotly.purge(gd);\n",
       "            observer.disconnect();\n",
       "        }}\n",
       "}});\n",
       "\n",
       "// Listen for the removal of the full notebook cells\n",
       "var notebookContainer = gd.closest('#notebook-container');\n",
       "if (notebookContainer) {{\n",
       "    x.observe(notebookContainer, {childList: true});\n",
       "}}\n",
       "\n",
       "// Listen for the clearing of the current output cell\n",
       "var outputEl = gd.closest('.output');\n",
       "if (outputEl) {{\n",
       "    x.observe(outputEl, {childList: true});\n",
       "}}\n",
       "\n",
       "                        })\n",
       "                };\n",
       "                });\n",
       "            </script>\n",
       "        </div>"
      ]
     },
     "metadata": {},
     "output_type": "display_data"
    }
   ],
   "source": [
    "best10_fldr=top_fldr.groupby('season')[['fielder','Value','bowling_team']].apply(top,n=2,column='Value')\\\n",
    ".reset_index().drop('level_1',axis=1)\n",
    "data_best10_wk= [go.Scatter(x= best10_fldr['season'] + ' : '+best10_fldr['fielder'],\n",
    "                y= best10_fldr['Value'],\n",
    "                text=best10_fldr['Value'],\n",
    "                mode='markers+text',textposition = 'top left',\n",
    "                marker =dict(size=best10_fldr['Value']*2,\n",
    "                color= best10_fldr['Value'],symbol='star')\n",
    "               )]\n",
    "layout_best10_fldr = go.Layout(title =dict(text ='Top fielders in all IPL Season', \n",
    "                                         font = {'size': 22,'color':'black','family':\"Times New Roman\"}),\n",
    "                               yaxis =dict(title_text = 'Contribution in Wickets',\n",
    "                                         title_font = {'size': 20,'color':'black'})\n",
    "                            )\n",
    "fig_best10_wk =go.Figure(data=data_best10_wk,layout=layout_best10_fldr)\n",
    "fig_best10_wk.show()"
   ]
  },
  {
   "cell_type": "markdown",
   "metadata": {},
   "source": [
    "    Findings:\n",
    "            1.KD Karthik, NV Ojha, AB de Villiers, Dhoni are most consistent fielders in almost all IPL season.\n",
    "            "
   ]
  },
  {
   "cell_type": "code",
   "execution_count": 35,
   "metadata": {},
   "outputs": [
    {
     "data": {
      "application/vnd.jupyter.widget-view+json": {
       "model_id": "7fc4d2374eda4339a68a82bb663cf6ef",
       "version_major": 2,
       "version_minor": 0
      },
      "text/plain": [
       "interactive(children=(Dropdown(description='x', options=('2008', '2009', '2010', '2011', '2012', '2013', '2014…"
      ]
     },
     "metadata": {},
     "output_type": "display_data"
    }
   ],
   "source": [
    "best5_fldr_season=top_fldr.groupby('season')[['fielder','Value','bowling_team']].apply(top,n=5,column='Value')\\\n",
    ".reset_index().drop('level_1',axis=1).set_index('season')\n",
    "@interact\n",
    "def top5_fldr_season(x=list(best5_fldr_season.index.unique())):\n",
    "    data_best5_fldr_season= [go.Scatter(x= x +' : '+ best5_fldr_season['fielder'].xs(x,axis=0),\n",
    "                y= best5_fldr_season['Value'].xs(x,axis=0),\n",
    "                text=best5_fldr_season['bowling_team'].xs(x,axis=0),\n",
    "                mode='markers',\n",
    "                marker =dict(size=best5_fldr_season['Value'].xs(x,axis=0)*5,\n",
    "                color= best5_fldr_season['Value'].xs(x,axis=0),\n",
    "                symbol='pentagon',\n",
    "                line ={'width':4})\n",
    "               )]\n",
    "    layout_best5_fldr_season =  go.Layout(title ='Top 5 fielders in {} IPL Season'.format(x))\n",
    "    fig_best5_wk_season =go.Figure(data=data_best5_fldr_season,layout=layout_best5_fldr_season)\n",
    "    fig_best5_wk_season.show()"
   ]
  },
  {
   "cell_type": "markdown",
   "metadata": {},
   "source": [
    "      Findings: Below list of players have featured maximum times in each year.\n",
    "                  1. R Jadeja: 2008,2015,2018\n",
    "                  2. KD Karthik: 2009,2015,2018\n",
    "                  3. Girchirst: 2009,2010\n",
    "                  4. Raina : 2008,2009,2010,2013,2014\n",
    "                  5. de Villiers : 2009,2011,2016\n",
    "                  6. DHoni: 2012,2013,2017,2018\n",
    "                  7. NV Ojha: 2012,2016\n",
    "                  \n",
    "      "
   ]
  },
  {
   "cell_type": "markdown",
   "metadata": {},
   "source": [
    "# 4.3 Who are the best bolwers of all time, also who are top 5 bowlers in each season?"
   ]
  },
  {
   "cell_type": "code",
   "execution_count": 38,
   "metadata": {},
   "outputs": [],
   "source": [
    "# We need to get the count of runs conceded by bowler\n",
    "ipldf['bowleruns_conceded'] = ipldf['wide_runs']+ipldf['noball_runs']+ipldf['batsman_runs']"
   ]
  },
  {
   "cell_type": "code",
   "execution_count": 39,
   "metadata": {},
   "outputs": [
    {
     "data": {
      "text/html": [
       "<div>\n",
       "<style scoped>\n",
       "    .dataframe tbody tr th:only-of-type {\n",
       "        vertical-align: middle;\n",
       "    }\n",
       "\n",
       "    .dataframe tbody tr th {\n",
       "        vertical-align: top;\n",
       "    }\n",
       "\n",
       "    .dataframe thead th {\n",
       "        text-align: right;\n",
       "    }\n",
       "</style>\n",
       "<table border=\"1\" class=\"dataframe\">\n",
       "  <thead>\n",
       "    <tr style=\"text-align: right;\">\n",
       "      <th></th>\n",
       "      <th></th>\n",
       "      <th></th>\n",
       "      <th>over</th>\n",
       "    </tr>\n",
       "    <tr>\n",
       "      <th>season</th>\n",
       "      <th>bowler</th>\n",
       "      <th>bowling_team</th>\n",
       "      <th></th>\n",
       "    </tr>\n",
       "  </thead>\n",
       "  <tbody>\n",
       "    <tr>\n",
       "      <th rowspan=\"5\" valign=\"top\">2008</th>\n",
       "      <th>A Kumble</th>\n",
       "      <th>Royal Challengers Bangalore</th>\n",
       "      <td>39</td>\n",
       "    </tr>\n",
       "    <tr>\n",
       "      <th>A Mishra</th>\n",
       "      <th>Delhi Daredevils</th>\n",
       "      <td>20</td>\n",
       "    </tr>\n",
       "    <tr>\n",
       "      <th>A Nehra</th>\n",
       "      <th>Mumbai Indians</th>\n",
       "      <td>45</td>\n",
       "    </tr>\n",
       "    <tr>\n",
       "      <th>A Nel</th>\n",
       "      <th>Mumbai Indians</th>\n",
       "      <td>3</td>\n",
       "    </tr>\n",
       "    <tr>\n",
       "      <th>A Symonds</th>\n",
       "      <th>Sunrisers Hyderabad</th>\n",
       "      <td>7</td>\n",
       "    </tr>\n",
       "    <tr>\n",
       "      <th>...</th>\n",
       "      <th>...</th>\n",
       "      <th>...</th>\n",
       "      <td>...</td>\n",
       "    </tr>\n",
       "    <tr>\n",
       "      <th rowspan=\"5\" valign=\"top\">2018</th>\n",
       "      <th>V Shankar</th>\n",
       "      <th>Delhi Daredevils</th>\n",
       "      <td>5</td>\n",
       "    </tr>\n",
       "    <tr>\n",
       "      <th>Washington Sundar</th>\n",
       "      <th>Royal Challengers Bangalore</th>\n",
       "      <td>20</td>\n",
       "    </tr>\n",
       "    <tr>\n",
       "      <th>YK Pathan</th>\n",
       "      <th>Sunrisers Hyderabad</th>\n",
       "      <td>2</td>\n",
       "    </tr>\n",
       "    <tr>\n",
       "      <th>YS Chahal</th>\n",
       "      <th>Royal Challengers Bangalore</th>\n",
       "      <td>50</td>\n",
       "    </tr>\n",
       "    <tr>\n",
       "      <th>Yuvraj Singh</th>\n",
       "      <th>Kings XI Punjab</th>\n",
       "      <td>2</td>\n",
       "    </tr>\n",
       "  </tbody>\n",
       "</table>\n",
       "<p>1237 rows × 1 columns</p>\n",
       "</div>"
      ],
      "text/plain": [
       "                                                      over\n",
       "season bowler            bowling_team                     \n",
       "2008   A Kumble          Royal Challengers Bangalore    39\n",
       "       A Mishra          Delhi Daredevils               20\n",
       "       A Nehra           Mumbai Indians                 45\n",
       "       A Nel             Mumbai Indians                  3\n",
       "       A Symonds         Sunrisers Hyderabad             7\n",
       "...                                                    ...\n",
       "2018   V Shankar         Delhi Daredevils                5\n",
       "       Washington Sundar Royal Challengers Bangalore    20\n",
       "       YK Pathan         Sunrisers Hyderabad             2\n",
       "       YS Chahal         Royal Challengers Bangalore    50\n",
       "       Yuvraj Singh      Kings XI Punjab                 2\n",
       "\n",
       "[1237 rows x 1 columns]"
      ]
     },
     "execution_count": 39,
     "metadata": {},
     "output_type": "execute_result"
    }
   ],
   "source": [
    "bowlerover_matchid= ipldf.groupby(['season','match_id','bowler','bowling_team'])['over']\\\n",
    ".nunique().reset_index()\n",
    "bowler_overdelivered =bowlerover_matchid.groupby(['season','bowler','bowling_team']).sum()\n",
    "bowler_overdelivered"
   ]
  },
  {
   "cell_type": "code",
   "execution_count": 40,
   "metadata": {},
   "outputs": [
    {
     "data": {
      "text/html": [
       "<div>\n",
       "<style scoped>\n",
       "    .dataframe tbody tr th:only-of-type {\n",
       "        vertical-align: middle;\n",
       "    }\n",
       "\n",
       "    .dataframe tbody tr th {\n",
       "        vertical-align: top;\n",
       "    }\n",
       "\n",
       "    .dataframe thead th {\n",
       "        text-align: right;\n",
       "    }\n",
       "</style>\n",
       "<table border=\"1\" class=\"dataframe\">\n",
       "  <thead>\n",
       "    <tr style=\"text-align: right;\">\n",
       "      <th></th>\n",
       "      <th></th>\n",
       "      <th></th>\n",
       "      <th>bowleruns_conceded</th>\n",
       "    </tr>\n",
       "    <tr>\n",
       "      <th>season</th>\n",
       "      <th>bowler</th>\n",
       "      <th>bowling_team</th>\n",
       "      <th></th>\n",
       "    </tr>\n",
       "  </thead>\n",
       "  <tbody>\n",
       "    <tr>\n",
       "      <th rowspan=\"5\" valign=\"top\">2008</th>\n",
       "      <th>A Kumble</th>\n",
       "      <th>Royal Challengers Bangalore</th>\n",
       "      <td>304</td>\n",
       "    </tr>\n",
       "    <tr>\n",
       "      <th>A Mishra</th>\n",
       "      <th>Delhi Daredevils</th>\n",
       "      <td>138</td>\n",
       "    </tr>\n",
       "    <tr>\n",
       "      <th>A Nehra</th>\n",
       "      <th>Mumbai Indians</th>\n",
       "      <td>348</td>\n",
       "    </tr>\n",
       "    <tr>\n",
       "      <th>A Nel</th>\n",
       "      <th>Mumbai Indians</th>\n",
       "      <td>31</td>\n",
       "    </tr>\n",
       "    <tr>\n",
       "      <th>A Symonds</th>\n",
       "      <th>Sunrisers Hyderabad</th>\n",
       "      <td>101</td>\n",
       "    </tr>\n",
       "    <tr>\n",
       "      <th>...</th>\n",
       "      <th>...</th>\n",
       "      <th>...</th>\n",
       "      <td>...</td>\n",
       "    </tr>\n",
       "    <tr>\n",
       "      <th rowspan=\"5\" valign=\"top\">2018</th>\n",
       "      <th>V Shankar</th>\n",
       "      <th>Delhi Daredevils</th>\n",
       "      <td>62</td>\n",
       "    </tr>\n",
       "    <tr>\n",
       "      <th>Washington Sundar</th>\n",
       "      <th>Royal Challengers Bangalore</th>\n",
       "      <td>200</td>\n",
       "    </tr>\n",
       "    <tr>\n",
       "      <th>YK Pathan</th>\n",
       "      <th>Sunrisers Hyderabad</th>\n",
       "      <td>14</td>\n",
       "    </tr>\n",
       "    <tr>\n",
       "      <th>YS Chahal</th>\n",
       "      <th>Royal Challengers Bangalore</th>\n",
       "      <td>391</td>\n",
       "    </tr>\n",
       "    <tr>\n",
       "      <th>Yuvraj Singh</th>\n",
       "      <th>Kings XI Punjab</th>\n",
       "      <td>24</td>\n",
       "    </tr>\n",
       "  </tbody>\n",
       "</table>\n",
       "<p>1237 rows × 1 columns</p>\n",
       "</div>"
      ],
      "text/plain": [
       "                                                      bowleruns_conceded\n",
       "season bowler            bowling_team                                   \n",
       "2008   A Kumble          Royal Challengers Bangalore                 304\n",
       "       A Mishra          Delhi Daredevils                            138\n",
       "       A Nehra           Mumbai Indians                              348\n",
       "       A Nel             Mumbai Indians                               31\n",
       "       A Symonds         Sunrisers Hyderabad                         101\n",
       "...                                                                  ...\n",
       "2018   V Shankar         Delhi Daredevils                             62\n",
       "       Washington Sundar Royal Challengers Bangalore                 200\n",
       "       YK Pathan         Sunrisers Hyderabad                          14\n",
       "       YS Chahal         Royal Challengers Bangalore                 391\n",
       "       Yuvraj Singh      Kings XI Punjab                              24\n",
       "\n",
       "[1237 rows x 1 columns]"
      ]
     },
     "execution_count": 40,
     "metadata": {},
     "output_type": "execute_result"
    }
   ],
   "source": [
    "# Total Runs conceded by bowler in each Season\n",
    "bolwers_run_conceded=ipldf[['season','bowler','bowling_team','bowleruns_conceded']].groupby(['season', 'bowler','bowling_team'])\\\n",
    ".sum()\n",
    "bolwers_run_conceded"
   ]
  },
  {
   "cell_type": "code",
   "execution_count": 41,
   "metadata": {},
   "outputs": [
    {
     "data": {
      "text/html": [
       "<div>\n",
       "<style scoped>\n",
       "    .dataframe tbody tr th:only-of-type {\n",
       "        vertical-align: middle;\n",
       "    }\n",
       "\n",
       "    .dataframe tbody tr th {\n",
       "        vertical-align: top;\n",
       "    }\n",
       "\n",
       "    .dataframe thead th {\n",
       "        text-align: right;\n",
       "    }\n",
       "</style>\n",
       "<table border=\"1\" class=\"dataframe\">\n",
       "  <thead>\n",
       "    <tr style=\"text-align: right;\">\n",
       "      <th></th>\n",
       "      <th></th>\n",
       "      <th></th>\n",
       "      <th>Wickets_By_Bowler</th>\n",
       "    </tr>\n",
       "    <tr>\n",
       "      <th>season</th>\n",
       "      <th>bowler</th>\n",
       "      <th>bowling_team</th>\n",
       "      <th></th>\n",
       "    </tr>\n",
       "  </thead>\n",
       "  <tbody>\n",
       "    <tr>\n",
       "      <th rowspan=\"5\" valign=\"top\">2008</th>\n",
       "      <th>A Kumble</th>\n",
       "      <th>Royal Challengers Bangalore</th>\n",
       "      <td>5</td>\n",
       "    </tr>\n",
       "    <tr>\n",
       "      <th>A Mishra</th>\n",
       "      <th>Delhi Daredevils</th>\n",
       "      <td>9</td>\n",
       "    </tr>\n",
       "    <tr>\n",
       "      <th>A Nehra</th>\n",
       "      <th>Mumbai Indians</th>\n",
       "      <td>12</td>\n",
       "    </tr>\n",
       "    <tr>\n",
       "      <th>A Nel</th>\n",
       "      <th>Mumbai Indians</th>\n",
       "      <td>1</td>\n",
       "    </tr>\n",
       "    <tr>\n",
       "      <th>AA Noffke</th>\n",
       "      <th>Royal Challengers Bangalore</th>\n",
       "      <td>1</td>\n",
       "    </tr>\n",
       "    <tr>\n",
       "      <th>...</th>\n",
       "      <th>...</th>\n",
       "      <th>...</th>\n",
       "      <td>...</td>\n",
       "    </tr>\n",
       "    <tr>\n",
       "      <th rowspan=\"5\" valign=\"top\">2018</th>\n",
       "      <th>UT Yadav</th>\n",
       "      <th>Royal Challengers Bangalore</th>\n",
       "      <td>20</td>\n",
       "    </tr>\n",
       "    <tr>\n",
       "      <th>V Shankar</th>\n",
       "      <th>Delhi Daredevils</th>\n",
       "      <td>1</td>\n",
       "    </tr>\n",
       "    <tr>\n",
       "      <th>Washington Sundar</th>\n",
       "      <th>Royal Challengers Bangalore</th>\n",
       "      <td>3</td>\n",
       "    </tr>\n",
       "    <tr>\n",
       "      <th>YK Pathan</th>\n",
       "      <th>Sunrisers Hyderabad</th>\n",
       "      <td>1</td>\n",
       "    </tr>\n",
       "    <tr>\n",
       "      <th>YS Chahal</th>\n",
       "      <th>Royal Challengers Bangalore</th>\n",
       "      <td>10</td>\n",
       "    </tr>\n",
       "  </tbody>\n",
       "</table>\n",
       "<p>1020 rows × 1 columns</p>\n",
       "</div>"
      ],
      "text/plain": [
       "                                                      Wickets_By_Bowler\n",
       "season bowler            bowling_team                                  \n",
       "2008   A Kumble          Royal Challengers Bangalore                  5\n",
       "       A Mishra          Delhi Daredevils                             9\n",
       "       A Nehra           Mumbai Indians                              12\n",
       "       A Nel             Mumbai Indians                               1\n",
       "       AA Noffke         Royal Challengers Bangalore                  1\n",
       "...                                                                 ...\n",
       "2018   UT Yadav          Royal Challengers Bangalore                 20\n",
       "       V Shankar         Delhi Daredevils                             1\n",
       "       Washington Sundar Royal Challengers Bangalore                  3\n",
       "       YK Pathan         Sunrisers Hyderabad                          1\n",
       "       YS Chahal         Royal Challengers Bangalore                 10\n",
       "\n",
       "[1020 rows x 1 columns]"
      ]
     },
     "execution_count": 41,
     "metadata": {},
     "output_type": "execute_result"
    }
   ],
   "source": [
    "# Total Wickets taken by bowler in each Season\n",
    "bowler_wickets_matchid = ipldf[['season','bowler','bowling_team','Value']][(ipldf['dismissal_kind']== 'caught')|\n",
    "                                                    (ipldf['dismissal_kind']== 'bowled')|\n",
    "                                                       (ipldf['dismissal_kind']== 'lbw')|\n",
    "                                          (ipldf['dismissal_kind']== 'caught and bowled')].groupby(['season','bowler','bowling_team'])\\\n",
    ".sum().rename({'Value':'Wickets_By_Bowler'},axis=1)\n",
    "bowler_wicktes_taken= bowler_wickets_matchid.reset_index().groupby(['season','bowler','bowling_team']).sum()\n",
    "bowler_wicktes_taken"
   ]
  },
  {
   "cell_type": "code",
   "execution_count": 42,
   "metadata": {},
   "outputs": [
    {
     "data": {
      "text/html": [
       "<div>\n",
       "<style scoped>\n",
       "    .dataframe tbody tr th:only-of-type {\n",
       "        vertical-align: middle;\n",
       "    }\n",
       "\n",
       "    .dataframe tbody tr th {\n",
       "        vertical-align: top;\n",
       "    }\n",
       "\n",
       "    .dataframe thead th {\n",
       "        text-align: right;\n",
       "    }\n",
       "</style>\n",
       "<table border=\"1\" class=\"dataframe\">\n",
       "  <thead>\n",
       "    <tr style=\"text-align: right;\">\n",
       "      <th></th>\n",
       "      <th></th>\n",
       "      <th></th>\n",
       "      <th>Maiden_Overs</th>\n",
       "    </tr>\n",
       "    <tr>\n",
       "      <th>season</th>\n",
       "      <th>bowler</th>\n",
       "      <th>bowling_team</th>\n",
       "      <th></th>\n",
       "    </tr>\n",
       "  </thead>\n",
       "  <tbody>\n",
       "    <tr>\n",
       "      <th rowspan=\"5\" valign=\"top\">2008</th>\n",
       "      <th>DJ Bravo</th>\n",
       "      <th>Mumbai Indians</th>\n",
       "      <td>2</td>\n",
       "    </tr>\n",
       "    <tr>\n",
       "      <th>GD McGrath</th>\n",
       "      <th>Delhi Daredevils</th>\n",
       "      <td>2</td>\n",
       "    </tr>\n",
       "    <tr>\n",
       "      <th>I Sharma</th>\n",
       "      <th>Kolkata Knight Riders</th>\n",
       "      <td>1</td>\n",
       "    </tr>\n",
       "    <tr>\n",
       "      <th>IK Pathan</th>\n",
       "      <th>Kings XI Punjab</th>\n",
       "      <td>3</td>\n",
       "    </tr>\n",
       "    <tr>\n",
       "      <th>M Ntini</th>\n",
       "      <th>Chennai Super Kings</th>\n",
       "      <td>2</td>\n",
       "    </tr>\n",
       "    <tr>\n",
       "      <th>...</th>\n",
       "      <th>...</th>\n",
       "      <th>...</th>\n",
       "      <td>...</td>\n",
       "    </tr>\n",
       "    <tr>\n",
       "      <th rowspan=\"5\" valign=\"top\">2018</th>\n",
       "      <th>Rashid Khan</th>\n",
       "      <th>Sunrisers Hyderabad</th>\n",
       "      <td>1</td>\n",
       "    </tr>\n",
       "    <tr>\n",
       "      <th>SN Thakur</th>\n",
       "      <th>Chennai Super Kings</th>\n",
       "      <td>1</td>\n",
       "    </tr>\n",
       "    <tr>\n",
       "      <th>TA Boult</th>\n",
       "      <th>Delhi Daredevils</th>\n",
       "      <td>1</td>\n",
       "    </tr>\n",
       "    <tr>\n",
       "      <th>UT Yadav</th>\n",
       "      <th>Royal Challengers Bangalore</th>\n",
       "      <td>1</td>\n",
       "    </tr>\n",
       "    <tr>\n",
       "      <th>YS Chahal</th>\n",
       "      <th>Royal Challengers Bangalore</th>\n",
       "      <td>1</td>\n",
       "    </tr>\n",
       "  </tbody>\n",
       "</table>\n",
       "<p>202 rows × 1 columns</p>\n",
       "</div>"
      ],
      "text/plain": [
       "                                                Maiden_Overs\n",
       "season bowler      bowling_team                             \n",
       "2008   DJ Bravo    Mumbai Indians                          2\n",
       "       GD McGrath  Delhi Daredevils                        2\n",
       "       I Sharma    Kolkata Knight Riders                   1\n",
       "       IK Pathan   Kings XI Punjab                         3\n",
       "       M Ntini     Chennai Super Kings                     2\n",
       "...                                                      ...\n",
       "2018   Rashid Khan Sunrisers Hyderabad                     1\n",
       "       SN Thakur   Chennai Super Kings                     1\n",
       "       TA Boult    Delhi Daredevils                        1\n",
       "       UT Yadav    Royal Challengers Bangalore             1\n",
       "       YS Chahal   Royal Challengers Bangalore             1\n",
       "\n",
       "[202 rows x 1 columns]"
      ]
     },
     "execution_count": 42,
     "metadata": {},
     "output_type": "execute_result"
    }
   ],
   "source": [
    "# To get number of maiden over thwron by each bowler in each season\n",
    "runs_per_over=ipldf.\\\n",
    "groupby(['season','match_id','bowler','bowling_team','over'])['bowleruns_conceded'].sum().reset_index()\n",
    "maiden_overs_count= pd.DataFrame(runs_per_over[runs_per_over['bowleruns_conceded'] ==0].groupby(['season','bowler','bowling_team'])['over']\\\n",
    "                                 .count()).rename({'over':'Maiden_Overs'},axis =1)\n",
    "maiden_overs_count"
   ]
  },
  {
   "cell_type": "code",
   "execution_count": 43,
   "metadata": {},
   "outputs": [
    {
     "data": {
      "text/plain": [
       "over                   21.604689\n",
       "bowleruns_conceded    170.293452\n",
       "Wickets_By_Bowler       5.708165\n",
       "Maiden_Overs            0.216653\n",
       "avg_run_per_over        8.572882\n",
       "dtype: float64"
      ]
     },
     "execution_count": 43,
     "metadata": {},
     "output_type": "execute_result"
    }
   ],
   "source": [
    "# Complete Stats of run conceded, wicktes taken & Over thrown & Maidedn overs in each IPL season\n",
    "bowlers_stats =pd.merge(pd.merge(pd.merge(bowler_overdelivered,bolwers_run_conceded,left_index=True,right_index=True,how='left'),bowler_wicktes_taken,\\\n",
    "         left_index=True,right_index=True,how='left'),maiden_overs_count,left_index=True,right_index=True,how='left').reset_index()\n",
    "bowlers_stats['Maiden_Overs'].fillna(0,inplace=True)\n",
    "bowlers_stats['Wickets_By_Bowler'].fillna(0,inplace=True)\n",
    "bowlers_stats['Wickets_By_Bowler']= bowlers_stats['Wickets_By_Bowler'].astype(int)\n",
    "bowlers_stats['avg_run_per_over'] = bowlers_stats['bowleruns_conceded']/bowlers_stats['over']\n",
    "# Printing Mean for different Stats so that we can use it filter down data\n",
    "bowlers_stats[['over','bowleruns_conceded','Wickets_By_Bowler','Maiden_Overs','avg_run_per_over']].mean()"
   ]
  },
  {
   "cell_type": "code",
   "execution_count": 44,
   "metadata": {},
   "outputs": [
    {
     "data": {
      "text/html": [
       "<div>\n",
       "<style scoped>\n",
       "    .dataframe tbody tr th:only-of-type {\n",
       "        vertical-align: middle;\n",
       "    }\n",
       "\n",
       "    .dataframe tbody tr th {\n",
       "        vertical-align: top;\n",
       "    }\n",
       "\n",
       "    .dataframe thead th {\n",
       "        text-align: right;\n",
       "    }\n",
       "</style>\n",
       "<table border=\"1\" class=\"dataframe\">\n",
       "  <thead>\n",
       "    <tr style=\"text-align: right;\">\n",
       "      <th></th>\n",
       "      <th></th>\n",
       "      <th>season</th>\n",
       "      <th>bowler</th>\n",
       "      <th>bowling_team</th>\n",
       "      <th>over</th>\n",
       "      <th>bowleruns_conceded</th>\n",
       "      <th>Wickets_By_Bowler</th>\n",
       "      <th>Maiden_Overs</th>\n",
       "      <th>avg_run_per_over</th>\n",
       "    </tr>\n",
       "    <tr>\n",
       "      <th>season</th>\n",
       "      <th></th>\n",
       "      <th></th>\n",
       "      <th></th>\n",
       "      <th></th>\n",
       "      <th></th>\n",
       "      <th></th>\n",
       "      <th></th>\n",
       "      <th></th>\n",
       "      <th></th>\n",
       "    </tr>\n",
       "  </thead>\n",
       "  <tbody>\n",
       "    <tr>\n",
       "      <th>2008</th>\n",
       "      <th>79</th>\n",
       "      <td>2008</td>\n",
       "      <td>SR Watson</td>\n",
       "      <td>Rajasthan Royals</td>\n",
       "      <td>55</td>\n",
       "      <td>383</td>\n",
       "      <td>17</td>\n",
       "      <td>1.0</td>\n",
       "      <td>6.963636</td>\n",
       "    </tr>\n",
       "    <tr>\n",
       "      <th>2009</th>\n",
       "      <th>174</th>\n",
       "      <td>2009</td>\n",
       "      <td>RP Singh</td>\n",
       "      <td>Sunrisers Hyderabad</td>\n",
       "      <td>61</td>\n",
       "      <td>417</td>\n",
       "      <td>23</td>\n",
       "      <td>1.0</td>\n",
       "      <td>6.836066</td>\n",
       "    </tr>\n",
       "    <tr>\n",
       "      <th>2010</th>\n",
       "      <th>332</th>\n",
       "      <td>2010</td>\n",
       "      <td>Z Khan</td>\n",
       "      <td>Mumbai Indians</td>\n",
       "      <td>49</td>\n",
       "      <td>376</td>\n",
       "      <td>15</td>\n",
       "      <td>1.0</td>\n",
       "      <td>7.673469</td>\n",
       "    </tr>\n",
       "    <tr>\n",
       "      <th>2011</th>\n",
       "      <th>447</th>\n",
       "      <td>2011</td>\n",
       "      <td>SL Malinga</td>\n",
       "      <td>Mumbai Indians</td>\n",
       "      <td>64</td>\n",
       "      <td>375</td>\n",
       "      <td>28</td>\n",
       "      <td>2.0</td>\n",
       "      <td>5.859375</td>\n",
       "    </tr>\n",
       "    <tr>\n",
       "      <th>2012</th>\n",
       "      <th>537</th>\n",
       "      <td>2012</td>\n",
       "      <td>M Morkel</td>\n",
       "      <td>Delhi Daredevils</td>\n",
       "      <td>63</td>\n",
       "      <td>453</td>\n",
       "      <td>25</td>\n",
       "      <td>1.0</td>\n",
       "      <td>7.190476</td>\n",
       "    </tr>\n",
       "    <tr>\n",
       "      <th>2013</th>\n",
       "      <th>629</th>\n",
       "      <td>2013</td>\n",
       "      <td>DJ Bravo</td>\n",
       "      <td>Chennai Super Kings</td>\n",
       "      <td>63</td>\n",
       "      <td>497</td>\n",
       "      <td>32</td>\n",
       "      <td>1.0</td>\n",
       "      <td>7.888889</td>\n",
       "    </tr>\n",
       "    <tr>\n",
       "      <th>2014</th>\n",
       "      <th>792</th>\n",
       "      <td>2014</td>\n",
       "      <td>R Ashwin</td>\n",
       "      <td>Chennai Super Kings</td>\n",
       "      <td>60</td>\n",
       "      <td>437</td>\n",
       "      <td>16</td>\n",
       "      <td>1.0</td>\n",
       "      <td>7.283333</td>\n",
       "    </tr>\n",
       "    <tr>\n",
       "      <th>2015</th>\n",
       "      <th>848</th>\n",
       "      <td>2015</td>\n",
       "      <td>DJ Bravo</td>\n",
       "      <td>Chennai Super Kings</td>\n",
       "      <td>54</td>\n",
       "      <td>426</td>\n",
       "      <td>26</td>\n",
       "      <td>1.0</td>\n",
       "      <td>7.888889</td>\n",
       "    </tr>\n",
       "    <tr>\n",
       "      <th>2016</th>\n",
       "      <th>939</th>\n",
       "      <td>2016</td>\n",
       "      <td>B Kumar</td>\n",
       "      <td>Sunrisers Hyderabad</td>\n",
       "      <td>66</td>\n",
       "      <td>490</td>\n",
       "      <td>23</td>\n",
       "      <td>3.0</td>\n",
       "      <td>7.424242</td>\n",
       "    </tr>\n",
       "    <tr>\n",
       "      <th>2017</th>\n",
       "      <th>1049</th>\n",
       "      <td>2017</td>\n",
       "      <td>B Kumar</td>\n",
       "      <td>Sunrisers Hyderabad</td>\n",
       "      <td>53</td>\n",
       "      <td>369</td>\n",
       "      <td>26</td>\n",
       "      <td>1.0</td>\n",
       "      <td>6.962264</td>\n",
       "    </tr>\n",
       "    <tr>\n",
       "      <th>2018</th>\n",
       "      <th>1216</th>\n",
       "      <td>2018</td>\n",
       "      <td>Rashid Khan</td>\n",
       "      <td>Sunrisers Hyderabad</td>\n",
       "      <td>68</td>\n",
       "      <td>469</td>\n",
       "      <td>20</td>\n",
       "      <td>1.0</td>\n",
       "      <td>6.897059</td>\n",
       "    </tr>\n",
       "  </tbody>\n",
       "</table>\n",
       "</div>"
      ],
      "text/plain": [
       "            season       bowler         bowling_team  over  \\\n",
       "season                                                       \n",
       "2008   79     2008    SR Watson     Rajasthan Royals    55   \n",
       "2009   174    2009     RP Singh  Sunrisers Hyderabad    61   \n",
       "2010   332    2010       Z Khan       Mumbai Indians    49   \n",
       "2011   447    2011   SL Malinga       Mumbai Indians    64   \n",
       "2012   537    2012     M Morkel     Delhi Daredevils    63   \n",
       "2013   629    2013     DJ Bravo  Chennai Super Kings    63   \n",
       "2014   792    2014     R Ashwin  Chennai Super Kings    60   \n",
       "2015   848    2015     DJ Bravo  Chennai Super Kings    54   \n",
       "2016   939    2016      B Kumar  Sunrisers Hyderabad    66   \n",
       "2017   1049   2017      B Kumar  Sunrisers Hyderabad    53   \n",
       "2018   1216   2018  Rashid Khan  Sunrisers Hyderabad    68   \n",
       "\n",
       "             bowleruns_conceded  Wickets_By_Bowler  Maiden_Overs  \\\n",
       "season                                                             \n",
       "2008   79                   383                 17           1.0   \n",
       "2009   174                  417                 23           1.0   \n",
       "2010   332                  376                 15           1.0   \n",
       "2011   447                  375                 28           2.0   \n",
       "2012   537                  453                 25           1.0   \n",
       "2013   629                  497                 32           1.0   \n",
       "2014   792                  437                 16           1.0   \n",
       "2015   848                  426                 26           1.0   \n",
       "2016   939                  490                 23           3.0   \n",
       "2017   1049                 369                 26           1.0   \n",
       "2018   1216                 469                 20           1.0   \n",
       "\n",
       "             avg_run_per_over  \n",
       "season                         \n",
       "2008   79            6.963636  \n",
       "2009   174           6.836066  \n",
       "2010   332           7.673469  \n",
       "2011   447           5.859375  \n",
       "2012   537           7.190476  \n",
       "2013   629           7.888889  \n",
       "2014   792           7.283333  \n",
       "2015   848           7.888889  \n",
       "2016   939           7.424242  \n",
       "2017   1049          6.962264  \n",
       "2018   1216          6.897059  "
      ]
     },
     "execution_count": 44,
     "metadata": {},
     "output_type": "execute_result"
    }
   ],
   "source": [
    "top_10_bowlers = bowlers_stats[\n",
    "             (bowlers_stats['over'] > 20) &\n",
    "             (bowlers_stats['Wickets_By_Bowler'] > (5)) &\n",
    "             (bowlers_stats['avg_run_per_over'] < (8)) &\n",
    "             (bowlers_stats['Maiden_Overs'] > (0.21))\n",
    "             ].groupby(['season']).apply(top,column = 'Wickets_By_Bowler',n=1)\n",
    "top_10_bowlers"
   ]
  },
  {
   "cell_type": "code",
   "execution_count": 45,
   "metadata": {},
   "outputs": [
    {
     "data": {
      "application/vnd.plotly.v1+json": {
       "config": {
        "plotlyServerURL": "https://plot.ly"
       },
       "data": [
        {
         "hovertext": [
          "SR Watson",
          "RP Singh",
          "Z Khan",
          "SL Malinga",
          "M Morkel",
          "DJ Bravo",
          "R Ashwin",
          "DJ Bravo",
          "B Kumar",
          "B Kumar",
          "Rashid Khan"
         ],
         "marker": {
          "color": [
           55,
           61,
           49,
           64,
           63,
           63,
           60,
           54,
           66,
           53,
           68
          ],
          "line": {
           "width": 2
          },
          "size": [
           33,
           36.6,
           29.4,
           38.4,
           37.8,
           37.8,
           36,
           32.4,
           39.6,
           31.799999999999997,
           40.8
          ],
          "symbol": "diamond-dot"
         },
         "mode": "lines+markers+text",
         "name": "Runs_By_bowler",
         "text": [
          383,
          417,
          376,
          375,
          453,
          497,
          437,
          426,
          490,
          369,
          469
         ],
         "textposition": "top left",
         "type": "scatter",
         "x": [
          "2008 : SR Watson",
          "2009 : RP Singh",
          "2010 : Z Khan",
          "2011 : SL Malinga",
          "2012 : M Morkel",
          "2013 : DJ Bravo",
          "2014 : R Ashwin",
          "2015 : DJ Bravo",
          "2016 : B Kumar",
          "2017 : B Kumar",
          "2018 : Rashid Khan"
         ],
         "y": [
          383,
          417,
          376,
          375,
          453,
          497,
          437,
          426,
          490,
          369,
          469
         ]
        },
        {
         "hovertext": [
          "SR Watson",
          "RP Singh",
          "Z Khan",
          "SL Malinga",
          "M Morkel",
          "DJ Bravo",
          "R Ashwin",
          "DJ Bravo",
          "B Kumar",
          "B Kumar",
          "Rashid Khan"
         ],
         "marker": {
          "color": [
           55,
           61,
           49,
           64,
           63,
           63,
           60,
           54,
           66,
           53,
           68
          ],
          "line": {
           "color": "red",
           "width": 2
          },
          "size": [
           55,
           61,
           49,
           64,
           63,
           63,
           60,
           54,
           66,
           53,
           68
          ],
          "symbol": "pentagon"
         },
         "mode": "text+markers",
         "name": "Wickets_By_bowler",
         "text": [
          17,
          23,
          15,
          28,
          25,
          32,
          16,
          26,
          23,
          26,
          20
         ],
         "textposition": "top left",
         "type": "scatter",
         "x": [
          "2008 : SR Watson",
          "2009 : RP Singh",
          "2010 : Z Khan",
          "2011 : SL Malinga",
          "2012 : M Morkel",
          "2013 : DJ Bravo",
          "2014 : R Ashwin",
          "2015 : DJ Bravo",
          "2016 : B Kumar",
          "2017 : B Kumar",
          "2018 : Rashid Khan"
         ],
         "y": [
          51,
          69,
          45,
          84,
          75,
          96,
          48,
          78,
          69,
          78,
          60
         ]
        },
        {
         "hovertext": [
          "SR Watson",
          "RP Singh",
          "Z Khan",
          "SL Malinga",
          "M Morkel",
          "DJ Bravo",
          "R Ashwin",
          "DJ Bravo",
          "B Kumar",
          "B Kumar",
          "Rashid Khan"
         ],
         "marker": {
          "color": [
           55,
           61,
           49,
           64,
           63,
           63,
           60,
           54,
           66,
           53,
           68
          ],
          "line": {
           "color": "blue",
           "width": 2
          },
          "size": [
           33,
           36.6,
           29.4,
           38.4,
           37.8,
           37.8,
           36,
           32.4,
           39.6,
           31.799999999999997,
           40.8
          ],
          "symbol": "star"
         },
         "mode": "lines+markers+text",
         "name": "MaidenOver_By_bowler",
         "text": [
          1,
          1,
          1,
          2,
          1,
          1,
          1,
          1,
          3,
          1,
          1
         ],
         "textposition": "bottom right",
         "type": "scatter",
         "x": [
          "2008 : SR Watson",
          "2009 : RP Singh",
          "2010 : Z Khan",
          "2011 : SL Malinga",
          "2012 : M Morkel",
          "2013 : DJ Bravo",
          "2014 : R Ashwin",
          "2015 : DJ Bravo",
          "2016 : B Kumar",
          "2017 : B Kumar",
          "2018 : Rashid Khan"
         ],
         "y": [
          1,
          1,
          1,
          2,
          1,
          1,
          1,
          1,
          3,
          1,
          1
         ]
        },
        {
         "hovertext": [
          "SR Watson",
          "RP Singh",
          "Z Khan",
          "SL Malinga",
          "M Morkel",
          "DJ Bravo",
          "R Ashwin",
          "DJ Bravo",
          "B Kumar",
          "B Kumar",
          "Rashid Khan"
         ],
         "marker": {
          "color": [
           55,
           61,
           49,
           64,
           63,
           63,
           60,
           54,
           66,
           53,
           68
          ],
          "line": {
           "color": "black",
           "width": 2
          },
          "size": [
           16.5,
           18.3,
           14.7,
           19.2,
           18.9,
           18.9,
           18,
           16.2,
           19.8,
           15.899999999999999,
           20.4
          ],
          "symbol": "circle"
         },
         "mode": "markers+text",
         "name": "AvgRuns_By_bowler",
         "text": [
          6,
          6,
          7,
          5,
          7,
          7,
          7,
          7,
          7,
          6,
          6
         ],
         "textposition": "middle center",
         "type": "scatter",
         "x": [
          "2008 : SR Watson",
          "2009 : RP Singh",
          "2010 : Z Khan",
          "2011 : SL Malinga",
          "2012 : M Morkel",
          "2013 : DJ Bravo",
          "2014 : R Ashwin",
          "2015 : DJ Bravo",
          "2016 : B Kumar",
          "2017 : B Kumar",
          "2018 : Rashid Khan"
         ],
         "y": [
          243.72727272727275,
          239.2622950819672,
          268.57142857142856,
          205.078125,
          251.66666666666669,
          276.11111111111114,
          254.91666666666666,
          276.11111111111114,
          259.8484848484848,
          243.67924528301884,
          241.39705882352942
         ]
        }
       ],
       "layout": {
        "template": {
         "data": {
          "bar": [
           {
            "error_x": {
             "color": "#2a3f5f"
            },
            "error_y": {
             "color": "#2a3f5f"
            },
            "marker": {
             "line": {
              "color": "#E5ECF6",
              "width": 0.5
             }
            },
            "type": "bar"
           }
          ],
          "barpolar": [
           {
            "marker": {
             "line": {
              "color": "#E5ECF6",
              "width": 0.5
             }
            },
            "type": "barpolar"
           }
          ],
          "carpet": [
           {
            "aaxis": {
             "endlinecolor": "#2a3f5f",
             "gridcolor": "white",
             "linecolor": "white",
             "minorgridcolor": "white",
             "startlinecolor": "#2a3f5f"
            },
            "baxis": {
             "endlinecolor": "#2a3f5f",
             "gridcolor": "white",
             "linecolor": "white",
             "minorgridcolor": "white",
             "startlinecolor": "#2a3f5f"
            },
            "type": "carpet"
           }
          ],
          "choropleth": [
           {
            "colorbar": {
             "outlinewidth": 0,
             "ticks": ""
            },
            "type": "choropleth"
           }
          ],
          "contour": [
           {
            "colorbar": {
             "outlinewidth": 0,
             "ticks": ""
            },
            "colorscale": [
             [
              0,
              "#0d0887"
             ],
             [
              0.1111111111111111,
              "#46039f"
             ],
             [
              0.2222222222222222,
              "#7201a8"
             ],
             [
              0.3333333333333333,
              "#9c179e"
             ],
             [
              0.4444444444444444,
              "#bd3786"
             ],
             [
              0.5555555555555556,
              "#d8576b"
             ],
             [
              0.6666666666666666,
              "#ed7953"
             ],
             [
              0.7777777777777778,
              "#fb9f3a"
             ],
             [
              0.8888888888888888,
              "#fdca26"
             ],
             [
              1,
              "#f0f921"
             ]
            ],
            "type": "contour"
           }
          ],
          "contourcarpet": [
           {
            "colorbar": {
             "outlinewidth": 0,
             "ticks": ""
            },
            "type": "contourcarpet"
           }
          ],
          "heatmap": [
           {
            "colorbar": {
             "outlinewidth": 0,
             "ticks": ""
            },
            "colorscale": [
             [
              0,
              "#0d0887"
             ],
             [
              0.1111111111111111,
              "#46039f"
             ],
             [
              0.2222222222222222,
              "#7201a8"
             ],
             [
              0.3333333333333333,
              "#9c179e"
             ],
             [
              0.4444444444444444,
              "#bd3786"
             ],
             [
              0.5555555555555556,
              "#d8576b"
             ],
             [
              0.6666666666666666,
              "#ed7953"
             ],
             [
              0.7777777777777778,
              "#fb9f3a"
             ],
             [
              0.8888888888888888,
              "#fdca26"
             ],
             [
              1,
              "#f0f921"
             ]
            ],
            "type": "heatmap"
           }
          ],
          "heatmapgl": [
           {
            "colorbar": {
             "outlinewidth": 0,
             "ticks": ""
            },
            "colorscale": [
             [
              0,
              "#0d0887"
             ],
             [
              0.1111111111111111,
              "#46039f"
             ],
             [
              0.2222222222222222,
              "#7201a8"
             ],
             [
              0.3333333333333333,
              "#9c179e"
             ],
             [
              0.4444444444444444,
              "#bd3786"
             ],
             [
              0.5555555555555556,
              "#d8576b"
             ],
             [
              0.6666666666666666,
              "#ed7953"
             ],
             [
              0.7777777777777778,
              "#fb9f3a"
             ],
             [
              0.8888888888888888,
              "#fdca26"
             ],
             [
              1,
              "#f0f921"
             ]
            ],
            "type": "heatmapgl"
           }
          ],
          "histogram": [
           {
            "marker": {
             "colorbar": {
              "outlinewidth": 0,
              "ticks": ""
             }
            },
            "type": "histogram"
           }
          ],
          "histogram2d": [
           {
            "colorbar": {
             "outlinewidth": 0,
             "ticks": ""
            },
            "colorscale": [
             [
              0,
              "#0d0887"
             ],
             [
              0.1111111111111111,
              "#46039f"
             ],
             [
              0.2222222222222222,
              "#7201a8"
             ],
             [
              0.3333333333333333,
              "#9c179e"
             ],
             [
              0.4444444444444444,
              "#bd3786"
             ],
             [
              0.5555555555555556,
              "#d8576b"
             ],
             [
              0.6666666666666666,
              "#ed7953"
             ],
             [
              0.7777777777777778,
              "#fb9f3a"
             ],
             [
              0.8888888888888888,
              "#fdca26"
             ],
             [
              1,
              "#f0f921"
             ]
            ],
            "type": "histogram2d"
           }
          ],
          "histogram2dcontour": [
           {
            "colorbar": {
             "outlinewidth": 0,
             "ticks": ""
            },
            "colorscale": [
             [
              0,
              "#0d0887"
             ],
             [
              0.1111111111111111,
              "#46039f"
             ],
             [
              0.2222222222222222,
              "#7201a8"
             ],
             [
              0.3333333333333333,
              "#9c179e"
             ],
             [
              0.4444444444444444,
              "#bd3786"
             ],
             [
              0.5555555555555556,
              "#d8576b"
             ],
             [
              0.6666666666666666,
              "#ed7953"
             ],
             [
              0.7777777777777778,
              "#fb9f3a"
             ],
             [
              0.8888888888888888,
              "#fdca26"
             ],
             [
              1,
              "#f0f921"
             ]
            ],
            "type": "histogram2dcontour"
           }
          ],
          "mesh3d": [
           {
            "colorbar": {
             "outlinewidth": 0,
             "ticks": ""
            },
            "type": "mesh3d"
           }
          ],
          "parcoords": [
           {
            "line": {
             "colorbar": {
              "outlinewidth": 0,
              "ticks": ""
             }
            },
            "type": "parcoords"
           }
          ],
          "pie": [
           {
            "automargin": true,
            "type": "pie"
           }
          ],
          "scatter": [
           {
            "marker": {
             "colorbar": {
              "outlinewidth": 0,
              "ticks": ""
             }
            },
            "type": "scatter"
           }
          ],
          "scatter3d": [
           {
            "line": {
             "colorbar": {
              "outlinewidth": 0,
              "ticks": ""
             }
            },
            "marker": {
             "colorbar": {
              "outlinewidth": 0,
              "ticks": ""
             }
            },
            "type": "scatter3d"
           }
          ],
          "scattercarpet": [
           {
            "marker": {
             "colorbar": {
              "outlinewidth": 0,
              "ticks": ""
             }
            },
            "type": "scattercarpet"
           }
          ],
          "scattergeo": [
           {
            "marker": {
             "colorbar": {
              "outlinewidth": 0,
              "ticks": ""
             }
            },
            "type": "scattergeo"
           }
          ],
          "scattergl": [
           {
            "marker": {
             "colorbar": {
              "outlinewidth": 0,
              "ticks": ""
             }
            },
            "type": "scattergl"
           }
          ],
          "scattermapbox": [
           {
            "marker": {
             "colorbar": {
              "outlinewidth": 0,
              "ticks": ""
             }
            },
            "type": "scattermapbox"
           }
          ],
          "scatterpolar": [
           {
            "marker": {
             "colorbar": {
              "outlinewidth": 0,
              "ticks": ""
             }
            },
            "type": "scatterpolar"
           }
          ],
          "scatterpolargl": [
           {
            "marker": {
             "colorbar": {
              "outlinewidth": 0,
              "ticks": ""
             }
            },
            "type": "scatterpolargl"
           }
          ],
          "scatterternary": [
           {
            "marker": {
             "colorbar": {
              "outlinewidth": 0,
              "ticks": ""
             }
            },
            "type": "scatterternary"
           }
          ],
          "surface": [
           {
            "colorbar": {
             "outlinewidth": 0,
             "ticks": ""
            },
            "colorscale": [
             [
              0,
              "#0d0887"
             ],
             [
              0.1111111111111111,
              "#46039f"
             ],
             [
              0.2222222222222222,
              "#7201a8"
             ],
             [
              0.3333333333333333,
              "#9c179e"
             ],
             [
              0.4444444444444444,
              "#bd3786"
             ],
             [
              0.5555555555555556,
              "#d8576b"
             ],
             [
              0.6666666666666666,
              "#ed7953"
             ],
             [
              0.7777777777777778,
              "#fb9f3a"
             ],
             [
              0.8888888888888888,
              "#fdca26"
             ],
             [
              1,
              "#f0f921"
             ]
            ],
            "type": "surface"
           }
          ],
          "table": [
           {
            "cells": {
             "fill": {
              "color": "#EBF0F8"
             },
             "line": {
              "color": "white"
             }
            },
            "header": {
             "fill": {
              "color": "#C8D4E3"
             },
             "line": {
              "color": "white"
             }
            },
            "type": "table"
           }
          ]
         },
         "layout": {
          "annotationdefaults": {
           "arrowcolor": "#2a3f5f",
           "arrowhead": 0,
           "arrowwidth": 1
          },
          "coloraxis": {
           "colorbar": {
            "outlinewidth": 0,
            "ticks": ""
           }
          },
          "colorscale": {
           "diverging": [
            [
             0,
             "#8e0152"
            ],
            [
             0.1,
             "#c51b7d"
            ],
            [
             0.2,
             "#de77ae"
            ],
            [
             0.3,
             "#f1b6da"
            ],
            [
             0.4,
             "#fde0ef"
            ],
            [
             0.5,
             "#f7f7f7"
            ],
            [
             0.6,
             "#e6f5d0"
            ],
            [
             0.7,
             "#b8e186"
            ],
            [
             0.8,
             "#7fbc41"
            ],
            [
             0.9,
             "#4d9221"
            ],
            [
             1,
             "#276419"
            ]
           ],
           "sequential": [
            [
             0,
             "#0d0887"
            ],
            [
             0.1111111111111111,
             "#46039f"
            ],
            [
             0.2222222222222222,
             "#7201a8"
            ],
            [
             0.3333333333333333,
             "#9c179e"
            ],
            [
             0.4444444444444444,
             "#bd3786"
            ],
            [
             0.5555555555555556,
             "#d8576b"
            ],
            [
             0.6666666666666666,
             "#ed7953"
            ],
            [
             0.7777777777777778,
             "#fb9f3a"
            ],
            [
             0.8888888888888888,
             "#fdca26"
            ],
            [
             1,
             "#f0f921"
            ]
           ],
           "sequentialminus": [
            [
             0,
             "#0d0887"
            ],
            [
             0.1111111111111111,
             "#46039f"
            ],
            [
             0.2222222222222222,
             "#7201a8"
            ],
            [
             0.3333333333333333,
             "#9c179e"
            ],
            [
             0.4444444444444444,
             "#bd3786"
            ],
            [
             0.5555555555555556,
             "#d8576b"
            ],
            [
             0.6666666666666666,
             "#ed7953"
            ],
            [
             0.7777777777777778,
             "#fb9f3a"
            ],
            [
             0.8888888888888888,
             "#fdca26"
            ],
            [
             1,
             "#f0f921"
            ]
           ]
          },
          "colorway": [
           "#636efa",
           "#EF553B",
           "#00cc96",
           "#ab63fa",
           "#FFA15A",
           "#19d3f3",
           "#FF6692",
           "#B6E880",
           "#FF97FF",
           "#FECB52"
          ],
          "font": {
           "color": "#2a3f5f"
          },
          "geo": {
           "bgcolor": "white",
           "lakecolor": "white",
           "landcolor": "#E5ECF6",
           "showlakes": true,
           "showland": true,
           "subunitcolor": "white"
          },
          "hoverlabel": {
           "align": "left"
          },
          "hovermode": "closest",
          "mapbox": {
           "style": "light"
          },
          "paper_bgcolor": "white",
          "plot_bgcolor": "#E5ECF6",
          "polar": {
           "angularaxis": {
            "gridcolor": "white",
            "linecolor": "white",
            "ticks": ""
           },
           "bgcolor": "#E5ECF6",
           "radialaxis": {
            "gridcolor": "white",
            "linecolor": "white",
            "ticks": ""
           }
          },
          "scene": {
           "xaxis": {
            "backgroundcolor": "#E5ECF6",
            "gridcolor": "white",
            "gridwidth": 2,
            "linecolor": "white",
            "showbackground": true,
            "ticks": "",
            "zerolinecolor": "white"
           },
           "yaxis": {
            "backgroundcolor": "#E5ECF6",
            "gridcolor": "white",
            "gridwidth": 2,
            "linecolor": "white",
            "showbackground": true,
            "ticks": "",
            "zerolinecolor": "white"
           },
           "zaxis": {
            "backgroundcolor": "#E5ECF6",
            "gridcolor": "white",
            "gridwidth": 2,
            "linecolor": "white",
            "showbackground": true,
            "ticks": "",
            "zerolinecolor": "white"
           }
          },
          "shapedefaults": {
           "line": {
            "color": "#2a3f5f"
           }
          },
          "ternary": {
           "aaxis": {
            "gridcolor": "white",
            "linecolor": "white",
            "ticks": ""
           },
           "baxis": {
            "gridcolor": "white",
            "linecolor": "white",
            "ticks": ""
           },
           "bgcolor": "#E5ECF6",
           "caxis": {
            "gridcolor": "white",
            "linecolor": "white",
            "ticks": ""
           }
          },
          "title": {
           "x": 0.05
          },
          "xaxis": {
           "automargin": true,
           "gridcolor": "white",
           "linecolor": "white",
           "ticks": "",
           "title": {
            "standoff": 15
           },
           "zerolinecolor": "white",
           "zerolinewidth": 2
          },
          "yaxis": {
           "automargin": true,
           "gridcolor": "white",
           "linecolor": "white",
           "ticks": "",
           "title": {
            "standoff": 15
           },
           "zerolinecolor": "white",
           "zerolinewidth": 2
          }
         }
        },
        "title": {
         "font": {
          "color": "black",
          "size": 20
         },
         "text": "Top 10 bolwers stats of all Season"
        },
        "yaxis": {
         "title": {
          "font": {
           "color": "black",
           "size": 20
          },
          "text": "Various Statitics of Bowlers"
         }
        }
       }
      },
      "text/html": [
       "<div>\n",
       "        \n",
       "        \n",
       "            <div id=\"58126579-9629-4b45-892b-309caa42ab6d\" class=\"plotly-graph-div\" style=\"height:525px; width:100%;\"></div>\n",
       "            <script type=\"text/javascript\">\n",
       "                require([\"plotly\"], function(Plotly) {\n",
       "                    window.PLOTLYENV=window.PLOTLYENV || {};\n",
       "                    \n",
       "                if (document.getElementById(\"58126579-9629-4b45-892b-309caa42ab6d\")) {\n",
       "                    Plotly.newPlot(\n",
       "                        '58126579-9629-4b45-892b-309caa42ab6d',\n",
       "                        [{\"hovertext\": [\"SR Watson\", \"RP Singh\", \"Z Khan\", \"SL Malinga\", \"M Morkel\", \"DJ Bravo\", \"R Ashwin\", \"DJ Bravo\", \"B Kumar\", \"B Kumar\", \"Rashid Khan\"], \"marker\": {\"color\": [55, 61, 49, 64, 63, 63, 60, 54, 66, 53, 68], \"line\": {\"width\": 2}, \"size\": [33.0, 36.6, 29.4, 38.4, 37.8, 37.8, 36.0, 32.4, 39.6, 31.799999999999997, 40.8], \"symbol\": \"diamond-dot\"}, \"mode\": \"lines+markers+text\", \"name\": \"Runs_By_bowler\", \"text\": [383.0, 417.0, 376.0, 375.0, 453.0, 497.0, 437.0, 426.0, 490.0, 369.0, 469.0], \"textposition\": \"top left\", \"type\": \"scatter\", \"x\": [\"2008 : SR Watson\", \"2009 : RP Singh\", \"2010 : Z Khan\", \"2011 : SL Malinga\", \"2012 : M Morkel\", \"2013 : DJ Bravo\", \"2014 : R Ashwin\", \"2015 : DJ Bravo\", \"2016 : B Kumar\", \"2017 : B Kumar\", \"2018 : Rashid Khan\"], \"y\": [383, 417, 376, 375, 453, 497, 437, 426, 490, 369, 469]}, {\"hovertext\": [\"SR Watson\", \"RP Singh\", \"Z Khan\", \"SL Malinga\", \"M Morkel\", \"DJ Bravo\", \"R Ashwin\", \"DJ Bravo\", \"B Kumar\", \"B Kumar\", \"Rashid Khan\"], \"marker\": {\"color\": [55, 61, 49, 64, 63, 63, 60, 54, 66, 53, 68], \"line\": {\"color\": \"red\", \"width\": 2}, \"size\": [55, 61, 49, 64, 63, 63, 60, 54, 66, 53, 68], \"symbol\": \"pentagon\"}, \"mode\": \"text+markers\", \"name\": \"Wickets_By_bowler\", \"text\": [17.0, 23.0, 15.0, 28.0, 25.0, 32.0, 16.0, 26.0, 23.0, 26.0, 20.0], \"textposition\": \"top left\", \"type\": \"scatter\", \"x\": [\"2008 : SR Watson\", \"2009 : RP Singh\", \"2010 : Z Khan\", \"2011 : SL Malinga\", \"2012 : M Morkel\", \"2013 : DJ Bravo\", \"2014 : R Ashwin\", \"2015 : DJ Bravo\", \"2016 : B Kumar\", \"2017 : B Kumar\", \"2018 : Rashid Khan\"], \"y\": [51, 69, 45, 84, 75, 96, 48, 78, 69, 78, 60]}, {\"hovertext\": [\"SR Watson\", \"RP Singh\", \"Z Khan\", \"SL Malinga\", \"M Morkel\", \"DJ Bravo\", \"R Ashwin\", \"DJ Bravo\", \"B Kumar\", \"B Kumar\", \"Rashid Khan\"], \"marker\": {\"color\": [55, 61, 49, 64, 63, 63, 60, 54, 66, 53, 68], \"line\": {\"color\": \"blue\", \"width\": 2}, \"size\": [33.0, 36.6, 29.4, 38.4, 37.8, 37.8, 36.0, 32.4, 39.6, 31.799999999999997, 40.8], \"symbol\": \"star\"}, \"mode\": \"lines+markers+text\", \"name\": \"MaidenOver_By_bowler\", \"text\": [1.0, 1.0, 1.0, 2.0, 1.0, 1.0, 1.0, 1.0, 3.0, 1.0, 1.0], \"textposition\": \"bottom right\", \"type\": \"scatter\", \"x\": [\"2008 : SR Watson\", \"2009 : RP Singh\", \"2010 : Z Khan\", \"2011 : SL Malinga\", \"2012 : M Morkel\", \"2013 : DJ Bravo\", \"2014 : R Ashwin\", \"2015 : DJ Bravo\", \"2016 : B Kumar\", \"2017 : B Kumar\", \"2018 : Rashid Khan\"], \"y\": [1.0, 1.0, 1.0, 2.0, 1.0, 1.0, 1.0, 1.0, 3.0, 1.0, 1.0]}, {\"hovertext\": [\"SR Watson\", \"RP Singh\", \"Z Khan\", \"SL Malinga\", \"M Morkel\", \"DJ Bravo\", \"R Ashwin\", \"DJ Bravo\", \"B Kumar\", \"B Kumar\", \"Rashid Khan\"], \"marker\": {\"color\": [55, 61, 49, 64, 63, 63, 60, 54, 66, 53, 68], \"line\": {\"color\": \"black\", \"width\": 2}, \"size\": [16.5, 18.3, 14.7, 19.2, 18.9, 18.9, 18.0, 16.2, 19.8, 15.899999999999999, 20.4], \"symbol\": \"circle\"}, \"mode\": \"markers+text\", \"name\": \"AvgRuns_By_bowler\", \"text\": [6.0, 6.0, 7.0, 5.0, 7.0, 7.0, 7.0, 7.0, 7.0, 6.0, 6.0], \"textposition\": \"middle center\", \"type\": \"scatter\", \"x\": [\"2008 : SR Watson\", \"2009 : RP Singh\", \"2010 : Z Khan\", \"2011 : SL Malinga\", \"2012 : M Morkel\", \"2013 : DJ Bravo\", \"2014 : R Ashwin\", \"2015 : DJ Bravo\", \"2016 : B Kumar\", \"2017 : B Kumar\", \"2018 : Rashid Khan\"], \"y\": [243.72727272727275, 239.2622950819672, 268.57142857142856, 205.078125, 251.66666666666669, 276.11111111111114, 254.91666666666666, 276.11111111111114, 259.8484848484848, 243.67924528301884, 241.39705882352942]}],\n",
       "                        {\"template\": {\"data\": {\"bar\": [{\"error_x\": {\"color\": \"#2a3f5f\"}, \"error_y\": {\"color\": \"#2a3f5f\"}, \"marker\": {\"line\": {\"color\": \"#E5ECF6\", \"width\": 0.5}}, \"type\": \"bar\"}], \"barpolar\": [{\"marker\": {\"line\": {\"color\": \"#E5ECF6\", \"width\": 0.5}}, \"type\": \"barpolar\"}], \"carpet\": [{\"aaxis\": {\"endlinecolor\": \"#2a3f5f\", \"gridcolor\": \"white\", \"linecolor\": \"white\", \"minorgridcolor\": \"white\", \"startlinecolor\": \"#2a3f5f\"}, \"baxis\": {\"endlinecolor\": \"#2a3f5f\", \"gridcolor\": \"white\", \"linecolor\": \"white\", \"minorgridcolor\": \"white\", \"startlinecolor\": \"#2a3f5f\"}, \"type\": \"carpet\"}], \"choropleth\": [{\"colorbar\": {\"outlinewidth\": 0, \"ticks\": \"\"}, \"type\": \"choropleth\"}], \"contour\": [{\"colorbar\": {\"outlinewidth\": 0, \"ticks\": \"\"}, \"colorscale\": [[0.0, \"#0d0887\"], [0.1111111111111111, \"#46039f\"], [0.2222222222222222, \"#7201a8\"], [0.3333333333333333, \"#9c179e\"], [0.4444444444444444, \"#bd3786\"], [0.5555555555555556, \"#d8576b\"], [0.6666666666666666, \"#ed7953\"], [0.7777777777777778, \"#fb9f3a\"], [0.8888888888888888, \"#fdca26\"], [1.0, \"#f0f921\"]], \"type\": \"contour\"}], \"contourcarpet\": [{\"colorbar\": {\"outlinewidth\": 0, \"ticks\": \"\"}, \"type\": \"contourcarpet\"}], \"heatmap\": [{\"colorbar\": {\"outlinewidth\": 0, \"ticks\": \"\"}, \"colorscale\": [[0.0, \"#0d0887\"], [0.1111111111111111, \"#46039f\"], [0.2222222222222222, \"#7201a8\"], [0.3333333333333333, \"#9c179e\"], [0.4444444444444444, \"#bd3786\"], [0.5555555555555556, \"#d8576b\"], [0.6666666666666666, \"#ed7953\"], [0.7777777777777778, \"#fb9f3a\"], [0.8888888888888888, \"#fdca26\"], [1.0, \"#f0f921\"]], \"type\": \"heatmap\"}], \"heatmapgl\": [{\"colorbar\": {\"outlinewidth\": 0, \"ticks\": \"\"}, \"colorscale\": [[0.0, \"#0d0887\"], [0.1111111111111111, \"#46039f\"], [0.2222222222222222, \"#7201a8\"], [0.3333333333333333, \"#9c179e\"], [0.4444444444444444, \"#bd3786\"], [0.5555555555555556, \"#d8576b\"], [0.6666666666666666, \"#ed7953\"], [0.7777777777777778, \"#fb9f3a\"], [0.8888888888888888, \"#fdca26\"], [1.0, \"#f0f921\"]], \"type\": \"heatmapgl\"}], \"histogram\": [{\"marker\": {\"colorbar\": {\"outlinewidth\": 0, \"ticks\": \"\"}}, \"type\": \"histogram\"}], \"histogram2d\": [{\"colorbar\": {\"outlinewidth\": 0, \"ticks\": \"\"}, \"colorscale\": [[0.0, \"#0d0887\"], [0.1111111111111111, \"#46039f\"], [0.2222222222222222, \"#7201a8\"], [0.3333333333333333, \"#9c179e\"], [0.4444444444444444, \"#bd3786\"], [0.5555555555555556, \"#d8576b\"], [0.6666666666666666, \"#ed7953\"], [0.7777777777777778, \"#fb9f3a\"], [0.8888888888888888, \"#fdca26\"], [1.0, \"#f0f921\"]], \"type\": \"histogram2d\"}], \"histogram2dcontour\": [{\"colorbar\": {\"outlinewidth\": 0, \"ticks\": \"\"}, \"colorscale\": [[0.0, \"#0d0887\"], [0.1111111111111111, \"#46039f\"], [0.2222222222222222, \"#7201a8\"], [0.3333333333333333, \"#9c179e\"], [0.4444444444444444, \"#bd3786\"], [0.5555555555555556, \"#d8576b\"], [0.6666666666666666, \"#ed7953\"], [0.7777777777777778, \"#fb9f3a\"], [0.8888888888888888, \"#fdca26\"], [1.0, \"#f0f921\"]], \"type\": \"histogram2dcontour\"}], \"mesh3d\": [{\"colorbar\": {\"outlinewidth\": 0, \"ticks\": \"\"}, \"type\": \"mesh3d\"}], \"parcoords\": [{\"line\": {\"colorbar\": {\"outlinewidth\": 0, \"ticks\": \"\"}}, \"type\": \"parcoords\"}], \"pie\": [{\"automargin\": true, \"type\": \"pie\"}], \"scatter\": [{\"marker\": {\"colorbar\": {\"outlinewidth\": 0, \"ticks\": \"\"}}, \"type\": \"scatter\"}], \"scatter3d\": [{\"line\": {\"colorbar\": {\"outlinewidth\": 0, \"ticks\": \"\"}}, \"marker\": {\"colorbar\": {\"outlinewidth\": 0, \"ticks\": \"\"}}, \"type\": \"scatter3d\"}], \"scattercarpet\": [{\"marker\": {\"colorbar\": {\"outlinewidth\": 0, \"ticks\": \"\"}}, \"type\": \"scattercarpet\"}], \"scattergeo\": [{\"marker\": {\"colorbar\": {\"outlinewidth\": 0, \"ticks\": \"\"}}, \"type\": \"scattergeo\"}], \"scattergl\": [{\"marker\": {\"colorbar\": {\"outlinewidth\": 0, \"ticks\": \"\"}}, \"type\": \"scattergl\"}], \"scattermapbox\": [{\"marker\": {\"colorbar\": {\"outlinewidth\": 0, \"ticks\": \"\"}}, \"type\": \"scattermapbox\"}], \"scatterpolar\": [{\"marker\": {\"colorbar\": {\"outlinewidth\": 0, \"ticks\": \"\"}}, \"type\": \"scatterpolar\"}], \"scatterpolargl\": [{\"marker\": {\"colorbar\": {\"outlinewidth\": 0, \"ticks\": \"\"}}, \"type\": \"scatterpolargl\"}], \"scatterternary\": [{\"marker\": {\"colorbar\": {\"outlinewidth\": 0, \"ticks\": \"\"}}, \"type\": \"scatterternary\"}], \"surface\": [{\"colorbar\": {\"outlinewidth\": 0, \"ticks\": \"\"}, \"colorscale\": [[0.0, \"#0d0887\"], [0.1111111111111111, \"#46039f\"], [0.2222222222222222, \"#7201a8\"], [0.3333333333333333, \"#9c179e\"], [0.4444444444444444, \"#bd3786\"], [0.5555555555555556, \"#d8576b\"], [0.6666666666666666, \"#ed7953\"], [0.7777777777777778, \"#fb9f3a\"], [0.8888888888888888, \"#fdca26\"], [1.0, \"#f0f921\"]], \"type\": \"surface\"}], \"table\": [{\"cells\": {\"fill\": {\"color\": \"#EBF0F8\"}, \"line\": {\"color\": \"white\"}}, \"header\": {\"fill\": {\"color\": \"#C8D4E3\"}, \"line\": {\"color\": \"white\"}}, \"type\": \"table\"}]}, \"layout\": {\"annotationdefaults\": {\"arrowcolor\": \"#2a3f5f\", \"arrowhead\": 0, \"arrowwidth\": 1}, \"coloraxis\": {\"colorbar\": {\"outlinewidth\": 0, \"ticks\": \"\"}}, \"colorscale\": {\"diverging\": [[0, \"#8e0152\"], [0.1, \"#c51b7d\"], [0.2, \"#de77ae\"], [0.3, \"#f1b6da\"], [0.4, \"#fde0ef\"], [0.5, \"#f7f7f7\"], [0.6, \"#e6f5d0\"], [0.7, \"#b8e186\"], [0.8, \"#7fbc41\"], [0.9, \"#4d9221\"], [1, \"#276419\"]], \"sequential\": [[0.0, \"#0d0887\"], [0.1111111111111111, \"#46039f\"], [0.2222222222222222, \"#7201a8\"], [0.3333333333333333, \"#9c179e\"], [0.4444444444444444, \"#bd3786\"], [0.5555555555555556, \"#d8576b\"], [0.6666666666666666, \"#ed7953\"], [0.7777777777777778, \"#fb9f3a\"], [0.8888888888888888, \"#fdca26\"], [1.0, \"#f0f921\"]], \"sequentialminus\": [[0.0, \"#0d0887\"], [0.1111111111111111, \"#46039f\"], [0.2222222222222222, \"#7201a8\"], [0.3333333333333333, \"#9c179e\"], [0.4444444444444444, \"#bd3786\"], [0.5555555555555556, \"#d8576b\"], [0.6666666666666666, \"#ed7953\"], [0.7777777777777778, \"#fb9f3a\"], [0.8888888888888888, \"#fdca26\"], [1.0, \"#f0f921\"]]}, \"colorway\": [\"#636efa\", \"#EF553B\", \"#00cc96\", \"#ab63fa\", \"#FFA15A\", \"#19d3f3\", \"#FF6692\", \"#B6E880\", \"#FF97FF\", \"#FECB52\"], \"font\": {\"color\": \"#2a3f5f\"}, \"geo\": {\"bgcolor\": \"white\", \"lakecolor\": \"white\", \"landcolor\": \"#E5ECF6\", \"showlakes\": true, \"showland\": true, \"subunitcolor\": \"white\"}, \"hoverlabel\": {\"align\": \"left\"}, \"hovermode\": \"closest\", \"mapbox\": {\"style\": \"light\"}, \"paper_bgcolor\": \"white\", \"plot_bgcolor\": \"#E5ECF6\", \"polar\": {\"angularaxis\": {\"gridcolor\": \"white\", \"linecolor\": \"white\", \"ticks\": \"\"}, \"bgcolor\": \"#E5ECF6\", \"radialaxis\": {\"gridcolor\": \"white\", \"linecolor\": \"white\", \"ticks\": \"\"}}, \"scene\": {\"xaxis\": {\"backgroundcolor\": \"#E5ECF6\", \"gridcolor\": \"white\", \"gridwidth\": 2, \"linecolor\": \"white\", \"showbackground\": true, \"ticks\": \"\", \"zerolinecolor\": \"white\"}, \"yaxis\": {\"backgroundcolor\": \"#E5ECF6\", \"gridcolor\": \"white\", \"gridwidth\": 2, \"linecolor\": \"white\", \"showbackground\": true, \"ticks\": \"\", \"zerolinecolor\": \"white\"}, \"zaxis\": {\"backgroundcolor\": \"#E5ECF6\", \"gridcolor\": \"white\", \"gridwidth\": 2, \"linecolor\": \"white\", \"showbackground\": true, \"ticks\": \"\", \"zerolinecolor\": \"white\"}}, \"shapedefaults\": {\"line\": {\"color\": \"#2a3f5f\"}}, \"ternary\": {\"aaxis\": {\"gridcolor\": \"white\", \"linecolor\": \"white\", \"ticks\": \"\"}, \"baxis\": {\"gridcolor\": \"white\", \"linecolor\": \"white\", \"ticks\": \"\"}, \"bgcolor\": \"#E5ECF6\", \"caxis\": {\"gridcolor\": \"white\", \"linecolor\": \"white\", \"ticks\": \"\"}}, \"title\": {\"x\": 0.05}, \"xaxis\": {\"automargin\": true, \"gridcolor\": \"white\", \"linecolor\": \"white\", \"ticks\": \"\", \"title\": {\"standoff\": 15}, \"zerolinecolor\": \"white\", \"zerolinewidth\": 2}, \"yaxis\": {\"automargin\": true, \"gridcolor\": \"white\", \"linecolor\": \"white\", \"ticks\": \"\", \"title\": {\"standoff\": 15}, \"zerolinecolor\": \"white\", \"zerolinewidth\": 2}}}, \"title\": {\"font\": {\"color\": \"black\", \"size\": 20}, \"text\": \"Top 10 bolwers stats of all Season\"}, \"yaxis\": {\"title\": {\"font\": {\"color\": \"black\", \"size\": 20}, \"text\": \"Various Statitics of Bowlers\"}}},\n",
       "                        {\"responsive\": true}\n",
       "                    ).then(function(){\n",
       "                            \n",
       "var gd = document.getElementById('58126579-9629-4b45-892b-309caa42ab6d');\n",
       "var x = new MutationObserver(function (mutations, observer) {{\n",
       "        var display = window.getComputedStyle(gd).display;\n",
       "        if (!display || display === 'none') {{\n",
       "            console.log([gd, 'removed!']);\n",
       "            Plotly.purge(gd);\n",
       "            observer.disconnect();\n",
       "        }}\n",
       "}});\n",
       "\n",
       "// Listen for the removal of the full notebook cells\n",
       "var notebookContainer = gd.closest('#notebook-container');\n",
       "if (notebookContainer) {{\n",
       "    x.observe(notebookContainer, {childList: true});\n",
       "}}\n",
       "\n",
       "// Listen for the clearing of the current output cell\n",
       "var outputEl = gd.closest('.output');\n",
       "if (outputEl) {{\n",
       "    x.observe(outputEl, {childList: true});\n",
       "}}\n",
       "\n",
       "                        })\n",
       "                };\n",
       "                });\n",
       "            </script>\n",
       "        </div>"
      ]
     },
     "metadata": {},
     "output_type": "display_data"
    }
   ],
   "source": [
    "top_10_bowlers =bowlers_stats[\n",
    "             (bowlers_stats['over'] > 20) &\n",
    "             (bowlers_stats['Wickets_By_Bowler'] > (5)) &\n",
    "             (bowlers_stats['avg_run_per_over'] < (8)) &\n",
    "             (bowlers_stats['Maiden_Overs'] > (0.21))\n",
    "             ].groupby(['season']).apply(top,column = 'Wickets_By_Bowler',n=1)\n",
    "trace_runs =  go.Scatter(\n",
    "                   x=  top_10_bowlers['season']+ ' : '+top_10_bowlers['bowler'],\n",
    "                   y = top_10_bowlers['bowleruns_conceded'],hovertext=top_10_bowlers['bowler'],\n",
    "                   text=top_10_bowlers['bowleruns_conceded'].astype(int),\n",
    "                   textposition = 'top left',\n",
    "                   mode ='lines+markers+text', name ='Runs_By_bowler',\n",
    "                   marker =dict(size=top_10_bowlers['over']*0.6,\n",
    "                                 color=top_10_bowlers['over'],\n",
    "                                 symbol='diamond-dot',\n",
    "                                 line ={'width':2}))\n",
    "\n",
    "trace_wickets =  go.Scatter(\n",
    "                   x=  top_10_bowlers['season']+ ' : '+top_10_bowlers['bowler'],\n",
    "                   y = top_10_bowlers['Wickets_By_Bowler']*3,hovertext=top_10_bowlers['bowler'],\n",
    "                   text=top_10_bowlers['Wickets_By_Bowler'].astype(int),\n",
    "                   textposition = 'top left',\n",
    "                   mode ='text+markers', name ='Wickets_By_bowler',\n",
    "                   marker =dict(size=top_10_bowlers['over'],\n",
    "                                 color=top_10_bowlers['over'],\n",
    "                                 symbol='pentagon',\n",
    "                                 line ={'width':2,'color':'red'}))\n",
    "trace_Maiden_Overs =  go.Scatter(\n",
    "                   x=  top_10_bowlers['season']+ ' : '+top_10_bowlers['bowler'],\n",
    "                   y = top_10_bowlers['Maiden_Overs'],hovertext=top_10_bowlers['bowler'],\n",
    "                   text=top_10_bowlers['Maiden_Overs'].astype(int),\n",
    "                   textposition = 'bottom right',\n",
    "                   mode ='lines+markers+text', name ='MaidenOver_By_bowler',\n",
    "                   marker =dict(size=top_10_bowlers['over']*0.6,\n",
    "                                 color=top_10_bowlers['over'],\n",
    "                                 symbol='star',\n",
    "                                 line ={'width':2,'color':'blue'}))\n",
    "trace_avg_runs =  go.Scatter(\n",
    "                   x=  top_10_bowlers['season']+ ' : '+top_10_bowlers['bowler'],hovertext=top_10_bowlers['bowler'],\n",
    "                   y = top_10_bowlers['avg_run_per_over']*35,\n",
    "                   text=top_10_bowlers['avg_run_per_over'].astype(int),\n",
    "                   textposition = 'middle center',\n",
    "                   mode ='markers+text', name ='AvgRuns_By_bowler',\n",
    "                   marker =dict(size=top_10_bowlers['over']*0.3,\n",
    "                                 color=top_10_bowlers['over'],\n",
    "                                 symbol='circle',\n",
    "                                 line ={'width':2,'color':'black'}))\n",
    "data_10_bowlers =[trace_runs,trace_wickets,trace_Maiden_Overs,trace_avg_runs]\n",
    "\n",
    "layout_10_bowlers = go.Layout(title =dict(text ='Top 10 bolwers stats of all Season', \n",
    "                                         font = {'size': 20,'color':'black'}),\n",
    "                             yaxis =dict(title_text = \"Various Statitics of Bowlers\",\n",
    "                                         title_font = {'size': 20,'color':'black'}))\n",
    "fig_10_bowlers = go.Figure(data=data_10_bowlers,layout =layout_10_bowlers)\n",
    "fig_10_bowlers.show()"
   ]
  },
  {
   "cell_type": "markdown",
   "metadata": {},
   "source": [
    "       Findings: \n",
    "           1. DJ Bravo & B Kumar have been in list of best bowlers as per stats twice. \n",
    "           2. Also Rashid Khan's number of wickets & maiden over counts been maximum in 2018 IPL\n",
    "           3. B Kumar & Z Khan has been evry econimical.\n",
    "           4. Rashid Khan & B Kumar has taken maximum wickets"
   ]
  },
  {
   "cell_type": "code",
   "execution_count": 48,
   "metadata": {},
   "outputs": [
    {
     "data": {
      "application/vnd.jupyter.widget-view+json": {
       "model_id": "c1466461aba44be6a4516c1ff29054f9",
       "version_major": 2,
       "version_minor": 0
      },
      "text/plain": [
       "interactive(children=(Dropdown(description='x', options=('2008', '2009', '2010', '2011', '2012', '2013', '2014…"
      ]
     },
     "metadata": {},
     "output_type": "display_data"
    }
   ],
   "source": [
    "# Top wicket taking bowlers in each IPL Season\n",
    "best5_wicket_taker =bowlers_stats.groupby('season')[['bowler','Wickets_By_Bowler','bowling_team']].\\\n",
    "apply(top,column='Wickets_By_Bowler',n= 5).reset_index().drop('level_1',axis=1).set_index('season')\n",
    "@interact\n",
    "def top5_wicket_taker(x= list(best5_wicket_taker.index.unique())):\n",
    "    data_best5_wicket_taker= [go.Scatter(x= x+' : '+best5_wicket_taker['bowler'].xs(x,axis=0),\n",
    "                y= best5_wicket_taker['Wickets_By_Bowler'].xs(x,axis=0),\n",
    "                mode='markers',\n",
    "                marker =dict(size=best5_wicket_taker['Wickets_By_Bowler'].xs(x,axis=0)*3,\n",
    "                color= best5_wicket_taker['Wickets_By_Bowler'].xs(x,axis=0),\n",
    "                symbol='triangle-up-open',\n",
    "                line ={'width':4})\n",
    "               )]\n",
    "    layout_best5_fldr_season =  go.Layout(title ='Top 5 Wicket Taking Bowlers in {} IPL'.format(x))\n",
    "    fig_best5_wicket_taker =go.Figure(data=data_best5_wicket_taker,layout=layout_best5_fldr_season)\n",
    "    fig_best5_wicket_taker.show()"
   ]
  },
  {
   "cell_type": "markdown",
   "metadata": {},
   "source": [
    "    Findings: Listing bowlers who apeared appearing in maximum number of Season.\n",
    "                1. Malinga: 2009,2010,2011,2012,2015\n",
    "                2. IK Pathan: 2009,2010\n",
    "                3. A Mishra: 2010,2011\n",
    "                4. DJ Bravo: 2013,2015\n",
    "                5. B Kumar: 2014,2016,2017\n",
    "                6. AJ Tye, Unadkat, Watson, Bumbra, H Panday(Once in last 3 seasons)\n",
    "        "
   ]
  },
  {
   "cell_type": "markdown",
   "metadata": {},
   "source": [
    "# 4.4 Who are the best batsman of all time and also in each season?"
   ]
  },
  {
   "cell_type": "code",
   "execution_count": 49,
   "metadata": {},
   "outputs": [
    {
     "data": {
      "text/html": [
       "<div>\n",
       "<style scoped>\n",
       "    .dataframe tbody tr th:only-of-type {\n",
       "        vertical-align: middle;\n",
       "    }\n",
       "\n",
       "    .dataframe tbody tr th {\n",
       "        vertical-align: top;\n",
       "    }\n",
       "\n",
       "    .dataframe thead th {\n",
       "        text-align: right;\n",
       "    }\n",
       "</style>\n",
       "<table border=\"1\" class=\"dataframe\">\n",
       "  <thead>\n",
       "    <tr style=\"text-align: right;\">\n",
       "      <th></th>\n",
       "      <th>season</th>\n",
       "      <th>batsman</th>\n",
       "      <th>matches_played</th>\n",
       "    </tr>\n",
       "  </thead>\n",
       "  <tbody>\n",
       "    <tr>\n",
       "      <th>0</th>\n",
       "      <td>2008</td>\n",
       "      <td>A Chopra</td>\n",
       "      <td>5</td>\n",
       "    </tr>\n",
       "    <tr>\n",
       "      <th>1</th>\n",
       "      <td>2008</td>\n",
       "      <td>A Kumble</td>\n",
       "      <td>4</td>\n",
       "    </tr>\n",
       "    <tr>\n",
       "      <th>2</th>\n",
       "      <td>2008</td>\n",
       "      <td>A Mishra</td>\n",
       "      <td>3</td>\n",
       "    </tr>\n",
       "    <tr>\n",
       "      <th>3</th>\n",
       "      <td>2008</td>\n",
       "      <td>A Mukund</td>\n",
       "      <td>1</td>\n",
       "    </tr>\n",
       "    <tr>\n",
       "      <th>4</th>\n",
       "      <td>2008</td>\n",
       "      <td>A Nehra</td>\n",
       "      <td>3</td>\n",
       "    </tr>\n",
       "    <tr>\n",
       "      <th>...</th>\n",
       "      <td>...</td>\n",
       "      <td>...</td>\n",
       "      <td>...</td>\n",
       "    </tr>\n",
       "    <tr>\n",
       "      <th>1664</th>\n",
       "      <td>2018</td>\n",
       "      <td>WP Saha</td>\n",
       "      <td>10</td>\n",
       "    </tr>\n",
       "    <tr>\n",
       "      <th>1665</th>\n",
       "      <td>2018</td>\n",
       "      <td>Washington Sundar</td>\n",
       "      <td>5</td>\n",
       "    </tr>\n",
       "    <tr>\n",
       "      <th>1666</th>\n",
       "      <td>2018</td>\n",
       "      <td>YK Pathan</td>\n",
       "      <td>13</td>\n",
       "    </tr>\n",
       "    <tr>\n",
       "      <th>1667</th>\n",
       "      <td>2018</td>\n",
       "      <td>YS Chahal</td>\n",
       "      <td>1</td>\n",
       "    </tr>\n",
       "    <tr>\n",
       "      <th>1668</th>\n",
       "      <td>2018</td>\n",
       "      <td>Yuvraj Singh</td>\n",
       "      <td>6</td>\n",
       "    </tr>\n",
       "  </tbody>\n",
       "</table>\n",
       "<p>1669 rows × 3 columns</p>\n",
       "</div>"
      ],
      "text/plain": [
       "     season            batsman  matches_played\n",
       "0      2008           A Chopra               5\n",
       "1      2008           A Kumble               4\n",
       "2      2008           A Mishra               3\n",
       "3      2008           A Mukund               1\n",
       "4      2008            A Nehra               3\n",
       "...     ...                ...             ...\n",
       "1664   2018            WP Saha              10\n",
       "1665   2018  Washington Sundar               5\n",
       "1666   2018          YK Pathan              13\n",
       "1667   2018          YS Chahal               1\n",
       "1668   2018       Yuvraj Singh               6\n",
       "\n",
       "[1669 rows x 3 columns]"
      ]
     },
     "execution_count": 49,
     "metadata": {},
     "output_type": "execute_result"
    }
   ],
   "source": [
    "# Total_Matches Played\n",
    "total_matches  = ipldf[['match_id','batsman','season']].drop_duplicates().groupby(['season','batsman']).count().reset_index().rename({'match_id':'matches_played'},axis=1)\n",
    "total_matches"
   ]
  },
  {
   "cell_type": "code",
   "execution_count": 50,
   "metadata": {},
   "outputs": [
    {
     "data": {
      "text/html": [
       "<div>\n",
       "<style scoped>\n",
       "    .dataframe tbody tr th:only-of-type {\n",
       "        vertical-align: middle;\n",
       "    }\n",
       "\n",
       "    .dataframe tbody tr th {\n",
       "        vertical-align: top;\n",
       "    }\n",
       "\n",
       "    .dataframe thead th {\n",
       "        text-align: right;\n",
       "    }\n",
       "</style>\n",
       "<table border=\"1\" class=\"dataframe\">\n",
       "  <thead>\n",
       "    <tr style=\"text-align: right;\">\n",
       "      <th></th>\n",
       "      <th>season</th>\n",
       "      <th>batsman</th>\n",
       "      <th>batsman_runs</th>\n",
       "    </tr>\n",
       "  </thead>\n",
       "  <tbody>\n",
       "    <tr>\n",
       "      <th>0</th>\n",
       "      <td>2008</td>\n",
       "      <td>A Chopra</td>\n",
       "      <td>42</td>\n",
       "    </tr>\n",
       "    <tr>\n",
       "      <th>1</th>\n",
       "      <td>2008</td>\n",
       "      <td>A Kumble</td>\n",
       "      <td>13</td>\n",
       "    </tr>\n",
       "    <tr>\n",
       "      <th>2</th>\n",
       "      <td>2008</td>\n",
       "      <td>A Mishra</td>\n",
       "      <td>37</td>\n",
       "    </tr>\n",
       "    <tr>\n",
       "      <th>3</th>\n",
       "      <td>2008</td>\n",
       "      <td>A Mukund</td>\n",
       "      <td>0</td>\n",
       "    </tr>\n",
       "    <tr>\n",
       "      <th>4</th>\n",
       "      <td>2008</td>\n",
       "      <td>A Nehra</td>\n",
       "      <td>3</td>\n",
       "    </tr>\n",
       "    <tr>\n",
       "      <th>...</th>\n",
       "      <td>...</td>\n",
       "      <td>...</td>\n",
       "      <td>...</td>\n",
       "    </tr>\n",
       "    <tr>\n",
       "      <th>1664</th>\n",
       "      <td>2018</td>\n",
       "      <td>WP Saha</td>\n",
       "      <td>130</td>\n",
       "    </tr>\n",
       "    <tr>\n",
       "      <th>1665</th>\n",
       "      <td>2018</td>\n",
       "      <td>Washington Sundar</td>\n",
       "      <td>68</td>\n",
       "    </tr>\n",
       "    <tr>\n",
       "      <th>1666</th>\n",
       "      <td>2018</td>\n",
       "      <td>YK Pathan</td>\n",
       "      <td>276</td>\n",
       "    </tr>\n",
       "    <tr>\n",
       "      <th>1667</th>\n",
       "      <td>2018</td>\n",
       "      <td>YS Chahal</td>\n",
       "      <td>1</td>\n",
       "    </tr>\n",
       "    <tr>\n",
       "      <th>1668</th>\n",
       "      <td>2018</td>\n",
       "      <td>Yuvraj Singh</td>\n",
       "      <td>66</td>\n",
       "    </tr>\n",
       "  </tbody>\n",
       "</table>\n",
       "<p>1669 rows × 3 columns</p>\n",
       "</div>"
      ],
      "text/plain": [
       "     season            batsman  batsman_runs\n",
       "0      2008           A Chopra            42\n",
       "1      2008           A Kumble            13\n",
       "2      2008           A Mishra            37\n",
       "3      2008           A Mukund             0\n",
       "4      2008            A Nehra             3\n",
       "...     ...                ...           ...\n",
       "1664   2018            WP Saha           130\n",
       "1665   2018  Washington Sundar            68\n",
       "1666   2018          YK Pathan           276\n",
       "1667   2018          YS Chahal             1\n",
       "1668   2018       Yuvraj Singh            66\n",
       "\n",
       "[1669 rows x 3 columns]"
      ]
     },
     "execution_count": 50,
     "metadata": {},
     "output_type": "execute_result"
    }
   ],
   "source": [
    "# Total Runs Scored\n",
    "total_runs =  ipldf.groupby(['season','batsman'])[['batsman_runs']].sum().reset_index()\n",
    "total_runs"
   ]
  },
  {
   "cell_type": "code",
   "execution_count": 51,
   "metadata": {},
   "outputs": [
    {
     "data": {
      "text/html": [
       "<div>\n",
       "<style scoped>\n",
       "    .dataframe tbody tr th:only-of-type {\n",
       "        vertical-align: middle;\n",
       "    }\n",
       "\n",
       "    .dataframe tbody tr th {\n",
       "        vertical-align: top;\n",
       "    }\n",
       "\n",
       "    .dataframe thead th {\n",
       "        text-align: right;\n",
       "    }\n",
       "</style>\n",
       "<table border=\"1\" class=\"dataframe\">\n",
       "  <thead>\n",
       "    <tr style=\"text-align: right;\">\n",
       "      <th></th>\n",
       "      <th></th>\n",
       "      <th>ball</th>\n",
       "      <th>batsman_runs</th>\n",
       "      <th>strike_rate</th>\n",
       "    </tr>\n",
       "    <tr>\n",
       "      <th>season</th>\n",
       "      <th>batsman</th>\n",
       "      <th></th>\n",
       "      <th></th>\n",
       "      <th></th>\n",
       "    </tr>\n",
       "  </thead>\n",
       "  <tbody>\n",
       "    <tr>\n",
       "      <th rowspan=\"5\" valign=\"top\">2008</th>\n",
       "      <th>A Chopra</th>\n",
       "      <td>55</td>\n",
       "      <td>42</td>\n",
       "      <td>59.977778</td>\n",
       "    </tr>\n",
       "    <tr>\n",
       "      <th>A Kumble</th>\n",
       "      <td>17</td>\n",
       "      <td>13</td>\n",
       "      <td>85.714286</td>\n",
       "    </tr>\n",
       "    <tr>\n",
       "      <th>A Mishra</th>\n",
       "      <td>42</td>\n",
       "      <td>37</td>\n",
       "      <td>72.291667</td>\n",
       "    </tr>\n",
       "    <tr>\n",
       "      <th>A Mukund</th>\n",
       "      <td>1</td>\n",
       "      <td>0</td>\n",
       "      <td>0.000000</td>\n",
       "    </tr>\n",
       "    <tr>\n",
       "      <th>A Nehra</th>\n",
       "      <td>13</td>\n",
       "      <td>3</td>\n",
       "      <td>23.333333</td>\n",
       "    </tr>\n",
       "    <tr>\n",
       "      <th>...</th>\n",
       "      <th>...</th>\n",
       "      <td>...</td>\n",
       "      <td>...</td>\n",
       "      <td>...</td>\n",
       "    </tr>\n",
       "    <tr>\n",
       "      <th rowspan=\"5\" valign=\"top\">2018</th>\n",
       "      <th>WP Saha</th>\n",
       "      <td>108</td>\n",
       "      <td>130</td>\n",
       "      <td>109.416667</td>\n",
       "    </tr>\n",
       "    <tr>\n",
       "      <th>Washington Sundar</th>\n",
       "      <td>40</td>\n",
       "      <td>68</td>\n",
       "      <td>171.904762</td>\n",
       "    </tr>\n",
       "    <tr>\n",
       "      <th>YK Pathan</th>\n",
       "      <td>211</td>\n",
       "      <td>276</td>\n",
       "      <td>128.155008</td>\n",
       "    </tr>\n",
       "    <tr>\n",
       "      <th>YS Chahal</th>\n",
       "      <td>4</td>\n",
       "      <td>1</td>\n",
       "      <td>25.000000</td>\n",
       "    </tr>\n",
       "    <tr>\n",
       "      <th>Yuvraj Singh</th>\n",
       "      <td>74</td>\n",
       "      <td>66</td>\n",
       "      <td>90.124092</td>\n",
       "    </tr>\n",
       "  </tbody>\n",
       "</table>\n",
       "<p>1669 rows × 3 columns</p>\n",
       "</div>"
      ],
      "text/plain": [
       "                          ball  batsman_runs  strike_rate\n",
       "season batsman                                           \n",
       "2008   A Chopra             55            42    59.977778\n",
       "       A Kumble             17            13    85.714286\n",
       "       A Mishra             42            37    72.291667\n",
       "       A Mukund              1             0     0.000000\n",
       "       A Nehra              13             3    23.333333\n",
       "...                        ...           ...          ...\n",
       "2018   WP Saha             108           130   109.416667\n",
       "       Washington Sundar    40            68   171.904762\n",
       "       YK Pathan           211           276   128.155008\n",
       "       YS Chahal             4             1    25.000000\n",
       "       Yuvraj Singh         74            66    90.124092\n",
       "\n",
       "[1669 rows x 3 columns]"
      ]
     },
     "execution_count": 51,
     "metadata": {},
     "output_type": "execute_result"
    }
   ],
   "source": [
    "# Calculating Strike Rate\n",
    "plr_runs_balls =ipldf.groupby(['season','match_id','batsman'])[['ball','batsman_runs']].agg({'ball':'count','batsman_runs':sum}).reset_index()\n",
    "plr_runs_balls['strike_rate']=plr_runs_balls['batsman_runs']*100/(plr_runs_balls['ball'])\n",
    "strikrate= plr_runs_balls.groupby(['season','batsman']).agg({'ball':sum,'batsman_runs':sum,'strike_rate':'mean'})\n",
    "strikrate"
   ]
  },
  {
   "cell_type": "code",
   "execution_count": 52,
   "metadata": {},
   "outputs": [],
   "source": [
    "# Counting Fours DataFrame\n",
    "fours = ipldf[['season','batsman','batsman_runs']]\\\n",
    "                    [\n",
    "                    (ipldf['batsman_runs']>=4) &\n",
    "                    (ipldf['batsman_runs']<6) \n",
    "                    ].groupby(['season','batsman']).count().reset_index().rename({'batsman_runs':'num_of_fours'},axis=1)\n",
    "# Counting sixes DataFrame\n",
    "sixes = ipldf[['season','batsman','batsman_runs']][ipldf['batsman_runs']>=6].groupby(['season','batsman']).\\\n",
    "count().reset_index().rename({'batsman_runs':'num_of_sixes'},axis=1)"
   ]
  },
  {
   "cell_type": "code",
   "execution_count": 53,
   "metadata": {},
   "outputs": [
    {
     "data": {
      "text/plain": [
       "batsman_runs     122.130018\n",
       "num_of_fours      14.978452\n",
       "num_of_sixes       7.257115\n",
       "avg_per_match     13.740251\n",
       "strike_rate       96.359469\n",
       "dtype: float64"
      ]
     },
     "execution_count": 53,
     "metadata": {},
     "output_type": "execute_result"
    }
   ],
   "source": [
    "# Full Stats of batsman\n",
    "batsman_stats= pd.merge(pd.merge\n",
    "                       (pd.merge\n",
    "                       (pd.merge\n",
    "                       (total_matches,total_runs, left_on =['season','batsman'],right_on=['season','batsman'],how ='left'),\n",
    "                       fours,left_on =['season','batsman'],right_on=['season','batsman'],how ='left'),\n",
    "                       sixes,left_on =['season','batsman'],right_on=['season','batsman'],how ='left'),\n",
    "                       strikrate,left_on =['season','batsman'],right_on=['season','batsman'],how ='left')\\\n",
    "                       .set_index('season').drop('batsman_runs_x',axis=1).rename({'batsman_runs_y':'batsman_runs'},axis=1)\n",
    "\n",
    "batsman_stats['avg_per_match'] = batsman_stats['batsman_runs']/batsman_stats['matches_played']\n",
    "\n",
    "\n",
    "batsman_stats[['batsman_runs','num_of_fours','num_of_sixes','avg_per_match','strike_rate']].mean()"
   ]
  },
  {
   "cell_type": "code",
   "execution_count": 54,
   "metadata": {},
   "outputs": [
    {
     "data": {
      "application/vnd.jupyter.widget-view+json": {
       "model_id": "e169ef02b259486fa3e6a31ee5d6304f",
       "version_major": 2,
       "version_minor": 0
      },
      "text/plain": [
       "interactive(children=(Dropdown(description='x', options=('2008', '2009', '2010', '2011', '2012', '2013', '2014…"
      ]
     },
     "metadata": {},
     "output_type": "display_data"
    }
   ],
   "source": [
    "best_batsman = batsman_stats[(batsman_stats['batsman_runs']>(122*2.5)) &\n",
    "                            (batsman_stats['num_of_fours']>(14)) &\n",
    "                            (batsman_stats['num_of_sixes']>(7)) &\n",
    "                            (batsman_stats['avg_per_match']>(13)) &\n",
    "                            (batsman_stats['strike_rate']>(96*1.24))    \n",
    "                            ]\n",
    "@interact\n",
    "def top_batsman(x= list(best_batsman.index.unique())):\n",
    "    trace_runs =   go.Scatter(\n",
    "                   x=  x+' : '+ best_batsman['batsman'].xs(x,axis=0),\n",
    "                   y = best_batsman['batsman_runs'].xs(x,axis=0),hovertext=best_batsman['batsman_runs'].xs(x,axis=0),\n",
    "                   mode ='markers+lines', name ='Batsman_Runs',\n",
    "                   line={'dash': 'solid'},\n",
    "                   marker =dict(size=best_batsman['batsman_runs'].xs(x,axis=0)/20,\n",
    "                                 color=best_batsman['batsman_runs'].xs(x,axis=0),\n",
    "                                 symbol='diamond-dot',\n",
    "                                 line ={'width':2,'color':'green'})) \n",
    "    trace_sixes =  go.Scatter(\n",
    "                   x= x+' : '+ best_batsman['batsman'].xs(x,axis=0),\n",
    "                   y = best_batsman['num_of_sixes'].xs(x,axis=0),hovertext=best_batsman['num_of_sixes'].xs(x,axis=0),\n",
    "                   mode ='markers+lines', name ='Number of Sixes',\n",
    "                   line={'dash': 'dash'},\n",
    "                   marker =dict(size=best_batsman['num_of_sixes'].xs(x,axis=0),\n",
    "                                 color=best_batsman['num_of_sixes'].xs(x,axis=0),\n",
    "                                 symbol='triangle-up-open',\n",
    "                                 line ={'width':2,'color':'red'})) \n",
    "    trace_fours =  go.Scatter(\n",
    "                   x=  x+' : '+best_batsman['batsman'].xs(x,axis=0),\n",
    "                   y = best_batsman['num_of_fours'].xs(x,axis=0),hovertext=best_batsman['num_of_fours'].xs(x,axis=0),\n",
    "                   mode ='markers+lines', name ='Number of Fours',\n",
    "                   marker =dict(size=best_batsman['num_of_fours'].xs(x,axis=0),\n",
    "                                 color=best_batsman['num_of_fours'].xs(x,axis=0),\n",
    "                                 symbol='circle',\n",
    "                                 line ={'width':2,'color':'red'}))\n",
    "    trace_avg_match =  go.Scatter(\n",
    "                   x= x+' : '+ best_batsman['batsman'].xs(x,axis=0),\n",
    "                   y = best_batsman['avg_per_match'].xs(x,axis=0)*4,hovertext=best_batsman['avg_per_match'].xs(x,axis=0),\n",
    "                   mode ='markers+lines', name ='Avg_per_match',\n",
    "                   line={'dash': 'dash'},\n",
    "                   marker =dict(size=best_batsman['avg_per_match'].xs(x,axis=0),\n",
    "                                 color=best_batsman['avg_per_match'].xs(x,axis=0),\n",
    "                                 symbol='star',\n",
    "                                 line ={'width':2,'color':'white'}))\n",
    "    \n",
    "    data_best_batsman   =   [trace_runs,trace_sixes,trace_fours,trace_avg_match]\n",
    "    layout_best_batsman =  go.Layout(title ='Stats of Top Batsman of in {} IPL Season'.format(x))\n",
    "    fig_best_batsman    =  go.Figure(data=data_best_batsman,layout=layout_best_batsman)\n",
    "    fig_best_batsman.show()\n"
   ]
  },
  {
   "cell_type": "markdown",
   "metadata": {},
   "source": [
    "    Findings: List of Players who appeared maximum number of times in top batsman each IP season.\n",
    "         1.de Villiers : 2013,2012,2014,,2015,2016,,2018\n",
    "         2.Dhoni;2008,2011,2014,,2018\n",
    "         3.Raina:2008,2009,2010,,2014,2017\n",
    "         4.V Kohli: 2010,2013,2015,2016,2018\n",
    "         5.SR Watson; 2011,2008,2013,2015,,2018\n",
    "         6.Gayle: 2011,2012,2013,2015,,2018       \n",
    "         7.DA warner:2014,2015,2016,2017\n",
    "         8.KL Rahul: 2014,2016,,2018\n"
   ]
  },
  {
   "cell_type": "code",
   "execution_count": 55,
   "metadata": {},
   "outputs": [
    {
     "data": {
      "application/vnd.plotly.v1+json": {
       "config": {
        "plotlyServerURL": "https://plot.ly"
       },
       "data": [
        {
         "marker": {
          "color": [
           616,
           572,
           618,
           608,
           733,
           733,
           660,
           562,
           973,
           641,
           747
          ]
         },
         "opacity": 0.8,
         "text": [
          616,
          572,
          618,
          608,
          733,
          733,
          660,
          562,
          973,
          641,
          747
         ],
         "textposition": "auto",
         "type": "bar",
         "width": 0.5,
         "x": [
          "2008 : SE Marsh",
          "2009 : ML Hayden",
          "2010 : SR Tendulkar",
          "2011 : CH Gayle",
          "2012 : CH Gayle",
          "2013 : MEK Hussey",
          "2014 : RV Uthappa",
          "2015 : DA Warner",
          "2016 : V Kohli",
          "2017 : DA Warner",
          "2018 : KS Williamson"
         ],
         "y": [
          616,
          572,
          618,
          608,
          733,
          733,
          660,
          562,
          973,
          641,
          747
         ]
        }
       ],
       "layout": {
        "template": {
         "data": {
          "bar": [
           {
            "error_x": {
             "color": "#2a3f5f"
            },
            "error_y": {
             "color": "#2a3f5f"
            },
            "marker": {
             "line": {
              "color": "#E5ECF6",
              "width": 0.5
             }
            },
            "type": "bar"
           }
          ],
          "barpolar": [
           {
            "marker": {
             "line": {
              "color": "#E5ECF6",
              "width": 0.5
             }
            },
            "type": "barpolar"
           }
          ],
          "carpet": [
           {
            "aaxis": {
             "endlinecolor": "#2a3f5f",
             "gridcolor": "white",
             "linecolor": "white",
             "minorgridcolor": "white",
             "startlinecolor": "#2a3f5f"
            },
            "baxis": {
             "endlinecolor": "#2a3f5f",
             "gridcolor": "white",
             "linecolor": "white",
             "minorgridcolor": "white",
             "startlinecolor": "#2a3f5f"
            },
            "type": "carpet"
           }
          ],
          "choropleth": [
           {
            "colorbar": {
             "outlinewidth": 0,
             "ticks": ""
            },
            "type": "choropleth"
           }
          ],
          "contour": [
           {
            "colorbar": {
             "outlinewidth": 0,
             "ticks": ""
            },
            "colorscale": [
             [
              0,
              "#0d0887"
             ],
             [
              0.1111111111111111,
              "#46039f"
             ],
             [
              0.2222222222222222,
              "#7201a8"
             ],
             [
              0.3333333333333333,
              "#9c179e"
             ],
             [
              0.4444444444444444,
              "#bd3786"
             ],
             [
              0.5555555555555556,
              "#d8576b"
             ],
             [
              0.6666666666666666,
              "#ed7953"
             ],
             [
              0.7777777777777778,
              "#fb9f3a"
             ],
             [
              0.8888888888888888,
              "#fdca26"
             ],
             [
              1,
              "#f0f921"
             ]
            ],
            "type": "contour"
           }
          ],
          "contourcarpet": [
           {
            "colorbar": {
             "outlinewidth": 0,
             "ticks": ""
            },
            "type": "contourcarpet"
           }
          ],
          "heatmap": [
           {
            "colorbar": {
             "outlinewidth": 0,
             "ticks": ""
            },
            "colorscale": [
             [
              0,
              "#0d0887"
             ],
             [
              0.1111111111111111,
              "#46039f"
             ],
             [
              0.2222222222222222,
              "#7201a8"
             ],
             [
              0.3333333333333333,
              "#9c179e"
             ],
             [
              0.4444444444444444,
              "#bd3786"
             ],
             [
              0.5555555555555556,
              "#d8576b"
             ],
             [
              0.6666666666666666,
              "#ed7953"
             ],
             [
              0.7777777777777778,
              "#fb9f3a"
             ],
             [
              0.8888888888888888,
              "#fdca26"
             ],
             [
              1,
              "#f0f921"
             ]
            ],
            "type": "heatmap"
           }
          ],
          "heatmapgl": [
           {
            "colorbar": {
             "outlinewidth": 0,
             "ticks": ""
            },
            "colorscale": [
             [
              0,
              "#0d0887"
             ],
             [
              0.1111111111111111,
              "#46039f"
             ],
             [
              0.2222222222222222,
              "#7201a8"
             ],
             [
              0.3333333333333333,
              "#9c179e"
             ],
             [
              0.4444444444444444,
              "#bd3786"
             ],
             [
              0.5555555555555556,
              "#d8576b"
             ],
             [
              0.6666666666666666,
              "#ed7953"
             ],
             [
              0.7777777777777778,
              "#fb9f3a"
             ],
             [
              0.8888888888888888,
              "#fdca26"
             ],
             [
              1,
              "#f0f921"
             ]
            ],
            "type": "heatmapgl"
           }
          ],
          "histogram": [
           {
            "marker": {
             "colorbar": {
              "outlinewidth": 0,
              "ticks": ""
             }
            },
            "type": "histogram"
           }
          ],
          "histogram2d": [
           {
            "colorbar": {
             "outlinewidth": 0,
             "ticks": ""
            },
            "colorscale": [
             [
              0,
              "#0d0887"
             ],
             [
              0.1111111111111111,
              "#46039f"
             ],
             [
              0.2222222222222222,
              "#7201a8"
             ],
             [
              0.3333333333333333,
              "#9c179e"
             ],
             [
              0.4444444444444444,
              "#bd3786"
             ],
             [
              0.5555555555555556,
              "#d8576b"
             ],
             [
              0.6666666666666666,
              "#ed7953"
             ],
             [
              0.7777777777777778,
              "#fb9f3a"
             ],
             [
              0.8888888888888888,
              "#fdca26"
             ],
             [
              1,
              "#f0f921"
             ]
            ],
            "type": "histogram2d"
           }
          ],
          "histogram2dcontour": [
           {
            "colorbar": {
             "outlinewidth": 0,
             "ticks": ""
            },
            "colorscale": [
             [
              0,
              "#0d0887"
             ],
             [
              0.1111111111111111,
              "#46039f"
             ],
             [
              0.2222222222222222,
              "#7201a8"
             ],
             [
              0.3333333333333333,
              "#9c179e"
             ],
             [
              0.4444444444444444,
              "#bd3786"
             ],
             [
              0.5555555555555556,
              "#d8576b"
             ],
             [
              0.6666666666666666,
              "#ed7953"
             ],
             [
              0.7777777777777778,
              "#fb9f3a"
             ],
             [
              0.8888888888888888,
              "#fdca26"
             ],
             [
              1,
              "#f0f921"
             ]
            ],
            "type": "histogram2dcontour"
           }
          ],
          "mesh3d": [
           {
            "colorbar": {
             "outlinewidth": 0,
             "ticks": ""
            },
            "type": "mesh3d"
           }
          ],
          "parcoords": [
           {
            "line": {
             "colorbar": {
              "outlinewidth": 0,
              "ticks": ""
             }
            },
            "type": "parcoords"
           }
          ],
          "pie": [
           {
            "automargin": true,
            "type": "pie"
           }
          ],
          "scatter": [
           {
            "marker": {
             "colorbar": {
              "outlinewidth": 0,
              "ticks": ""
             }
            },
            "type": "scatter"
           }
          ],
          "scatter3d": [
           {
            "line": {
             "colorbar": {
              "outlinewidth": 0,
              "ticks": ""
             }
            },
            "marker": {
             "colorbar": {
              "outlinewidth": 0,
              "ticks": ""
             }
            },
            "type": "scatter3d"
           }
          ],
          "scattercarpet": [
           {
            "marker": {
             "colorbar": {
              "outlinewidth": 0,
              "ticks": ""
             }
            },
            "type": "scattercarpet"
           }
          ],
          "scattergeo": [
           {
            "marker": {
             "colorbar": {
              "outlinewidth": 0,
              "ticks": ""
             }
            },
            "type": "scattergeo"
           }
          ],
          "scattergl": [
           {
            "marker": {
             "colorbar": {
              "outlinewidth": 0,
              "ticks": ""
             }
            },
            "type": "scattergl"
           }
          ],
          "scattermapbox": [
           {
            "marker": {
             "colorbar": {
              "outlinewidth": 0,
              "ticks": ""
             }
            },
            "type": "scattermapbox"
           }
          ],
          "scatterpolar": [
           {
            "marker": {
             "colorbar": {
              "outlinewidth": 0,
              "ticks": ""
             }
            },
            "type": "scatterpolar"
           }
          ],
          "scatterpolargl": [
           {
            "marker": {
             "colorbar": {
              "outlinewidth": 0,
              "ticks": ""
             }
            },
            "type": "scatterpolargl"
           }
          ],
          "scatterternary": [
           {
            "marker": {
             "colorbar": {
              "outlinewidth": 0,
              "ticks": ""
             }
            },
            "type": "scatterternary"
           }
          ],
          "surface": [
           {
            "colorbar": {
             "outlinewidth": 0,
             "ticks": ""
            },
            "colorscale": [
             [
              0,
              "#0d0887"
             ],
             [
              0.1111111111111111,
              "#46039f"
             ],
             [
              0.2222222222222222,
              "#7201a8"
             ],
             [
              0.3333333333333333,
              "#9c179e"
             ],
             [
              0.4444444444444444,
              "#bd3786"
             ],
             [
              0.5555555555555556,
              "#d8576b"
             ],
             [
              0.6666666666666666,
              "#ed7953"
             ],
             [
              0.7777777777777778,
              "#fb9f3a"
             ],
             [
              0.8888888888888888,
              "#fdca26"
             ],
             [
              1,
              "#f0f921"
             ]
            ],
            "type": "surface"
           }
          ],
          "table": [
           {
            "cells": {
             "fill": {
              "color": "#EBF0F8"
             },
             "line": {
              "color": "white"
             }
            },
            "header": {
             "fill": {
              "color": "#C8D4E3"
             },
             "line": {
              "color": "white"
             }
            },
            "type": "table"
           }
          ]
         },
         "layout": {
          "annotationdefaults": {
           "arrowcolor": "#2a3f5f",
           "arrowhead": 0,
           "arrowwidth": 1
          },
          "coloraxis": {
           "colorbar": {
            "outlinewidth": 0,
            "ticks": ""
           }
          },
          "colorscale": {
           "diverging": [
            [
             0,
             "#8e0152"
            ],
            [
             0.1,
             "#c51b7d"
            ],
            [
             0.2,
             "#de77ae"
            ],
            [
             0.3,
             "#f1b6da"
            ],
            [
             0.4,
             "#fde0ef"
            ],
            [
             0.5,
             "#f7f7f7"
            ],
            [
             0.6,
             "#e6f5d0"
            ],
            [
             0.7,
             "#b8e186"
            ],
            [
             0.8,
             "#7fbc41"
            ],
            [
             0.9,
             "#4d9221"
            ],
            [
             1,
             "#276419"
            ]
           ],
           "sequential": [
            [
             0,
             "#0d0887"
            ],
            [
             0.1111111111111111,
             "#46039f"
            ],
            [
             0.2222222222222222,
             "#7201a8"
            ],
            [
             0.3333333333333333,
             "#9c179e"
            ],
            [
             0.4444444444444444,
             "#bd3786"
            ],
            [
             0.5555555555555556,
             "#d8576b"
            ],
            [
             0.6666666666666666,
             "#ed7953"
            ],
            [
             0.7777777777777778,
             "#fb9f3a"
            ],
            [
             0.8888888888888888,
             "#fdca26"
            ],
            [
             1,
             "#f0f921"
            ]
           ],
           "sequentialminus": [
            [
             0,
             "#0d0887"
            ],
            [
             0.1111111111111111,
             "#46039f"
            ],
            [
             0.2222222222222222,
             "#7201a8"
            ],
            [
             0.3333333333333333,
             "#9c179e"
            ],
            [
             0.4444444444444444,
             "#bd3786"
            ],
            [
             0.5555555555555556,
             "#d8576b"
            ],
            [
             0.6666666666666666,
             "#ed7953"
            ],
            [
             0.7777777777777778,
             "#fb9f3a"
            ],
            [
             0.8888888888888888,
             "#fdca26"
            ],
            [
             1,
             "#f0f921"
            ]
           ]
          },
          "colorway": [
           "#636efa",
           "#EF553B",
           "#00cc96",
           "#ab63fa",
           "#FFA15A",
           "#19d3f3",
           "#FF6692",
           "#B6E880",
           "#FF97FF",
           "#FECB52"
          ],
          "font": {
           "color": "#2a3f5f"
          },
          "geo": {
           "bgcolor": "white",
           "lakecolor": "white",
           "landcolor": "#E5ECF6",
           "showlakes": true,
           "showland": true,
           "subunitcolor": "white"
          },
          "hoverlabel": {
           "align": "left"
          },
          "hovermode": "closest",
          "mapbox": {
           "style": "light"
          },
          "paper_bgcolor": "white",
          "plot_bgcolor": "#E5ECF6",
          "polar": {
           "angularaxis": {
            "gridcolor": "white",
            "linecolor": "white",
            "ticks": ""
           },
           "bgcolor": "#E5ECF6",
           "radialaxis": {
            "gridcolor": "white",
            "linecolor": "white",
            "ticks": ""
           }
          },
          "scene": {
           "xaxis": {
            "backgroundcolor": "#E5ECF6",
            "gridcolor": "white",
            "gridwidth": 2,
            "linecolor": "white",
            "showbackground": true,
            "ticks": "",
            "zerolinecolor": "white"
           },
           "yaxis": {
            "backgroundcolor": "#E5ECF6",
            "gridcolor": "white",
            "gridwidth": 2,
            "linecolor": "white",
            "showbackground": true,
            "ticks": "",
            "zerolinecolor": "white"
           },
           "zaxis": {
            "backgroundcolor": "#E5ECF6",
            "gridcolor": "white",
            "gridwidth": 2,
            "linecolor": "white",
            "showbackground": true,
            "ticks": "",
            "zerolinecolor": "white"
           }
          },
          "shapedefaults": {
           "line": {
            "color": "#2a3f5f"
           }
          },
          "ternary": {
           "aaxis": {
            "gridcolor": "white",
            "linecolor": "white",
            "ticks": ""
           },
           "baxis": {
            "gridcolor": "white",
            "linecolor": "white",
            "ticks": ""
           },
           "bgcolor": "#E5ECF6",
           "caxis": {
            "gridcolor": "white",
            "linecolor": "white",
            "ticks": ""
           }
          },
          "title": {
           "x": 0.05
          },
          "xaxis": {
           "automargin": true,
           "gridcolor": "white",
           "linecolor": "white",
           "ticks": "",
           "title": {
            "standoff": 15
           },
           "zerolinecolor": "white",
           "zerolinewidth": 2
          },
          "yaxis": {
           "automargin": true,
           "gridcolor": "white",
           "linecolor": "white",
           "ticks": "",
           "title": {
            "standoff": 15
           },
           "zerolinecolor": "white",
           "zerolinewidth": 2
          }
         }
        },
        "title": {
         "font": {
          "color": "black",
          "size": 20
         },
         "text": "Top 10 run getters in all IPL Season"
        },
        "yaxis": {
         "title": {
          "font": {
           "color": "black",
           "size": 20
          },
          "text": "Run Scored"
         }
        }
       }
      },
      "text/html": [
       "<div>\n",
       "        \n",
       "        \n",
       "            <div id=\"81b1af46-2216-4609-a5e2-21143b6045cd\" class=\"plotly-graph-div\" style=\"height:525px; width:100%;\"></div>\n",
       "            <script type=\"text/javascript\">\n",
       "                require([\"plotly\"], function(Plotly) {\n",
       "                    window.PLOTLYENV=window.PLOTLYENV || {};\n",
       "                    \n",
       "                if (document.getElementById(\"81b1af46-2216-4609-a5e2-21143b6045cd\")) {\n",
       "                    Plotly.newPlot(\n",
       "                        '81b1af46-2216-4609-a5e2-21143b6045cd',\n",
       "                        [{\"marker\": {\"color\": [616, 572, 618, 608, 733, 733, 660, 562, 973, 641, 747]}, \"opacity\": 0.8, \"text\": [616.0, 572.0, 618.0, 608.0, 733.0, 733.0, 660.0, 562.0, 973.0, 641.0, 747.0], \"textposition\": \"auto\", \"type\": \"bar\", \"width\": 0.5, \"x\": [\"2008 : SE Marsh\", \"2009 : ML Hayden\", \"2010 : SR Tendulkar\", \"2011 : CH Gayle\", \"2012 : CH Gayle\", \"2013 : MEK Hussey\", \"2014 : RV Uthappa\", \"2015 : DA Warner\", \"2016 : V Kohli\", \"2017 : DA Warner\", \"2018 : KS Williamson\"], \"y\": [616, 572, 618, 608, 733, 733, 660, 562, 973, 641, 747]}],\n",
       "                        {\"template\": {\"data\": {\"bar\": [{\"error_x\": {\"color\": \"#2a3f5f\"}, \"error_y\": {\"color\": \"#2a3f5f\"}, \"marker\": {\"line\": {\"color\": \"#E5ECF6\", \"width\": 0.5}}, \"type\": \"bar\"}], \"barpolar\": [{\"marker\": {\"line\": {\"color\": \"#E5ECF6\", \"width\": 0.5}}, \"type\": \"barpolar\"}], \"carpet\": [{\"aaxis\": {\"endlinecolor\": \"#2a3f5f\", \"gridcolor\": \"white\", \"linecolor\": \"white\", \"minorgridcolor\": \"white\", \"startlinecolor\": \"#2a3f5f\"}, \"baxis\": {\"endlinecolor\": \"#2a3f5f\", \"gridcolor\": \"white\", \"linecolor\": \"white\", \"minorgridcolor\": \"white\", \"startlinecolor\": \"#2a3f5f\"}, \"type\": \"carpet\"}], \"choropleth\": [{\"colorbar\": {\"outlinewidth\": 0, \"ticks\": \"\"}, \"type\": \"choropleth\"}], \"contour\": [{\"colorbar\": {\"outlinewidth\": 0, \"ticks\": \"\"}, \"colorscale\": [[0.0, \"#0d0887\"], [0.1111111111111111, \"#46039f\"], [0.2222222222222222, \"#7201a8\"], [0.3333333333333333, \"#9c179e\"], [0.4444444444444444, \"#bd3786\"], [0.5555555555555556, \"#d8576b\"], [0.6666666666666666, \"#ed7953\"], [0.7777777777777778, \"#fb9f3a\"], [0.8888888888888888, \"#fdca26\"], [1.0, \"#f0f921\"]], \"type\": \"contour\"}], \"contourcarpet\": [{\"colorbar\": {\"outlinewidth\": 0, \"ticks\": \"\"}, \"type\": \"contourcarpet\"}], \"heatmap\": [{\"colorbar\": {\"outlinewidth\": 0, \"ticks\": \"\"}, \"colorscale\": [[0.0, \"#0d0887\"], [0.1111111111111111, \"#46039f\"], [0.2222222222222222, \"#7201a8\"], [0.3333333333333333, \"#9c179e\"], [0.4444444444444444, \"#bd3786\"], [0.5555555555555556, \"#d8576b\"], [0.6666666666666666, \"#ed7953\"], [0.7777777777777778, \"#fb9f3a\"], [0.8888888888888888, \"#fdca26\"], [1.0, \"#f0f921\"]], \"type\": \"heatmap\"}], \"heatmapgl\": [{\"colorbar\": {\"outlinewidth\": 0, \"ticks\": \"\"}, \"colorscale\": [[0.0, \"#0d0887\"], [0.1111111111111111, \"#46039f\"], [0.2222222222222222, \"#7201a8\"], [0.3333333333333333, \"#9c179e\"], [0.4444444444444444, \"#bd3786\"], [0.5555555555555556, \"#d8576b\"], [0.6666666666666666, \"#ed7953\"], [0.7777777777777778, \"#fb9f3a\"], [0.8888888888888888, \"#fdca26\"], [1.0, \"#f0f921\"]], \"type\": \"heatmapgl\"}], \"histogram\": [{\"marker\": {\"colorbar\": {\"outlinewidth\": 0, \"ticks\": \"\"}}, \"type\": \"histogram\"}], \"histogram2d\": [{\"colorbar\": {\"outlinewidth\": 0, \"ticks\": \"\"}, \"colorscale\": [[0.0, \"#0d0887\"], [0.1111111111111111, \"#46039f\"], [0.2222222222222222, \"#7201a8\"], [0.3333333333333333, \"#9c179e\"], [0.4444444444444444, \"#bd3786\"], [0.5555555555555556, \"#d8576b\"], [0.6666666666666666, \"#ed7953\"], [0.7777777777777778, \"#fb9f3a\"], [0.8888888888888888, \"#fdca26\"], [1.0, \"#f0f921\"]], \"type\": \"histogram2d\"}], \"histogram2dcontour\": [{\"colorbar\": {\"outlinewidth\": 0, \"ticks\": \"\"}, \"colorscale\": [[0.0, \"#0d0887\"], [0.1111111111111111, \"#46039f\"], [0.2222222222222222, \"#7201a8\"], [0.3333333333333333, \"#9c179e\"], [0.4444444444444444, \"#bd3786\"], [0.5555555555555556, \"#d8576b\"], [0.6666666666666666, \"#ed7953\"], [0.7777777777777778, \"#fb9f3a\"], [0.8888888888888888, \"#fdca26\"], [1.0, \"#f0f921\"]], \"type\": \"histogram2dcontour\"}], \"mesh3d\": [{\"colorbar\": {\"outlinewidth\": 0, \"ticks\": \"\"}, \"type\": \"mesh3d\"}], \"parcoords\": [{\"line\": {\"colorbar\": {\"outlinewidth\": 0, \"ticks\": \"\"}}, \"type\": \"parcoords\"}], \"pie\": [{\"automargin\": true, \"type\": \"pie\"}], \"scatter\": [{\"marker\": {\"colorbar\": {\"outlinewidth\": 0, \"ticks\": \"\"}}, \"type\": \"scatter\"}], \"scatter3d\": [{\"line\": {\"colorbar\": {\"outlinewidth\": 0, \"ticks\": \"\"}}, \"marker\": {\"colorbar\": {\"outlinewidth\": 0, \"ticks\": \"\"}}, \"type\": \"scatter3d\"}], \"scattercarpet\": [{\"marker\": {\"colorbar\": {\"outlinewidth\": 0, \"ticks\": \"\"}}, \"type\": \"scattercarpet\"}], \"scattergeo\": [{\"marker\": {\"colorbar\": {\"outlinewidth\": 0, \"ticks\": \"\"}}, \"type\": \"scattergeo\"}], \"scattergl\": [{\"marker\": {\"colorbar\": {\"outlinewidth\": 0, \"ticks\": \"\"}}, \"type\": \"scattergl\"}], \"scattermapbox\": [{\"marker\": {\"colorbar\": {\"outlinewidth\": 0, \"ticks\": \"\"}}, \"type\": \"scattermapbox\"}], \"scatterpolar\": [{\"marker\": {\"colorbar\": {\"outlinewidth\": 0, \"ticks\": \"\"}}, \"type\": \"scatterpolar\"}], \"scatterpolargl\": [{\"marker\": {\"colorbar\": {\"outlinewidth\": 0, \"ticks\": \"\"}}, \"type\": \"scatterpolargl\"}], \"scatterternary\": [{\"marker\": {\"colorbar\": {\"outlinewidth\": 0, \"ticks\": \"\"}}, \"type\": \"scatterternary\"}], \"surface\": [{\"colorbar\": {\"outlinewidth\": 0, \"ticks\": \"\"}, \"colorscale\": [[0.0, \"#0d0887\"], [0.1111111111111111, \"#46039f\"], [0.2222222222222222, \"#7201a8\"], [0.3333333333333333, \"#9c179e\"], [0.4444444444444444, \"#bd3786\"], [0.5555555555555556, \"#d8576b\"], [0.6666666666666666, \"#ed7953\"], [0.7777777777777778, \"#fb9f3a\"], [0.8888888888888888, \"#fdca26\"], [1.0, \"#f0f921\"]], \"type\": \"surface\"}], \"table\": [{\"cells\": {\"fill\": {\"color\": \"#EBF0F8\"}, \"line\": {\"color\": \"white\"}}, \"header\": {\"fill\": {\"color\": \"#C8D4E3\"}, \"line\": {\"color\": \"white\"}}, \"type\": \"table\"}]}, \"layout\": {\"annotationdefaults\": {\"arrowcolor\": \"#2a3f5f\", \"arrowhead\": 0, \"arrowwidth\": 1}, \"coloraxis\": {\"colorbar\": {\"outlinewidth\": 0, \"ticks\": \"\"}}, \"colorscale\": {\"diverging\": [[0, \"#8e0152\"], [0.1, \"#c51b7d\"], [0.2, \"#de77ae\"], [0.3, \"#f1b6da\"], [0.4, \"#fde0ef\"], [0.5, \"#f7f7f7\"], [0.6, \"#e6f5d0\"], [0.7, \"#b8e186\"], [0.8, \"#7fbc41\"], [0.9, \"#4d9221\"], [1, \"#276419\"]], \"sequential\": [[0.0, \"#0d0887\"], [0.1111111111111111, \"#46039f\"], [0.2222222222222222, \"#7201a8\"], [0.3333333333333333, \"#9c179e\"], [0.4444444444444444, \"#bd3786\"], [0.5555555555555556, \"#d8576b\"], [0.6666666666666666, \"#ed7953\"], [0.7777777777777778, \"#fb9f3a\"], [0.8888888888888888, \"#fdca26\"], [1.0, \"#f0f921\"]], \"sequentialminus\": [[0.0, \"#0d0887\"], [0.1111111111111111, \"#46039f\"], [0.2222222222222222, \"#7201a8\"], [0.3333333333333333, \"#9c179e\"], [0.4444444444444444, \"#bd3786\"], [0.5555555555555556, \"#d8576b\"], [0.6666666666666666, \"#ed7953\"], [0.7777777777777778, \"#fb9f3a\"], [0.8888888888888888, \"#fdca26\"], [1.0, \"#f0f921\"]]}, \"colorway\": [\"#636efa\", \"#EF553B\", \"#00cc96\", \"#ab63fa\", \"#FFA15A\", \"#19d3f3\", \"#FF6692\", \"#B6E880\", \"#FF97FF\", \"#FECB52\"], \"font\": {\"color\": \"#2a3f5f\"}, \"geo\": {\"bgcolor\": \"white\", \"lakecolor\": \"white\", \"landcolor\": \"#E5ECF6\", \"showlakes\": true, \"showland\": true, \"subunitcolor\": \"white\"}, \"hoverlabel\": {\"align\": \"left\"}, \"hovermode\": \"closest\", \"mapbox\": {\"style\": \"light\"}, \"paper_bgcolor\": \"white\", \"plot_bgcolor\": \"#E5ECF6\", \"polar\": {\"angularaxis\": {\"gridcolor\": \"white\", \"linecolor\": \"white\", \"ticks\": \"\"}, \"bgcolor\": \"#E5ECF6\", \"radialaxis\": {\"gridcolor\": \"white\", \"linecolor\": \"white\", \"ticks\": \"\"}}, \"scene\": {\"xaxis\": {\"backgroundcolor\": \"#E5ECF6\", \"gridcolor\": \"white\", \"gridwidth\": 2, \"linecolor\": \"white\", \"showbackground\": true, \"ticks\": \"\", \"zerolinecolor\": \"white\"}, \"yaxis\": {\"backgroundcolor\": \"#E5ECF6\", \"gridcolor\": \"white\", \"gridwidth\": 2, \"linecolor\": \"white\", \"showbackground\": true, \"ticks\": \"\", \"zerolinecolor\": \"white\"}, \"zaxis\": {\"backgroundcolor\": \"#E5ECF6\", \"gridcolor\": \"white\", \"gridwidth\": 2, \"linecolor\": \"white\", \"showbackground\": true, \"ticks\": \"\", \"zerolinecolor\": \"white\"}}, \"shapedefaults\": {\"line\": {\"color\": \"#2a3f5f\"}}, \"ternary\": {\"aaxis\": {\"gridcolor\": \"white\", \"linecolor\": \"white\", \"ticks\": \"\"}, \"baxis\": {\"gridcolor\": \"white\", \"linecolor\": \"white\", \"ticks\": \"\"}, \"bgcolor\": \"#E5ECF6\", \"caxis\": {\"gridcolor\": \"white\", \"linecolor\": \"white\", \"ticks\": \"\"}}, \"title\": {\"x\": 0.05}, \"xaxis\": {\"automargin\": true, \"gridcolor\": \"white\", \"linecolor\": \"white\", \"ticks\": \"\", \"title\": {\"standoff\": 15}, \"zerolinecolor\": \"white\", \"zerolinewidth\": 2}, \"yaxis\": {\"automargin\": true, \"gridcolor\": \"white\", \"linecolor\": \"white\", \"ticks\": \"\", \"title\": {\"standoff\": 15}, \"zerolinecolor\": \"white\", \"zerolinewidth\": 2}}}, \"title\": {\"font\": {\"color\": \"black\", \"size\": 20}, \"text\": \"Top 10 run getters in all IPL Season\"}, \"yaxis\": {\"title\": {\"font\": {\"color\": \"black\", \"size\": 20}, \"text\": \"Run Scored\"}}},\n",
       "                        {\"responsive\": true}\n",
       "                    ).then(function(){\n",
       "                            \n",
       "var gd = document.getElementById('81b1af46-2216-4609-a5e2-21143b6045cd');\n",
       "var x = new MutationObserver(function (mutations, observer) {{\n",
       "        var display = window.getComputedStyle(gd).display;\n",
       "        if (!display || display === 'none') {{\n",
       "            console.log([gd, 'removed!']);\n",
       "            Plotly.purge(gd);\n",
       "            observer.disconnect();\n",
       "        }}\n",
       "}});\n",
       "\n",
       "// Listen for the removal of the full notebook cells\n",
       "var notebookContainer = gd.closest('#notebook-container');\n",
       "if (notebookContainer) {{\n",
       "    x.observe(notebookContainer, {childList: true});\n",
       "}}\n",
       "\n",
       "// Listen for the clearing of the current output cell\n",
       "var outputEl = gd.closest('.output');\n",
       "if (outputEl) {{\n",
       "    x.observe(outputEl, {childList: true});\n",
       "}}\n",
       "\n",
       "                        })\n",
       "                };\n",
       "                });\n",
       "            </script>\n",
       "        </div>"
      ]
     },
     "metadata": {},
     "output_type": "display_data"
    }
   ],
   "source": [
    "# Plotting highest run scorers of each season\n",
    "top_rungetters= ipldf.groupby(['season','batsman'])[['batsman_runs']].sum().reset_index()\n",
    "top_10_rungetters = top_rungetters.groupby('season')[['batsman','batsman_runs']].apply(top,n=1,column='batsman_runs').\\\n",
    "reset_index().drop('level_1',axis=1)\n",
    "data_top_10_rungetters = [go.Bar(x= top_10_rungetters['season']+' : '+top_10_rungetters['batsman'],\n",
    "                y= top_10_rungetters['batsman_runs'],\n",
    "                text=top_10_rungetters['batsman_runs'], opacity=.8,width=.5,\n",
    "                textposition= 'auto',\n",
    "                marker =dict(color = top_10_rungetters['batsman_runs'] )\n",
    "                 )]\n",
    "layout_top_10_rungetters = go.Layout(title =dict(text ='Top 10 run getters in all IPL Season', \n",
    "                                         font = {'size': 20,'color':'black'}),\n",
    "                             yaxis =dict(title_text = \"Run Scored\",\n",
    "                                         title_font = {'size': 20,'color':'black'})\n",
    "                            )\n",
    "fig_top_10_rungetters =go.Figure(data=data_top_10_rungetters,layout=layout_top_10_rungetters)\n",
    "fig_top_10_rungetters.show()"
   ]
  },
  {
   "cell_type": "markdown",
   "metadata": {},
   "source": [
    "       Finding:  \n",
    "               1. CH Gayle appeared twice in list of maximum runs in each IPL season.\n",
    "               2. V kohli highest score in all IPL seasons till now.               "
   ]
  },
  {
   "cell_type": "code",
   "execution_count": 56,
   "metadata": {},
   "outputs": [
    {
     "data": {
      "application/vnd.plotly.v1+json": {
       "config": {
        "plotlyServerURL": "https://plot.ly"
       },
       "data": [
        {
         "marker": {
          "color": "darkviolet"
         },
         "name": "Num_Of_Sixes",
         "text": [
          22,
          44,
          59,
          16,
          21,
          19,
          30,
          21,
          32,
          28,
          37
         ],
         "textfont": {
          "size": 1000
         },
         "textposition": "auto",
         "type": "bar",
         "x": [
          "2009 : ML Hayden",
          "2011 : CH Gayle",
          "2012 : CH Gayle",
          "2014 : M Vohra",
          "2015 : DA Warner",
          "2017 : CA Lynn",
          "2018 : AB de Villiers",
          "2018 : JC Buttler",
          "2018 : KL Rahul",
          "2018 : KS Williamson",
          "2018 : RR Pant"
         ],
         "y": [
          1100,
          2200,
          2950,
          800,
          1050,
          950,
          1500,
          1050,
          1600,
          1400,
          1850
         ]
        },
        {
         "marker": {
          "color": "orange"
         },
         "name": "Avg_Per_Match",
         "text": [
          47,
          50,
          52,
          40,
          40,
          42,
          44,
          44,
          48,
          43,
          51
         ],
         "textfont": {
          "size": 1000
         },
         "textposition": "auto",
         "type": "bar",
         "x": [
          "2009 : ML Hayden",
          "2011 : CH Gayle",
          "2012 : CH Gayle",
          "2014 : M Vohra",
          "2015 : DA Warner",
          "2017 : CA Lynn",
          "2018 : AB de Villiers",
          "2018 : JC Buttler",
          "2018 : KL Rahul",
          "2018 : KS Williamson",
          "2018 : RR Pant"
         ],
         "y": [
          1906.6666666666665,
          2026.6666666666665,
          2094.285714285714,
          1620,
          1605.7142857142858,
          1685.7142857142858,
          1774.5454545454547,
          1766.1538461538462,
          1937.1428571428573,
          1757.6470588235293,
          2048.5714285714284
         ]
        },
        {
         "marker": {
          "color": "aqua"
         },
         "name": "Num_Of_Fours",
         "text": [
          60,
          57,
          46,
          28,
          65,
          25,
          39,
          54,
          67,
          64,
          71
         ],
         "textposition": "auto",
         "type": "bar",
         "x": [
          "2009 : ML Hayden",
          "2011 : CH Gayle",
          "2012 : CH Gayle",
          "2014 : M Vohra",
          "2015 : DA Warner",
          "2017 : CA Lynn",
          "2018 : AB de Villiers",
          "2018 : JC Buttler",
          "2018 : KL Rahul",
          "2018 : KS Williamson",
          "2018 : RR Pant"
         ],
         "y": [
          1800,
          1710,
          1380,
          840,
          1950,
          750,
          1170,
          1620,
          2010,
          1920,
          2130
         ]
        },
        {
         "marker": {
          "color": "seagreen"
         },
         "name": "Strike_Rate",
         "text": [
          136,
          159,
          137,
          139,
          144,
          174,
          142,
          145,
          159,
          134,
          151
         ],
         "textposition": "auto",
         "type": "bar",
         "x": [
          "2009 : ML Hayden",
          "2011 : CH Gayle",
          "2012 : CH Gayle",
          "2014 : M Vohra",
          "2015 : DA Warner",
          "2017 : CA Lynn",
          "2018 : AB de Villiers",
          "2018 : JC Buttler",
          "2018 : KL Rahul",
          "2018 : KS Williamson",
          "2018 : RR Pant"
         ],
         "y": [
          547.1629821466573,
          637.2831408275903,
          551.584986399182,
          559.0616620221883,
          576.7351133854851,
          698.6407105661764,
          568.0748635799436,
          582.4492275470409,
          637.7560908753305,
          538.4714438064664,
          607.9599031217573
         ]
        },
        {
         "marker": {
          "color": "yellow"
         },
         "name": "Batsman_Runs",
         "text": [
          572,
          608,
          733,
          324,
          562,
          295,
          488,
          574,
          678,
          747,
          717
         ],
         "textposition": "auto",
         "type": "bar",
         "x": [
          "2009 : ML Hayden",
          "2011 : CH Gayle",
          "2012 : CH Gayle",
          "2014 : M Vohra",
          "2015 : DA Warner",
          "2017 : CA Lynn",
          "2018 : AB de Villiers",
          "2018 : JC Buttler",
          "2018 : KL Rahul",
          "2018 : KS Williamson",
          "2018 : RR Pant"
         ],
         "y": [
          572,
          608,
          733,
          324,
          562,
          295,
          488,
          574,
          678,
          747,
          717
         ]
        }
       ],
       "layout": {
        "barmode": "stack",
        "template": {
         "data": {
          "bar": [
           {
            "error_x": {
             "color": "#2a3f5f"
            },
            "error_y": {
             "color": "#2a3f5f"
            },
            "marker": {
             "line": {
              "color": "#E5ECF6",
              "width": 0.5
             }
            },
            "type": "bar"
           }
          ],
          "barpolar": [
           {
            "marker": {
             "line": {
              "color": "#E5ECF6",
              "width": 0.5
             }
            },
            "type": "barpolar"
           }
          ],
          "carpet": [
           {
            "aaxis": {
             "endlinecolor": "#2a3f5f",
             "gridcolor": "white",
             "linecolor": "white",
             "minorgridcolor": "white",
             "startlinecolor": "#2a3f5f"
            },
            "baxis": {
             "endlinecolor": "#2a3f5f",
             "gridcolor": "white",
             "linecolor": "white",
             "minorgridcolor": "white",
             "startlinecolor": "#2a3f5f"
            },
            "type": "carpet"
           }
          ],
          "choropleth": [
           {
            "colorbar": {
             "outlinewidth": 0,
             "ticks": ""
            },
            "type": "choropleth"
           }
          ],
          "contour": [
           {
            "colorbar": {
             "outlinewidth": 0,
             "ticks": ""
            },
            "colorscale": [
             [
              0,
              "#0d0887"
             ],
             [
              0.1111111111111111,
              "#46039f"
             ],
             [
              0.2222222222222222,
              "#7201a8"
             ],
             [
              0.3333333333333333,
              "#9c179e"
             ],
             [
              0.4444444444444444,
              "#bd3786"
             ],
             [
              0.5555555555555556,
              "#d8576b"
             ],
             [
              0.6666666666666666,
              "#ed7953"
             ],
             [
              0.7777777777777778,
              "#fb9f3a"
             ],
             [
              0.8888888888888888,
              "#fdca26"
             ],
             [
              1,
              "#f0f921"
             ]
            ],
            "type": "contour"
           }
          ],
          "contourcarpet": [
           {
            "colorbar": {
             "outlinewidth": 0,
             "ticks": ""
            },
            "type": "contourcarpet"
           }
          ],
          "heatmap": [
           {
            "colorbar": {
             "outlinewidth": 0,
             "ticks": ""
            },
            "colorscale": [
             [
              0,
              "#0d0887"
             ],
             [
              0.1111111111111111,
              "#46039f"
             ],
             [
              0.2222222222222222,
              "#7201a8"
             ],
             [
              0.3333333333333333,
              "#9c179e"
             ],
             [
              0.4444444444444444,
              "#bd3786"
             ],
             [
              0.5555555555555556,
              "#d8576b"
             ],
             [
              0.6666666666666666,
              "#ed7953"
             ],
             [
              0.7777777777777778,
              "#fb9f3a"
             ],
             [
              0.8888888888888888,
              "#fdca26"
             ],
             [
              1,
              "#f0f921"
             ]
            ],
            "type": "heatmap"
           }
          ],
          "heatmapgl": [
           {
            "colorbar": {
             "outlinewidth": 0,
             "ticks": ""
            },
            "colorscale": [
             [
              0,
              "#0d0887"
             ],
             [
              0.1111111111111111,
              "#46039f"
             ],
             [
              0.2222222222222222,
              "#7201a8"
             ],
             [
              0.3333333333333333,
              "#9c179e"
             ],
             [
              0.4444444444444444,
              "#bd3786"
             ],
             [
              0.5555555555555556,
              "#d8576b"
             ],
             [
              0.6666666666666666,
              "#ed7953"
             ],
             [
              0.7777777777777778,
              "#fb9f3a"
             ],
             [
              0.8888888888888888,
              "#fdca26"
             ],
             [
              1,
              "#f0f921"
             ]
            ],
            "type": "heatmapgl"
           }
          ],
          "histogram": [
           {
            "marker": {
             "colorbar": {
              "outlinewidth": 0,
              "ticks": ""
             }
            },
            "type": "histogram"
           }
          ],
          "histogram2d": [
           {
            "colorbar": {
             "outlinewidth": 0,
             "ticks": ""
            },
            "colorscale": [
             [
              0,
              "#0d0887"
             ],
             [
              0.1111111111111111,
              "#46039f"
             ],
             [
              0.2222222222222222,
              "#7201a8"
             ],
             [
              0.3333333333333333,
              "#9c179e"
             ],
             [
              0.4444444444444444,
              "#bd3786"
             ],
             [
              0.5555555555555556,
              "#d8576b"
             ],
             [
              0.6666666666666666,
              "#ed7953"
             ],
             [
              0.7777777777777778,
              "#fb9f3a"
             ],
             [
              0.8888888888888888,
              "#fdca26"
             ],
             [
              1,
              "#f0f921"
             ]
            ],
            "type": "histogram2d"
           }
          ],
          "histogram2dcontour": [
           {
            "colorbar": {
             "outlinewidth": 0,
             "ticks": ""
            },
            "colorscale": [
             [
              0,
              "#0d0887"
             ],
             [
              0.1111111111111111,
              "#46039f"
             ],
             [
              0.2222222222222222,
              "#7201a8"
             ],
             [
              0.3333333333333333,
              "#9c179e"
             ],
             [
              0.4444444444444444,
              "#bd3786"
             ],
             [
              0.5555555555555556,
              "#d8576b"
             ],
             [
              0.6666666666666666,
              "#ed7953"
             ],
             [
              0.7777777777777778,
              "#fb9f3a"
             ],
             [
              0.8888888888888888,
              "#fdca26"
             ],
             [
              1,
              "#f0f921"
             ]
            ],
            "type": "histogram2dcontour"
           }
          ],
          "mesh3d": [
           {
            "colorbar": {
             "outlinewidth": 0,
             "ticks": ""
            },
            "type": "mesh3d"
           }
          ],
          "parcoords": [
           {
            "line": {
             "colorbar": {
              "outlinewidth": 0,
              "ticks": ""
             }
            },
            "type": "parcoords"
           }
          ],
          "pie": [
           {
            "automargin": true,
            "type": "pie"
           }
          ],
          "scatter": [
           {
            "marker": {
             "colorbar": {
              "outlinewidth": 0,
              "ticks": ""
             }
            },
            "type": "scatter"
           }
          ],
          "scatter3d": [
           {
            "line": {
             "colorbar": {
              "outlinewidth": 0,
              "ticks": ""
             }
            },
            "marker": {
             "colorbar": {
              "outlinewidth": 0,
              "ticks": ""
             }
            },
            "type": "scatter3d"
           }
          ],
          "scattercarpet": [
           {
            "marker": {
             "colorbar": {
              "outlinewidth": 0,
              "ticks": ""
             }
            },
            "type": "scattercarpet"
           }
          ],
          "scattergeo": [
           {
            "marker": {
             "colorbar": {
              "outlinewidth": 0,
              "ticks": ""
             }
            },
            "type": "scattergeo"
           }
          ],
          "scattergl": [
           {
            "marker": {
             "colorbar": {
              "outlinewidth": 0,
              "ticks": ""
             }
            },
            "type": "scattergl"
           }
          ],
          "scattermapbox": [
           {
            "marker": {
             "colorbar": {
              "outlinewidth": 0,
              "ticks": ""
             }
            },
            "type": "scattermapbox"
           }
          ],
          "scatterpolar": [
           {
            "marker": {
             "colorbar": {
              "outlinewidth": 0,
              "ticks": ""
             }
            },
            "type": "scatterpolar"
           }
          ],
          "scatterpolargl": [
           {
            "marker": {
             "colorbar": {
              "outlinewidth": 0,
              "ticks": ""
             }
            },
            "type": "scatterpolargl"
           }
          ],
          "scatterternary": [
           {
            "marker": {
             "colorbar": {
              "outlinewidth": 0,
              "ticks": ""
             }
            },
            "type": "scatterternary"
           }
          ],
          "surface": [
           {
            "colorbar": {
             "outlinewidth": 0,
             "ticks": ""
            },
            "colorscale": [
             [
              0,
              "#0d0887"
             ],
             [
              0.1111111111111111,
              "#46039f"
             ],
             [
              0.2222222222222222,
              "#7201a8"
             ],
             [
              0.3333333333333333,
              "#9c179e"
             ],
             [
              0.4444444444444444,
              "#bd3786"
             ],
             [
              0.5555555555555556,
              "#d8576b"
             ],
             [
              0.6666666666666666,
              "#ed7953"
             ],
             [
              0.7777777777777778,
              "#fb9f3a"
             ],
             [
              0.8888888888888888,
              "#fdca26"
             ],
             [
              1,
              "#f0f921"
             ]
            ],
            "type": "surface"
           }
          ],
          "table": [
           {
            "cells": {
             "fill": {
              "color": "#EBF0F8"
             },
             "line": {
              "color": "white"
             }
            },
            "header": {
             "fill": {
              "color": "#C8D4E3"
             },
             "line": {
              "color": "white"
             }
            },
            "type": "table"
           }
          ]
         },
         "layout": {
          "annotationdefaults": {
           "arrowcolor": "#2a3f5f",
           "arrowhead": 0,
           "arrowwidth": 1
          },
          "coloraxis": {
           "colorbar": {
            "outlinewidth": 0,
            "ticks": ""
           }
          },
          "colorscale": {
           "diverging": [
            [
             0,
             "#8e0152"
            ],
            [
             0.1,
             "#c51b7d"
            ],
            [
             0.2,
             "#de77ae"
            ],
            [
             0.3,
             "#f1b6da"
            ],
            [
             0.4,
             "#fde0ef"
            ],
            [
             0.5,
             "#f7f7f7"
            ],
            [
             0.6,
             "#e6f5d0"
            ],
            [
             0.7,
             "#b8e186"
            ],
            [
             0.8,
             "#7fbc41"
            ],
            [
             0.9,
             "#4d9221"
            ],
            [
             1,
             "#276419"
            ]
           ],
           "sequential": [
            [
             0,
             "#0d0887"
            ],
            [
             0.1111111111111111,
             "#46039f"
            ],
            [
             0.2222222222222222,
             "#7201a8"
            ],
            [
             0.3333333333333333,
             "#9c179e"
            ],
            [
             0.4444444444444444,
             "#bd3786"
            ],
            [
             0.5555555555555556,
             "#d8576b"
            ],
            [
             0.6666666666666666,
             "#ed7953"
            ],
            [
             0.7777777777777778,
             "#fb9f3a"
            ],
            [
             0.8888888888888888,
             "#fdca26"
            ],
            [
             1,
             "#f0f921"
            ]
           ],
           "sequentialminus": [
            [
             0,
             "#0d0887"
            ],
            [
             0.1111111111111111,
             "#46039f"
            ],
            [
             0.2222222222222222,
             "#7201a8"
            ],
            [
             0.3333333333333333,
             "#9c179e"
            ],
            [
             0.4444444444444444,
             "#bd3786"
            ],
            [
             0.5555555555555556,
             "#d8576b"
            ],
            [
             0.6666666666666666,
             "#ed7953"
            ],
            [
             0.7777777777777778,
             "#fb9f3a"
            ],
            [
             0.8888888888888888,
             "#fdca26"
            ],
            [
             1,
             "#f0f921"
            ]
           ]
          },
          "colorway": [
           "#636efa",
           "#EF553B",
           "#00cc96",
           "#ab63fa",
           "#FFA15A",
           "#19d3f3",
           "#FF6692",
           "#B6E880",
           "#FF97FF",
           "#FECB52"
          ],
          "font": {
           "color": "#2a3f5f"
          },
          "geo": {
           "bgcolor": "white",
           "lakecolor": "white",
           "landcolor": "#E5ECF6",
           "showlakes": true,
           "showland": true,
           "subunitcolor": "white"
          },
          "hoverlabel": {
           "align": "left"
          },
          "hovermode": "closest",
          "mapbox": {
           "style": "light"
          },
          "paper_bgcolor": "white",
          "plot_bgcolor": "#E5ECF6",
          "polar": {
           "angularaxis": {
            "gridcolor": "white",
            "linecolor": "white",
            "ticks": ""
           },
           "bgcolor": "#E5ECF6",
           "radialaxis": {
            "gridcolor": "white",
            "linecolor": "white",
            "ticks": ""
           }
          },
          "scene": {
           "xaxis": {
            "backgroundcolor": "#E5ECF6",
            "gridcolor": "white",
            "gridwidth": 2,
            "linecolor": "white",
            "showbackground": true,
            "ticks": "",
            "zerolinecolor": "white"
           },
           "yaxis": {
            "backgroundcolor": "#E5ECF6",
            "gridcolor": "white",
            "gridwidth": 2,
            "linecolor": "white",
            "showbackground": true,
            "ticks": "",
            "zerolinecolor": "white"
           },
           "zaxis": {
            "backgroundcolor": "#E5ECF6",
            "gridcolor": "white",
            "gridwidth": 2,
            "linecolor": "white",
            "showbackground": true,
            "ticks": "",
            "zerolinecolor": "white"
           }
          },
          "shapedefaults": {
           "line": {
            "color": "#2a3f5f"
           }
          },
          "ternary": {
           "aaxis": {
            "gridcolor": "white",
            "linecolor": "white",
            "ticks": ""
           },
           "baxis": {
            "gridcolor": "white",
            "linecolor": "white",
            "ticks": ""
           },
           "bgcolor": "#E5ECF6",
           "caxis": {
            "gridcolor": "white",
            "linecolor": "white",
            "ticks": ""
           }
          },
          "title": {
           "x": 0.05
          },
          "xaxis": {
           "automargin": true,
           "gridcolor": "white",
           "linecolor": "white",
           "ticks": "",
           "title": {
            "standoff": 15
           },
           "zerolinecolor": "white",
           "zerolinewidth": 2
          },
          "yaxis": {
           "automargin": true,
           "gridcolor": "white",
           "linecolor": "white",
           "ticks": "",
           "title": {
            "standoff": 15
           },
           "zerolinecolor": "white",
           "zerolinewidth": 2
          }
         }
        },
        "title": {
         "font": {
          "color": "black",
          "size": 20
         },
         "text": "Top 10 run hitter(strike rate) in all IPL Season"
        },
        "yaxis": {
         "title": {
          "font": {
           "color": "black",
           "size": 20
          },
          "text": "Various Stats for Hitter"
         }
        }
       }
      },
      "text/html": [
       "<div>\n",
       "        \n",
       "        \n",
       "            <div id=\"7e65aed5-2f9a-4a53-8ff4-8b96c0d90f4d\" class=\"plotly-graph-div\" style=\"height:525px; width:100%;\"></div>\n",
       "            <script type=\"text/javascript\">\n",
       "                require([\"plotly\"], function(Plotly) {\n",
       "                    window.PLOTLYENV=window.PLOTLYENV || {};\n",
       "                    \n",
       "                if (document.getElementById(\"7e65aed5-2f9a-4a53-8ff4-8b96c0d90f4d\")) {\n",
       "                    Plotly.newPlot(\n",
       "                        '7e65aed5-2f9a-4a53-8ff4-8b96c0d90f4d',\n",
       "                        [{\"marker\": {\"color\": \"darkviolet\"}, \"name\": \"Num_Of_Sixes\", \"text\": [22.0, 44.0, 59.0, 16.0, 21.0, 19.0, 30.0, 21.0, 32.0, 28.0, 37.0], \"textfont\": {\"size\": 1000}, \"textposition\": \"auto\", \"type\": \"bar\", \"x\": [\"2009 : ML Hayden\", \"2011 : CH Gayle\", \"2012 : CH Gayle\", \"2014 : M Vohra\", \"2015 : DA Warner\", \"2017 : CA Lynn\", \"2018 : AB de Villiers\", \"2018 : JC Buttler\", \"2018 : KL Rahul\", \"2018 : KS Williamson\", \"2018 : RR Pant\"], \"y\": [1100.0, 2200.0, 2950.0, 800.0, 1050.0, 950.0, 1500.0, 1050.0, 1600.0, 1400.0, 1850.0]}, {\"marker\": {\"color\": \"orange\"}, \"name\": \"Avg_Per_Match\", \"text\": [47.0, 50.0, 52.0, 40.0, 40.0, 42.0, 44.0, 44.0, 48.0, 43.0, 51.0], \"textfont\": {\"size\": 1000}, \"textposition\": \"auto\", \"type\": \"bar\", \"x\": [\"2009 : ML Hayden\", \"2011 : CH Gayle\", \"2012 : CH Gayle\", \"2014 : M Vohra\", \"2015 : DA Warner\", \"2017 : CA Lynn\", \"2018 : AB de Villiers\", \"2018 : JC Buttler\", \"2018 : KL Rahul\", \"2018 : KS Williamson\", \"2018 : RR Pant\"], \"y\": [1906.6666666666665, 2026.6666666666665, 2094.285714285714, 1620.0, 1605.7142857142858, 1685.7142857142858, 1774.5454545454547, 1766.1538461538462, 1937.1428571428573, 1757.6470588235293, 2048.5714285714284]}, {\"marker\": {\"color\": \"aqua\"}, \"name\": \"Num_Of_Fours\", \"text\": [60.0, 57.0, 46.0, 28.0, 65.0, 25.0, 39.0, 54.0, 67.0, 64.0, 71.0], \"textposition\": \"auto\", \"type\": \"bar\", \"x\": [\"2009 : ML Hayden\", \"2011 : CH Gayle\", \"2012 : CH Gayle\", \"2014 : M Vohra\", \"2015 : DA Warner\", \"2017 : CA Lynn\", \"2018 : AB de Villiers\", \"2018 : JC Buttler\", \"2018 : KL Rahul\", \"2018 : KS Williamson\", \"2018 : RR Pant\"], \"y\": [1800.0, 1710.0, 1380.0, 840.0, 1950.0, 750.0, 1170.0, 1620.0, 2010.0, 1920.0, 2130.0]}, {\"marker\": {\"color\": \"seagreen\"}, \"name\": \"Strike_Rate\", \"text\": [136.0, 159.0, 137.0, 139.0, 144.0, 174.0, 142.0, 145.0, 159.0, 134.0, 151.0], \"textposition\": \"auto\", \"type\": \"bar\", \"x\": [\"2009 : ML Hayden\", \"2011 : CH Gayle\", \"2012 : CH Gayle\", \"2014 : M Vohra\", \"2015 : DA Warner\", \"2017 : CA Lynn\", \"2018 : AB de Villiers\", \"2018 : JC Buttler\", \"2018 : KL Rahul\", \"2018 : KS Williamson\", \"2018 : RR Pant\"], \"y\": [547.1629821466573, 637.2831408275903, 551.584986399182, 559.0616620221883, 576.7351133854851, 698.6407105661764, 568.0748635799436, 582.4492275470409, 637.7560908753305, 538.4714438064664, 607.9599031217573]}, {\"marker\": {\"color\": \"yellow\"}, \"name\": \"Batsman_Runs\", \"text\": [572.0, 608.0, 733.0, 324.0, 562.0, 295.0, 488.0, 574.0, 678.0, 747.0, 717.0], \"textposition\": \"auto\", \"type\": \"bar\", \"x\": [\"2009 : ML Hayden\", \"2011 : CH Gayle\", \"2012 : CH Gayle\", \"2014 : M Vohra\", \"2015 : DA Warner\", \"2017 : CA Lynn\", \"2018 : AB de Villiers\", \"2018 : JC Buttler\", \"2018 : KL Rahul\", \"2018 : KS Williamson\", \"2018 : RR Pant\"], \"y\": [572, 608, 733, 324, 562, 295, 488, 574, 678, 747, 717]}],\n",
       "                        {\"barmode\": \"stack\", \"template\": {\"data\": {\"bar\": [{\"error_x\": {\"color\": \"#2a3f5f\"}, \"error_y\": {\"color\": \"#2a3f5f\"}, \"marker\": {\"line\": {\"color\": \"#E5ECF6\", \"width\": 0.5}}, \"type\": \"bar\"}], \"barpolar\": [{\"marker\": {\"line\": {\"color\": \"#E5ECF6\", \"width\": 0.5}}, \"type\": \"barpolar\"}], \"carpet\": [{\"aaxis\": {\"endlinecolor\": \"#2a3f5f\", \"gridcolor\": \"white\", \"linecolor\": \"white\", \"minorgridcolor\": \"white\", \"startlinecolor\": \"#2a3f5f\"}, \"baxis\": {\"endlinecolor\": \"#2a3f5f\", \"gridcolor\": \"white\", \"linecolor\": \"white\", \"minorgridcolor\": \"white\", \"startlinecolor\": \"#2a3f5f\"}, \"type\": \"carpet\"}], \"choropleth\": [{\"colorbar\": {\"outlinewidth\": 0, \"ticks\": \"\"}, \"type\": \"choropleth\"}], \"contour\": [{\"colorbar\": {\"outlinewidth\": 0, \"ticks\": \"\"}, \"colorscale\": [[0.0, \"#0d0887\"], [0.1111111111111111, \"#46039f\"], [0.2222222222222222, \"#7201a8\"], [0.3333333333333333, \"#9c179e\"], [0.4444444444444444, \"#bd3786\"], [0.5555555555555556, \"#d8576b\"], [0.6666666666666666, \"#ed7953\"], [0.7777777777777778, \"#fb9f3a\"], [0.8888888888888888, \"#fdca26\"], [1.0, \"#f0f921\"]], \"type\": \"contour\"}], \"contourcarpet\": [{\"colorbar\": {\"outlinewidth\": 0, \"ticks\": \"\"}, \"type\": \"contourcarpet\"}], \"heatmap\": [{\"colorbar\": {\"outlinewidth\": 0, \"ticks\": \"\"}, \"colorscale\": [[0.0, \"#0d0887\"], [0.1111111111111111, \"#46039f\"], [0.2222222222222222, \"#7201a8\"], [0.3333333333333333, \"#9c179e\"], [0.4444444444444444, \"#bd3786\"], [0.5555555555555556, \"#d8576b\"], [0.6666666666666666, \"#ed7953\"], [0.7777777777777778, \"#fb9f3a\"], [0.8888888888888888, \"#fdca26\"], [1.0, \"#f0f921\"]], \"type\": \"heatmap\"}], \"heatmapgl\": [{\"colorbar\": {\"outlinewidth\": 0, \"ticks\": \"\"}, \"colorscale\": [[0.0, \"#0d0887\"], [0.1111111111111111, \"#46039f\"], [0.2222222222222222, \"#7201a8\"], [0.3333333333333333, \"#9c179e\"], [0.4444444444444444, \"#bd3786\"], [0.5555555555555556, \"#d8576b\"], [0.6666666666666666, \"#ed7953\"], [0.7777777777777778, \"#fb9f3a\"], [0.8888888888888888, \"#fdca26\"], [1.0, \"#f0f921\"]], \"type\": \"heatmapgl\"}], \"histogram\": [{\"marker\": {\"colorbar\": {\"outlinewidth\": 0, \"ticks\": \"\"}}, \"type\": \"histogram\"}], \"histogram2d\": [{\"colorbar\": {\"outlinewidth\": 0, \"ticks\": \"\"}, \"colorscale\": [[0.0, \"#0d0887\"], [0.1111111111111111, \"#46039f\"], [0.2222222222222222, \"#7201a8\"], [0.3333333333333333, \"#9c179e\"], [0.4444444444444444, \"#bd3786\"], [0.5555555555555556, \"#d8576b\"], [0.6666666666666666, \"#ed7953\"], [0.7777777777777778, \"#fb9f3a\"], [0.8888888888888888, \"#fdca26\"], [1.0, \"#f0f921\"]], \"type\": \"histogram2d\"}], \"histogram2dcontour\": [{\"colorbar\": {\"outlinewidth\": 0, \"ticks\": \"\"}, \"colorscale\": [[0.0, \"#0d0887\"], [0.1111111111111111, \"#46039f\"], [0.2222222222222222, \"#7201a8\"], [0.3333333333333333, \"#9c179e\"], [0.4444444444444444, \"#bd3786\"], [0.5555555555555556, \"#d8576b\"], [0.6666666666666666, \"#ed7953\"], [0.7777777777777778, \"#fb9f3a\"], [0.8888888888888888, \"#fdca26\"], [1.0, \"#f0f921\"]], \"type\": \"histogram2dcontour\"}], \"mesh3d\": [{\"colorbar\": {\"outlinewidth\": 0, \"ticks\": \"\"}, \"type\": \"mesh3d\"}], \"parcoords\": [{\"line\": {\"colorbar\": {\"outlinewidth\": 0, \"ticks\": \"\"}}, \"type\": \"parcoords\"}], \"pie\": [{\"automargin\": true, \"type\": \"pie\"}], \"scatter\": [{\"marker\": {\"colorbar\": {\"outlinewidth\": 0, \"ticks\": \"\"}}, \"type\": \"scatter\"}], \"scatter3d\": [{\"line\": {\"colorbar\": {\"outlinewidth\": 0, \"ticks\": \"\"}}, \"marker\": {\"colorbar\": {\"outlinewidth\": 0, \"ticks\": \"\"}}, \"type\": \"scatter3d\"}], \"scattercarpet\": [{\"marker\": {\"colorbar\": {\"outlinewidth\": 0, \"ticks\": \"\"}}, \"type\": \"scattercarpet\"}], \"scattergeo\": [{\"marker\": {\"colorbar\": {\"outlinewidth\": 0, \"ticks\": \"\"}}, \"type\": \"scattergeo\"}], \"scattergl\": [{\"marker\": {\"colorbar\": {\"outlinewidth\": 0, \"ticks\": \"\"}}, \"type\": \"scattergl\"}], \"scattermapbox\": [{\"marker\": {\"colorbar\": {\"outlinewidth\": 0, \"ticks\": \"\"}}, \"type\": \"scattermapbox\"}], \"scatterpolar\": [{\"marker\": {\"colorbar\": {\"outlinewidth\": 0, \"ticks\": \"\"}}, \"type\": \"scatterpolar\"}], \"scatterpolargl\": [{\"marker\": {\"colorbar\": {\"outlinewidth\": 0, \"ticks\": \"\"}}, \"type\": \"scatterpolargl\"}], \"scatterternary\": [{\"marker\": {\"colorbar\": {\"outlinewidth\": 0, \"ticks\": \"\"}}, \"type\": \"scatterternary\"}], \"surface\": [{\"colorbar\": {\"outlinewidth\": 0, \"ticks\": \"\"}, \"colorscale\": [[0.0, \"#0d0887\"], [0.1111111111111111, \"#46039f\"], [0.2222222222222222, \"#7201a8\"], [0.3333333333333333, \"#9c179e\"], [0.4444444444444444, \"#bd3786\"], [0.5555555555555556, \"#d8576b\"], [0.6666666666666666, \"#ed7953\"], [0.7777777777777778, \"#fb9f3a\"], [0.8888888888888888, \"#fdca26\"], [1.0, \"#f0f921\"]], \"type\": \"surface\"}], \"table\": [{\"cells\": {\"fill\": {\"color\": \"#EBF0F8\"}, \"line\": {\"color\": \"white\"}}, \"header\": {\"fill\": {\"color\": \"#C8D4E3\"}, \"line\": {\"color\": \"white\"}}, \"type\": \"table\"}]}, \"layout\": {\"annotationdefaults\": {\"arrowcolor\": \"#2a3f5f\", \"arrowhead\": 0, \"arrowwidth\": 1}, \"coloraxis\": {\"colorbar\": {\"outlinewidth\": 0, \"ticks\": \"\"}}, \"colorscale\": {\"diverging\": [[0, \"#8e0152\"], [0.1, \"#c51b7d\"], [0.2, \"#de77ae\"], [0.3, \"#f1b6da\"], [0.4, \"#fde0ef\"], [0.5, \"#f7f7f7\"], [0.6, \"#e6f5d0\"], [0.7, \"#b8e186\"], [0.8, \"#7fbc41\"], [0.9, \"#4d9221\"], [1, \"#276419\"]], \"sequential\": [[0.0, \"#0d0887\"], [0.1111111111111111, \"#46039f\"], [0.2222222222222222, \"#7201a8\"], [0.3333333333333333, \"#9c179e\"], [0.4444444444444444, \"#bd3786\"], [0.5555555555555556, \"#d8576b\"], [0.6666666666666666, \"#ed7953\"], [0.7777777777777778, \"#fb9f3a\"], [0.8888888888888888, \"#fdca26\"], [1.0, \"#f0f921\"]], \"sequentialminus\": [[0.0, \"#0d0887\"], [0.1111111111111111, \"#46039f\"], [0.2222222222222222, \"#7201a8\"], [0.3333333333333333, \"#9c179e\"], [0.4444444444444444, \"#bd3786\"], [0.5555555555555556, \"#d8576b\"], [0.6666666666666666, \"#ed7953\"], [0.7777777777777778, \"#fb9f3a\"], [0.8888888888888888, \"#fdca26\"], [1.0, \"#f0f921\"]]}, \"colorway\": [\"#636efa\", \"#EF553B\", \"#00cc96\", \"#ab63fa\", \"#FFA15A\", \"#19d3f3\", \"#FF6692\", \"#B6E880\", \"#FF97FF\", \"#FECB52\"], \"font\": {\"color\": \"#2a3f5f\"}, \"geo\": {\"bgcolor\": \"white\", \"lakecolor\": \"white\", \"landcolor\": \"#E5ECF6\", \"showlakes\": true, \"showland\": true, \"subunitcolor\": \"white\"}, \"hoverlabel\": {\"align\": \"left\"}, \"hovermode\": \"closest\", \"mapbox\": {\"style\": \"light\"}, \"paper_bgcolor\": \"white\", \"plot_bgcolor\": \"#E5ECF6\", \"polar\": {\"angularaxis\": {\"gridcolor\": \"white\", \"linecolor\": \"white\", \"ticks\": \"\"}, \"bgcolor\": \"#E5ECF6\", \"radialaxis\": {\"gridcolor\": \"white\", \"linecolor\": \"white\", \"ticks\": \"\"}}, \"scene\": {\"xaxis\": {\"backgroundcolor\": \"#E5ECF6\", \"gridcolor\": \"white\", \"gridwidth\": 2, \"linecolor\": \"white\", \"showbackground\": true, \"ticks\": \"\", \"zerolinecolor\": \"white\"}, \"yaxis\": {\"backgroundcolor\": \"#E5ECF6\", \"gridcolor\": \"white\", \"gridwidth\": 2, \"linecolor\": \"white\", \"showbackground\": true, \"ticks\": \"\", \"zerolinecolor\": \"white\"}, \"zaxis\": {\"backgroundcolor\": \"#E5ECF6\", \"gridcolor\": \"white\", \"gridwidth\": 2, \"linecolor\": \"white\", \"showbackground\": true, \"ticks\": \"\", \"zerolinecolor\": \"white\"}}, \"shapedefaults\": {\"line\": {\"color\": \"#2a3f5f\"}}, \"ternary\": {\"aaxis\": {\"gridcolor\": \"white\", \"linecolor\": \"white\", \"ticks\": \"\"}, \"baxis\": {\"gridcolor\": \"white\", \"linecolor\": \"white\", \"ticks\": \"\"}, \"bgcolor\": \"#E5ECF6\", \"caxis\": {\"gridcolor\": \"white\", \"linecolor\": \"white\", \"ticks\": \"\"}}, \"title\": {\"x\": 0.05}, \"xaxis\": {\"automargin\": true, \"gridcolor\": \"white\", \"linecolor\": \"white\", \"ticks\": \"\", \"title\": {\"standoff\": 15}, \"zerolinecolor\": \"white\", \"zerolinewidth\": 2}, \"yaxis\": {\"automargin\": true, \"gridcolor\": \"white\", \"linecolor\": \"white\", \"ticks\": \"\", \"title\": {\"standoff\": 15}, \"zerolinecolor\": \"white\", \"zerolinewidth\": 2}}}, \"title\": {\"font\": {\"color\": \"black\", \"size\": 20}, \"text\": \"Top 10 run hitter(strike rate) in all IPL Season\"}, \"yaxis\": {\"title\": {\"font\": {\"color\": \"black\", \"size\": 20}, \"text\": \"Various Stats for Hitter\"}}},\n",
       "                        {\"responsive\": true}\n",
       "                    ).then(function(){\n",
       "                            \n",
       "var gd = document.getElementById('7e65aed5-2f9a-4a53-8ff4-8b96c0d90f4d');\n",
       "var x = new MutationObserver(function (mutations, observer) {{\n",
       "        var display = window.getComputedStyle(gd).display;\n",
       "        if (!display || display === 'none') {{\n",
       "            console.log([gd, 'removed!']);\n",
       "            Plotly.purge(gd);\n",
       "            observer.disconnect();\n",
       "        }}\n",
       "}});\n",
       "\n",
       "// Listen for the removal of the full notebook cells\n",
       "var notebookContainer = gd.closest('#notebook-container');\n",
       "if (notebookContainer) {{\n",
       "    x.observe(notebookContainer, {childList: true});\n",
       "}}\n",
       "\n",
       "// Listen for the clearing of the current output cell\n",
       "var outputEl = gd.closest('.output');\n",
       "if (outputEl) {{\n",
       "    x.observe(outputEl, {childList: true});\n",
       "}}\n",
       "\n",
       "                        })\n",
       "                };\n",
       "                });\n",
       "            </script>\n",
       "        </div>"
      ]
     },
     "metadata": {},
     "output_type": "display_data"
    }
   ],
   "source": [
    "# Dependable hitter who can change matches with high strinke rate and higher runs ine ach season\n",
    "top_hitters= batsman_stats[(batsman_stats['batsman_runs']>(122*2)) &\n",
    "                            (batsman_stats['num_of_fours']>(14)) &\n",
    "                            (batsman_stats['num_of_sixes']>(7)) &\n",
    "                            (batsman_stats['avg_per_match']>(13*3)) &\n",
    "                            (batsman_stats['strike_rate']>(96*1.4))    \n",
    "                            ].reset_index()\n",
    "trace0 = go.Bar(x=top_hitters['season'] +' : '+ top_hitters['batsman'],\n",
    "                y= top_hitters['batsman_runs'],\n",
    "                text=top_hitters['batsman_runs'],\n",
    "                textposition= 'auto',\n",
    "                name ='Batsman_Runs',\n",
    "                marker =dict(color='yellow'))\n",
    "trace1 = go.Bar(x=top_hitters['season'] +' : '+ top_hitters['batsman'],\n",
    "                y= top_hitters['strike_rate']*4,\n",
    "                text=top_hitters['strike_rate'].astype(int),\n",
    "                textposition= 'auto',\n",
    "                name ='Strike_Rate',\n",
    "                marker =dict(color='seagreen'))\n",
    "trace2 = go.Bar(x=top_hitters['season'] +' : '+ top_hitters['batsman'],\n",
    "                y= top_hitters['avg_per_match']*40,\n",
    "                text=top_hitters['avg_per_match'].astype(int),\n",
    "                textposition= 'auto',textfont =dict(size=1000),\n",
    "                name ='Avg_Per_Match',\n",
    "                marker =dict(color='orange'))\n",
    "trace3 = go.Bar(x=top_hitters['season'] +' : '+ top_hitters['batsman'],\n",
    "                y= top_hitters['num_of_sixes']*50,\n",
    "                text=top_hitters['num_of_sixes'],textfont =dict(size=1000),\n",
    "                textposition= 'auto',\n",
    "                name ='Num_Of_Sixes',\n",
    "                marker =dict(color='darkviolet'))\n",
    "trace4 = go.Bar(x=top_hitters['season'] +' : '+ top_hitters['batsman'],\n",
    "                y= top_hitters['num_of_fours']*30,\n",
    "                text=top_hitters['num_of_fours'],\n",
    "                textposition= 'auto',\n",
    "                name ='Num_Of_Fours',\n",
    "                marker =dict(color='aqua'))\n",
    "data_top_hitter =[trace3,trace2,trace4,trace1,trace0]\n",
    "layout_top_hitters = go.Layout(title =dict(text ='Top 10 run hitter(strike rate) in all IPL Season', \n",
    "                                         font = {'size': 20,'color':'black'}),\n",
    "                             yaxis =dict(title_text = \"Various Stats for Hitter\",\n",
    "                                         title_font = {'size': 20,'color':'black'}),barmode='stack'\n",
    "                            )\n",
    "fig_top_hitters =go.Figure(data=data_top_hitter,layout=layout_top_hitters)\n",
    "fig_top_hitters.show()"
   ]
  },
  {
   "cell_type": "markdown",
   "metadata": {},
   "source": [
    "    Finding: \n",
    "          1. Rishabh Pant, Gayle & CA Lyn have very higher strike rates and can score good scores for team in less bowls.\n",
    "          2. KS Williamson & DH Gayle are very dependable hitters for long inning with good strike rate.\n",
    "          3. KL Rahul & DA Warner also plays longer with better strike rate."
   ]
  },
  {
   "cell_type": "markdown",
   "metadata": {},
   "source": [
    "# 4.5 Who won Player of the Match title maximum number of times in all seasons ?"
   ]
  },
  {
   "cell_type": "code",
   "execution_count": 53,
   "metadata": {},
   "outputs": [
    {
     "data": {
      "text/html": [
       "<div>\n",
       "<style scoped>\n",
       "    .dataframe tbody tr th:only-of-type {\n",
       "        vertical-align: middle;\n",
       "    }\n",
       "\n",
       "    .dataframe tbody tr th {\n",
       "        vertical-align: top;\n",
       "    }\n",
       "\n",
       "    .dataframe thead th {\n",
       "        text-align: right;\n",
       "    }\n",
       "</style>\n",
       "<table border=\"1\" class=\"dataframe\">\n",
       "  <thead>\n",
       "    <tr style=\"text-align: right;\">\n",
       "      <th></th>\n",
       "      <th>season</th>\n",
       "      <th>player_of_match</th>\n",
       "      <th>NumTimes_PlyrOfMatch</th>\n",
       "    </tr>\n",
       "  </thead>\n",
       "  <tbody>\n",
       "    <tr>\n",
       "      <th>0</th>\n",
       "      <td>2008</td>\n",
       "      <td>A Kumble</td>\n",
       "      <td>1</td>\n",
       "    </tr>\n",
       "    <tr>\n",
       "      <th>1</th>\n",
       "      <td>2008</td>\n",
       "      <td>A Mishra</td>\n",
       "      <td>1</td>\n",
       "    </tr>\n",
       "    <tr>\n",
       "      <th>2</th>\n",
       "      <td>2008</td>\n",
       "      <td>A Nehra</td>\n",
       "      <td>1</td>\n",
       "    </tr>\n",
       "    <tr>\n",
       "      <th>3</th>\n",
       "      <td>2008</td>\n",
       "      <td>AC Gilchrist</td>\n",
       "      <td>2</td>\n",
       "    </tr>\n",
       "    <tr>\n",
       "      <th>4</th>\n",
       "      <td>2008</td>\n",
       "      <td>BB McCullum</td>\n",
       "      <td>1</td>\n",
       "    </tr>\n",
       "    <tr>\n",
       "      <th>...</th>\n",
       "      <td>...</td>\n",
       "      <td>...</td>\n",
       "      <td>...</td>\n",
       "    </tr>\n",
       "    <tr>\n",
       "      <th>468</th>\n",
       "      <td>2018</td>\n",
       "      <td>SS Iyer</td>\n",
       "      <td>1</td>\n",
       "    </tr>\n",
       "    <tr>\n",
       "      <th>469</th>\n",
       "      <td>2018</td>\n",
       "      <td>SV Samson</td>\n",
       "      <td>2</td>\n",
       "    </tr>\n",
       "    <tr>\n",
       "      <th>470</th>\n",
       "      <td>2018</td>\n",
       "      <td>SW Billings</td>\n",
       "      <td>1</td>\n",
       "    </tr>\n",
       "    <tr>\n",
       "      <th>471</th>\n",
       "      <td>2018</td>\n",
       "      <td>TG Southee</td>\n",
       "      <td>1</td>\n",
       "    </tr>\n",
       "    <tr>\n",
       "      <th>472</th>\n",
       "      <td>2018</td>\n",
       "      <td>UT Yadav</td>\n",
       "      <td>2</td>\n",
       "    </tr>\n",
       "  </tbody>\n",
       "</table>\n",
       "<p>473 rows × 3 columns</p>\n",
       "</div>"
      ],
      "text/plain": [
       "    season player_of_match  NumTimes_PlyrOfMatch\n",
       "0     2008        A Kumble                     1\n",
       "1     2008        A Mishra                     1\n",
       "2     2008         A Nehra                     1\n",
       "3     2008    AC Gilchrist                     2\n",
       "4     2008     BB McCullum                     1\n",
       "..     ...             ...                   ...\n",
       "468   2018         SS Iyer                     1\n",
       "469   2018       SV Samson                     2\n",
       "470   2018     SW Billings                     1\n",
       "471   2018      TG Southee                     1\n",
       "472   2018        UT Yadav                     2\n",
       "\n",
       "[473 rows x 3 columns]"
      ]
     },
     "execution_count": 53,
     "metadata": {},
     "output_type": "execute_result"
    }
   ],
   "source": [
    "plr_of_match= mdf_o[mdf_o['player_of_match'].notnull()].groupby(['season','player_of_match'])[['player_of_match']].count().\\\n",
    "rename({'player_of_match':'NumTimes_PlyrOfMatch'},axis=1).reset_index()\n",
    "plr_of_match"
   ]
  },
  {
   "cell_type": "code",
   "execution_count": 55,
   "metadata": {},
   "outputs": [
    {
     "data": {
      "application/vnd.plotly.v1+json": {
       "config": {
        "plotlyServerURL": "https://plot.ly"
       },
       "data": [
        {
         "marker": {
          "color": [
           5,
           3,
           4,
           6,
           5,
           5,
           4,
           4,
           5,
           3,
           4
          ]
         },
         "opacity": 0.8,
         "text": [
          5,
          3,
          4,
          6,
          5,
          5,
          4,
          4,
          5,
          3,
          4
         ],
         "textposition": "auto",
         "type": "bar",
         "width": 0.5,
         "x": [
          "2008 : SE Marsh",
          "2009 : YK Pathan",
          "2010 : SR Tendulkar",
          "2011 : CH Gayle",
          "2012 : CH Gayle",
          "2013 : MEK Hussey",
          "2014 : GJ Maxwell",
          "2015 : DA Warner",
          "2016 : V Kohli",
          "2017 : NM Coulter-Nile",
          "2018 : Rashid Khan"
         ],
         "y": [
          5,
          3,
          4,
          6,
          5,
          5,
          4,
          4,
          5,
          3,
          4
         ]
        }
       ],
       "layout": {
        "template": {
         "data": {
          "bar": [
           {
            "error_x": {
             "color": "#2a3f5f"
            },
            "error_y": {
             "color": "#2a3f5f"
            },
            "marker": {
             "line": {
              "color": "#E5ECF6",
              "width": 0.5
             }
            },
            "type": "bar"
           }
          ],
          "barpolar": [
           {
            "marker": {
             "line": {
              "color": "#E5ECF6",
              "width": 0.5
             }
            },
            "type": "barpolar"
           }
          ],
          "carpet": [
           {
            "aaxis": {
             "endlinecolor": "#2a3f5f",
             "gridcolor": "white",
             "linecolor": "white",
             "minorgridcolor": "white",
             "startlinecolor": "#2a3f5f"
            },
            "baxis": {
             "endlinecolor": "#2a3f5f",
             "gridcolor": "white",
             "linecolor": "white",
             "minorgridcolor": "white",
             "startlinecolor": "#2a3f5f"
            },
            "type": "carpet"
           }
          ],
          "choropleth": [
           {
            "colorbar": {
             "outlinewidth": 0,
             "ticks": ""
            },
            "type": "choropleth"
           }
          ],
          "contour": [
           {
            "colorbar": {
             "outlinewidth": 0,
             "ticks": ""
            },
            "colorscale": [
             [
              0,
              "#0d0887"
             ],
             [
              0.1111111111111111,
              "#46039f"
             ],
             [
              0.2222222222222222,
              "#7201a8"
             ],
             [
              0.3333333333333333,
              "#9c179e"
             ],
             [
              0.4444444444444444,
              "#bd3786"
             ],
             [
              0.5555555555555556,
              "#d8576b"
             ],
             [
              0.6666666666666666,
              "#ed7953"
             ],
             [
              0.7777777777777778,
              "#fb9f3a"
             ],
             [
              0.8888888888888888,
              "#fdca26"
             ],
             [
              1,
              "#f0f921"
             ]
            ],
            "type": "contour"
           }
          ],
          "contourcarpet": [
           {
            "colorbar": {
             "outlinewidth": 0,
             "ticks": ""
            },
            "type": "contourcarpet"
           }
          ],
          "heatmap": [
           {
            "colorbar": {
             "outlinewidth": 0,
             "ticks": ""
            },
            "colorscale": [
             [
              0,
              "#0d0887"
             ],
             [
              0.1111111111111111,
              "#46039f"
             ],
             [
              0.2222222222222222,
              "#7201a8"
             ],
             [
              0.3333333333333333,
              "#9c179e"
             ],
             [
              0.4444444444444444,
              "#bd3786"
             ],
             [
              0.5555555555555556,
              "#d8576b"
             ],
             [
              0.6666666666666666,
              "#ed7953"
             ],
             [
              0.7777777777777778,
              "#fb9f3a"
             ],
             [
              0.8888888888888888,
              "#fdca26"
             ],
             [
              1,
              "#f0f921"
             ]
            ],
            "type": "heatmap"
           }
          ],
          "heatmapgl": [
           {
            "colorbar": {
             "outlinewidth": 0,
             "ticks": ""
            },
            "colorscale": [
             [
              0,
              "#0d0887"
             ],
             [
              0.1111111111111111,
              "#46039f"
             ],
             [
              0.2222222222222222,
              "#7201a8"
             ],
             [
              0.3333333333333333,
              "#9c179e"
             ],
             [
              0.4444444444444444,
              "#bd3786"
             ],
             [
              0.5555555555555556,
              "#d8576b"
             ],
             [
              0.6666666666666666,
              "#ed7953"
             ],
             [
              0.7777777777777778,
              "#fb9f3a"
             ],
             [
              0.8888888888888888,
              "#fdca26"
             ],
             [
              1,
              "#f0f921"
             ]
            ],
            "type": "heatmapgl"
           }
          ],
          "histogram": [
           {
            "marker": {
             "colorbar": {
              "outlinewidth": 0,
              "ticks": ""
             }
            },
            "type": "histogram"
           }
          ],
          "histogram2d": [
           {
            "colorbar": {
             "outlinewidth": 0,
             "ticks": ""
            },
            "colorscale": [
             [
              0,
              "#0d0887"
             ],
             [
              0.1111111111111111,
              "#46039f"
             ],
             [
              0.2222222222222222,
              "#7201a8"
             ],
             [
              0.3333333333333333,
              "#9c179e"
             ],
             [
              0.4444444444444444,
              "#bd3786"
             ],
             [
              0.5555555555555556,
              "#d8576b"
             ],
             [
              0.6666666666666666,
              "#ed7953"
             ],
             [
              0.7777777777777778,
              "#fb9f3a"
             ],
             [
              0.8888888888888888,
              "#fdca26"
             ],
             [
              1,
              "#f0f921"
             ]
            ],
            "type": "histogram2d"
           }
          ],
          "histogram2dcontour": [
           {
            "colorbar": {
             "outlinewidth": 0,
             "ticks": ""
            },
            "colorscale": [
             [
              0,
              "#0d0887"
             ],
             [
              0.1111111111111111,
              "#46039f"
             ],
             [
              0.2222222222222222,
              "#7201a8"
             ],
             [
              0.3333333333333333,
              "#9c179e"
             ],
             [
              0.4444444444444444,
              "#bd3786"
             ],
             [
              0.5555555555555556,
              "#d8576b"
             ],
             [
              0.6666666666666666,
              "#ed7953"
             ],
             [
              0.7777777777777778,
              "#fb9f3a"
             ],
             [
              0.8888888888888888,
              "#fdca26"
             ],
             [
              1,
              "#f0f921"
             ]
            ],
            "type": "histogram2dcontour"
           }
          ],
          "mesh3d": [
           {
            "colorbar": {
             "outlinewidth": 0,
             "ticks": ""
            },
            "type": "mesh3d"
           }
          ],
          "parcoords": [
           {
            "line": {
             "colorbar": {
              "outlinewidth": 0,
              "ticks": ""
             }
            },
            "type": "parcoords"
           }
          ],
          "pie": [
           {
            "automargin": true,
            "type": "pie"
           }
          ],
          "scatter": [
           {
            "marker": {
             "colorbar": {
              "outlinewidth": 0,
              "ticks": ""
             }
            },
            "type": "scatter"
           }
          ],
          "scatter3d": [
           {
            "line": {
             "colorbar": {
              "outlinewidth": 0,
              "ticks": ""
             }
            },
            "marker": {
             "colorbar": {
              "outlinewidth": 0,
              "ticks": ""
             }
            },
            "type": "scatter3d"
           }
          ],
          "scattercarpet": [
           {
            "marker": {
             "colorbar": {
              "outlinewidth": 0,
              "ticks": ""
             }
            },
            "type": "scattercarpet"
           }
          ],
          "scattergeo": [
           {
            "marker": {
             "colorbar": {
              "outlinewidth": 0,
              "ticks": ""
             }
            },
            "type": "scattergeo"
           }
          ],
          "scattergl": [
           {
            "marker": {
             "colorbar": {
              "outlinewidth": 0,
              "ticks": ""
             }
            },
            "type": "scattergl"
           }
          ],
          "scattermapbox": [
           {
            "marker": {
             "colorbar": {
              "outlinewidth": 0,
              "ticks": ""
             }
            },
            "type": "scattermapbox"
           }
          ],
          "scatterpolar": [
           {
            "marker": {
             "colorbar": {
              "outlinewidth": 0,
              "ticks": ""
             }
            },
            "type": "scatterpolar"
           }
          ],
          "scatterpolargl": [
           {
            "marker": {
             "colorbar": {
              "outlinewidth": 0,
              "ticks": ""
             }
            },
            "type": "scatterpolargl"
           }
          ],
          "scatterternary": [
           {
            "marker": {
             "colorbar": {
              "outlinewidth": 0,
              "ticks": ""
             }
            },
            "type": "scatterternary"
           }
          ],
          "surface": [
           {
            "colorbar": {
             "outlinewidth": 0,
             "ticks": ""
            },
            "colorscale": [
             [
              0,
              "#0d0887"
             ],
             [
              0.1111111111111111,
              "#46039f"
             ],
             [
              0.2222222222222222,
              "#7201a8"
             ],
             [
              0.3333333333333333,
              "#9c179e"
             ],
             [
              0.4444444444444444,
              "#bd3786"
             ],
             [
              0.5555555555555556,
              "#d8576b"
             ],
             [
              0.6666666666666666,
              "#ed7953"
             ],
             [
              0.7777777777777778,
              "#fb9f3a"
             ],
             [
              0.8888888888888888,
              "#fdca26"
             ],
             [
              1,
              "#f0f921"
             ]
            ],
            "type": "surface"
           }
          ],
          "table": [
           {
            "cells": {
             "fill": {
              "color": "#EBF0F8"
             },
             "line": {
              "color": "white"
             }
            },
            "header": {
             "fill": {
              "color": "#C8D4E3"
             },
             "line": {
              "color": "white"
             }
            },
            "type": "table"
           }
          ]
         },
         "layout": {
          "annotationdefaults": {
           "arrowcolor": "#2a3f5f",
           "arrowhead": 0,
           "arrowwidth": 1
          },
          "coloraxis": {
           "colorbar": {
            "outlinewidth": 0,
            "ticks": ""
           }
          },
          "colorscale": {
           "diverging": [
            [
             0,
             "#8e0152"
            ],
            [
             0.1,
             "#c51b7d"
            ],
            [
             0.2,
             "#de77ae"
            ],
            [
             0.3,
             "#f1b6da"
            ],
            [
             0.4,
             "#fde0ef"
            ],
            [
             0.5,
             "#f7f7f7"
            ],
            [
             0.6,
             "#e6f5d0"
            ],
            [
             0.7,
             "#b8e186"
            ],
            [
             0.8,
             "#7fbc41"
            ],
            [
             0.9,
             "#4d9221"
            ],
            [
             1,
             "#276419"
            ]
           ],
           "sequential": [
            [
             0,
             "#0d0887"
            ],
            [
             0.1111111111111111,
             "#46039f"
            ],
            [
             0.2222222222222222,
             "#7201a8"
            ],
            [
             0.3333333333333333,
             "#9c179e"
            ],
            [
             0.4444444444444444,
             "#bd3786"
            ],
            [
             0.5555555555555556,
             "#d8576b"
            ],
            [
             0.6666666666666666,
             "#ed7953"
            ],
            [
             0.7777777777777778,
             "#fb9f3a"
            ],
            [
             0.8888888888888888,
             "#fdca26"
            ],
            [
             1,
             "#f0f921"
            ]
           ],
           "sequentialminus": [
            [
             0,
             "#0d0887"
            ],
            [
             0.1111111111111111,
             "#46039f"
            ],
            [
             0.2222222222222222,
             "#7201a8"
            ],
            [
             0.3333333333333333,
             "#9c179e"
            ],
            [
             0.4444444444444444,
             "#bd3786"
            ],
            [
             0.5555555555555556,
             "#d8576b"
            ],
            [
             0.6666666666666666,
             "#ed7953"
            ],
            [
             0.7777777777777778,
             "#fb9f3a"
            ],
            [
             0.8888888888888888,
             "#fdca26"
            ],
            [
             1,
             "#f0f921"
            ]
           ]
          },
          "colorway": [
           "#636efa",
           "#EF553B",
           "#00cc96",
           "#ab63fa",
           "#FFA15A",
           "#19d3f3",
           "#FF6692",
           "#B6E880",
           "#FF97FF",
           "#FECB52"
          ],
          "font": {
           "color": "#2a3f5f"
          },
          "geo": {
           "bgcolor": "white",
           "lakecolor": "white",
           "landcolor": "#E5ECF6",
           "showlakes": true,
           "showland": true,
           "subunitcolor": "white"
          },
          "hoverlabel": {
           "align": "left"
          },
          "hovermode": "closest",
          "mapbox": {
           "style": "light"
          },
          "paper_bgcolor": "white",
          "plot_bgcolor": "#E5ECF6",
          "polar": {
           "angularaxis": {
            "gridcolor": "white",
            "linecolor": "white",
            "ticks": ""
           },
           "bgcolor": "#E5ECF6",
           "radialaxis": {
            "gridcolor": "white",
            "linecolor": "white",
            "ticks": ""
           }
          },
          "scene": {
           "xaxis": {
            "backgroundcolor": "#E5ECF6",
            "gridcolor": "white",
            "gridwidth": 2,
            "linecolor": "white",
            "showbackground": true,
            "ticks": "",
            "zerolinecolor": "white"
           },
           "yaxis": {
            "backgroundcolor": "#E5ECF6",
            "gridcolor": "white",
            "gridwidth": 2,
            "linecolor": "white",
            "showbackground": true,
            "ticks": "",
            "zerolinecolor": "white"
           },
           "zaxis": {
            "backgroundcolor": "#E5ECF6",
            "gridcolor": "white",
            "gridwidth": 2,
            "linecolor": "white",
            "showbackground": true,
            "ticks": "",
            "zerolinecolor": "white"
           }
          },
          "shapedefaults": {
           "line": {
            "color": "#2a3f5f"
           }
          },
          "ternary": {
           "aaxis": {
            "gridcolor": "white",
            "linecolor": "white",
            "ticks": ""
           },
           "baxis": {
            "gridcolor": "white",
            "linecolor": "white",
            "ticks": ""
           },
           "bgcolor": "#E5ECF6",
           "caxis": {
            "gridcolor": "white",
            "linecolor": "white",
            "ticks": ""
           }
          },
          "title": {
           "x": 0.05
          },
          "xaxis": {
           "automargin": true,
           "gridcolor": "white",
           "linecolor": "white",
           "ticks": "",
           "title": {
            "standoff": 15
           },
           "zerolinecolor": "white",
           "zerolinewidth": 2
          },
          "yaxis": {
           "automargin": true,
           "gridcolor": "white",
           "linecolor": "white",
           "ticks": "",
           "title": {
            "standoff": 15
           },
           "zerolinecolor": "white",
           "zerolinewidth": 2
          }
         }
        },
        "title": {
         "text": "Winning \"Player of the Match\" titles maximum times in IPL Seasons"
        }
       }
      },
      "text/html": [
       "<div>\n",
       "        \n",
       "        \n",
       "            <div id=\"83ff1f31-9a33-4e2c-8567-bb298145bbb2\" class=\"plotly-graph-div\" style=\"height:525px; width:100%;\"></div>\n",
       "            <script type=\"text/javascript\">\n",
       "                require([\"plotly\"], function(Plotly) {\n",
       "                    window.PLOTLYENV=window.PLOTLYENV || {};\n",
       "                    \n",
       "                if (document.getElementById(\"83ff1f31-9a33-4e2c-8567-bb298145bbb2\")) {\n",
       "                    Plotly.newPlot(\n",
       "                        '83ff1f31-9a33-4e2c-8567-bb298145bbb2',\n",
       "                        [{\"marker\": {\"color\": [5, 3, 4, 6, 5, 5, 4, 4, 5, 3, 4]}, \"opacity\": 0.8, \"text\": [5.0, 3.0, 4.0, 6.0, 5.0, 5.0, 4.0, 4.0, 5.0, 3.0, 4.0], \"textposition\": \"auto\", \"type\": \"bar\", \"width\": 0.5, \"x\": [\"2008 : SE Marsh\", \"2009 : YK Pathan\", \"2010 : SR Tendulkar\", \"2011 : CH Gayle\", \"2012 : CH Gayle\", \"2013 : MEK Hussey\", \"2014 : GJ Maxwell\", \"2015 : DA Warner\", \"2016 : V Kohli\", \"2017 : NM Coulter-Nile\", \"2018 : Rashid Khan\"], \"y\": [5, 3, 4, 6, 5, 5, 4, 4, 5, 3, 4]}],\n",
       "                        {\"template\": {\"data\": {\"bar\": [{\"error_x\": {\"color\": \"#2a3f5f\"}, \"error_y\": {\"color\": \"#2a3f5f\"}, \"marker\": {\"line\": {\"color\": \"#E5ECF6\", \"width\": 0.5}}, \"type\": \"bar\"}], \"barpolar\": [{\"marker\": {\"line\": {\"color\": \"#E5ECF6\", \"width\": 0.5}}, \"type\": \"barpolar\"}], \"carpet\": [{\"aaxis\": {\"endlinecolor\": \"#2a3f5f\", \"gridcolor\": \"white\", \"linecolor\": \"white\", \"minorgridcolor\": \"white\", \"startlinecolor\": \"#2a3f5f\"}, \"baxis\": {\"endlinecolor\": \"#2a3f5f\", \"gridcolor\": \"white\", \"linecolor\": \"white\", \"minorgridcolor\": \"white\", \"startlinecolor\": \"#2a3f5f\"}, \"type\": \"carpet\"}], \"choropleth\": [{\"colorbar\": {\"outlinewidth\": 0, \"ticks\": \"\"}, \"type\": \"choropleth\"}], \"contour\": [{\"colorbar\": {\"outlinewidth\": 0, \"ticks\": \"\"}, \"colorscale\": [[0.0, \"#0d0887\"], [0.1111111111111111, \"#46039f\"], [0.2222222222222222, \"#7201a8\"], [0.3333333333333333, \"#9c179e\"], [0.4444444444444444, \"#bd3786\"], [0.5555555555555556, \"#d8576b\"], [0.6666666666666666, \"#ed7953\"], [0.7777777777777778, \"#fb9f3a\"], [0.8888888888888888, \"#fdca26\"], [1.0, \"#f0f921\"]], \"type\": \"contour\"}], \"contourcarpet\": [{\"colorbar\": {\"outlinewidth\": 0, \"ticks\": \"\"}, \"type\": \"contourcarpet\"}], \"heatmap\": [{\"colorbar\": {\"outlinewidth\": 0, \"ticks\": \"\"}, \"colorscale\": [[0.0, \"#0d0887\"], [0.1111111111111111, \"#46039f\"], [0.2222222222222222, \"#7201a8\"], [0.3333333333333333, \"#9c179e\"], [0.4444444444444444, \"#bd3786\"], [0.5555555555555556, \"#d8576b\"], [0.6666666666666666, \"#ed7953\"], [0.7777777777777778, \"#fb9f3a\"], [0.8888888888888888, \"#fdca26\"], [1.0, \"#f0f921\"]], \"type\": \"heatmap\"}], \"heatmapgl\": [{\"colorbar\": {\"outlinewidth\": 0, \"ticks\": \"\"}, \"colorscale\": [[0.0, \"#0d0887\"], [0.1111111111111111, \"#46039f\"], [0.2222222222222222, \"#7201a8\"], [0.3333333333333333, \"#9c179e\"], [0.4444444444444444, \"#bd3786\"], [0.5555555555555556, \"#d8576b\"], [0.6666666666666666, \"#ed7953\"], [0.7777777777777778, \"#fb9f3a\"], [0.8888888888888888, \"#fdca26\"], [1.0, \"#f0f921\"]], \"type\": \"heatmapgl\"}], \"histogram\": [{\"marker\": {\"colorbar\": {\"outlinewidth\": 0, \"ticks\": \"\"}}, \"type\": \"histogram\"}], \"histogram2d\": [{\"colorbar\": {\"outlinewidth\": 0, \"ticks\": \"\"}, \"colorscale\": [[0.0, \"#0d0887\"], [0.1111111111111111, \"#46039f\"], [0.2222222222222222, \"#7201a8\"], [0.3333333333333333, \"#9c179e\"], [0.4444444444444444, \"#bd3786\"], [0.5555555555555556, \"#d8576b\"], [0.6666666666666666, \"#ed7953\"], [0.7777777777777778, \"#fb9f3a\"], [0.8888888888888888, \"#fdca26\"], [1.0, \"#f0f921\"]], \"type\": \"histogram2d\"}], \"histogram2dcontour\": [{\"colorbar\": {\"outlinewidth\": 0, \"ticks\": \"\"}, \"colorscale\": [[0.0, \"#0d0887\"], [0.1111111111111111, \"#46039f\"], [0.2222222222222222, \"#7201a8\"], [0.3333333333333333, \"#9c179e\"], [0.4444444444444444, \"#bd3786\"], [0.5555555555555556, \"#d8576b\"], [0.6666666666666666, \"#ed7953\"], [0.7777777777777778, \"#fb9f3a\"], [0.8888888888888888, \"#fdca26\"], [1.0, \"#f0f921\"]], \"type\": \"histogram2dcontour\"}], \"mesh3d\": [{\"colorbar\": {\"outlinewidth\": 0, \"ticks\": \"\"}, \"type\": \"mesh3d\"}], \"parcoords\": [{\"line\": {\"colorbar\": {\"outlinewidth\": 0, \"ticks\": \"\"}}, \"type\": \"parcoords\"}], \"pie\": [{\"automargin\": true, \"type\": \"pie\"}], \"scatter\": [{\"marker\": {\"colorbar\": {\"outlinewidth\": 0, \"ticks\": \"\"}}, \"type\": \"scatter\"}], \"scatter3d\": [{\"line\": {\"colorbar\": {\"outlinewidth\": 0, \"ticks\": \"\"}}, \"marker\": {\"colorbar\": {\"outlinewidth\": 0, \"ticks\": \"\"}}, \"type\": \"scatter3d\"}], \"scattercarpet\": [{\"marker\": {\"colorbar\": {\"outlinewidth\": 0, \"ticks\": \"\"}}, \"type\": \"scattercarpet\"}], \"scattergeo\": [{\"marker\": {\"colorbar\": {\"outlinewidth\": 0, \"ticks\": \"\"}}, \"type\": \"scattergeo\"}], \"scattergl\": [{\"marker\": {\"colorbar\": {\"outlinewidth\": 0, \"ticks\": \"\"}}, \"type\": \"scattergl\"}], \"scattermapbox\": [{\"marker\": {\"colorbar\": {\"outlinewidth\": 0, \"ticks\": \"\"}}, \"type\": \"scattermapbox\"}], \"scatterpolar\": [{\"marker\": {\"colorbar\": {\"outlinewidth\": 0, \"ticks\": \"\"}}, \"type\": \"scatterpolar\"}], \"scatterpolargl\": [{\"marker\": {\"colorbar\": {\"outlinewidth\": 0, \"ticks\": \"\"}}, \"type\": \"scatterpolargl\"}], \"scatterternary\": [{\"marker\": {\"colorbar\": {\"outlinewidth\": 0, \"ticks\": \"\"}}, \"type\": \"scatterternary\"}], \"surface\": [{\"colorbar\": {\"outlinewidth\": 0, \"ticks\": \"\"}, \"colorscale\": [[0.0, \"#0d0887\"], [0.1111111111111111, \"#46039f\"], [0.2222222222222222, \"#7201a8\"], [0.3333333333333333, \"#9c179e\"], [0.4444444444444444, \"#bd3786\"], [0.5555555555555556, \"#d8576b\"], [0.6666666666666666, \"#ed7953\"], [0.7777777777777778, \"#fb9f3a\"], [0.8888888888888888, \"#fdca26\"], [1.0, \"#f0f921\"]], \"type\": \"surface\"}], \"table\": [{\"cells\": {\"fill\": {\"color\": \"#EBF0F8\"}, \"line\": {\"color\": \"white\"}}, \"header\": {\"fill\": {\"color\": \"#C8D4E3\"}, \"line\": {\"color\": \"white\"}}, \"type\": \"table\"}]}, \"layout\": {\"annotationdefaults\": {\"arrowcolor\": \"#2a3f5f\", \"arrowhead\": 0, \"arrowwidth\": 1}, \"coloraxis\": {\"colorbar\": {\"outlinewidth\": 0, \"ticks\": \"\"}}, \"colorscale\": {\"diverging\": [[0, \"#8e0152\"], [0.1, \"#c51b7d\"], [0.2, \"#de77ae\"], [0.3, \"#f1b6da\"], [0.4, \"#fde0ef\"], [0.5, \"#f7f7f7\"], [0.6, \"#e6f5d0\"], [0.7, \"#b8e186\"], [0.8, \"#7fbc41\"], [0.9, \"#4d9221\"], [1, \"#276419\"]], \"sequential\": [[0.0, \"#0d0887\"], [0.1111111111111111, \"#46039f\"], [0.2222222222222222, \"#7201a8\"], [0.3333333333333333, \"#9c179e\"], [0.4444444444444444, \"#bd3786\"], [0.5555555555555556, \"#d8576b\"], [0.6666666666666666, \"#ed7953\"], [0.7777777777777778, \"#fb9f3a\"], [0.8888888888888888, \"#fdca26\"], [1.0, \"#f0f921\"]], \"sequentialminus\": [[0.0, \"#0d0887\"], [0.1111111111111111, \"#46039f\"], [0.2222222222222222, \"#7201a8\"], [0.3333333333333333, \"#9c179e\"], [0.4444444444444444, \"#bd3786\"], [0.5555555555555556, \"#d8576b\"], [0.6666666666666666, \"#ed7953\"], [0.7777777777777778, \"#fb9f3a\"], [0.8888888888888888, \"#fdca26\"], [1.0, \"#f0f921\"]]}, \"colorway\": [\"#636efa\", \"#EF553B\", \"#00cc96\", \"#ab63fa\", \"#FFA15A\", \"#19d3f3\", \"#FF6692\", \"#B6E880\", \"#FF97FF\", \"#FECB52\"], \"font\": {\"color\": \"#2a3f5f\"}, \"geo\": {\"bgcolor\": \"white\", \"lakecolor\": \"white\", \"landcolor\": \"#E5ECF6\", \"showlakes\": true, \"showland\": true, \"subunitcolor\": \"white\"}, \"hoverlabel\": {\"align\": \"left\"}, \"hovermode\": \"closest\", \"mapbox\": {\"style\": \"light\"}, \"paper_bgcolor\": \"white\", \"plot_bgcolor\": \"#E5ECF6\", \"polar\": {\"angularaxis\": {\"gridcolor\": \"white\", \"linecolor\": \"white\", \"ticks\": \"\"}, \"bgcolor\": \"#E5ECF6\", \"radialaxis\": {\"gridcolor\": \"white\", \"linecolor\": \"white\", \"ticks\": \"\"}}, \"scene\": {\"xaxis\": {\"backgroundcolor\": \"#E5ECF6\", \"gridcolor\": \"white\", \"gridwidth\": 2, \"linecolor\": \"white\", \"showbackground\": true, \"ticks\": \"\", \"zerolinecolor\": \"white\"}, \"yaxis\": {\"backgroundcolor\": \"#E5ECF6\", \"gridcolor\": \"white\", \"gridwidth\": 2, \"linecolor\": \"white\", \"showbackground\": true, \"ticks\": \"\", \"zerolinecolor\": \"white\"}, \"zaxis\": {\"backgroundcolor\": \"#E5ECF6\", \"gridcolor\": \"white\", \"gridwidth\": 2, \"linecolor\": \"white\", \"showbackground\": true, \"ticks\": \"\", \"zerolinecolor\": \"white\"}}, \"shapedefaults\": {\"line\": {\"color\": \"#2a3f5f\"}}, \"ternary\": {\"aaxis\": {\"gridcolor\": \"white\", \"linecolor\": \"white\", \"ticks\": \"\"}, \"baxis\": {\"gridcolor\": \"white\", \"linecolor\": \"white\", \"ticks\": \"\"}, \"bgcolor\": \"#E5ECF6\", \"caxis\": {\"gridcolor\": \"white\", \"linecolor\": \"white\", \"ticks\": \"\"}}, \"title\": {\"x\": 0.05}, \"xaxis\": {\"automargin\": true, \"gridcolor\": \"white\", \"linecolor\": \"white\", \"ticks\": \"\", \"title\": {\"standoff\": 15}, \"zerolinecolor\": \"white\", \"zerolinewidth\": 2}, \"yaxis\": {\"automargin\": true, \"gridcolor\": \"white\", \"linecolor\": \"white\", \"ticks\": \"\", \"title\": {\"standoff\": 15}, \"zerolinecolor\": \"white\", \"zerolinewidth\": 2}}}, \"title\": {\"text\": \"Winning \\\"Player of the Match\\\" titles maximum times in IPL Seasons\"}},\n",
       "                        {\"responsive\": true}\n",
       "                    ).then(function(){\n",
       "                            \n",
       "var gd = document.getElementById('83ff1f31-9a33-4e2c-8567-bb298145bbb2');\n",
       "var x = new MutationObserver(function (mutations, observer) {{\n",
       "        var display = window.getComputedStyle(gd).display;\n",
       "        if (!display || display === 'none') {{\n",
       "            console.log([gd, 'removed!']);\n",
       "            Plotly.purge(gd);\n",
       "            observer.disconnect();\n",
       "        }}\n",
       "}});\n",
       "\n",
       "// Listen for the removal of the full notebook cells\n",
       "var notebookContainer = gd.closest('#notebook-container');\n",
       "if (notebookContainer) {{\n",
       "    x.observe(notebookContainer, {childList: true});\n",
       "}}\n",
       "\n",
       "// Listen for the clearing of the current output cell\n",
       "var outputEl = gd.closest('.output');\n",
       "if (outputEl) {{\n",
       "    x.observe(outputEl, {childList: true});\n",
       "}}\n",
       "\n",
       "                        })\n",
       "                };\n",
       "                });\n",
       "            </script>\n",
       "        </div>"
      ]
     },
     "metadata": {},
     "output_type": "display_data"
    }
   ],
   "source": [
    "PlyrofMatch= plr_of_match.groupby(['season']).apply(top,n=1,column='NumTimes_PlyrOfMatch').\\\n",
    "drop(['season'],axis=1).reset_index().drop('level_1',axis=1)\n",
    "data_PlyrofMatch = [go.Bar(x= PlyrofMatch['season']+' : '+PlyrofMatch['player_of_match'],\n",
    "                y= PlyrofMatch['NumTimes_PlyrOfMatch'],\n",
    "                text=PlyrofMatch['NumTimes_PlyrOfMatch'], opacity=.8,width=.5,\n",
    "                textposition= 'auto',\n",
    "                marker =dict(color = PlyrofMatch['NumTimes_PlyrOfMatch'] )\n",
    "                 )]\n",
    "layout_PlyrofMatch = go.Layout(title ='Winning \"Player of the Match\" titles maximum times in IPL Seasons')\n",
    "fig_PlyrofMatch =go.Figure(data=data_PlyrofMatch,layout=layout_PlyrofMatch)\n",
    "fig_PlyrofMatch.show()"
   ]
  },
  {
   "cell_type": "markdown",
   "metadata": {},
   "source": [
    "    Findings:\n",
    "        1.We can see Rashid Khan in top bolwers list as well and is a player who won man of matches maximum times in 2018.\n",
    "        2. Gayle, Warner, kolhi ,Hussey have been mostly won the title maximum number of times."
   ]
  },
  {
   "cell_type": "markdown",
   "metadata": {},
   "source": [
    "# 4.6 Who are the best alrounders in all IP season & also in each IPL Season"
   ]
  },
  {
   "cell_type": "code",
   "execution_count": 55,
   "metadata": {},
   "outputs": [
    {
     "data": {
      "text/plain": [
       "season                       inf\n",
       "over                   25.969084\n",
       "bowleruns_conceded    202.354340\n",
       "Wickets_By_Bowler       6.904875\n",
       "Maiden_Overs            0.268728\n",
       "avg_run_per_over        8.336591\n",
       "fielder_wickets         3.514863\n",
       "matches_played          6.214031\n",
       "num_of_fours           11.970968\n",
       "num_of_sixes            7.205128\n",
       "balls_faced            84.068966\n",
       "batsman_runs          104.637337\n",
       "strike_rate            98.259035\n",
       "avg_per_match          11.788758\n",
       "dtype: float64"
      ]
     },
     "execution_count": 55,
     "metadata": {},
     "output_type": "execute_result"
    }
   ],
   "source": [
    "# Merging all kind of stats calculated till now to get allrounder stats\n",
    "bat_stats =batsman_stats.reset_index()\n",
    "allrounder_df =pd.merge(pd.merge(bowlers_stats,top_fldr,left_on=['season','bowler'],right_on =['season','fielder'],how='inner'),\n",
    "         bat_stats,left_on=['season','bowler'],right_on =['season','batsman'],how='inner')\\\n",
    ".drop(['bowling_team_x','fielder','bowling_team_y','batsman'],axis=1).rename(\n",
    "{'bowler':'player','Value':'fielder_wickets','ball':'balls_faced'},axis=1)  \n",
    "allrounder_df.mean()"
   ]
  },
  {
   "cell_type": "code",
   "execution_count": 56,
   "metadata": {},
   "outputs": [
    {
     "data": {
      "text/html": [
       "<div>\n",
       "<style scoped>\n",
       "    .dataframe tbody tr th:only-of-type {\n",
       "        vertical-align: middle;\n",
       "    }\n",
       "\n",
       "    .dataframe tbody tr th {\n",
       "        vertical-align: top;\n",
       "    }\n",
       "\n",
       "    .dataframe thead th {\n",
       "        text-align: right;\n",
       "    }\n",
       "</style>\n",
       "<table border=\"1\" class=\"dataframe\">\n",
       "  <thead>\n",
       "    <tr style=\"text-align: right;\">\n",
       "      <th></th>\n",
       "      <th>season</th>\n",
       "      <th>player</th>\n",
       "      <th>over</th>\n",
       "      <th>bowleruns_conceded</th>\n",
       "      <th>Wickets_By_Bowler</th>\n",
       "      <th>Maiden_Overs</th>\n",
       "      <th>avg_run_per_over</th>\n",
       "      <th>fielder_wickets</th>\n",
       "      <th>matches_played</th>\n",
       "      <th>num_of_fours</th>\n",
       "      <th>num_of_sixes</th>\n",
       "      <th>balls_faced</th>\n",
       "      <th>batsman_runs</th>\n",
       "      <th>strike_rate</th>\n",
       "      <th>avg_per_match</th>\n",
       "    </tr>\n",
       "  </thead>\n",
       "  <tbody>\n",
       "    <tr>\n",
       "      <th>183</th>\n",
       "      <td>2010</td>\n",
       "      <td>IK Pathan</td>\n",
       "      <td>48</td>\n",
       "      <td>426</td>\n",
       "      <td>15</td>\n",
       "      <td>0.0</td>\n",
       "      <td>8.875000</td>\n",
       "      <td>4</td>\n",
       "      <td>13</td>\n",
       "      <td>21.0</td>\n",
       "      <td>10.0</td>\n",
       "      <td>188</td>\n",
       "      <td>276</td>\n",
       "      <td>161.031152</td>\n",
       "      <td>21.230769</td>\n",
       "    </tr>\n",
       "    <tr>\n",
       "      <th>187</th>\n",
       "      <td>2010</td>\n",
       "      <td>JH Kallis</td>\n",
       "      <td>57</td>\n",
       "      <td>476</td>\n",
       "      <td>13</td>\n",
       "      <td>1.0</td>\n",
       "      <td>8.350877</td>\n",
       "      <td>7</td>\n",
       "      <td>16</td>\n",
       "      <td>68.0</td>\n",
       "      <td>9.0</td>\n",
       "      <td>517</td>\n",
       "      <td>572</td>\n",
       "      <td>98.626527</td>\n",
       "      <td>35.750000</td>\n",
       "    </tr>\n",
       "    <tr>\n",
       "      <th>462</th>\n",
       "      <td>2013</td>\n",
       "      <td>KA Pollard</td>\n",
       "      <td>31</td>\n",
       "      <td>292</td>\n",
       "      <td>10</td>\n",
       "      <td>0.0</td>\n",
       "      <td>9.419355</td>\n",
       "      <td>11</td>\n",
       "      <td>18</td>\n",
       "      <td>27.0</td>\n",
       "      <td>29.0</td>\n",
       "      <td>290</td>\n",
       "      <td>420</td>\n",
       "      <td>138.494822</td>\n",
       "      <td>23.333333</td>\n",
       "    </tr>\n",
       "    <tr>\n",
       "      <th>575</th>\n",
       "      <td>2015</td>\n",
       "      <td>AR Patel</td>\n",
       "      <td>47</td>\n",
       "      <td>392</td>\n",
       "      <td>11</td>\n",
       "      <td>0.0</td>\n",
       "      <td>8.340426</td>\n",
       "      <td>8</td>\n",
       "      <td>12</td>\n",
       "      <td>13.0</td>\n",
       "      <td>8.0</td>\n",
       "      <td>181</td>\n",
       "      <td>206</td>\n",
       "      <td>107.717872</td>\n",
       "      <td>17.166667</td>\n",
       "    </tr>\n",
       "    <tr>\n",
       "      <th>602</th>\n",
       "      <td>2015</td>\n",
       "      <td>JP Faulkner</td>\n",
       "      <td>45</td>\n",
       "      <td>426</td>\n",
       "      <td>8</td>\n",
       "      <td>1.0</td>\n",
       "      <td>9.466667</td>\n",
       "      <td>4</td>\n",
       "      <td>11</td>\n",
       "      <td>12.0</td>\n",
       "      <td>5.0</td>\n",
       "      <td>116</td>\n",
       "      <td>144</td>\n",
       "      <td>114.531040</td>\n",
       "      <td>13.090909</td>\n",
       "    </tr>\n",
       "    <tr>\n",
       "      <th>692</th>\n",
       "      <td>2016</td>\n",
       "      <td>SR Watson</td>\n",
       "      <td>57</td>\n",
       "      <td>485</td>\n",
       "      <td>20</td>\n",
       "      <td>0.0</td>\n",
       "      <td>8.508772</td>\n",
       "      <td>10</td>\n",
       "      <td>15</td>\n",
       "      <td>14.0</td>\n",
       "      <td>12.0</td>\n",
       "      <td>135</td>\n",
       "      <td>179</td>\n",
       "      <td>103.162179</td>\n",
       "      <td>11.933333</td>\n",
       "    </tr>\n",
       "    <tr>\n",
       "      <th>770</th>\n",
       "      <td>2018</td>\n",
       "      <td>AD Russell</td>\n",
       "      <td>38</td>\n",
       "      <td>372</td>\n",
       "      <td>13</td>\n",
       "      <td>0.0</td>\n",
       "      <td>9.789474</td>\n",
       "      <td>8</td>\n",
       "      <td>14</td>\n",
       "      <td>17.0</td>\n",
       "      <td>31.0</td>\n",
       "      <td>179</td>\n",
       "      <td>326</td>\n",
       "      <td>149.263656</td>\n",
       "      <td>23.285714</td>\n",
       "    </tr>\n",
       "    <tr>\n",
       "      <th>778</th>\n",
       "      <td>2018</td>\n",
       "      <td>BA Stokes</td>\n",
       "      <td>37</td>\n",
       "      <td>317</td>\n",
       "      <td>8</td>\n",
       "      <td>1.0</td>\n",
       "      <td>8.567568</td>\n",
       "      <td>6</td>\n",
       "      <td>12</td>\n",
       "      <td>13.0</td>\n",
       "      <td>6.0</td>\n",
       "      <td>166</td>\n",
       "      <td>203</td>\n",
       "      <td>108.243862</td>\n",
       "      <td>16.916667</td>\n",
       "    </tr>\n",
       "    <tr>\n",
       "      <th>792</th>\n",
       "      <td>2018</td>\n",
       "      <td>HH Pandya</td>\n",
       "      <td>43</td>\n",
       "      <td>405</td>\n",
       "      <td>18</td>\n",
       "      <td>0.0</td>\n",
       "      <td>9.418605</td>\n",
       "      <td>11</td>\n",
       "      <td>13</td>\n",
       "      <td>22.0</td>\n",
       "      <td>11.0</td>\n",
       "      <td>205</td>\n",
       "      <td>279</td>\n",
       "      <td>148.272617</td>\n",
       "      <td>21.461538</td>\n",
       "    </tr>\n",
       "  </tbody>\n",
       "</table>\n",
       "</div>"
      ],
      "text/plain": [
       "    season       player  over  bowleruns_conceded  Wickets_By_Bowler  \\\n",
       "183   2010    IK Pathan    48                 426                 15   \n",
       "187   2010    JH Kallis    57                 476                 13   \n",
       "462   2013   KA Pollard    31                 292                 10   \n",
       "575   2015     AR Patel    47                 392                 11   \n",
       "602   2015  JP Faulkner    45                 426                  8   \n",
       "692   2016    SR Watson    57                 485                 20   \n",
       "770   2018   AD Russell    38                 372                 13   \n",
       "778   2018    BA Stokes    37                 317                  8   \n",
       "792   2018    HH Pandya    43                 405                 18   \n",
       "\n",
       "     Maiden_Overs  avg_run_per_over  fielder_wickets  matches_played  \\\n",
       "183           0.0          8.875000                4              13   \n",
       "187           1.0          8.350877                7              16   \n",
       "462           0.0          9.419355               11              18   \n",
       "575           0.0          8.340426                8              12   \n",
       "602           1.0          9.466667                4              11   \n",
       "692           0.0          8.508772               10              15   \n",
       "770           0.0          9.789474                8              14   \n",
       "778           1.0          8.567568                6              12   \n",
       "792           0.0          9.418605               11              13   \n",
       "\n",
       "     num_of_fours  num_of_sixes  balls_faced  batsman_runs  strike_rate  \\\n",
       "183          21.0          10.0          188           276   161.031152   \n",
       "187          68.0           9.0          517           572    98.626527   \n",
       "462          27.0          29.0          290           420   138.494822   \n",
       "575          13.0           8.0          181           206   107.717872   \n",
       "602          12.0           5.0          116           144   114.531040   \n",
       "692          14.0          12.0          135           179   103.162179   \n",
       "770          17.0          31.0          179           326   149.263656   \n",
       "778          13.0           6.0          166           203   108.243862   \n",
       "792          22.0          11.0          205           279   148.272617   \n",
       "\n",
       "     avg_per_match  \n",
       "183      21.230769  \n",
       "187      35.750000  \n",
       "462      23.333333  \n",
       "575      17.166667  \n",
       "602      13.090909  \n",
       "692      11.933333  \n",
       "770      23.285714  \n",
       "778      16.916667  \n",
       "792      21.461538  "
      ]
     },
     "execution_count": 56,
     "metadata": {},
     "output_type": "execute_result"
    }
   ],
   "source": [
    "# Getting the top allrounders of all IPL seasons.\n",
    "top_allrounders = allrounder_df[\n",
    "    (allrounder_df['over']>allrounder_df['over'].mean()) &\n",
    "    (allrounder_df['bowleruns_conceded']>allrounder_df['bowleruns_conceded'].mean()) &\n",
    "    (allrounder_df['Wickets_By_Bowler']>allrounder_df['Wickets_By_Bowler'].mean()) &\n",
    "    (allrounder_df['avg_run_per_over']>allrounder_df['avg_run_per_over'].mean()) &\n",
    "    (allrounder_df['fielder_wickets']>allrounder_df['fielder_wickets'].mean()) &\n",
    "    (allrounder_df['num_of_fours']>allrounder_df['num_of_fours'].mean()) &\n",
    "    (allrounder_df['balls_faced']>allrounder_df['balls_faced'].mean()) &\n",
    "    (allrounder_df['batsman_runs']>allrounder_df['batsman_runs'].mean()) &\n",
    "    (allrounder_df['strike_rate']>allrounder_df['strike_rate'].mean()) &\n",
    "    (allrounder_df['avg_per_match']>allrounder_df['avg_per_match'].mean()) \n",
    "]\n",
    "top_allrounders"
   ]
  },
  {
   "cell_type": "code",
   "execution_count": 372,
   "metadata": {},
   "outputs": [
    {
     "data": {
      "application/vnd.plotly.v1+json": {
       "config": {
        "plotlyServerURL": "https://plot.ly"
       },
       "data": [
        {
         "marker": {
          "color": "royalblue"
         },
         "name": "Bowler_Avg_run_per_over",
         "text": [
          8,
          8,
          9,
          8,
          9,
          8,
          9,
          8,
          9
         ],
         "textfont": {
          "size": 100
         },
         "textposition": "outside",
         "type": "bar",
         "x": [
          "2010 : IK Pathan",
          "2010 : JH Kallis",
          "2013 : KA Pollard",
          "2015 : AR Patel",
          "2015 : JP Faulkner",
          "2016 : SR Watson",
          "2018 : AD Russell",
          "2018 : BA Stokes",
          "2018 : HH Pandya"
         ],
         "y": [
          266.25,
          250.52631578947367,
          282.58064516129036,
          250.21276595744683,
          284,
          255.26315789473685,
          293.6842105263158,
          257.02702702702703,
          282.55813953488376
         ]
        },
        {
         "marker": {
          "color": "aqua"
         },
         "name": "Wickets_By_Bowler",
         "text": [
          15,
          13,
          10,
          11,
          8,
          20,
          13,
          8,
          18
         ],
         "textposition": "auto",
         "type": "bar",
         "x": [
          "2010 : IK Pathan",
          "2010 : JH Kallis",
          "2013 : KA Pollard",
          "2015 : AR Patel",
          "2015 : JP Faulkner",
          "2016 : SR Watson",
          "2018 : AD Russell",
          "2018 : BA Stokes",
          "2018 : HH Pandya"
         ],
         "y": [
          600,
          520,
          400,
          440,
          320,
          800,
          520,
          320,
          720
         ]
        },
        {
         "marker": {
          "color": "seagreen"
         },
         "name": "Fielder_wickets",
         "text": [
          4,
          7,
          11,
          8,
          4,
          10,
          8,
          6,
          11
         ],
         "textposition": "auto",
         "type": "bar",
         "x": [
          "2010 : IK Pathan",
          "2010 : JH Kallis",
          "2013 : KA Pollard",
          "2015 : AR Patel",
          "2015 : JP Faulkner",
          "2016 : SR Watson",
          "2018 : AD Russell",
          "2018 : BA Stokes",
          "2018 : HH Pandya"
         ],
         "y": [
          280,
          490,
          770,
          560,
          280,
          700,
          560,
          420,
          770
         ]
        },
        {
         "marker": {
          "color": "skyblue"
         },
         "name": "Batsman_Avg_per_match",
         "text": [
          21,
          35,
          23,
          17,
          13,
          11,
          23,
          16,
          21
         ],
         "textposition": "auto",
         "type": "bar",
         "x": [
          "2010 : IK Pathan",
          "2010 : JH Kallis",
          "2013 : KA Pollard",
          "2015 : AR Patel",
          "2015 : JP Faulkner",
          "2016 : SR Watson",
          "2018 : AD Russell",
          "2018 : BA Stokes",
          "2018 : HH Pandya"
         ],
         "y": [
          636.9230769230769,
          1072.5,
          700,
          515,
          392.72727272727275,
          358,
          698.5714285714286,
          507.50000000000006,
          643.8461538461538
         ]
        },
        {
         "marker": {
          "color": "orange"
         },
         "name": "Strike_rate",
         "text": [
          161,
          98,
          138,
          107,
          114,
          103,
          149,
          108,
          148
         ],
         "textposition": "auto",
         "type": "bar",
         "x": [
          "2010 : IK Pathan",
          "2010 : JH Kallis",
          "2013 : KA Pollard",
          "2015 : AR Patel",
          "2015 : JP Faulkner",
          "2016 : SR Watson",
          "2018 : AD Russell",
          "2018 : BA Stokes",
          "2018 : HH Pandya"
         ],
         "y": [
          805.1557602788421,
          493.1326339868507,
          692.4741093052496,
          538.5893599047104,
          572.6551994494578,
          515.8108947582631,
          746.3182815861387,
          541.2193076383185,
          741.3630871758844
         ]
        },
        {
         "marker": {
          "color": "yellow"
         },
         "name": "Batsman_runs",
         "text": [
          276,
          572,
          420,
          206,
          144,
          179,
          326,
          203,
          279
         ],
         "textposition": "auto",
         "type": "bar",
         "x": [
          "2010 : IK Pathan",
          "2010 : JH Kallis",
          "2013 : KA Pollard",
          "2015 : AR Patel",
          "2015 : JP Faulkner",
          "2016 : SR Watson",
          "2018 : AD Russell",
          "2018 : BA Stokes",
          "2018 : HH Pandya"
         ],
         "y": [
          276,
          572,
          420,
          206,
          144,
          179,
          326,
          203,
          279
         ]
        }
       ],
       "layout": {
        "barmode": "stack",
        "template": {
         "data": {
          "bar": [
           {
            "error_x": {
             "color": "#2a3f5f"
            },
            "error_y": {
             "color": "#2a3f5f"
            },
            "marker": {
             "line": {
              "color": "#E5ECF6",
              "width": 0.5
             }
            },
            "type": "bar"
           }
          ],
          "barpolar": [
           {
            "marker": {
             "line": {
              "color": "#E5ECF6",
              "width": 0.5
             }
            },
            "type": "barpolar"
           }
          ],
          "carpet": [
           {
            "aaxis": {
             "endlinecolor": "#2a3f5f",
             "gridcolor": "white",
             "linecolor": "white",
             "minorgridcolor": "white",
             "startlinecolor": "#2a3f5f"
            },
            "baxis": {
             "endlinecolor": "#2a3f5f",
             "gridcolor": "white",
             "linecolor": "white",
             "minorgridcolor": "white",
             "startlinecolor": "#2a3f5f"
            },
            "type": "carpet"
           }
          ],
          "choropleth": [
           {
            "colorbar": {
             "outlinewidth": 0,
             "ticks": ""
            },
            "type": "choropleth"
           }
          ],
          "contour": [
           {
            "colorbar": {
             "outlinewidth": 0,
             "ticks": ""
            },
            "colorscale": [
             [
              0,
              "#0d0887"
             ],
             [
              0.1111111111111111,
              "#46039f"
             ],
             [
              0.2222222222222222,
              "#7201a8"
             ],
             [
              0.3333333333333333,
              "#9c179e"
             ],
             [
              0.4444444444444444,
              "#bd3786"
             ],
             [
              0.5555555555555556,
              "#d8576b"
             ],
             [
              0.6666666666666666,
              "#ed7953"
             ],
             [
              0.7777777777777778,
              "#fb9f3a"
             ],
             [
              0.8888888888888888,
              "#fdca26"
             ],
             [
              1,
              "#f0f921"
             ]
            ],
            "type": "contour"
           }
          ],
          "contourcarpet": [
           {
            "colorbar": {
             "outlinewidth": 0,
             "ticks": ""
            },
            "type": "contourcarpet"
           }
          ],
          "heatmap": [
           {
            "colorbar": {
             "outlinewidth": 0,
             "ticks": ""
            },
            "colorscale": [
             [
              0,
              "#0d0887"
             ],
             [
              0.1111111111111111,
              "#46039f"
             ],
             [
              0.2222222222222222,
              "#7201a8"
             ],
             [
              0.3333333333333333,
              "#9c179e"
             ],
             [
              0.4444444444444444,
              "#bd3786"
             ],
             [
              0.5555555555555556,
              "#d8576b"
             ],
             [
              0.6666666666666666,
              "#ed7953"
             ],
             [
              0.7777777777777778,
              "#fb9f3a"
             ],
             [
              0.8888888888888888,
              "#fdca26"
             ],
             [
              1,
              "#f0f921"
             ]
            ],
            "type": "heatmap"
           }
          ],
          "heatmapgl": [
           {
            "colorbar": {
             "outlinewidth": 0,
             "ticks": ""
            },
            "colorscale": [
             [
              0,
              "#0d0887"
             ],
             [
              0.1111111111111111,
              "#46039f"
             ],
             [
              0.2222222222222222,
              "#7201a8"
             ],
             [
              0.3333333333333333,
              "#9c179e"
             ],
             [
              0.4444444444444444,
              "#bd3786"
             ],
             [
              0.5555555555555556,
              "#d8576b"
             ],
             [
              0.6666666666666666,
              "#ed7953"
             ],
             [
              0.7777777777777778,
              "#fb9f3a"
             ],
             [
              0.8888888888888888,
              "#fdca26"
             ],
             [
              1,
              "#f0f921"
             ]
            ],
            "type": "heatmapgl"
           }
          ],
          "histogram": [
           {
            "marker": {
             "colorbar": {
              "outlinewidth": 0,
              "ticks": ""
             }
            },
            "type": "histogram"
           }
          ],
          "histogram2d": [
           {
            "colorbar": {
             "outlinewidth": 0,
             "ticks": ""
            },
            "colorscale": [
             [
              0,
              "#0d0887"
             ],
             [
              0.1111111111111111,
              "#46039f"
             ],
             [
              0.2222222222222222,
              "#7201a8"
             ],
             [
              0.3333333333333333,
              "#9c179e"
             ],
             [
              0.4444444444444444,
              "#bd3786"
             ],
             [
              0.5555555555555556,
              "#d8576b"
             ],
             [
              0.6666666666666666,
              "#ed7953"
             ],
             [
              0.7777777777777778,
              "#fb9f3a"
             ],
             [
              0.8888888888888888,
              "#fdca26"
             ],
             [
              1,
              "#f0f921"
             ]
            ],
            "type": "histogram2d"
           }
          ],
          "histogram2dcontour": [
           {
            "colorbar": {
             "outlinewidth": 0,
             "ticks": ""
            },
            "colorscale": [
             [
              0,
              "#0d0887"
             ],
             [
              0.1111111111111111,
              "#46039f"
             ],
             [
              0.2222222222222222,
              "#7201a8"
             ],
             [
              0.3333333333333333,
              "#9c179e"
             ],
             [
              0.4444444444444444,
              "#bd3786"
             ],
             [
              0.5555555555555556,
              "#d8576b"
             ],
             [
              0.6666666666666666,
              "#ed7953"
             ],
             [
              0.7777777777777778,
              "#fb9f3a"
             ],
             [
              0.8888888888888888,
              "#fdca26"
             ],
             [
              1,
              "#f0f921"
             ]
            ],
            "type": "histogram2dcontour"
           }
          ],
          "mesh3d": [
           {
            "colorbar": {
             "outlinewidth": 0,
             "ticks": ""
            },
            "type": "mesh3d"
           }
          ],
          "parcoords": [
           {
            "line": {
             "colorbar": {
              "outlinewidth": 0,
              "ticks": ""
             }
            },
            "type": "parcoords"
           }
          ],
          "pie": [
           {
            "automargin": true,
            "type": "pie"
           }
          ],
          "scatter": [
           {
            "marker": {
             "colorbar": {
              "outlinewidth": 0,
              "ticks": ""
             }
            },
            "type": "scatter"
           }
          ],
          "scatter3d": [
           {
            "line": {
             "colorbar": {
              "outlinewidth": 0,
              "ticks": ""
             }
            },
            "marker": {
             "colorbar": {
              "outlinewidth": 0,
              "ticks": ""
             }
            },
            "type": "scatter3d"
           }
          ],
          "scattercarpet": [
           {
            "marker": {
             "colorbar": {
              "outlinewidth": 0,
              "ticks": ""
             }
            },
            "type": "scattercarpet"
           }
          ],
          "scattergeo": [
           {
            "marker": {
             "colorbar": {
              "outlinewidth": 0,
              "ticks": ""
             }
            },
            "type": "scattergeo"
           }
          ],
          "scattergl": [
           {
            "marker": {
             "colorbar": {
              "outlinewidth": 0,
              "ticks": ""
             }
            },
            "type": "scattergl"
           }
          ],
          "scattermapbox": [
           {
            "marker": {
             "colorbar": {
              "outlinewidth": 0,
              "ticks": ""
             }
            },
            "type": "scattermapbox"
           }
          ],
          "scatterpolar": [
           {
            "marker": {
             "colorbar": {
              "outlinewidth": 0,
              "ticks": ""
             }
            },
            "type": "scatterpolar"
           }
          ],
          "scatterpolargl": [
           {
            "marker": {
             "colorbar": {
              "outlinewidth": 0,
              "ticks": ""
             }
            },
            "type": "scatterpolargl"
           }
          ],
          "scatterternary": [
           {
            "marker": {
             "colorbar": {
              "outlinewidth": 0,
              "ticks": ""
             }
            },
            "type": "scatterternary"
           }
          ],
          "surface": [
           {
            "colorbar": {
             "outlinewidth": 0,
             "ticks": ""
            },
            "colorscale": [
             [
              0,
              "#0d0887"
             ],
             [
              0.1111111111111111,
              "#46039f"
             ],
             [
              0.2222222222222222,
              "#7201a8"
             ],
             [
              0.3333333333333333,
              "#9c179e"
             ],
             [
              0.4444444444444444,
              "#bd3786"
             ],
             [
              0.5555555555555556,
              "#d8576b"
             ],
             [
              0.6666666666666666,
              "#ed7953"
             ],
             [
              0.7777777777777778,
              "#fb9f3a"
             ],
             [
              0.8888888888888888,
              "#fdca26"
             ],
             [
              1,
              "#f0f921"
             ]
            ],
            "type": "surface"
           }
          ],
          "table": [
           {
            "cells": {
             "fill": {
              "color": "#EBF0F8"
             },
             "line": {
              "color": "white"
             }
            },
            "header": {
             "fill": {
              "color": "#C8D4E3"
             },
             "line": {
              "color": "white"
             }
            },
            "type": "table"
           }
          ]
         },
         "layout": {
          "annotationdefaults": {
           "arrowcolor": "#2a3f5f",
           "arrowhead": 0,
           "arrowwidth": 1
          },
          "coloraxis": {
           "colorbar": {
            "outlinewidth": 0,
            "ticks": ""
           }
          },
          "colorscale": {
           "diverging": [
            [
             0,
             "#8e0152"
            ],
            [
             0.1,
             "#c51b7d"
            ],
            [
             0.2,
             "#de77ae"
            ],
            [
             0.3,
             "#f1b6da"
            ],
            [
             0.4,
             "#fde0ef"
            ],
            [
             0.5,
             "#f7f7f7"
            ],
            [
             0.6,
             "#e6f5d0"
            ],
            [
             0.7,
             "#b8e186"
            ],
            [
             0.8,
             "#7fbc41"
            ],
            [
             0.9,
             "#4d9221"
            ],
            [
             1,
             "#276419"
            ]
           ],
           "sequential": [
            [
             0,
             "#0d0887"
            ],
            [
             0.1111111111111111,
             "#46039f"
            ],
            [
             0.2222222222222222,
             "#7201a8"
            ],
            [
             0.3333333333333333,
             "#9c179e"
            ],
            [
             0.4444444444444444,
             "#bd3786"
            ],
            [
             0.5555555555555556,
             "#d8576b"
            ],
            [
             0.6666666666666666,
             "#ed7953"
            ],
            [
             0.7777777777777778,
             "#fb9f3a"
            ],
            [
             0.8888888888888888,
             "#fdca26"
            ],
            [
             1,
             "#f0f921"
            ]
           ],
           "sequentialminus": [
            [
             0,
             "#0d0887"
            ],
            [
             0.1111111111111111,
             "#46039f"
            ],
            [
             0.2222222222222222,
             "#7201a8"
            ],
            [
             0.3333333333333333,
             "#9c179e"
            ],
            [
             0.4444444444444444,
             "#bd3786"
            ],
            [
             0.5555555555555556,
             "#d8576b"
            ],
            [
             0.6666666666666666,
             "#ed7953"
            ],
            [
             0.7777777777777778,
             "#fb9f3a"
            ],
            [
             0.8888888888888888,
             "#fdca26"
            ],
            [
             1,
             "#f0f921"
            ]
           ]
          },
          "colorway": [
           "#636efa",
           "#EF553B",
           "#00cc96",
           "#ab63fa",
           "#FFA15A",
           "#19d3f3",
           "#FF6692",
           "#B6E880",
           "#FF97FF",
           "#FECB52"
          ],
          "font": {
           "color": "#2a3f5f"
          },
          "geo": {
           "bgcolor": "white",
           "lakecolor": "white",
           "landcolor": "#E5ECF6",
           "showlakes": true,
           "showland": true,
           "subunitcolor": "white"
          },
          "hoverlabel": {
           "align": "left"
          },
          "hovermode": "closest",
          "mapbox": {
           "style": "light"
          },
          "paper_bgcolor": "white",
          "plot_bgcolor": "#E5ECF6",
          "polar": {
           "angularaxis": {
            "gridcolor": "white",
            "linecolor": "white",
            "ticks": ""
           },
           "bgcolor": "#E5ECF6",
           "radialaxis": {
            "gridcolor": "white",
            "linecolor": "white",
            "ticks": ""
           }
          },
          "scene": {
           "xaxis": {
            "backgroundcolor": "#E5ECF6",
            "gridcolor": "white",
            "gridwidth": 2,
            "linecolor": "white",
            "showbackground": true,
            "ticks": "",
            "zerolinecolor": "white"
           },
           "yaxis": {
            "backgroundcolor": "#E5ECF6",
            "gridcolor": "white",
            "gridwidth": 2,
            "linecolor": "white",
            "showbackground": true,
            "ticks": "",
            "zerolinecolor": "white"
           },
           "zaxis": {
            "backgroundcolor": "#E5ECF6",
            "gridcolor": "white",
            "gridwidth": 2,
            "linecolor": "white",
            "showbackground": true,
            "ticks": "",
            "zerolinecolor": "white"
           }
          },
          "shapedefaults": {
           "line": {
            "color": "#2a3f5f"
           }
          },
          "ternary": {
           "aaxis": {
            "gridcolor": "white",
            "linecolor": "white",
            "ticks": ""
           },
           "baxis": {
            "gridcolor": "white",
            "linecolor": "white",
            "ticks": ""
           },
           "bgcolor": "#E5ECF6",
           "caxis": {
            "gridcolor": "white",
            "linecolor": "white",
            "ticks": ""
           }
          },
          "title": {
           "x": 0.05
          },
          "xaxis": {
           "automargin": true,
           "gridcolor": "white",
           "linecolor": "white",
           "ticks": "",
           "title": {
            "standoff": 15
           },
           "zerolinecolor": "white",
           "zerolinewidth": 2
          },
          "yaxis": {
           "automargin": true,
           "gridcolor": "white",
           "linecolor": "white",
           "ticks": "",
           "title": {
            "standoff": 15
           },
           "zerolinecolor": "white",
           "zerolinewidth": 2
          }
         }
        },
        "title": {
         "font": {
          "color": "black",
          "size": 20
         },
         "text": "Best All Rounders of all IPL Seasons"
        },
        "yaxis": {
         "title": {
          "font": {
           "color": "black",
           "size": 20
          },
          "text": "Various Stats for Allrounders"
         }
        }
       }
      },
      "text/html": [
       "<div>\n",
       "        \n",
       "        \n",
       "            <div id=\"43eb0e43-eb7d-471b-84c5-d70b120eaaf4\" class=\"plotly-graph-div\" style=\"height:525px; width:100%;\"></div>\n",
       "            <script type=\"text/javascript\">\n",
       "                require([\"plotly\"], function(Plotly) {\n",
       "                    window.PLOTLYENV=window.PLOTLYENV || {};\n",
       "                    \n",
       "                if (document.getElementById(\"43eb0e43-eb7d-471b-84c5-d70b120eaaf4\")) {\n",
       "                    Plotly.newPlot(\n",
       "                        '43eb0e43-eb7d-471b-84c5-d70b120eaaf4',\n",
       "                        [{\"marker\": {\"color\": \"royalblue\"}, \"name\": \"Bowler_Avg_run_per_over\", \"text\": [8.0, 8.0, 9.0, 8.0, 9.0, 8.0, 9.0, 8.0, 9.0], \"textfont\": {\"size\": 100}, \"textposition\": \"outside\", \"type\": \"bar\", \"x\": [\"2010 : IK Pathan\", \"2010 : JH Kallis\", \"2013 : KA Pollard\", \"2015 : AR Patel\", \"2015 : JP Faulkner\", \"2016 : SR Watson\", \"2018 : AD Russell\", \"2018 : BA Stokes\", \"2018 : HH Pandya\"], \"y\": [266.25, 250.52631578947367, 282.58064516129036, 250.21276595744683, 284.0, 255.26315789473685, 293.6842105263158, 257.02702702702703, 282.55813953488376]}, {\"marker\": {\"color\": \"aqua\"}, \"name\": \"Wickets_By_Bowler\", \"text\": [15.0, 13.0, 10.0, 11.0, 8.0, 20.0, 13.0, 8.0, 18.0], \"textposition\": \"auto\", \"type\": \"bar\", \"x\": [\"2010 : IK Pathan\", \"2010 : JH Kallis\", \"2013 : KA Pollard\", \"2015 : AR Patel\", \"2015 : JP Faulkner\", \"2016 : SR Watson\", \"2018 : AD Russell\", \"2018 : BA Stokes\", \"2018 : HH Pandya\"], \"y\": [600, 520, 400, 440, 320, 800, 520, 320, 720]}, {\"marker\": {\"color\": \"seagreen\"}, \"name\": \"Fielder_wickets\", \"text\": [4.0, 7.0, 11.0, 8.0, 4.0, 10.0, 8.0, 6.0, 11.0], \"textposition\": \"auto\", \"type\": \"bar\", \"x\": [\"2010 : IK Pathan\", \"2010 : JH Kallis\", \"2013 : KA Pollard\", \"2015 : AR Patel\", \"2015 : JP Faulkner\", \"2016 : SR Watson\", \"2018 : AD Russell\", \"2018 : BA Stokes\", \"2018 : HH Pandya\"], \"y\": [280, 490, 770, 560, 280, 700, 560, 420, 770]}, {\"marker\": {\"color\": \"skyblue\"}, \"name\": \"Batsman_Avg_per_match\", \"text\": [21.0, 35.0, 23.0, 17.0, 13.0, 11.0, 23.0, 16.0, 21.0], \"textposition\": \"auto\", \"type\": \"bar\", \"x\": [\"2010 : IK Pathan\", \"2010 : JH Kallis\", \"2013 : KA Pollard\", \"2015 : AR Patel\", \"2015 : JP Faulkner\", \"2016 : SR Watson\", \"2018 : AD Russell\", \"2018 : BA Stokes\", \"2018 : HH Pandya\"], \"y\": [636.9230769230769, 1072.5, 700.0, 515.0, 392.72727272727275, 358.0, 698.5714285714286, 507.50000000000006, 643.8461538461538]}, {\"marker\": {\"color\": \"orange\"}, \"name\": \"Strike_rate\", \"text\": [161.0, 98.0, 138.0, 107.0, 114.0, 103.0, 149.0, 108.0, 148.0], \"textposition\": \"auto\", \"type\": \"bar\", \"x\": [\"2010 : IK Pathan\", \"2010 : JH Kallis\", \"2013 : KA Pollard\", \"2015 : AR Patel\", \"2015 : JP Faulkner\", \"2016 : SR Watson\", \"2018 : AD Russell\", \"2018 : BA Stokes\", \"2018 : HH Pandya\"], \"y\": [805.1557602788421, 493.1326339868507, 692.4741093052496, 538.5893599047104, 572.6551994494578, 515.8108947582631, 746.3182815861387, 541.2193076383185, 741.3630871758844]}, {\"marker\": {\"color\": \"yellow\"}, \"name\": \"Batsman_runs\", \"text\": [276.0, 572.0, 420.0, 206.0, 144.0, 179.0, 326.0, 203.0, 279.0], \"textposition\": \"auto\", \"type\": \"bar\", \"x\": [\"2010 : IK Pathan\", \"2010 : JH Kallis\", \"2013 : KA Pollard\", \"2015 : AR Patel\", \"2015 : JP Faulkner\", \"2016 : SR Watson\", \"2018 : AD Russell\", \"2018 : BA Stokes\", \"2018 : HH Pandya\"], \"y\": [276, 572, 420, 206, 144, 179, 326, 203, 279]}],\n",
       "                        {\"barmode\": \"stack\", \"template\": {\"data\": {\"bar\": [{\"error_x\": {\"color\": \"#2a3f5f\"}, \"error_y\": {\"color\": \"#2a3f5f\"}, \"marker\": {\"line\": {\"color\": \"#E5ECF6\", \"width\": 0.5}}, \"type\": \"bar\"}], \"barpolar\": [{\"marker\": {\"line\": {\"color\": \"#E5ECF6\", \"width\": 0.5}}, \"type\": \"barpolar\"}], \"carpet\": [{\"aaxis\": {\"endlinecolor\": \"#2a3f5f\", \"gridcolor\": \"white\", \"linecolor\": \"white\", \"minorgridcolor\": \"white\", \"startlinecolor\": \"#2a3f5f\"}, \"baxis\": {\"endlinecolor\": \"#2a3f5f\", \"gridcolor\": \"white\", \"linecolor\": \"white\", \"minorgridcolor\": \"white\", \"startlinecolor\": \"#2a3f5f\"}, \"type\": \"carpet\"}], \"choropleth\": [{\"colorbar\": {\"outlinewidth\": 0, \"ticks\": \"\"}, \"type\": \"choropleth\"}], \"contour\": [{\"colorbar\": {\"outlinewidth\": 0, \"ticks\": \"\"}, \"colorscale\": [[0.0, \"#0d0887\"], [0.1111111111111111, \"#46039f\"], [0.2222222222222222, \"#7201a8\"], [0.3333333333333333, \"#9c179e\"], [0.4444444444444444, \"#bd3786\"], [0.5555555555555556, \"#d8576b\"], [0.6666666666666666, \"#ed7953\"], [0.7777777777777778, \"#fb9f3a\"], [0.8888888888888888, \"#fdca26\"], [1.0, \"#f0f921\"]], \"type\": \"contour\"}], \"contourcarpet\": [{\"colorbar\": {\"outlinewidth\": 0, \"ticks\": \"\"}, \"type\": \"contourcarpet\"}], \"heatmap\": [{\"colorbar\": {\"outlinewidth\": 0, \"ticks\": \"\"}, \"colorscale\": [[0.0, \"#0d0887\"], [0.1111111111111111, \"#46039f\"], [0.2222222222222222, \"#7201a8\"], [0.3333333333333333, \"#9c179e\"], [0.4444444444444444, \"#bd3786\"], [0.5555555555555556, \"#d8576b\"], [0.6666666666666666, \"#ed7953\"], [0.7777777777777778, \"#fb9f3a\"], [0.8888888888888888, \"#fdca26\"], [1.0, \"#f0f921\"]], \"type\": \"heatmap\"}], \"heatmapgl\": [{\"colorbar\": {\"outlinewidth\": 0, \"ticks\": \"\"}, \"colorscale\": [[0.0, \"#0d0887\"], [0.1111111111111111, \"#46039f\"], [0.2222222222222222, \"#7201a8\"], [0.3333333333333333, \"#9c179e\"], [0.4444444444444444, \"#bd3786\"], [0.5555555555555556, \"#d8576b\"], [0.6666666666666666, \"#ed7953\"], [0.7777777777777778, \"#fb9f3a\"], [0.8888888888888888, \"#fdca26\"], [1.0, \"#f0f921\"]], \"type\": \"heatmapgl\"}], \"histogram\": [{\"marker\": {\"colorbar\": {\"outlinewidth\": 0, \"ticks\": \"\"}}, \"type\": \"histogram\"}], \"histogram2d\": [{\"colorbar\": {\"outlinewidth\": 0, \"ticks\": \"\"}, \"colorscale\": [[0.0, \"#0d0887\"], [0.1111111111111111, \"#46039f\"], [0.2222222222222222, \"#7201a8\"], [0.3333333333333333, \"#9c179e\"], [0.4444444444444444, \"#bd3786\"], [0.5555555555555556, \"#d8576b\"], [0.6666666666666666, \"#ed7953\"], [0.7777777777777778, \"#fb9f3a\"], [0.8888888888888888, \"#fdca26\"], [1.0, \"#f0f921\"]], \"type\": \"histogram2d\"}], \"histogram2dcontour\": [{\"colorbar\": {\"outlinewidth\": 0, \"ticks\": \"\"}, \"colorscale\": [[0.0, \"#0d0887\"], [0.1111111111111111, \"#46039f\"], [0.2222222222222222, \"#7201a8\"], [0.3333333333333333, \"#9c179e\"], [0.4444444444444444, \"#bd3786\"], [0.5555555555555556, \"#d8576b\"], [0.6666666666666666, \"#ed7953\"], [0.7777777777777778, \"#fb9f3a\"], [0.8888888888888888, \"#fdca26\"], [1.0, \"#f0f921\"]], \"type\": \"histogram2dcontour\"}], \"mesh3d\": [{\"colorbar\": {\"outlinewidth\": 0, \"ticks\": \"\"}, \"type\": \"mesh3d\"}], \"parcoords\": [{\"line\": {\"colorbar\": {\"outlinewidth\": 0, \"ticks\": \"\"}}, \"type\": \"parcoords\"}], \"pie\": [{\"automargin\": true, \"type\": \"pie\"}], \"scatter\": [{\"marker\": {\"colorbar\": {\"outlinewidth\": 0, \"ticks\": \"\"}}, \"type\": \"scatter\"}], \"scatter3d\": [{\"line\": {\"colorbar\": {\"outlinewidth\": 0, \"ticks\": \"\"}}, \"marker\": {\"colorbar\": {\"outlinewidth\": 0, \"ticks\": \"\"}}, \"type\": \"scatter3d\"}], \"scattercarpet\": [{\"marker\": {\"colorbar\": {\"outlinewidth\": 0, \"ticks\": \"\"}}, \"type\": \"scattercarpet\"}], \"scattergeo\": [{\"marker\": {\"colorbar\": {\"outlinewidth\": 0, \"ticks\": \"\"}}, \"type\": \"scattergeo\"}], \"scattergl\": [{\"marker\": {\"colorbar\": {\"outlinewidth\": 0, \"ticks\": \"\"}}, \"type\": \"scattergl\"}], \"scattermapbox\": [{\"marker\": {\"colorbar\": {\"outlinewidth\": 0, \"ticks\": \"\"}}, \"type\": \"scattermapbox\"}], \"scatterpolar\": [{\"marker\": {\"colorbar\": {\"outlinewidth\": 0, \"ticks\": \"\"}}, \"type\": \"scatterpolar\"}], \"scatterpolargl\": [{\"marker\": {\"colorbar\": {\"outlinewidth\": 0, \"ticks\": \"\"}}, \"type\": \"scatterpolargl\"}], \"scatterternary\": [{\"marker\": {\"colorbar\": {\"outlinewidth\": 0, \"ticks\": \"\"}}, \"type\": \"scatterternary\"}], \"surface\": [{\"colorbar\": {\"outlinewidth\": 0, \"ticks\": \"\"}, \"colorscale\": [[0.0, \"#0d0887\"], [0.1111111111111111, \"#46039f\"], [0.2222222222222222, \"#7201a8\"], [0.3333333333333333, \"#9c179e\"], [0.4444444444444444, \"#bd3786\"], [0.5555555555555556, \"#d8576b\"], [0.6666666666666666, \"#ed7953\"], [0.7777777777777778, \"#fb9f3a\"], [0.8888888888888888, \"#fdca26\"], [1.0, \"#f0f921\"]], \"type\": \"surface\"}], \"table\": [{\"cells\": {\"fill\": {\"color\": \"#EBF0F8\"}, \"line\": {\"color\": \"white\"}}, \"header\": {\"fill\": {\"color\": \"#C8D4E3\"}, \"line\": {\"color\": \"white\"}}, \"type\": \"table\"}]}, \"layout\": {\"annotationdefaults\": {\"arrowcolor\": \"#2a3f5f\", \"arrowhead\": 0, \"arrowwidth\": 1}, \"coloraxis\": {\"colorbar\": {\"outlinewidth\": 0, \"ticks\": \"\"}}, \"colorscale\": {\"diverging\": [[0, \"#8e0152\"], [0.1, \"#c51b7d\"], [0.2, \"#de77ae\"], [0.3, \"#f1b6da\"], [0.4, \"#fde0ef\"], [0.5, \"#f7f7f7\"], [0.6, \"#e6f5d0\"], [0.7, \"#b8e186\"], [0.8, \"#7fbc41\"], [0.9, \"#4d9221\"], [1, \"#276419\"]], \"sequential\": [[0.0, \"#0d0887\"], [0.1111111111111111, \"#46039f\"], [0.2222222222222222, \"#7201a8\"], [0.3333333333333333, \"#9c179e\"], [0.4444444444444444, \"#bd3786\"], [0.5555555555555556, \"#d8576b\"], [0.6666666666666666, \"#ed7953\"], [0.7777777777777778, \"#fb9f3a\"], [0.8888888888888888, \"#fdca26\"], [1.0, \"#f0f921\"]], \"sequentialminus\": [[0.0, \"#0d0887\"], [0.1111111111111111, \"#46039f\"], [0.2222222222222222, \"#7201a8\"], [0.3333333333333333, \"#9c179e\"], [0.4444444444444444, \"#bd3786\"], [0.5555555555555556, \"#d8576b\"], [0.6666666666666666, \"#ed7953\"], [0.7777777777777778, \"#fb9f3a\"], [0.8888888888888888, \"#fdca26\"], [1.0, \"#f0f921\"]]}, \"colorway\": [\"#636efa\", \"#EF553B\", \"#00cc96\", \"#ab63fa\", \"#FFA15A\", \"#19d3f3\", \"#FF6692\", \"#B6E880\", \"#FF97FF\", \"#FECB52\"], \"font\": {\"color\": \"#2a3f5f\"}, \"geo\": {\"bgcolor\": \"white\", \"lakecolor\": \"white\", \"landcolor\": \"#E5ECF6\", \"showlakes\": true, \"showland\": true, \"subunitcolor\": \"white\"}, \"hoverlabel\": {\"align\": \"left\"}, \"hovermode\": \"closest\", \"mapbox\": {\"style\": \"light\"}, \"paper_bgcolor\": \"white\", \"plot_bgcolor\": \"#E5ECF6\", \"polar\": {\"angularaxis\": {\"gridcolor\": \"white\", \"linecolor\": \"white\", \"ticks\": \"\"}, \"bgcolor\": \"#E5ECF6\", \"radialaxis\": {\"gridcolor\": \"white\", \"linecolor\": \"white\", \"ticks\": \"\"}}, \"scene\": {\"xaxis\": {\"backgroundcolor\": \"#E5ECF6\", \"gridcolor\": \"white\", \"gridwidth\": 2, \"linecolor\": \"white\", \"showbackground\": true, \"ticks\": \"\", \"zerolinecolor\": \"white\"}, \"yaxis\": {\"backgroundcolor\": \"#E5ECF6\", \"gridcolor\": \"white\", \"gridwidth\": 2, \"linecolor\": \"white\", \"showbackground\": true, \"ticks\": \"\", \"zerolinecolor\": \"white\"}, \"zaxis\": {\"backgroundcolor\": \"#E5ECF6\", \"gridcolor\": \"white\", \"gridwidth\": 2, \"linecolor\": \"white\", \"showbackground\": true, \"ticks\": \"\", \"zerolinecolor\": \"white\"}}, \"shapedefaults\": {\"line\": {\"color\": \"#2a3f5f\"}}, \"ternary\": {\"aaxis\": {\"gridcolor\": \"white\", \"linecolor\": \"white\", \"ticks\": \"\"}, \"baxis\": {\"gridcolor\": \"white\", \"linecolor\": \"white\", \"ticks\": \"\"}, \"bgcolor\": \"#E5ECF6\", \"caxis\": {\"gridcolor\": \"white\", \"linecolor\": \"white\", \"ticks\": \"\"}}, \"title\": {\"x\": 0.05}, \"xaxis\": {\"automargin\": true, \"gridcolor\": \"white\", \"linecolor\": \"white\", \"ticks\": \"\", \"title\": {\"standoff\": 15}, \"zerolinecolor\": \"white\", \"zerolinewidth\": 2}, \"yaxis\": {\"automargin\": true, \"gridcolor\": \"white\", \"linecolor\": \"white\", \"ticks\": \"\", \"title\": {\"standoff\": 15}, \"zerolinecolor\": \"white\", \"zerolinewidth\": 2}}}, \"title\": {\"font\": {\"color\": \"black\", \"size\": 20}, \"text\": \"Best All Rounders of all IPL Seasons\"}, \"yaxis\": {\"title\": {\"font\": {\"color\": \"black\", \"size\": 20}, \"text\": \"Various Stats for Allrounders\"}}},\n",
       "                        {\"responsive\": true}\n",
       "                    ).then(function(){\n",
       "                            \n",
       "var gd = document.getElementById('43eb0e43-eb7d-471b-84c5-d70b120eaaf4');\n",
       "var x = new MutationObserver(function (mutations, observer) {{\n",
       "        var display = window.getComputedStyle(gd).display;\n",
       "        if (!display || display === 'none') {{\n",
       "            console.log([gd, 'removed!']);\n",
       "            Plotly.purge(gd);\n",
       "            observer.disconnect();\n",
       "        }}\n",
       "}});\n",
       "\n",
       "// Listen for the removal of the full notebook cells\n",
       "var notebookContainer = gd.closest('#notebook-container');\n",
       "if (notebookContainer) {{\n",
       "    x.observe(notebookContainer, {childList: true});\n",
       "}}\n",
       "\n",
       "// Listen for the clearing of the current output cell\n",
       "var outputEl = gd.closest('.output');\n",
       "if (outputEl) {{\n",
       "    x.observe(outputEl, {childList: true});\n",
       "}}\n",
       "\n",
       "                        })\n",
       "                };\n",
       "                });\n",
       "            </script>\n",
       "        </div>"
      ]
     },
     "metadata": {},
     "output_type": "display_data"
    }
   ],
   "source": [
    "trace0 = go.Bar(x=top_allrounders['season'] +' : '+ top_allrounders['player'],\n",
    "                y= top_allrounders['Wickets_By_Bowler']*40 ,\n",
    "                text=top_allrounders['Wickets_By_Bowler'],\n",
    "                textposition= 'auto',\n",
    "                name ='Wickets_By_Bowler',\n",
    "                marker =dict(color='aqua'))\n",
    "trace1 = go.Bar(x=top_allrounders['season'] +' : '+ top_allrounders['player'],\n",
    "                y= top_allrounders['avg_run_per_over']*30 ,\n",
    "                text=top_allrounders['avg_run_per_over'].astype(int),\n",
    "                textposition= 'outside',textfont =dict(size=100),\n",
    "                name ='Bowler_Avg_run_per_over',\n",
    "                marker =dict(color='royalblue'))# orientation ='h' will chart horizontal bars\n",
    "trace2 = go.Bar(x=top_allrounders['season'] +' : '+ top_allrounders['player'],\n",
    "                y= top_allrounders['fielder_wickets'] *70,\n",
    "                text=top_allrounders['fielder_wickets'],\n",
    "                textposition= 'auto',\n",
    "                name ='Fielder_wickets',\n",
    "                marker =dict(color='seagreen'))\n",
    "trace3 = go.Bar(x=top_allrounders['season'] +' : '+ top_allrounders['player'],\n",
    "                y= top_allrounders['batsman_runs'],\n",
    "                text=top_allrounders['batsman_runs'],\n",
    "                textposition= 'auto',                \n",
    "                name ='Batsman_runs',\n",
    "                marker =dict(color='yellow'))\n",
    "trace4 = go.Bar(x=top_allrounders['season'] +' : '+ top_allrounders['player'],\n",
    "                y= top_allrounders['strike_rate']*5,\n",
    "                text=top_allrounders['strike_rate'].astype(int),\n",
    "                textposition= 'auto',  \n",
    "                name ='Strike_rate',\n",
    "                marker =dict(color='orange'))\n",
    "trace5 = go.Bar(x=top_allrounders['season'] +' : '+ top_allrounders['player'],\n",
    "                y= top_allrounders['avg_per_match']*30,\n",
    "                text=top_allrounders['avg_per_match'].astype(int),\n",
    "                textposition= 'auto',\n",
    "                name ='Batsman_Avg_per_match',\n",
    "                marker =dict(color='skyblue'))\n",
    "data_allrounder =[trace1,trace0,trace2,trace5,trace4,trace3]\n",
    "layout_allrounder = go.Layout(title =dict(text ='Best All Rounders of all IPL Seasons', \n",
    "                                         font = {'size': 20,'color':'black'}),\n",
    "                             yaxis =dict(title_text = 'Various Stats for Allrounders',\n",
    "                                         title_font = {'size': 20,'color':'black'}),barmode='stack'\n",
    "                            )\n",
    "fig4   =  go.Figure(data=data_allrounder,layout =layout_allrounder)\n",
    "fig4.show()"
   ]
  },
  {
   "cell_type": "markdown",
   "metadata": {},
   "source": [
    "    Findings:\n",
    "        1. HH Panday, SR Watson , KA Pollard & JH Kallis have higher Average Runs  per match & Strike Rates\n",
    "        2. Hardik, Watson & Pollard have contributed in wicket falls maximum times.\n",
    "        3. Pandya, Watson & Pathan have taken more wickets as a bowler as well.\n",
    "        4. Pathan , Faulkner & Stokes were very economical bowlers as well.\n"
   ]
  },
  {
   "cell_type": "markdown",
   "metadata": {},
   "source": [
    "# 4.7 Establishing Correlation between different stats in data for winning percentage."
   ]
  },
  {
   "cell_type": "code",
   "execution_count": 58,
   "metadata": {},
   "outputs": [
    {
     "data": {
      "text/html": [
       "<div>\n",
       "<style scoped>\n",
       "    .dataframe tbody tr th:only-of-type {\n",
       "        vertical-align: middle;\n",
       "    }\n",
       "\n",
       "    .dataframe tbody tr th {\n",
       "        vertical-align: top;\n",
       "    }\n",
       "\n",
       "    .dataframe thead th {\n",
       "        text-align: right;\n",
       "    }\n",
       "</style>\n",
       "<table border=\"1\" class=\"dataframe\">\n",
       "  <thead>\n",
       "    <tr style=\"text-align: right;\">\n",
       "      <th></th>\n",
       "      <th>season</th>\n",
       "      <th>match_id</th>\n",
       "      <th>inning</th>\n",
       "      <th>batting_team</th>\n",
       "      <th>bowling_team</th>\n",
       "      <th>winner</th>\n",
       "      <th>batsman</th>\n",
       "      <th>batsman_runs</th>\n",
       "      <th>bowler</th>\n",
       "      <th>bowler_Wickets</th>\n",
       "      <th>id</th>\n",
       "      <th>win_by_runs</th>\n",
       "      <th>win_by_wickets</th>\n",
       "      <th>player_of_match</th>\n",
       "      <th>city</th>\n",
       "      <th>total_runs</th>\n",
       "      <th>total_Wickets</th>\n",
       "      <th>run_pct</th>\n",
       "      <th>wicket_pcr</th>\n",
       "      <th>winnerIsbowingTeam</th>\n",
       "      <th>winnerIsbattingTeam</th>\n",
       "    </tr>\n",
       "  </thead>\n",
       "  <tbody>\n",
       "    <tr>\n",
       "      <th>0</th>\n",
       "      <td>2008</td>\n",
       "      <td>100</td>\n",
       "      <td>1</td>\n",
       "      <td>Delhi Daredevils</td>\n",
       "      <td>Kings XI Punjab</td>\n",
       "      <td>Kings XI Punjab</td>\n",
       "      <td>G Gambhir</td>\n",
       "      <td>40</td>\n",
       "      <td>JR Hopes</td>\n",
       "      <td>2</td>\n",
       "      <td>100</td>\n",
       "      <td>6</td>\n",
       "      <td>0</td>\n",
       "      <td>DPMD Jayawardene</td>\n",
       "      <td>Delhi</td>\n",
       "      <td>118</td>\n",
       "      <td>4.0</td>\n",
       "      <td>33.898305</td>\n",
       "      <td>50.0</td>\n",
       "      <td>1</td>\n",
       "      <td>0</td>\n",
       "    </tr>\n",
       "    <tr>\n",
       "      <th>1</th>\n",
       "      <td>2008</td>\n",
       "      <td>100</td>\n",
       "      <td>1</td>\n",
       "      <td>Delhi Daredevils</td>\n",
       "      <td>Kings XI Punjab</td>\n",
       "      <td>Kings XI Punjab</td>\n",
       "      <td>G Gambhir</td>\n",
       "      <td>40</td>\n",
       "      <td>RR Powar</td>\n",
       "      <td>2</td>\n",
       "      <td>100</td>\n",
       "      <td>6</td>\n",
       "      <td>0</td>\n",
       "      <td>DPMD Jayawardene</td>\n",
       "      <td>Delhi</td>\n",
       "      <td>118</td>\n",
       "      <td>4.0</td>\n",
       "      <td>33.898305</td>\n",
       "      <td>50.0</td>\n",
       "      <td>1</td>\n",
       "      <td>0</td>\n",
       "    </tr>\n",
       "    <tr>\n",
       "      <th>2</th>\n",
       "      <td>2008</td>\n",
       "      <td>100</td>\n",
       "      <td>1</td>\n",
       "      <td>Delhi Daredevils</td>\n",
       "      <td>Kings XI Punjab</td>\n",
       "      <td>Kings XI Punjab</td>\n",
       "      <td>MF Maharoof</td>\n",
       "      <td>0</td>\n",
       "      <td>JR Hopes</td>\n",
       "      <td>2</td>\n",
       "      <td>100</td>\n",
       "      <td>6</td>\n",
       "      <td>0</td>\n",
       "      <td>DPMD Jayawardene</td>\n",
       "      <td>Delhi</td>\n",
       "      <td>118</td>\n",
       "      <td>4.0</td>\n",
       "      <td>0.000000</td>\n",
       "      <td>50.0</td>\n",
       "      <td>1</td>\n",
       "      <td>0</td>\n",
       "    </tr>\n",
       "    <tr>\n",
       "      <th>3</th>\n",
       "      <td>2008</td>\n",
       "      <td>100</td>\n",
       "      <td>1</td>\n",
       "      <td>Delhi Daredevils</td>\n",
       "      <td>Kings XI Punjab</td>\n",
       "      <td>Kings XI Punjab</td>\n",
       "      <td>MF Maharoof</td>\n",
       "      <td>0</td>\n",
       "      <td>RR Powar</td>\n",
       "      <td>2</td>\n",
       "      <td>100</td>\n",
       "      <td>6</td>\n",
       "      <td>0</td>\n",
       "      <td>DPMD Jayawardene</td>\n",
       "      <td>Delhi</td>\n",
       "      <td>118</td>\n",
       "      <td>4.0</td>\n",
       "      <td>0.000000</td>\n",
       "      <td>50.0</td>\n",
       "      <td>1</td>\n",
       "      <td>0</td>\n",
       "    </tr>\n",
       "    <tr>\n",
       "      <th>4</th>\n",
       "      <td>2008</td>\n",
       "      <td>100</td>\n",
       "      <td>1</td>\n",
       "      <td>Delhi Daredevils</td>\n",
       "      <td>Kings XI Punjab</td>\n",
       "      <td>Kings XI Punjab</td>\n",
       "      <td>S Dhawan</td>\n",
       "      <td>8</td>\n",
       "      <td>JR Hopes</td>\n",
       "      <td>2</td>\n",
       "      <td>100</td>\n",
       "      <td>6</td>\n",
       "      <td>0</td>\n",
       "      <td>DPMD Jayawardene</td>\n",
       "      <td>Delhi</td>\n",
       "      <td>118</td>\n",
       "      <td>4.0</td>\n",
       "      <td>6.779661</td>\n",
       "      <td>50.0</td>\n",
       "      <td>1</td>\n",
       "      <td>0</td>\n",
       "    </tr>\n",
       "    <tr>\n",
       "      <th>...</th>\n",
       "      <td>...</td>\n",
       "      <td>...</td>\n",
       "      <td>...</td>\n",
       "      <td>...</td>\n",
       "      <td>...</td>\n",
       "      <td>...</td>\n",
       "      <td>...</td>\n",
       "      <td>...</td>\n",
       "      <td>...</td>\n",
       "      <td>...</td>\n",
       "      <td>...</td>\n",
       "      <td>...</td>\n",
       "      <td>...</td>\n",
       "      <td>...</td>\n",
       "      <td>...</td>\n",
       "      <td>...</td>\n",
       "      <td>...</td>\n",
       "      <td>...</td>\n",
       "      <td>...</td>\n",
       "      <td>...</td>\n",
       "      <td>...</td>\n",
       "    </tr>\n",
       "    <tr>\n",
       "      <th>39920</th>\n",
       "      <td>2018</td>\n",
       "      <td>7953</td>\n",
       "      <td>2</td>\n",
       "      <td>Chennai Super Kings</td>\n",
       "      <td>Sunrisers Hyderabad</td>\n",
       "      <td>Chennai Super Kings</td>\n",
       "      <td>F du Plessis</td>\n",
       "      <td>11</td>\n",
       "      <td>Sandeep Sharma</td>\n",
       "      <td>1</td>\n",
       "      <td>7953</td>\n",
       "      <td>0</td>\n",
       "      <td>8</td>\n",
       "      <td>SR Watson</td>\n",
       "      <td>Mumbai</td>\n",
       "      <td>187</td>\n",
       "      <td>2.0</td>\n",
       "      <td>5.882353</td>\n",
       "      <td>50.0</td>\n",
       "      <td>0</td>\n",
       "      <td>1</td>\n",
       "    </tr>\n",
       "    <tr>\n",
       "      <th>39921</th>\n",
       "      <td>2018</td>\n",
       "      <td>7953</td>\n",
       "      <td>2</td>\n",
       "      <td>Chennai Super Kings</td>\n",
       "      <td>Sunrisers Hyderabad</td>\n",
       "      <td>Chennai Super Kings</td>\n",
       "      <td>SK Raina</td>\n",
       "      <td>32</td>\n",
       "      <td>CR Brathwaite</td>\n",
       "      <td>1</td>\n",
       "      <td>7953</td>\n",
       "      <td>0</td>\n",
       "      <td>8</td>\n",
       "      <td>SR Watson</td>\n",
       "      <td>Mumbai</td>\n",
       "      <td>187</td>\n",
       "      <td>2.0</td>\n",
       "      <td>17.112299</td>\n",
       "      <td>50.0</td>\n",
       "      <td>0</td>\n",
       "      <td>1</td>\n",
       "    </tr>\n",
       "    <tr>\n",
       "      <th>39922</th>\n",
       "      <td>2018</td>\n",
       "      <td>7953</td>\n",
       "      <td>2</td>\n",
       "      <td>Chennai Super Kings</td>\n",
       "      <td>Sunrisers Hyderabad</td>\n",
       "      <td>Chennai Super Kings</td>\n",
       "      <td>SK Raina</td>\n",
       "      <td>32</td>\n",
       "      <td>Sandeep Sharma</td>\n",
       "      <td>1</td>\n",
       "      <td>7953</td>\n",
       "      <td>0</td>\n",
       "      <td>8</td>\n",
       "      <td>SR Watson</td>\n",
       "      <td>Mumbai</td>\n",
       "      <td>187</td>\n",
       "      <td>2.0</td>\n",
       "      <td>17.112299</td>\n",
       "      <td>50.0</td>\n",
       "      <td>0</td>\n",
       "      <td>1</td>\n",
       "    </tr>\n",
       "    <tr>\n",
       "      <th>39923</th>\n",
       "      <td>2018</td>\n",
       "      <td>7953</td>\n",
       "      <td>2</td>\n",
       "      <td>Chennai Super Kings</td>\n",
       "      <td>Sunrisers Hyderabad</td>\n",
       "      <td>Chennai Super Kings</td>\n",
       "      <td>SR Watson</td>\n",
       "      <td>121</td>\n",
       "      <td>CR Brathwaite</td>\n",
       "      <td>1</td>\n",
       "      <td>7953</td>\n",
       "      <td>0</td>\n",
       "      <td>8</td>\n",
       "      <td>SR Watson</td>\n",
       "      <td>Mumbai</td>\n",
       "      <td>187</td>\n",
       "      <td>2.0</td>\n",
       "      <td>64.705882</td>\n",
       "      <td>50.0</td>\n",
       "      <td>0</td>\n",
       "      <td>1</td>\n",
       "    </tr>\n",
       "    <tr>\n",
       "      <th>39924</th>\n",
       "      <td>2018</td>\n",
       "      <td>7953</td>\n",
       "      <td>2</td>\n",
       "      <td>Chennai Super Kings</td>\n",
       "      <td>Sunrisers Hyderabad</td>\n",
       "      <td>Chennai Super Kings</td>\n",
       "      <td>SR Watson</td>\n",
       "      <td>121</td>\n",
       "      <td>Sandeep Sharma</td>\n",
       "      <td>1</td>\n",
       "      <td>7953</td>\n",
       "      <td>0</td>\n",
       "      <td>8</td>\n",
       "      <td>SR Watson</td>\n",
       "      <td>Mumbai</td>\n",
       "      <td>187</td>\n",
       "      <td>2.0</td>\n",
       "      <td>64.705882</td>\n",
       "      <td>50.0</td>\n",
       "      <td>0</td>\n",
       "      <td>1</td>\n",
       "    </tr>\n",
       "  </tbody>\n",
       "</table>\n",
       "<p>39925 rows × 21 columns</p>\n",
       "</div>"
      ],
      "text/plain": [
       "      season match_id inning         batting_team         bowling_team  \\\n",
       "0       2008      100      1     Delhi Daredevils      Kings XI Punjab   \n",
       "1       2008      100      1     Delhi Daredevils      Kings XI Punjab   \n",
       "2       2008      100      1     Delhi Daredevils      Kings XI Punjab   \n",
       "3       2008      100      1     Delhi Daredevils      Kings XI Punjab   \n",
       "4       2008      100      1     Delhi Daredevils      Kings XI Punjab   \n",
       "...      ...      ...    ...                  ...                  ...   \n",
       "39920   2018     7953      2  Chennai Super Kings  Sunrisers Hyderabad   \n",
       "39921   2018     7953      2  Chennai Super Kings  Sunrisers Hyderabad   \n",
       "39922   2018     7953      2  Chennai Super Kings  Sunrisers Hyderabad   \n",
       "39923   2018     7953      2  Chennai Super Kings  Sunrisers Hyderabad   \n",
       "39924   2018     7953      2  Chennai Super Kings  Sunrisers Hyderabad   \n",
       "\n",
       "                    winner       batsman  batsman_runs          bowler  \\\n",
       "0          Kings XI Punjab     G Gambhir            40        JR Hopes   \n",
       "1          Kings XI Punjab     G Gambhir            40        RR Powar   \n",
       "2          Kings XI Punjab   MF Maharoof             0        JR Hopes   \n",
       "3          Kings XI Punjab   MF Maharoof             0        RR Powar   \n",
       "4          Kings XI Punjab      S Dhawan             8        JR Hopes   \n",
       "...                    ...           ...           ...             ...   \n",
       "39920  Chennai Super Kings  F du Plessis            11  Sandeep Sharma   \n",
       "39921  Chennai Super Kings      SK Raina            32   CR Brathwaite   \n",
       "39922  Chennai Super Kings      SK Raina            32  Sandeep Sharma   \n",
       "39923  Chennai Super Kings     SR Watson           121   CR Brathwaite   \n",
       "39924  Chennai Super Kings     SR Watson           121  Sandeep Sharma   \n",
       "\n",
       "       bowler_Wickets    id  win_by_runs  win_by_wickets   player_of_match  \\\n",
       "0                   2   100            6               0  DPMD Jayawardene   \n",
       "1                   2   100            6               0  DPMD Jayawardene   \n",
       "2                   2   100            6               0  DPMD Jayawardene   \n",
       "3                   2   100            6               0  DPMD Jayawardene   \n",
       "4                   2   100            6               0  DPMD Jayawardene   \n",
       "...               ...   ...          ...             ...               ...   \n",
       "39920               1  7953            0               8         SR Watson   \n",
       "39921               1  7953            0               8         SR Watson   \n",
       "39922               1  7953            0               8         SR Watson   \n",
       "39923               1  7953            0               8         SR Watson   \n",
       "39924               1  7953            0               8         SR Watson   \n",
       "\n",
       "         city  total_runs  total_Wickets    run_pct  wicket_pcr  \\\n",
       "0       Delhi         118            4.0  33.898305        50.0   \n",
       "1       Delhi         118            4.0  33.898305        50.0   \n",
       "2       Delhi         118            4.0   0.000000        50.0   \n",
       "3       Delhi         118            4.0   0.000000        50.0   \n",
       "4       Delhi         118            4.0   6.779661        50.0   \n",
       "...       ...         ...            ...        ...         ...   \n",
       "39920  Mumbai         187            2.0   5.882353        50.0   \n",
       "39921  Mumbai         187            2.0  17.112299        50.0   \n",
       "39922  Mumbai         187            2.0  17.112299        50.0   \n",
       "39923  Mumbai         187            2.0  64.705882        50.0   \n",
       "39924  Mumbai         187            2.0  64.705882        50.0   \n",
       "\n",
       "       winnerIsbowingTeam  winnerIsbattingTeam  \n",
       "0                       1                    0  \n",
       "1                       1                    0  \n",
       "2                       1                    0  \n",
       "3                       1                    0  \n",
       "4                       1                    0  \n",
       "...                   ...                  ...  \n",
       "39920                   0                    1  \n",
       "39921                   0                    1  \n",
       "39922                   0                    1  \n",
       "39923                   0                    1  \n",
       "39924                   0                    1  \n",
       "\n",
       "[39925 rows x 21 columns]"
      ]
     },
     "execution_count": 58,
     "metadata": {},
     "output_type": "execute_result"
    }
   ],
   "source": [
    "df1= ipldf[['season','match_id','inning','batting_team','bowling_team','winner','batsman','batsman_runs']].groupby(['season','match_id','inning','batting_team','bowling_team','winner','batsman']).sum().reset_index()\n",
    "df2= ipldf[['season','match_id','inning','bowler','Value']][ipldf['player_dismissed'].notnull()].groupby(['season','match_id','inning','bowler']).count()\\\n",
    ".reset_index()\n",
    "df3=mdf_o[['id','win_by_runs','win_by_wickets','player_of_match','city']]\n",
    "stats = pd.merge(pd.merge(df1,df2,left_on=['season','match_id','inning'],right_on=['season','match_id','inning'],how='left'),df3,\n",
    "         left_on=['match_id'],right_on=['id'],how='left')\n",
    "stats['Value']=stats['Value'].fillna(0).astype(int)\n",
    "totalRunsMatchID = ipldf[['match_id','inning','total_runs']].groupby(['match_id','inning']).sum()\n",
    "totalWicketsMatchID = ipldf[['match_id','inning','Value']][ipldf['player_dismissed'].notnull()].groupby(['match_id','inning']).sum()\n",
    "Wickets_Runs_MatchID = pd.merge(totalRunsMatchID,totalWicketsMatchID,left_index =True,right_index =True,how='left').reset_index()\n",
    "heatmap_df =pd.merge(stats,Wickets_Runs_MatchID,left_on=['match_id','inning'],right_on=['match_id','inning'],how='left').rename({\n",
    "    'Value_y':'total_Wickets','Value_x':'bowler_Wickets'\n",
    "},axis =1)\n",
    "heatmap_df['run_pct']= heatmap_df['batsman_runs']*100/heatmap_df['total_runs']\n",
    "heatmap_df['wicket_pcr']= heatmap_df['bowler_Wickets']*100/heatmap_df['total_Wickets']\n",
    "heatmap_df['winnerIsbowingTeam'] = (heatmap_df['winner'] == heatmap_df['bowling_team'] ).astype(int)\n",
    "heatmap_df['winnerIsbattingTeam'] = (heatmap_df['winner'] == heatmap_df['batting_team'] ).astype(int)\n",
    "heatmap_df"
   ]
  },
  {
   "cell_type": "code",
   "execution_count": 387,
   "metadata": {},
   "outputs": [
    {
     "data": {
      "text/plain": [
       "<Figure size 720x576 with 0 Axes>"
      ]
     },
     "execution_count": 387,
     "metadata": {},
     "output_type": "execute_result"
    },
    {
     "data": {
      "text/plain": [
       "<matplotlib.axes._subplots.AxesSubplot at 0x23e03b9f4c8>"
      ]
     },
     "execution_count": 387,
     "metadata": {},
     "output_type": "execute_result"
    },
    {
     "data": {
      "image/png": "[encoded data removed]",
      "text/plain": [
       "<Figure size 720x576 with 2 Axes>"
      ]
     },
     "metadata": {},
     "output_type": "display_data"
    }
   ],
   "source": [
    "corr_mat = heatmap_df.corr()\n",
    "plt.figure(figsize=(10,8))\n",
    "sns.heatmap(corr_mat, annot=True, cmap='viridis')"
   ]
  },
  {
   "cell_type": "markdown",
   "metadata": {},
   "source": [
    "# 5. Conclusion"
   ]
  },
  {
   "cell_type": "markdown",
   "metadata": {},
   "source": [
    "      1.With the help of this Expliratory analysis different statistics of each performing player can be seen.\n",
    "      2.Promotores of the new team \"Aयोध्या Warriors\" choose players in each category skills.\n",
    "        Actionable Insights:\n",
    "            By seeing different kind of statistics of plaeyrs in different skills 15-20 players can be choosen to select\n",
    "            from datasets, as suggestedbelow.\n",
    "            However further factor of age of players should be taken in cognizance when finalizing the probable team.\n",
    "            So once promoters decide a list of probable team players we can get the age related data for those players\n",
    "            to have final list. \n",
    "                1\t MS Dhoni(WK,Fielder,batsman)\n",
    "                2\t Gilcrist(WK,Fielder)\n",
    "                3\t KD Karthik(WK,Fielder)\n",
    "                4\t AB de Villiers(Fielder,Batsman)\n",
    "                5\t B Kumar(bowler)\n",
    "                6\t Bumbrah (Bowler)\n",
    "                7\t AJ Tye(Bowler)\n",
    "                8\t Rashid Khan(Bowler)\n",
    "                9\t Dj Bravo (Bowler)\n",
    "                10\t H Panda  (All Rounder)\n",
    "                11   KA Pollar (All Rounder)\n",
    "                12\t Watson(All Rounder)\n",
    "                13\t V Kohli( Batsman)\n",
    "                14\t DA warner (Batsman)\n",
    "                15\t KL Rahul(Batsman,hitter)\n",
    "                16\t Gayle(Batsman,hitter)\n",
    "                17\t Rishab Pant(hitter)\n",
    "                18\t KS Williamson(hitter)\n",
    "               \n",
    "           We have provided list of 18 players as there may be chance of some players not playing or getting retainded by              their teams. So promoters should target getting 11 form these players and reat 4 from local talent pools for                sqad of 15 players"
   ]
  }
 ],
 "metadata": {
  "kernelspec": {
   "display_name": "Python 3",
   "language": "python",
   "name": "python3"
  },
  "language_info": {
   "codemirror_mode": {
    "name": "ipython",
    "version": 3
   },
   "file_extension": ".py",
   "mimetype": "text/x-python",
   "name": "python",
   "nbconvert_exporter": "python",
   "pygments_lexer": "ipython3",
   "version": "3.7.6"
  }
 },
 "nbformat": 4,
 "nbformat_minor": 4
}
